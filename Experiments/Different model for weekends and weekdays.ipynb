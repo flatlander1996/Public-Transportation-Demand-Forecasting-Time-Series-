{
 "cells": [
  {
   "cell_type": "markdown",
   "metadata": {},
   "source": [
    "# Weekday and weekend split"
   ]
  },
  {
   "cell_type": "code",
   "execution_count": 243,
   "metadata": {
    "ExecuteTime": {
     "end_time": "2018-12-31T01:25:52.927190Z",
     "start_time": "2018-12-31T01:25:52.906Z"
    }
   },
   "outputs": [
    {
     "data": {
      "text/html": [
       "'C'"
      ],
      "text/latex": [
       "'C'"
      ],
      "text/markdown": [
       "'C'"
      ],
      "text/plain": [
       "[1] \"C\""
      ]
     },
     "metadata": {},
     "output_type": "display_data"
    }
   ],
   "source": [
    "library(lubridate)  #work with dates\n",
    "library(xts)\n",
    "library(forecast)\n",
    "lct <- Sys.getlocale(\"LC_TIME\"); Sys.setlocale(\"LC_TIME\", \"C\") #needed for as.POSIXct"
   ]
  },
  {
   "cell_type": "code",
   "execution_count": 244,
   "metadata": {
    "ExecuteTime": {
     "end_time": "2018-12-31T01:25:57.817115Z",
     "start_time": "2018-12-31T01:25:55.158Z"
    }
   },
   "outputs": [
    {
     "data": {
      "text/html": [
       "<table>\n",
       "<thead><tr><th scope=col>DATE</th><th scope=col>TIME</th><th scope=col>DEMAND</th></tr></thead>\n",
       "<tbody>\n",
       "\t<tr><td>1-Mar-05</td><td>6:30    </td><td> 1      </td></tr>\n",
       "\t<tr><td>1-Mar-05</td><td>6:45    </td><td> 2      </td></tr>\n",
       "\t<tr><td>1-Mar-05</td><td>7:00    </td><td> 4      </td></tr>\n",
       "\t<tr><td>1-Mar-05</td><td>7:15    </td><td> 0      </td></tr>\n",
       "\t<tr><td>1-Mar-05</td><td>7:30    </td><td>10      </td></tr>\n",
       "\t<tr><td>1-Mar-05</td><td>7:45    </td><td>13      </td></tr>\n",
       "</tbody>\n",
       "</table>\n"
      ],
      "text/latex": [
       "\\begin{tabular}{r|lll}\n",
       " DATE & TIME & DEMAND\\\\\n",
       "\\hline\n",
       "\t 1-Mar-05 & 6:30     &  1      \\\\\n",
       "\t 1-Mar-05 & 6:45     &  2      \\\\\n",
       "\t 1-Mar-05 & 7:00     &  4      \\\\\n",
       "\t 1-Mar-05 & 7:15     &  0      \\\\\n",
       "\t 1-Mar-05 & 7:30     & 10      \\\\\n",
       "\t 1-Mar-05 & 7:45     & 13      \\\\\n",
       "\\end{tabular}\n"
      ],
      "text/markdown": [
       "\n",
       "DATE | TIME | DEMAND | \n",
       "|---|---|---|---|---|---|\n",
       "| 1-Mar-05 | 6:30     |  1       | \n",
       "| 1-Mar-05 | 6:45     |  2       | \n",
       "| 1-Mar-05 | 7:00     |  4       | \n",
       "| 1-Mar-05 | 7:15     |  0       | \n",
       "| 1-Mar-05 | 7:30     | 10       | \n",
       "| 1-Mar-05 | 7:45     | 13       | \n",
       "\n",
       "\n"
      ],
      "text/plain": [
       "  DATE     TIME DEMAND\n",
       "1 1-Mar-05 6:30  1    \n",
       "2 1-Mar-05 6:45  2    \n",
       "3 1-Mar-05 7:00  4    \n",
       "4 1-Mar-05 7:15  0    \n",
       "5 1-Mar-05 7:30 10    \n",
       "6 1-Mar-05 7:45 13    "
      ]
     },
     "metadata": {},
     "output_type": "display_data"
    },
    {
     "data": {
      "text/html": [
       "<ol class=list-inline>\n",
       "\t<li>1512</li>\n",
       "\t<li>3</li>\n",
       "</ol>\n"
      ],
      "text/latex": [
       "\\begin{enumerate*}\n",
       "\\item 1512\n",
       "\\item 3\n",
       "\\end{enumerate*}\n"
      ],
      "text/markdown": [
       "1. 1512\n",
       "2. 3\n",
       "\n",
       "\n"
      ],
      "text/plain": [
       "[1] 1512    3"
      ]
     },
     "metadata": {},
     "output_type": "display_data"
    }
   ],
   "source": [
    "data <- read.csv('bicup2006.csv',sep=',')\n",
    "head(data)\n",
    "dim(data)"
   ]
  },
  {
   "cell_type": "code",
   "execution_count": 245,
   "metadata": {
    "ExecuteTime": {
     "end_time": "2018-12-31T01:26:02.577388Z",
     "start_time": "2018-12-31T01:25:58.770Z"
    }
   },
   "outputs": [
    {
     "data": {
      "text/html": [
       "<table>\n",
       "<thead><tr><th scope=col>date.and.time</th><th scope=col>demand</th><th scope=col>daytype</th><th scope=col>myseason</th><th scope=col>dtype</th></tr></thead>\n",
       "<tbody>\n",
       "\t<tr><td>2005-03-01 06:30:00</td><td> 1                 </td><td>weekday            </td><td>1                  </td><td>1                  </td></tr>\n",
       "\t<tr><td>2005-03-01 06:45:00</td><td> 2                 </td><td>weekday            </td><td>2                  </td><td>1                  </td></tr>\n",
       "\t<tr><td>2005-03-01 07:00:00</td><td> 4                 </td><td>weekday            </td><td>3                  </td><td>1                  </td></tr>\n",
       "\t<tr><td>2005-03-01 07:15:00</td><td> 0                 </td><td>weekday            </td><td>4                  </td><td>1                  </td></tr>\n",
       "\t<tr><td>2005-03-01 07:30:00</td><td>10                 </td><td>weekday            </td><td>5                  </td><td>1                  </td></tr>\n",
       "\t<tr><td>2005-03-01 07:45:00</td><td>13                 </td><td>weekday            </td><td>6                  </td><td>1                  </td></tr>\n",
       "</tbody>\n",
       "</table>\n"
      ],
      "text/latex": [
       "\\begin{tabular}{r|lllll}\n",
       " date.and.time & demand & daytype & myseason & dtype\\\\\n",
       "\\hline\n",
       "\t 2005-03-01 06:30:00 &  1                  & weekday             & 1                   & 1                  \\\\\n",
       "\t 2005-03-01 06:45:00 &  2                  & weekday             & 2                   & 1                  \\\\\n",
       "\t 2005-03-01 07:00:00 &  4                  & weekday             & 3                   & 1                  \\\\\n",
       "\t 2005-03-01 07:15:00 &  0                  & weekday             & 4                   & 1                  \\\\\n",
       "\t 2005-03-01 07:30:00 & 10                  & weekday             & 5                   & 1                  \\\\\n",
       "\t 2005-03-01 07:45:00 & 13                  & weekday             & 6                   & 1                  \\\\\n",
       "\\end{tabular}\n"
      ],
      "text/markdown": [
       "\n",
       "date.and.time | demand | daytype | myseason | dtype | \n",
       "|---|---|---|---|---|---|\n",
       "| 2005-03-01 06:30:00 |  1                  | weekday             | 1                   | 1                   | \n",
       "| 2005-03-01 06:45:00 |  2                  | weekday             | 2                   | 1                   | \n",
       "| 2005-03-01 07:00:00 |  4                  | weekday             | 3                   | 1                   | \n",
       "| 2005-03-01 07:15:00 |  0                  | weekday             | 4                   | 1                   | \n",
       "| 2005-03-01 07:30:00 | 10                  | weekday             | 5                   | 1                   | \n",
       "| 2005-03-01 07:45:00 | 13                  | weekday             | 6                   | 1                   | \n",
       "\n",
       "\n"
      ],
      "text/plain": [
       "  date.and.time       demand daytype myseason dtype\n",
       "1 2005-03-01 06:30:00  1     weekday 1        1    \n",
       "2 2005-03-01 06:45:00  2     weekday 2        1    \n",
       "3 2005-03-01 07:00:00  4     weekday 3        1    \n",
       "4 2005-03-01 07:15:00  0     weekday 4        1    \n",
       "5 2005-03-01 07:30:00 10     weekday 5        1    \n",
       "6 2005-03-01 07:45:00 13     weekday 6        1    "
      ]
     },
     "metadata": {},
     "output_type": "display_data"
    },
    {
     "data": {
      "text/html": [
       "<ol class=list-inline>\n",
       "\t<li>1512</li>\n",
       "\t<li>5</li>\n",
       "</ol>\n"
      ],
      "text/latex": [
       "\\begin{enumerate*}\n",
       "\\item 1512\n",
       "\\item 5\n",
       "\\end{enumerate*}\n"
      ],
      "text/markdown": [
       "1. 1512\n",
       "2. 5\n",
       "\n",
       "\n"
      ],
      "text/plain": [
       "[1] 1512    5"
      ]
     },
     "metadata": {},
     "output_type": "display_data"
    }
   ],
   "source": [
    "daytype<-rep(\"weekday\",1512)\n",
    "daytype[253:378]<-\"weekend\"\n",
    "daytype[694:819]<-\"weekend\"\n",
    "daytype[1135:1260]<-\"weekend\"\n",
    "dtype<-rep(1,1512)\n",
    "dtype[which(daytype==\"weekend\")]<-3\n",
    "\n",
    "\n",
    "myseason<-rep(seq(1,63),24)\n",
    "\n",
    "date.and.time<-paste(data$DATE,data$TIME) #combine date and time in one column\n",
    "posix.date<-as.POSIXct(date.and.time,format=\"%d-%b-%y %H:%M\")\n",
    "#create new dataframe with columns posix.date and demand\n",
    "newdata<-data.frame(posix.date,data$DEMAND,daytype,myseason,dtype)\n",
    "names(newdata)<-c('date.and.time','demand','daytype','myseason','dtype')\n",
    "head(newdata)\n",
    "dim(newdata)"
   ]
  },
  {
   "cell_type": "code",
   "execution_count": 246,
   "metadata": {
    "ExecuteTime": {
     "end_time": "2018-12-31T01:26:07.385531Z",
     "start_time": "2018-12-31T01:26:03.380Z"
    }
   },
   "outputs": [],
   "source": [
    "weekend.data<-newdata[newdata$daytype=='weekend',]\n",
    "weekday.data<-newdata[newdata$daytype=='weekday',]"
   ]
  },
  {
   "cell_type": "markdown",
   "metadata": {},
   "source": [
    "## Weekday split"
   ]
  },
  {
   "cell_type": "code",
   "execution_count": 247,
   "metadata": {
    "ExecuteTime": {
     "end_time": "2018-12-31T01:26:11.836650Z",
     "start_time": "2018-12-31T01:26:05.917Z"
    }
   },
   "outputs": [],
   "source": [
    "#indexes for first two weeks\n",
    "training.weekday<-weekday.data[1:(10*63),]\n",
    "#indexes for last week\n",
    "validation.weekday<-weekday.data[((10*63)+1):(15*63),]\n",
    "#indexes for last 3 days\n",
    "future.weekday<-weekday.data[((15*63)+1):dim(weekday.data)[1],]"
   ]
  },
  {
   "cell_type": "markdown",
   "metadata": {},
   "source": [
    "## Weekend split"
   ]
  },
  {
   "cell_type": "code",
   "execution_count": 248,
   "metadata": {
    "ExecuteTime": {
     "end_time": "2018-12-31T01:26:27.297912Z",
     "start_time": "2018-12-31T01:26:27.281Z"
    }
   },
   "outputs": [],
   "source": [
    "#indexes for first two weeks\n",
    "training.weekend<-weekend.data[1:(63*4),]\n",
    "#indexes for last week\n",
    "validation.weekend<-weekend.data[((4*63)+1):(6*63),]"
   ]
  },
  {
   "cell_type": "code",
   "execution_count": 250,
   "metadata": {
    "ExecuteTime": {
     "end_time": "2018-12-31T01:26:50.965164Z",
     "start_time": "2018-12-31T01:26:50.919Z"
    }
   },
   "outputs": [
    {
     "data": {
      "image/png": "[encoded data removed]",
      "text/plain": [
       "Plot with title \"Timeseries of training data for weekends\""
      ]
     },
     "metadata": {},
     "output_type": "display_data"
    }
   ],
   "source": [
    "plot(training.weekend$demand,type='l',main=\"Timeseries of training data for weekends\")"
   ]
  },
  {
   "cell_type": "code",
   "execution_count": 251,
   "metadata": {
    "ExecuteTime": {
     "end_time": "2018-12-31T01:27:26.820218Z",
     "start_time": "2018-12-31T01:27:26.765Z"
    }
   },
   "outputs": [
    {
     "data": {
      "image/png": "[encoded data removed]",
      "text/plain": [
       "Plot with title \"Timeseries of training data for weekdays\""
      ]
     },
     "metadata": {},
     "output_type": "display_data"
    }
   ],
   "source": [
    "plot(training.weekday$demand,type='l',main=\"Timeseries of training data for weekdays\")"
   ]
  },
  {
   "cell_type": "code",
   "execution_count": 252,
   "metadata": {
    "ExecuteTime": {
     "end_time": "2018-12-31T01:27:31.352639Z",
     "start_time": "2018-12-31T01:27:31.320Z"
    }
   },
   "outputs": [
    {
     "data": {
      "text/plain": [
       "15 minute periodicity from 2005-03-01 06:30:00 to 2005-03-24 22:00:00 "
      ]
     },
     "metadata": {},
     "output_type": "display_data"
    }
   ],
   "source": [
    "newdata.xts = xts(coredata(weekday.data$demand), order.by=as.POSIXct(weekday.data$date.and.time))\n",
    "attr(newdata.xts,\"frequency\")<-63\n",
    "periodicity(newdata.xts)\n",
    "total_timeseries<-as.ts(newdata.xts)"
   ]
  },
  {
   "cell_type": "code",
   "execution_count": 253,
   "metadata": {
    "ExecuteTime": {
     "end_time": "2018-12-31T01:27:35.331978Z",
     "start_time": "2018-12-31T01:27:33.416Z"
    }
   },
   "outputs": [],
   "source": [
    "seasonal_data<-data.frame(weekday.data,seasonaldummy(total_timeseries))"
   ]
  },
  {
   "cell_type": "markdown",
   "metadata": {},
   "source": [
    "# TBATS"
   ]
  },
  {
   "cell_type": "markdown",
   "metadata": {},
   "source": [
    "## Weekdays"
   ]
  },
  {
   "cell_type": "code",
   "execution_count": 254,
   "metadata": {
    "ExecuteTime": {
     "end_time": "2018-12-31T01:27:39.355241Z",
     "start_time": "2018-12-31T01:27:38.459Z"
    }
   },
   "outputs": [
    {
     "data": {
      "text/plain": [
       "15 minute periodicity from 2005-03-01 06:30:00 to 2005-03-14 22:00:00 "
      ]
     },
     "metadata": {},
     "output_type": "display_data"
    },
    {
     "data": {
      "text/html": [
       "315"
      ],
      "text/latex": [
       "315"
      ],
      "text/markdown": [
       "315"
      ],
      "text/plain": [
       "[1] 315"
      ]
     },
     "metadata": {},
     "output_type": "display_data"
    }
   ],
   "source": [
    "my.xts = xts(coredata(training.weekday$demand), order.by=as.POSIXct(training.weekday$date.and.time))\n",
    "attr(my.xts,\"frequency\")<-63\n",
    "periodicity(my.xts)\n",
    "timeseries<-as.ts(my.xts)\n",
    "\n",
    "\n",
    "multiple<-msts(timeseries, seasonal.periods=c(63,5*63))\n",
    "frequency(multiple)"
   ]
  },
  {
   "cell_type": "code",
   "execution_count": 255,
   "metadata": {
    "ExecuteTime": {
     "end_time": "2018-12-31T01:27:48.121780Z",
     "start_time": "2018-12-31T01:27:39.882Z"
    }
   },
   "outputs": [],
   "source": [
    "model<-tbats(multiple,seasonal.periods=c(63,5*63))"
   ]
  },
  {
   "cell_type": "code",
   "execution_count": 256,
   "metadata": {
    "ExecuteTime": {
     "end_time": "2018-12-31T01:27:50.860656Z",
     "start_time": "2018-12-31T01:27:40.710Z"
    },
    "scrolled": true
   },
   "outputs": [
    {
     "data": {
      "image/png": "[encoded data removed]",
      "text/plain": [
       "Plot with title \"Model evaluated on timeseries\""
      ]
     },
     "metadata": {},
     "output_type": "display_data"
    },
    {
     "data": {
      "image/png": "[encoded data removed]",
      "text/plain": [
       "Plot with title \"Auto correlation of timeseries\""
      ]
     },
     "metadata": {},
     "output_type": "display_data"
    },
    {
     "data": {
      "image/png": "[encoded data removed]",
      "text/plain": [
       "Plot with title \"Auto correlation of model residuals\""
      ]
     },
     "metadata": {},
     "output_type": "display_data"
    },
    {
     "data": {
      "image/png": "[encoded data removed]",
      "text/plain": [
       "Plot with title \"Model residuals\""
      ]
     },
     "metadata": {},
     "output_type": "display_data"
    },
    {
     "ename": "ERROR",
     "evalue": "Error: $ operator is invalid for atomic vectors\n",
     "output_type": "error",
     "traceback": [
      "Error: $ operator is invalid for atomic vectors\nTraceback:\n",
      "1. qqline(resid(model))",
      "2. abline(int, slope, ...)",
      "3. as.vector(coef(a))",
      "4. coef(a)",
      "5. coef.default(a)"
     ]
    },
    {
     "data": {
      "image/png": "[encoded data removed]",
      "text/plain": [
       "Plot with title \"QQ plot of model residuals\""
      ]
     },
     "metadata": {},
     "output_type": "display_data"
    }
   ],
   "source": [
    "#coefficients(model)\n",
    "coef<-coefficients(model)\n",
    "plot(multiple,main='Model evaluated on timeseries')\n",
    "lines(model$fitted, lwd = 2,col='blue')\n",
    "\n",
    "#model testing\n",
    "Acf(multiple,main='Auto correlation of timeseries')\n",
    "Acf(resid(model),main='Auto correlation of model residuals')\n",
    "plot(resid(model),main='Model residuals')\n",
    "qqnorm(resid(model),main='QQ plot of model residuals')\n",
    "qqline(resid(model))"
   ]
  },
  {
   "cell_type": "code",
   "execution_count": 257,
   "metadata": {
    "ExecuteTime": {
     "end_time": "2018-12-31T01:28:08.591328Z",
     "start_time": "2018-12-31T01:28:08.533Z"
    }
   },
   "outputs": [
    {
     "data": {
      "image/png": "[encoded data removed]",
      "text/plain": [
       "Plot with title \"Forecasts from TBATS(1, {2,2}, -, {<63,8>, <315,1>})\""
      ]
     },
     "metadata": {},
     "output_type": "display_data"
    }
   ],
   "source": [
    "myforecast<-forecast(model,63*5,level = c(95))\n",
    "plot(myforecast)"
   ]
  },
  {
   "cell_type": "code",
   "execution_count": 258,
   "metadata": {
    "ExecuteTime": {
     "end_time": "2018-12-31T01:28:13.117303Z",
     "start_time": "2018-12-31T01:28:13.091Z"
    }
   },
   "outputs": [
    {
     "data": {
      "text/html": [
       "<table>\n",
       "<thead><tr><th scope=col>validation.weekday.demand</th><th scope=col>myforecast.mean</th><th scope=col>residuals</th></tr></thead>\n",
       "<tbody>\n",
       "\t<tr><td> 0       </td><td> 5.113354</td><td> 5.113354</td></tr>\n",
       "\t<tr><td> 2       </td><td> 5.071780</td><td> 3.071780</td></tr>\n",
       "\t<tr><td> 4       </td><td> 6.821224</td><td> 2.821224</td></tr>\n",
       "\t<tr><td> 7       </td><td> 9.049038</td><td> 2.049038</td></tr>\n",
       "\t<tr><td>13       </td><td>11.843627</td><td>-1.156373</td></tr>\n",
       "\t<tr><td>11       </td><td>14.281549</td><td> 3.281549</td></tr>\n",
       "</tbody>\n",
       "</table>\n"
      ],
      "text/latex": [
       "\\begin{tabular}{r|lll}\n",
       " validation.weekday.demand & myforecast.mean & residuals\\\\\n",
       "\\hline\n",
       "\t  0        &  5.113354 &  5.113354\\\\\n",
       "\t  2        &  5.071780 &  3.071780\\\\\n",
       "\t  4        &  6.821224 &  2.821224\\\\\n",
       "\t  7        &  9.049038 &  2.049038\\\\\n",
       "\t 13        & 11.843627 & -1.156373\\\\\n",
       "\t 11        & 14.281549 &  3.281549\\\\\n",
       "\\end{tabular}\n"
      ],
      "text/markdown": [
       "\n",
       "validation.weekday.demand | myforecast.mean | residuals | \n",
       "|---|---|---|---|---|---|\n",
       "|  0        |  5.113354 |  5.113354 | \n",
       "|  2        |  5.071780 |  3.071780 | \n",
       "|  4        |  6.821224 |  2.821224 | \n",
       "|  7        |  9.049038 |  2.049038 | \n",
       "| 13        | 11.843627 | -1.156373 | \n",
       "| 11        | 14.281549 |  3.281549 | \n",
       "\n",
       "\n"
      ],
      "text/plain": [
       "  validation.weekday.demand myforecast.mean residuals\n",
       "1  0                         5.113354        5.113354\n",
       "2  2                         5.071780        3.071780\n",
       "3  4                         6.821224        2.821224\n",
       "4  7                         9.049038        2.049038\n",
       "5 13                        11.843627       -1.156373\n",
       "6 11                        14.281549        3.281549"
      ]
     },
     "metadata": {},
     "output_type": "display_data"
    }
   ],
   "source": [
    "residuals<-myforecast$mean-validation.weekday$demand\n",
    "results<-data.frame(validation.weekday$demand,myforecast$mean,residuals)\n",
    "head(results)"
   ]
  },
  {
   "cell_type": "code",
   "execution_count": 259,
   "metadata": {
    "ExecuteTime": {
     "end_time": "2018-12-31T01:28:15.714359Z",
     "start_time": "2018-12-31T01:28:13.982Z"
    }
   },
   "outputs": [
    {
     "data": {
      "text/html": [
       "0.740523922274531"
      ],
      "text/latex": [
       "0.740523922274531"
      ],
      "text/markdown": [
       "0.740523922274531"
      ],
      "text/plain": [
       "[1] 0.7405239"
      ]
     },
     "metadata": {},
     "output_type": "display_data"
    }
   ],
   "source": [
    "#Adjusted R-Squared\n",
    "SSE=sum(residuals**2)\n",
    "SSyy=sum((validation.weekday$demand-mean(validation.weekday$demand))**2)\n",
    "1-(SSE/SSyy)"
   ]
  },
  {
   "cell_type": "markdown",
   "metadata": {},
   "source": [
    "## Weekends"
   ]
  },
  {
   "cell_type": "code",
   "execution_count": 260,
   "metadata": {
    "ExecuteTime": {
     "end_time": "2018-12-31T01:28:21.225662Z",
     "start_time": "2018-12-31T01:28:21.202Z"
    }
   },
   "outputs": [
    {
     "data": {
      "text/plain": [
       "15 minute periodicity from 2005-03-05 06:30:00 to 2005-03-13 22:00:00 "
      ]
     },
     "metadata": {},
     "output_type": "display_data"
    },
    {
     "data": {
      "text/html": [
       "126"
      ],
      "text/latex": [
       "126"
      ],
      "text/markdown": [
       "126"
      ],
      "text/plain": [
       "[1] 126"
      ]
     },
     "metadata": {},
     "output_type": "display_data"
    }
   ],
   "source": [
    "my.xts = xts(coredata(training.weekend$demand), order.by=as.POSIXct(training.weekend$date.and.time))\n",
    "attr(my.xts,\"frequency\")<-63\n",
    "periodicity(my.xts)\n",
    "timeseries<-as.ts(my.xts)\n",
    "\n",
    "\n",
    "multiple<-msts(timeseries, seasonal.periods=c(63,2*63))\n",
    "frequency(multiple)"
   ]
  },
  {
   "cell_type": "code",
   "execution_count": 261,
   "metadata": {
    "ExecuteTime": {
     "end_time": "2018-12-31T01:28:24.797113Z",
     "start_time": "2018-12-31T01:28:22.845Z"
    }
   },
   "outputs": [],
   "source": [
    "model<-tbats(multiple,seasonal.periods=c(63,2*63))"
   ]
  },
  {
   "cell_type": "code",
   "execution_count": 262,
   "metadata": {
    "ExecuteTime": {
     "end_time": "2018-12-31T01:28:27.569128Z",
     "start_time": "2018-12-31T01:28:26.603Z"
    },
    "scrolled": false
   },
   "outputs": [
    {
     "data": {
      "image/png": "[encoded data removed]",
      "text/plain": [
       "Plot with title \"Model evaluated on timeseries\""
      ]
     },
     "metadata": {},
     "output_type": "display_data"
    },
    {
     "data": {
      "image/png": "[encoded data removed]",
      "text/plain": [
       "Plot with title \"Auto correlation of timeseries\""
      ]
     },
     "metadata": {},
     "output_type": "display_data"
    },
    {
     "data": {
      "image/png": "[encoded data removed]",
      "text/plain": [
       "Plot with title \"Auto correlation of model residuals\""
      ]
     },
     "metadata": {},
     "output_type": "display_data"
    },
    {
     "data": {
      "image/png": "[encoded data removed]",
      "text/plain": [
       "Plot with title \"Model residuals\""
      ]
     },
     "metadata": {},
     "output_type": "display_data"
    },
    {
     "ename": "ERROR",
     "evalue": "Error: $ operator is invalid for atomic vectors\n",
     "output_type": "error",
     "traceback": [
      "Error: $ operator is invalid for atomic vectors\nTraceback:\n",
      "1. qqline(resid(model))",
      "2. abline(int, slope, ...)",
      "3. as.vector(coef(a))",
      "4. coef(a)",
      "5. coef.default(a)"
     ]
    },
    {
     "data": {
      "image/png": "[encoded data removed]",
      "text/plain": [
       "Plot with title \"QQ plot of model residuals\""
      ]
     },
     "metadata": {},
     "output_type": "display_data"
    }
   ],
   "source": [
    "#coefficients(model)\n",
    "coef<-coefficients(model)\n",
    "plot(multiple,main='Model evaluated on timeseries')\n",
    "lines(model$fitted, lwd = 2,col='blue')\n",
    "\n",
    "#model testing\n",
    "Acf(multiple,main='Auto correlation of timeseries')\n",
    "Acf(resid(model),main='Auto correlation of model residuals')\n",
    "plot(resid(model),main='Model residuals')\n",
    "qqnorm(resid(model),main='QQ plot of model residuals')\n",
    "qqline(resid(model))"
   ]
  },
  {
   "cell_type": "code",
   "execution_count": 263,
   "metadata": {
    "ExecuteTime": {
     "end_time": "2018-12-31T01:28:28.925255Z",
     "start_time": "2018-12-31T01:28:28.876Z"
    }
   },
   "outputs": [
    {
     "data": {
      "image/png": "[encoded data removed]",
      "text/plain": [
       "Plot with title \"Forecasts from TBATS(1, {0,0}, -, {<63,5>, <126,1>})\""
      ]
     },
     "metadata": {},
     "output_type": "display_data"
    }
   ],
   "source": [
    "myforecast<-forecast(model,63*2,level = c(95))\n",
    "plot(myforecast)"
   ]
  },
  {
   "cell_type": "code",
   "execution_count": 264,
   "metadata": {
    "ExecuteTime": {
     "end_time": "2018-12-31T01:28:32.649774Z",
     "start_time": "2018-12-31T01:28:32.629Z"
    }
   },
   "outputs": [
    {
     "data": {
      "text/html": [
       "<table>\n",
       "<thead><tr><th scope=col>validation.weekend.demand</th><th scope=col>myforecast.mean</th><th scope=col>residuals.weekend</th></tr></thead>\n",
       "<tbody>\n",
       "\t<tr><td>0         </td><td>0.9844677 </td><td> 0.9844677</td></tr>\n",
       "\t<tr><td>0         </td><td>1.0812415 </td><td> 1.0812415</td></tr>\n",
       "\t<tr><td>1         </td><td>1.2140253 </td><td> 0.2140253</td></tr>\n",
       "\t<tr><td>1         </td><td>1.3842228 </td><td> 0.3842228</td></tr>\n",
       "\t<tr><td>3         </td><td>1.5904889 </td><td>-1.4095111</td></tr>\n",
       "\t<tr><td>0         </td><td>1.8276690 </td><td> 1.8276690</td></tr>\n",
       "</tbody>\n",
       "</table>\n"
      ],
      "text/latex": [
       "\\begin{tabular}{r|lll}\n",
       " validation.weekend.demand & myforecast.mean & residuals.weekend\\\\\n",
       "\\hline\n",
       "\t 0          & 0.9844677  &  0.9844677\\\\\n",
       "\t 0          & 1.0812415  &  1.0812415\\\\\n",
       "\t 1          & 1.2140253  &  0.2140253\\\\\n",
       "\t 1          & 1.3842228  &  0.3842228\\\\\n",
       "\t 3          & 1.5904889  & -1.4095111\\\\\n",
       "\t 0          & 1.8276690  &  1.8276690\\\\\n",
       "\\end{tabular}\n"
      ],
      "text/markdown": [
       "\n",
       "validation.weekend.demand | myforecast.mean | residuals.weekend | \n",
       "|---|---|---|---|---|---|\n",
       "| 0          | 0.9844677  |  0.9844677 | \n",
       "| 0          | 1.0812415  |  1.0812415 | \n",
       "| 1          | 1.2140253  |  0.2140253 | \n",
       "| 1          | 1.3842228  |  0.3842228 | \n",
       "| 3          | 1.5904889  | -1.4095111 | \n",
       "| 0          | 1.8276690  |  1.8276690 | \n",
       "\n",
       "\n"
      ],
      "text/plain": [
       "  validation.weekend.demand myforecast.mean residuals.weekend\n",
       "1 0                         0.9844677        0.9844677       \n",
       "2 0                         1.0812415        1.0812415       \n",
       "3 1                         1.2140253        0.2140253       \n",
       "4 1                         1.3842228        0.3842228       \n",
       "5 3                         1.5904889       -1.4095111       \n",
       "6 0                         1.8276690        1.8276690       "
      ]
     },
     "metadata": {},
     "output_type": "display_data"
    }
   ],
   "source": [
    "residuals.weekend<-myforecast$mean-validation.weekend$demand\n",
    "results.weekend<-data.frame(validation.weekend$demand,myforecast$mean,residuals.weekend)\n",
    "head(results.weekend)"
   ]
  },
  {
   "cell_type": "code",
   "execution_count": 265,
   "metadata": {
    "ExecuteTime": {
     "end_time": "2018-12-31T01:28:35.132136Z",
     "start_time": "2018-12-31T01:28:33.427Z"
    }
   },
   "outputs": [
    {
     "data": {
      "text/html": [
       "0.619255046374741"
      ],
      "text/latex": [
       "0.619255046374741"
      ],
      "text/markdown": [
       "0.619255046374741"
      ],
      "text/plain": [
       "[1] 0.619255"
      ]
     },
     "metadata": {},
     "output_type": "display_data"
    }
   ],
   "source": [
    "#Adjusted R-Squared\n",
    "SSE=sum(residuals.weekend**2)\n",
    "SSyy=sum((validation.weekend$demand-mean(validation.weekend$demand))**2)\n",
    "1-(SSE/SSyy)"
   ]
  },
  {
   "cell_type": "markdown",
   "metadata": {},
   "source": [
    "# Our model"
   ]
  },
  {
   "cell_type": "code",
   "execution_count": 266,
   "metadata": {
    "ExecuteTime": {
     "end_time": "2018-12-31T01:28:56.441171Z",
     "start_time": "2018-12-31T01:28:56.413Z"
    }
   },
   "outputs": [
    {
     "data": {
      "text/plain": [
       "15 minute periodicity from 2005-03-01 06:30:00 to 2005-03-24 22:00:00 "
      ]
     },
     "metadata": {},
     "output_type": "display_data"
    }
   ],
   "source": [
    "newdata.xts = xts(coredata(newdata$demand), order.by=as.POSIXct(newdata$date.and.time))\n",
    "attr(newdata.xts,\"frequency\")<-63\n",
    "periodicity(newdata.xts)\n",
    "total_timeseries<-as.ts(newdata.xts)\n",
    "\n",
    "\n",
    "seasonal_data<-data.frame(newdata,seasonaldummy(total_timeseries))"
   ]
  },
  {
   "cell_type": "markdown",
   "metadata": {},
   "source": [
    "## Split weekday and weekend training,validation and future sets"
   ]
  },
  {
   "cell_type": "code",
   "execution_count": 267,
   "metadata": {
    "ExecuteTime": {
     "end_time": "2018-12-31T01:28:59.038227Z",
     "start_time": "2018-12-31T01:28:57.863Z"
    }
   },
   "outputs": [
    {
     "data": {
      "text/plain": [
       "15 minute periodicity from 2005-03-01 06:30:00 to 2005-03-14 22:00:00 "
      ]
     },
     "metadata": {},
     "output_type": "display_data"
    }
   ],
   "source": [
    "#indexes for first two weeks\n",
    "training.weekday<-weekday.data[1:(10*63),]\n",
    "#indexes for last week\n",
    "validation.weekday<-weekday.data[((10*63)+1):(15*63),]\n",
    "#indexes for last 3 days\n",
    "future.weekday<-weekday.data[((15*63)+1):dim(weekday.data)[1],]\n",
    "\n",
    "my.xts = xts(coredata(training.weekday$demand), order.by=as.POSIXct(training.weekday$date.and.time))\n",
    "attr(my.xts,\"frequency\")<-63\n",
    "periodicity(my.xts)\n",
    "timeseries.weekday<-as.ts(my.xts)"
   ]
  },
  {
   "cell_type": "code",
   "execution_count": 268,
   "metadata": {
    "ExecuteTime": {
     "end_time": "2018-12-31T01:29:01.604365Z",
     "start_time": "2018-12-31T01:28:58.873Z"
    }
   },
   "outputs": [
    {
     "data": {
      "text/plain": [
       "15 minute periodicity from 2005-03-05 06:30:00 to 2005-03-13 22:00:00 "
      ]
     },
     "metadata": {},
     "output_type": "display_data"
    }
   ],
   "source": [
    "#indexes for first two weeks\n",
    "training.weekend<-weekend.data[1:(63*4),]\n",
    "#indexes for last week\n",
    "validation.weekend<-weekend.data[((4*63)+1):(6*63),]\n",
    "\n",
    "my.xts = xts(coredata(training.weekend$demand), order.by=as.POSIXct(training.weekend$date.and.time))\n",
    "attr(my.xts,\"frequency\")<-63\n",
    "periodicity(my.xts)\n",
    "timeseries.weekend<-as.ts(my.xts)"
   ]
  },
  {
   "cell_type": "markdown",
   "metadata": {},
   "source": [
    "## Weekend  Model"
   ]
  },
  {
   "cell_type": "code",
   "execution_count": 191,
   "metadata": {
    "ExecuteTime": {
     "end_time": "2018-12-30T22:01:26.549138Z",
     "start_time": "2018-12-30T22:01:26.482Z"
    }
   },
   "outputs": [],
   "source": [
    "weekend.data<-seasonal_data[seasonal_data$daytype=='weekend',]\n",
    "\n",
    "day_column<-rep(1,378)\n",
    "for(i in seq(1:378)){\n",
    "    \n",
    "        day<-strtoi(substr(weekend.data$date.and.time[i],9,10),base = 10)\n",
    "        if(day==5 | day==12 | day==19 | day==26){\n",
    "            day_column[i]<-0\n",
    "        }else if(day==6 | day==13 | day==20){\n",
    "            day_column[i]<-1\n",
    "        }\n",
    "}"
   ]
  },
  {
   "cell_type": "code",
   "execution_count": 192,
   "metadata": {
    "ExecuteTime": {
     "end_time": "2018-12-30T22:01:28.881900Z",
     "start_time": "2018-12-30T22:01:28.009Z"
    }
   },
   "outputs": [
    {
     "data": {
      "text/html": [
       "<table>\n",
       "<thead><tr><th></th><th scope=col>demand</th><th scope=col>daynumber</th><th scope=col>S1</th><th scope=col>S2</th><th scope=col>S3</th><th scope=col>S4</th><th scope=col>S5</th><th scope=col>S6</th><th scope=col>S7</th><th scope=col>S8</th><th scope=col>...</th><th scope=col>S53.day</th><th scope=col>S54.day</th><th scope=col>S55.day</th><th scope=col>S56.day</th><th scope=col>S57.day</th><th scope=col>S58.day</th><th scope=col>S59.day</th><th scope=col>S60.day</th><th scope=col>S61.day</th><th scope=col>S62.day</th></tr></thead>\n",
       "<tbody>\n",
       "\t<tr><th scope=row>253</th><td>0  </td><td>0  </td><td>1  </td><td>0  </td><td>0  </td><td>0  </td><td>0  </td><td>0  </td><td>0  </td><td>0  </td><td>...</td><td>0  </td><td>0  </td><td>0  </td><td>0  </td><td>0  </td><td>0  </td><td>0  </td><td>0  </td><td>0  </td><td>0  </td></tr>\n",
       "\t<tr><th scope=row>254</th><td>1  </td><td>0  </td><td>0  </td><td>1  </td><td>0  </td><td>0  </td><td>0  </td><td>0  </td><td>0  </td><td>0  </td><td>...</td><td>0  </td><td>0  </td><td>0  </td><td>0  </td><td>0  </td><td>0  </td><td>0  </td><td>0  </td><td>0  </td><td>0  </td></tr>\n",
       "\t<tr><th scope=row>255</th><td>1  </td><td>0  </td><td>0  </td><td>0  </td><td>1  </td><td>0  </td><td>0  </td><td>0  </td><td>0  </td><td>0  </td><td>...</td><td>0  </td><td>0  </td><td>0  </td><td>0  </td><td>0  </td><td>0  </td><td>0  </td><td>0  </td><td>0  </td><td>0  </td></tr>\n",
       "\t<tr><th scope=row>256</th><td>1  </td><td>0  </td><td>0  </td><td>0  </td><td>0  </td><td>1  </td><td>0  </td><td>0  </td><td>0  </td><td>0  </td><td>...</td><td>0  </td><td>0  </td><td>0  </td><td>0  </td><td>0  </td><td>0  </td><td>0  </td><td>0  </td><td>0  </td><td>0  </td></tr>\n",
       "\t<tr><th scope=row>257</th><td>2  </td><td>0  </td><td>0  </td><td>0  </td><td>0  </td><td>0  </td><td>1  </td><td>0  </td><td>0  </td><td>0  </td><td>...</td><td>0  </td><td>0  </td><td>0  </td><td>0  </td><td>0  </td><td>0  </td><td>0  </td><td>0  </td><td>0  </td><td>0  </td></tr>\n",
       "\t<tr><th scope=row>258</th><td>1  </td><td>0  </td><td>0  </td><td>0  </td><td>0  </td><td>0  </td><td>0  </td><td>1  </td><td>0  </td><td>0  </td><td>...</td><td>0  </td><td>0  </td><td>0  </td><td>0  </td><td>0  </td><td>0  </td><td>0  </td><td>0  </td><td>0  </td><td>0  </td></tr>\n",
       "</tbody>\n",
       "</table>\n"
      ],
      "text/latex": [
       "\\begin{tabular}{r|llllllllllllllllllllllllllllllllllllllllllllllllllllllllllllllllllllllllllllllllllllllllllllllllllllllllllllllllllllllllllllll}\n",
       "  & demand & daynumber & S1 & S2 & S3 & S4 & S5 & S6 & S7 & S8 & ... & S53.day & S54.day & S55.day & S56.day & S57.day & S58.day & S59.day & S60.day & S61.day & S62.day\\\\\n",
       "\\hline\n",
       "\t253 & 0   & 0   & 1   & 0   & 0   & 0   & 0   & 0   & 0   & 0   & ... & 0   & 0   & 0   & 0   & 0   & 0   & 0   & 0   & 0   & 0  \\\\\n",
       "\t254 & 1   & 0   & 0   & 1   & 0   & 0   & 0   & 0   & 0   & 0   & ... & 0   & 0   & 0   & 0   & 0   & 0   & 0   & 0   & 0   & 0  \\\\\n",
       "\t255 & 1   & 0   & 0   & 0   & 1   & 0   & 0   & 0   & 0   & 0   & ... & 0   & 0   & 0   & 0   & 0   & 0   & 0   & 0   & 0   & 0  \\\\\n",
       "\t256 & 1   & 0   & 0   & 0   & 0   & 1   & 0   & 0   & 0   & 0   & ... & 0   & 0   & 0   & 0   & 0   & 0   & 0   & 0   & 0   & 0  \\\\\n",
       "\t257 & 2   & 0   & 0   & 0   & 0   & 0   & 1   & 0   & 0   & 0   & ... & 0   & 0   & 0   & 0   & 0   & 0   & 0   & 0   & 0   & 0  \\\\\n",
       "\t258 & 1   & 0   & 0   & 0   & 0   & 0   & 0   & 1   & 0   & 0   & ... & 0   & 0   & 0   & 0   & 0   & 0   & 0   & 0   & 0   & 0  \\\\\n",
       "\\end{tabular}\n"
      ],
      "text/markdown": [
       "\n",
       "| <!--/--> | demand | daynumber | S1 | S2 | S3 | S4 | S5 | S6 | S7 | S8 | ... | S53.day | S54.day | S55.day | S56.day | S57.day | S58.day | S59.day | S60.day | S61.day | S62.day | \n",
       "|---|---|---|---|---|---|\n",
       "| 253 | 0   | 0   | 1   | 0   | 0   | 0   | 0   | 0   | 0   | 0   | ... | 0   | 0   | 0   | 0   | 0   | 0   | 0   | 0   | 0   | 0   | \n",
       "| 254 | 1   | 0   | 0   | 1   | 0   | 0   | 0   | 0   | 0   | 0   | ... | 0   | 0   | 0   | 0   | 0   | 0   | 0   | 0   | 0   | 0   | \n",
       "| 255 | 1   | 0   | 0   | 0   | 1   | 0   | 0   | 0   | 0   | 0   | ... | 0   | 0   | 0   | 0   | 0   | 0   | 0   | 0   | 0   | 0   | \n",
       "| 256 | 1   | 0   | 0   | 0   | 0   | 1   | 0   | 0   | 0   | 0   | ... | 0   | 0   | 0   | 0   | 0   | 0   | 0   | 0   | 0   | 0   | \n",
       "| 257 | 2   | 0   | 0   | 0   | 0   | 0   | 1   | 0   | 0   | 0   | ... | 0   | 0   | 0   | 0   | 0   | 0   | 0   | 0   | 0   | 0   | \n",
       "| 258 | 1   | 0   | 0   | 0   | 0   | 0   | 0   | 1   | 0   | 0   | ... | 0   | 0   | 0   | 0   | 0   | 0   | 0   | 0   | 0   | 0   | \n",
       "\n",
       "\n"
      ],
      "text/plain": [
       "    demand daynumber S1 S2 S3 S4 S5 S6 S7 S8 ... S53.day S54.day S55.day\n",
       "253 0      0         1  0  0  0  0  0  0  0  ... 0       0       0      \n",
       "254 1      0         0  1  0  0  0  0  0  0  ... 0       0       0      \n",
       "255 1      0         0  0  1  0  0  0  0  0  ... 0       0       0      \n",
       "256 1      0         0  0  0  1  0  0  0  0  ... 0       0       0      \n",
       "257 2      0         0  0  0  0  1  0  0  0  ... 0       0       0      \n",
       "258 1      0         0  0  0  0  0  1  0  0  ... 0       0       0      \n",
       "    S56.day S57.day S58.day S59.day S60.day S61.day S62.day\n",
       "253 0       0       0       0       0       0       0      \n",
       "254 0       0       0       0       0       0       0      \n",
       "255 0       0       0       0       0       0       0      \n",
       "256 0       0       0       0       0       0       0      \n",
       "257 0       0       0       0       0       0       0      \n",
       "258 0       0       0       0       0       0       0      "
      ]
     },
     "metadata": {},
     "output_type": "display_data"
    },
    {
     "data": {
      "text/html": [
       "<ol class=list-inline>\n",
       "\t<li>378</li>\n",
       "\t<li>126</li>\n",
       "</ol>\n"
      ],
      "text/latex": [
       "\\begin{enumerate*}\n",
       "\\item 378\n",
       "\\item 126\n",
       "\\end{enumerate*}\n"
      ],
      "text/markdown": [
       "1. 378\n",
       "2. 126\n",
       "\n",
       "\n"
      ],
      "text/plain": [
       "[1] 378 126"
      ]
     },
     "metadata": {},
     "output_type": "display_data"
    },
    {
     "data": {
      "text/html": [
       "<ol class=list-inline>\n",
       "\t<li>'demand'</li>\n",
       "\t<li>'daynumber'</li>\n",
       "\t<li>'S1'</li>\n",
       "\t<li>'S2'</li>\n",
       "\t<li>'S3'</li>\n",
       "\t<li>'S4'</li>\n",
       "\t<li>'S5'</li>\n",
       "\t<li>'S6'</li>\n",
       "\t<li>'S7'</li>\n",
       "\t<li>'S8'</li>\n",
       "\t<li>'S9'</li>\n",
       "\t<li>'S10'</li>\n",
       "\t<li>'S11'</li>\n",
       "\t<li>'S12'</li>\n",
       "\t<li>'S13'</li>\n",
       "\t<li>'S14'</li>\n",
       "\t<li>'S15'</li>\n",
       "\t<li>'S16'</li>\n",
       "\t<li>'S17'</li>\n",
       "\t<li>'S18'</li>\n",
       "\t<li>'S19'</li>\n",
       "\t<li>'S20'</li>\n",
       "\t<li>'S21'</li>\n",
       "\t<li>'S22'</li>\n",
       "\t<li>'S23'</li>\n",
       "\t<li>'S24'</li>\n",
       "\t<li>'S25'</li>\n",
       "\t<li>'S26'</li>\n",
       "\t<li>'S27'</li>\n",
       "\t<li>'S28'</li>\n",
       "\t<li>'S29'</li>\n",
       "\t<li>'S30'</li>\n",
       "\t<li>'S31'</li>\n",
       "\t<li>'S32'</li>\n",
       "\t<li>'S33'</li>\n",
       "\t<li>'S34'</li>\n",
       "\t<li>'S35'</li>\n",
       "\t<li>'S36'</li>\n",
       "\t<li>'S37'</li>\n",
       "\t<li>'S38'</li>\n",
       "\t<li>'S39'</li>\n",
       "\t<li>'S40'</li>\n",
       "\t<li>'S41'</li>\n",
       "\t<li>'S42'</li>\n",
       "\t<li>'S43'</li>\n",
       "\t<li>'S44'</li>\n",
       "\t<li>'S45'</li>\n",
       "\t<li>'S46'</li>\n",
       "\t<li>'S47'</li>\n",
       "\t<li>'S48'</li>\n",
       "\t<li>'S49'</li>\n",
       "\t<li>'S50'</li>\n",
       "\t<li>'S51'</li>\n",
       "\t<li>'S52'</li>\n",
       "\t<li>'S53'</li>\n",
       "\t<li>'S54'</li>\n",
       "\t<li>'S55'</li>\n",
       "\t<li>'S56'</li>\n",
       "\t<li>'S57'</li>\n",
       "\t<li>'S58'</li>\n",
       "\t<li>'S59'</li>\n",
       "\t<li>'S60'</li>\n",
       "\t<li>'S61'</li>\n",
       "\t<li>'S62'</li>\n",
       "\t<li>'S1.day'</li>\n",
       "\t<li>'S2.day'</li>\n",
       "\t<li>'S3.day'</li>\n",
       "\t<li>'S4.day'</li>\n",
       "\t<li>'S5.day'</li>\n",
       "\t<li>'S6.day'</li>\n",
       "\t<li>'S7.day'</li>\n",
       "\t<li>'S8.day'</li>\n",
       "\t<li>'S9.day'</li>\n",
       "\t<li>'S10.day'</li>\n",
       "\t<li>'S11.day'</li>\n",
       "\t<li>'S12.day'</li>\n",
       "\t<li>'S13.day'</li>\n",
       "\t<li>'S14.day'</li>\n",
       "\t<li>'S15.day'</li>\n",
       "\t<li>'S16.day'</li>\n",
       "\t<li>'S17.day'</li>\n",
       "\t<li>'S18.day'</li>\n",
       "\t<li>'S19.day'</li>\n",
       "\t<li>'S20.day'</li>\n",
       "\t<li>'S21.day'</li>\n",
       "\t<li>'S22.day'</li>\n",
       "\t<li>'S23.day'</li>\n",
       "\t<li>'S24.day'</li>\n",
       "\t<li>'S25.day'</li>\n",
       "\t<li>'S26.day'</li>\n",
       "\t<li>'S27.day'</li>\n",
       "\t<li>'S28.day'</li>\n",
       "\t<li>'S29.day'</li>\n",
       "\t<li>'S30.day'</li>\n",
       "\t<li>'S31.day'</li>\n",
       "\t<li>'S32.day'</li>\n",
       "\t<li>'S33.day'</li>\n",
       "\t<li>'S34.day'</li>\n",
       "\t<li>'S35.day'</li>\n",
       "\t<li>'S36.day'</li>\n",
       "\t<li>'S37.day'</li>\n",
       "\t<li>'S38.day'</li>\n",
       "\t<li>'S39.day'</li>\n",
       "\t<li>'S40.day'</li>\n",
       "\t<li>'S41.day'</li>\n",
       "\t<li>'S42.day'</li>\n",
       "\t<li>'S43.day'</li>\n",
       "\t<li>'S44.day'</li>\n",
       "\t<li>'S45.day'</li>\n",
       "\t<li>'S46.day'</li>\n",
       "\t<li>'S47.day'</li>\n",
       "\t<li>'S48.day'</li>\n",
       "\t<li>'S49.day'</li>\n",
       "\t<li>'S50.day'</li>\n",
       "\t<li>'S51.day'</li>\n",
       "\t<li>'S52.day'</li>\n",
       "\t<li>'S53.day'</li>\n",
       "\t<li>'S54.day'</li>\n",
       "\t<li>'S55.day'</li>\n",
       "\t<li>'S56.day'</li>\n",
       "\t<li>'S57.day'</li>\n",
       "\t<li>'S58.day'</li>\n",
       "\t<li>'S59.day'</li>\n",
       "\t<li>'S60.day'</li>\n",
       "\t<li>'S61.day'</li>\n",
       "\t<li>'S62.day'</li>\n",
       "</ol>\n"
      ],
      "text/latex": [
       "\\begin{enumerate*}\n",
       "\\item 'demand'\n",
       "\\item 'daynumber'\n",
       "\\item 'S1'\n",
       "\\item 'S2'\n",
       "\\item 'S3'\n",
       "\\item 'S4'\n",
       "\\item 'S5'\n",
       "\\item 'S6'\n",
       "\\item 'S7'\n",
       "\\item 'S8'\n",
       "\\item 'S9'\n",
       "\\item 'S10'\n",
       "\\item 'S11'\n",
       "\\item 'S12'\n",
       "\\item 'S13'\n",
       "\\item 'S14'\n",
       "\\item 'S15'\n",
       "\\item 'S16'\n",
       "\\item 'S17'\n",
       "\\item 'S18'\n",
       "\\item 'S19'\n",
       "\\item 'S20'\n",
       "\\item 'S21'\n",
       "\\item 'S22'\n",
       "\\item 'S23'\n",
       "\\item 'S24'\n",
       "\\item 'S25'\n",
       "\\item 'S26'\n",
       "\\item 'S27'\n",
       "\\item 'S28'\n",
       "\\item 'S29'\n",
       "\\item 'S30'\n",
       "\\item 'S31'\n",
       "\\item 'S32'\n",
       "\\item 'S33'\n",
       "\\item 'S34'\n",
       "\\item 'S35'\n",
       "\\item 'S36'\n",
       "\\item 'S37'\n",
       "\\item 'S38'\n",
       "\\item 'S39'\n",
       "\\item 'S40'\n",
       "\\item 'S41'\n",
       "\\item 'S42'\n",
       "\\item 'S43'\n",
       "\\item 'S44'\n",
       "\\item 'S45'\n",
       "\\item 'S46'\n",
       "\\item 'S47'\n",
       "\\item 'S48'\n",
       "\\item 'S49'\n",
       "\\item 'S50'\n",
       "\\item 'S51'\n",
       "\\item 'S52'\n",
       "\\item 'S53'\n",
       "\\item 'S54'\n",
       "\\item 'S55'\n",
       "\\item 'S56'\n",
       "\\item 'S57'\n",
       "\\item 'S58'\n",
       "\\item 'S59'\n",
       "\\item 'S60'\n",
       "\\item 'S61'\n",
       "\\item 'S62'\n",
       "\\item 'S1.day'\n",
       "\\item 'S2.day'\n",
       "\\item 'S3.day'\n",
       "\\item 'S4.day'\n",
       "\\item 'S5.day'\n",
       "\\item 'S6.day'\n",
       "\\item 'S7.day'\n",
       "\\item 'S8.day'\n",
       "\\item 'S9.day'\n",
       "\\item 'S10.day'\n",
       "\\item 'S11.day'\n",
       "\\item 'S12.day'\n",
       "\\item 'S13.day'\n",
       "\\item 'S14.day'\n",
       "\\item 'S15.day'\n",
       "\\item 'S16.day'\n",
       "\\item 'S17.day'\n",
       "\\item 'S18.day'\n",
       "\\item 'S19.day'\n",
       "\\item 'S20.day'\n",
       "\\item 'S21.day'\n",
       "\\item 'S22.day'\n",
       "\\item 'S23.day'\n",
       "\\item 'S24.day'\n",
       "\\item 'S25.day'\n",
       "\\item 'S26.day'\n",
       "\\item 'S27.day'\n",
       "\\item 'S28.day'\n",
       "\\item 'S29.day'\n",
       "\\item 'S30.day'\n",
       "\\item 'S31.day'\n",
       "\\item 'S32.day'\n",
       "\\item 'S33.day'\n",
       "\\item 'S34.day'\n",
       "\\item 'S35.day'\n",
       "\\item 'S36.day'\n",
       "\\item 'S37.day'\n",
       "\\item 'S38.day'\n",
       "\\item 'S39.day'\n",
       "\\item 'S40.day'\n",
       "\\item 'S41.day'\n",
       "\\item 'S42.day'\n",
       "\\item 'S43.day'\n",
       "\\item 'S44.day'\n",
       "\\item 'S45.day'\n",
       "\\item 'S46.day'\n",
       "\\item 'S47.day'\n",
       "\\item 'S48.day'\n",
       "\\item 'S49.day'\n",
       "\\item 'S50.day'\n",
       "\\item 'S51.day'\n",
       "\\item 'S52.day'\n",
       "\\item 'S53.day'\n",
       "\\item 'S54.day'\n",
       "\\item 'S55.day'\n",
       "\\item 'S56.day'\n",
       "\\item 'S57.day'\n",
       "\\item 'S58.day'\n",
       "\\item 'S59.day'\n",
       "\\item 'S60.day'\n",
       "\\item 'S61.day'\n",
       "\\item 'S62.day'\n",
       "\\end{enumerate*}\n"
      ],
      "text/markdown": [
       "1. 'demand'\n",
       "2. 'daynumber'\n",
       "3. 'S1'\n",
       "4. 'S2'\n",
       "5. 'S3'\n",
       "6. 'S4'\n",
       "7. 'S5'\n",
       "8. 'S6'\n",
       "9. 'S7'\n",
       "10. 'S8'\n",
       "11. 'S9'\n",
       "12. 'S10'\n",
       "13. 'S11'\n",
       "14. 'S12'\n",
       "15. 'S13'\n",
       "16. 'S14'\n",
       "17. 'S15'\n",
       "18. 'S16'\n",
       "19. 'S17'\n",
       "20. 'S18'\n",
       "21. 'S19'\n",
       "22. 'S20'\n",
       "23. 'S21'\n",
       "24. 'S22'\n",
       "25. 'S23'\n",
       "26. 'S24'\n",
       "27. 'S25'\n",
       "28. 'S26'\n",
       "29. 'S27'\n",
       "30. 'S28'\n",
       "31. 'S29'\n",
       "32. 'S30'\n",
       "33. 'S31'\n",
       "34. 'S32'\n",
       "35. 'S33'\n",
       "36. 'S34'\n",
       "37. 'S35'\n",
       "38. 'S36'\n",
       "39. 'S37'\n",
       "40. 'S38'\n",
       "41. 'S39'\n",
       "42. 'S40'\n",
       "43. 'S41'\n",
       "44. 'S42'\n",
       "45. 'S43'\n",
       "46. 'S44'\n",
       "47. 'S45'\n",
       "48. 'S46'\n",
       "49. 'S47'\n",
       "50. 'S48'\n",
       "51. 'S49'\n",
       "52. 'S50'\n",
       "53. 'S51'\n",
       "54. 'S52'\n",
       "55. 'S53'\n",
       "56. 'S54'\n",
       "57. 'S55'\n",
       "58. 'S56'\n",
       "59. 'S57'\n",
       "60. 'S58'\n",
       "61. 'S59'\n",
       "62. 'S60'\n",
       "63. 'S61'\n",
       "64. 'S62'\n",
       "65. 'S1.day'\n",
       "66. 'S2.day'\n",
       "67. 'S3.day'\n",
       "68. 'S4.day'\n",
       "69. 'S5.day'\n",
       "70. 'S6.day'\n",
       "71. 'S7.day'\n",
       "72. 'S8.day'\n",
       "73. 'S9.day'\n",
       "74. 'S10.day'\n",
       "75. 'S11.day'\n",
       "76. 'S12.day'\n",
       "77. 'S13.day'\n",
       "78. 'S14.day'\n",
       "79. 'S15.day'\n",
       "80. 'S16.day'\n",
       "81. 'S17.day'\n",
       "82. 'S18.day'\n",
       "83. 'S19.day'\n",
       "84. 'S20.day'\n",
       "85. 'S21.day'\n",
       "86. 'S22.day'\n",
       "87. 'S23.day'\n",
       "88. 'S24.day'\n",
       "89. 'S25.day'\n",
       "90. 'S26.day'\n",
       "91. 'S27.day'\n",
       "92. 'S28.day'\n",
       "93. 'S29.day'\n",
       "94. 'S30.day'\n",
       "95. 'S31.day'\n",
       "96. 'S32.day'\n",
       "97. 'S33.day'\n",
       "98. 'S34.day'\n",
       "99. 'S35.day'\n",
       "100. 'S36.day'\n",
       "101. 'S37.day'\n",
       "102. 'S38.day'\n",
       "103. 'S39.day'\n",
       "104. 'S40.day'\n",
       "105. 'S41.day'\n",
       "106. 'S42.day'\n",
       "107. 'S43.day'\n",
       "108. 'S44.day'\n",
       "109. 'S45.day'\n",
       "110. 'S46.day'\n",
       "111. 'S47.day'\n",
       "112. 'S48.day'\n",
       "113. 'S49.day'\n",
       "114. 'S50.day'\n",
       "115. 'S51.day'\n",
       "116. 'S52.day'\n",
       "117. 'S53.day'\n",
       "118. 'S54.day'\n",
       "119. 'S55.day'\n",
       "120. 'S56.day'\n",
       "121. 'S57.day'\n",
       "122. 'S58.day'\n",
       "123. 'S59.day'\n",
       "124. 'S60.day'\n",
       "125. 'S61.day'\n",
       "126. 'S62.day'\n",
       "\n",
       "\n"
      ],
      "text/plain": [
       "  [1] \"demand\"    \"daynumber\" \"S1\"        \"S2\"        \"S3\"        \"S4\"       \n",
       "  [7] \"S5\"        \"S6\"        \"S7\"        \"S8\"        \"S9\"        \"S10\"      \n",
       " [13] \"S11\"       \"S12\"       \"S13\"       \"S14\"       \"S15\"       \"S16\"      \n",
       " [19] \"S17\"       \"S18\"       \"S19\"       \"S20\"       \"S21\"       \"S22\"      \n",
       " [25] \"S23\"       \"S24\"       \"S25\"       \"S26\"       \"S27\"       \"S28\"      \n",
       " [31] \"S29\"       \"S30\"       \"S31\"       \"S32\"       \"S33\"       \"S34\"      \n",
       " [37] \"S35\"       \"S36\"       \"S37\"       \"S38\"       \"S39\"       \"S40\"      \n",
       " [43] \"S41\"       \"S42\"       \"S43\"       \"S44\"       \"S45\"       \"S46\"      \n",
       " [49] \"S47\"       \"S48\"       \"S49\"       \"S50\"       \"S51\"       \"S52\"      \n",
       " [55] \"S53\"       \"S54\"       \"S55\"       \"S56\"       \"S57\"       \"S58\"      \n",
       " [61] \"S59\"       \"S60\"       \"S61\"       \"S62\"       \"S1.day\"    \"S2.day\"   \n",
       " [67] \"S3.day\"    \"S4.day\"    \"S5.day\"    \"S6.day\"    \"S7.day\"    \"S8.day\"   \n",
       " [73] \"S9.day\"    \"S10.day\"   \"S11.day\"   \"S12.day\"   \"S13.day\"   \"S14.day\"  \n",
       " [79] \"S15.day\"   \"S16.day\"   \"S17.day\"   \"S18.day\"   \"S19.day\"   \"S20.day\"  \n",
       " [85] \"S21.day\"   \"S22.day\"   \"S23.day\"   \"S24.day\"   \"S25.day\"   \"S26.day\"  \n",
       " [91] \"S27.day\"   \"S28.day\"   \"S29.day\"   \"S30.day\"   \"S31.day\"   \"S32.day\"  \n",
       " [97] \"S33.day\"   \"S34.day\"   \"S35.day\"   \"S36.day\"   \"S37.day\"   \"S38.day\"  \n",
       "[103] \"S39.day\"   \"S40.day\"   \"S41.day\"   \"S42.day\"   \"S43.day\"   \"S44.day\"  \n",
       "[109] \"S45.day\"   \"S46.day\"   \"S47.day\"   \"S48.day\"   \"S49.day\"   \"S50.day\"  \n",
       "[115] \"S51.day\"   \"S52.day\"   \"S53.day\"   \"S54.day\"   \"S55.day\"   \"S56.day\"  \n",
       "[121] \"S57.day\"   \"S58.day\"   \"S59.day\"   \"S60.day\"   \"S61.day\"   \"S62.day\"  "
      ]
     },
     "metadata": {},
     "output_type": "display_data"
    }
   ],
   "source": [
    "model.data.weekend<-data.frame(weekend.data$demand, day_column, weekend.data[6:67], day_column*weekend.data[6:67])\n",
    "\n",
    "colnames(model.data.weekend)<-c('demand','daynumber',colnames(model.data.weekend)[3:64]\n",
    "                                , paste(colnames(model.data.weekend)[3:64],'.day',sep = ''))\n",
    "\n",
    "trainingdata<-model.data.weekend[1:(63*4),]\n",
    "\n",
    "head(model.data.weekend)\n",
    "dim(model.data.weekend)\n",
    "names(model.data.weekend)"
   ]
  },
  {
   "cell_type": "code",
   "execution_count": 193,
   "metadata": {
    "ExecuteTime": {
     "end_time": "2018-12-30T22:01:30.960342Z",
     "start_time": "2018-12-30T22:01:29.651Z"
    }
   },
   "outputs": [
    {
     "data": {
      "text/plain": [
       "\n",
       "Call:\n",
       "lm(formula = demand ~ ., data = trainingdata)\n",
       "\n",
       "Residuals:\n",
       "   Min     1Q Median     3Q    Max \n",
       "  -4.0   -0.5    0.0    0.5    4.0 \n",
       "\n",
       "Coefficients:\n",
       "              Estimate Std. Error t value Pr(>|t|)    \n",
       "(Intercept)  3.343e-15  1.198e+00   0.000 1.000000    \n",
       "daynumber   -5.475e-15  1.694e+00   0.000 1.000000    \n",
       "S1           1.000e+00  1.694e+00   0.590 0.555994    \n",
       "S2           1.000e+00  1.694e+00   0.590 0.555994    \n",
       "S3           2.000e+00  1.694e+00   1.181 0.239923    \n",
       "S4           5.000e-01  1.694e+00   0.295 0.768335    \n",
       "S5           1.500e+00  1.694e+00   0.886 0.377537    \n",
       "S6           2.000e+00  1.694e+00   1.181 0.239923    \n",
       "S7           3.500e+00  1.694e+00   2.066 0.040846 *  \n",
       "S8           5.000e-01  1.694e+00   0.295 0.768335    \n",
       "S9           4.500e+00  1.694e+00   2.657 0.008912 ** \n",
       "S10          1.000e+00  1.694e+00   0.590 0.555994    \n",
       "S11          3.000e+00  1.694e+00   1.771 0.078956 .  \n",
       "S12          3.500e+00  1.694e+00   2.066 0.040846 *  \n",
       "S13          3.000e+00  1.694e+00   1.771 0.078956 .  \n",
       "S14          3.500e+00  1.694e+00   2.066 0.040846 *  \n",
       "S15          3.000e+00  1.694e+00   1.771 0.078956 .  \n",
       "S16          3.500e+00  1.694e+00   2.066 0.040846 *  \n",
       "S17          3.000e+00  1.694e+00   1.771 0.078956 .  \n",
       "S18          6.000e+00  1.694e+00   3.542 0.000557 ***\n",
       "S19          3.000e+00  1.694e+00   1.771 0.078956 .  \n",
       "S20          2.500e+00  1.694e+00   1.476 0.142453    \n",
       "S21          6.000e+00  1.694e+00   3.542 0.000557 ***\n",
       "S22          8.000e+00  1.694e+00   4.723 6.09e-06 ***\n",
       "S23          5.000e+00  1.694e+00   2.952 0.003768 ** \n",
       "S24          6.500e+00  1.694e+00   3.837 0.000196 ***\n",
       "S25          6.500e+00  1.694e+00   3.837 0.000196 ***\n",
       "S26          1.150e+01  1.694e+00   6.789 3.96e-10 ***\n",
       "S27          9.500e+00  1.694e+00   5.609 1.23e-07 ***\n",
       "S28          1.000e+01  1.694e+00   5.904 3.09e-08 ***\n",
       "S29          1.300e+01  1.694e+00   7.675 3.96e-12 ***\n",
       "S30          9.500e+00  1.694e+00   5.609 1.23e-07 ***\n",
       "S31          1.050e+01  1.694e+00   6.199 7.47e-09 ***\n",
       "S32          7.000e+00  1.694e+00   4.133 6.49e-05 ***\n",
       "S33          7.000e+00  1.694e+00   4.133 6.49e-05 ***\n",
       "S34          6.500e+00  1.694e+00   3.837 0.000196 ***\n",
       "S35          9.000e+00  1.694e+00   5.313 4.72e-07 ***\n",
       "S36          7.500e+00  1.694e+00   4.428 2.04e-05 ***\n",
       "S37          6.000e+00  1.694e+00   3.542 0.000557 ***\n",
       "S38          4.000e+00  1.694e+00   2.362 0.019733 *  \n",
       "S39          5.500e+00  1.694e+00   3.247 0.001494 ** \n",
       "S40          4.500e+00  1.694e+00   2.657 0.008912 ** \n",
       "S41          1.500e+00  1.694e+00   0.886 0.377537    \n",
       "S42          2.500e+00  1.694e+00   1.476 0.142453    \n",
       "S43          3.500e+00  1.694e+00   2.066 0.040846 *  \n",
       "S44          2.500e+00  1.694e+00   1.476 0.142453    \n",
       "S45          4.000e+00  1.694e+00   2.362 0.019733 *  \n",
       "S46          5.000e+00  1.694e+00   2.952 0.003768 ** \n",
       "S47          4.500e+00  1.694e+00   2.657 0.008912 ** \n",
       "S48          5.000e+00  1.694e+00   2.952 0.003768 ** \n",
       "S49          2.500e+00  1.694e+00   1.476 0.142453    \n",
       "S50          2.500e+00  1.694e+00   1.476 0.142453    \n",
       "S51          2.000e+00  1.694e+00   1.181 0.239923    \n",
       "S52          2.500e+00  1.694e+00   1.476 0.142453    \n",
       "S53          2.000e+00  1.694e+00   1.181 0.239923    \n",
       "S54          2.000e+00  1.694e+00   1.181 0.239923    \n",
       "S55          1.500e+00  1.694e+00   0.886 0.377537    \n",
       "S56          1.500e+00  1.694e+00   0.886 0.377537    \n",
       "S57          1.500e+00  1.694e+00   0.886 0.377537    \n",
       "S58          2.000e+00  1.694e+00   1.181 0.239923    \n",
       "S59          2.500e+00  1.694e+00   1.476 0.142453    \n",
       "S60          1.000e+00  1.694e+00   0.590 0.555994    \n",
       "S61          2.500e+00  1.694e+00   1.476 0.142453    \n",
       "S62         -3.897e-16  1.694e+00   0.000 1.000000    \n",
       "S1.day      -1.000e+00  2.395e+00  -0.417 0.677052    \n",
       "S2.day      -1.000e+00  2.395e+00  -0.417 0.677052    \n",
       "S3.day      -2.000e+00  2.395e+00  -0.835 0.405342    \n",
       "S4.day      -5.000e-01  2.395e+00  -0.209 0.834996    \n",
       "S5.day      -1.500e+00  2.395e+00  -0.626 0.532322    \n",
       "S6.day      -2.000e+00  2.395e+00  -0.835 0.405342    \n",
       "S7.day      -3.500e+00  2.395e+00  -1.461 0.146473    \n",
       "S8.day       5.577e-15  2.395e+00   0.000 1.000000    \n",
       "S9.day      -4.500e+00  2.395e+00  -1.879 0.062613 .  \n",
       "S10.day     -1.000e+00  2.395e+00  -0.417 0.677052    \n",
       "S11.day     -3.000e+00  2.395e+00  -1.252 0.212750    \n",
       "S12.day     -3.000e+00  2.395e+00  -1.252 0.212750    \n",
       "S13.day     -3.000e+00  2.395e+00  -1.252 0.212750    \n",
       "S14.day     -2.500e+00  2.395e+00  -1.044 0.298644    \n",
       "S15.day     -2.000e+00  2.395e+00  -0.835 0.405342    \n",
       "S16.day     -3.000e+00  2.395e+00  -1.252 0.212750    \n",
       "S17.day     -2.500e+00  2.395e+00  -1.044 0.298644    \n",
       "S18.day     -5.500e+00  2.395e+00  -2.296 0.023326 *  \n",
       "S19.day     -2.000e+00  2.395e+00  -0.835 0.405342    \n",
       "S20.day     -2.500e+00  2.395e+00  -1.044 0.298644    \n",
       "S21.day     -5.500e+00  2.395e+00  -2.296 0.023326 *  \n",
       "S22.day     -5.000e+00  2.395e+00  -2.087 0.038876 *  \n",
       "S23.day     -3.500e+00  2.395e+00  -1.461 0.146473    \n",
       "S24.day     -5.500e+00  2.395e+00  -2.296 0.023326 *  \n",
       "S25.day     -5.000e+00  2.395e+00  -2.087 0.038876 *  \n",
       "S26.day     -9.500e+00  2.395e+00  -3.966 0.000122 ***\n",
       "S27.day     -7.500e+00  2.395e+00  -3.131 0.002166 ** \n",
       "S28.day     -8.000e+00  2.395e+00  -3.340 0.001104 ** \n",
       "S29.day     -1.300e+01  2.395e+00  -5.427 2.83e-07 ***\n",
       "S30.day     -7.000e+00  2.395e+00  -2.922 0.004120 ** \n",
       "S31.day     -9.000e+00  2.395e+00  -3.757 0.000262 ***\n",
       "S32.day     -5.500e+00  2.395e+00  -2.296 0.023326 *  \n",
       "S33.day     -6.500e+00  2.395e+00  -2.713 0.007590 ** \n",
       "S34.day     -5.000e+00  2.395e+00  -2.087 0.038876 *  \n",
       "S35.day     -5.000e+00  2.395e+00  -2.087 0.038876 *  \n",
       "S36.day     -7.000e+00  2.395e+00  -2.922 0.004120 ** \n",
       "S37.day     -5.000e+00  2.395e+00  -2.087 0.038876 *  \n",
       "S38.day     -3.000e+00  2.395e+00  -1.252 0.212750    \n",
       "S39.day     -3.000e+00  2.395e+00  -1.252 0.212750    \n",
       "S40.day     -3.000e+00  2.395e+00  -1.252 0.212750    \n",
       "S41.day      1.000e+00  2.395e+00   0.417 0.677052    \n",
       "S42.day     -2.000e+00  2.395e+00  -0.835 0.405342    \n",
       "S43.day     -1.500e+00  2.395e+00  -0.626 0.532322    \n",
       "S44.day     -5.000e-01  2.395e+00  -0.209 0.834996    \n",
       "S45.day     -3.000e+00  2.395e+00  -1.252 0.212750    \n",
       "S46.day     -4.000e+00  2.395e+00  -1.670 0.097433 .  \n",
       "S47.day     -3.500e+00  2.395e+00  -1.461 0.146473    \n",
       "S48.day     -4.000e+00  2.395e+00  -1.670 0.097433 .  \n",
       "S49.day      8.409e-15  2.395e+00   0.000 1.000000    \n",
       "S50.day     -1.500e+00  2.395e+00  -0.626 0.532322    \n",
       "S51.day      7.555e-15  2.395e+00   0.000 1.000000    \n",
       "S52.day      8.571e-15  2.395e+00   0.000 1.000000    \n",
       "S53.day      2.000e+00  2.395e+00   0.835 0.405342    \n",
       "S54.day     -1.500e+00  2.395e+00  -0.626 0.532322    \n",
       "S55.day      5.000e-01  2.395e+00   0.209 0.834996    \n",
       "S56.day      2.000e+00  2.395e+00   0.835 0.405342    \n",
       "S57.day     -1.000e+00  2.395e+00  -0.417 0.677052    \n",
       "S58.day     -1.500e+00  2.395e+00  -0.626 0.532322    \n",
       "S59.day     -2.000e+00  2.395e+00  -0.835 0.405342    \n",
       "S60.day      1.500e+00  2.395e+00   0.626 0.532322    \n",
       "S61.day     -2.000e+00  2.395e+00  -0.835 0.405342    \n",
       "S62.day      5.510e-15  2.395e+00   0.000 1.000000    \n",
       "---\n",
       "Signif. codes:  0 '***' 0.001 '**' 0.01 '*' 0.05 '.' 0.1 ' ' 1\n",
       "\n",
       "Residual standard error: 1.694 on 126 degrees of freedom\n",
       "Multiple R-squared:  0.8335,\tAdjusted R-squared:  0.6684 \n",
       "F-statistic: 5.047 on 125 and 126 DF,  p-value: < 2.2e-16\n"
      ]
     },
     "metadata": {},
     "output_type": "display_data"
    }
   ],
   "source": [
    "model<-lm(demand~.,trainingdata)\n",
    "\n",
    "summary(model)"
   ]
  },
  {
   "cell_type": "code",
   "execution_count": 194,
   "metadata": {
    "ExecuteTime": {
     "end_time": "2018-12-30T22:01:54.071790Z",
     "start_time": "2018-12-30T22:01:53.874Z"
    },
    "scrolled": true
   },
   "outputs": [
    {
     "data": {
      "image/png": "[encoded data removed]",
      "text/plain": [
       "Plot with title \"Model evaluated on timeseries\""
      ]
     },
     "metadata": {},
     "output_type": "display_data"
    },
    {
     "data": {
      "image/png": "[encoded data removed]",
      "text/plain": [
       "Plot with title \"Auto correlation of timeseries\""
      ]
     },
     "metadata": {},
     "output_type": "display_data"
    },
    {
     "data": {
      "image/png": "[encoded data removed]",
      "text/plain": [
       "Plot with title \"Auto correlation of model residuals\""
      ]
     },
     "metadata": {},
     "output_type": "display_data"
    },
    {
     "data": {
      "image/png": "[encoded data removed]",
      "text/plain": [
       "Plot with title \"Model residuals\""
      ]
     },
     "metadata": {},
     "output_type": "display_data"
    },
    {
     "data": {
      "image/png": "[encoded data removed]",
      "text/plain": [
       "Plot with title \"QQ plot of model residuals\""
      ]
     },
     "metadata": {},
     "output_type": "display_data"
    }
   ],
   "source": [
    "#coefficients(model)\n",
    "coef<-coefficients(model)\n",
    "plot(trainingdata$demand,main='Model evaluated on timeseries',type='l')\n",
    "lines(model$fitted, lwd = 1,col='red')\n",
    "\n",
    "#model testing\n",
    "Acf(timeseries.weekend,main='Auto correlation of timeseries')\n",
    "Acf(resid(model),main='Auto correlation of model residuals')\n",
    "plot(resid(model),main='Model residuals')\n",
    "qqnorm(resid(model),main='QQ plot of model residuals')\n",
    "qqline(resid(model))"
   ]
  },
  {
   "cell_type": "markdown",
   "metadata": {},
   "source": [
    "### Evaluation and predictions"
   ]
  },
  {
   "cell_type": "code",
   "execution_count": 152,
   "metadata": {
    "ExecuteTime": {
     "end_time": "2018-12-30T21:36:35.384060Z",
     "start_time": "2018-12-30T21:36:35.349Z"
    }
   },
   "outputs": [
    {
     "data": {
      "text/html": [
       "<table>\n",
       "<thead><tr><th></th><th scope=col>ones</th><th scope=col>daynumber</th><th scope=col>S1</th><th scope=col>S2</th><th scope=col>S3</th><th scope=col>S4</th><th scope=col>S5</th><th scope=col>S6</th><th scope=col>S7</th><th scope=col>S8</th><th scope=col>...</th><th scope=col>S53.day</th><th scope=col>S54.day</th><th scope=col>S55.day</th><th scope=col>S56.day</th><th scope=col>S57.day</th><th scope=col>S58.day</th><th scope=col>S59.day</th><th scope=col>S60.day</th><th scope=col>S61.day</th><th scope=col>S62.day</th></tr></thead>\n",
       "<tbody>\n",
       "\t<tr><th scope=row>253</th><td>1  </td><td>0  </td><td>1  </td><td>0  </td><td>0  </td><td>0  </td><td>0  </td><td>0  </td><td>0  </td><td>0  </td><td>...</td><td>0  </td><td>0  </td><td>0  </td><td>0  </td><td>0  </td><td>0  </td><td>0  </td><td>0  </td><td>0  </td><td>0  </td></tr>\n",
       "\t<tr><th scope=row>254</th><td>1  </td><td>0  </td><td>0  </td><td>1  </td><td>0  </td><td>0  </td><td>0  </td><td>0  </td><td>0  </td><td>0  </td><td>...</td><td>0  </td><td>0  </td><td>0  </td><td>0  </td><td>0  </td><td>0  </td><td>0  </td><td>0  </td><td>0  </td><td>0  </td></tr>\n",
       "\t<tr><th scope=row>255</th><td>1  </td><td>0  </td><td>0  </td><td>0  </td><td>1  </td><td>0  </td><td>0  </td><td>0  </td><td>0  </td><td>0  </td><td>...</td><td>0  </td><td>0  </td><td>0  </td><td>0  </td><td>0  </td><td>0  </td><td>0  </td><td>0  </td><td>0  </td><td>0  </td></tr>\n",
       "\t<tr><th scope=row>256</th><td>1  </td><td>0  </td><td>0  </td><td>0  </td><td>0  </td><td>1  </td><td>0  </td><td>0  </td><td>0  </td><td>0  </td><td>...</td><td>0  </td><td>0  </td><td>0  </td><td>0  </td><td>0  </td><td>0  </td><td>0  </td><td>0  </td><td>0  </td><td>0  </td></tr>\n",
       "\t<tr><th scope=row>257</th><td>1  </td><td>0  </td><td>0  </td><td>0  </td><td>0  </td><td>0  </td><td>1  </td><td>0  </td><td>0  </td><td>0  </td><td>...</td><td>0  </td><td>0  </td><td>0  </td><td>0  </td><td>0  </td><td>0  </td><td>0  </td><td>0  </td><td>0  </td><td>0  </td></tr>\n",
       "\t<tr><th scope=row>258</th><td>1  </td><td>0  </td><td>0  </td><td>0  </td><td>0  </td><td>0  </td><td>0  </td><td>1  </td><td>0  </td><td>0  </td><td>...</td><td>0  </td><td>0  </td><td>0  </td><td>0  </td><td>0  </td><td>0  </td><td>0  </td><td>0  </td><td>0  </td><td>0  </td></tr>\n",
       "</tbody>\n",
       "</table>\n"
      ],
      "text/latex": [
       "\\begin{tabular}{r|llllllllllllllllllllllllllllllllllllllllllllllllllllllllllllllllllllllllllllllllllllllllllllllllllllllllllllllllllllllllllllll}\n",
       "  & ones & daynumber & S1 & S2 & S3 & S4 & S5 & S6 & S7 & S8 & ... & S53.day & S54.day & S55.day & S56.day & S57.day & S58.day & S59.day & S60.day & S61.day & S62.day\\\\\n",
       "\\hline\n",
       "\t253 & 1   & 0   & 1   & 0   & 0   & 0   & 0   & 0   & 0   & 0   & ... & 0   & 0   & 0   & 0   & 0   & 0   & 0   & 0   & 0   & 0  \\\\\n",
       "\t254 & 1   & 0   & 0   & 1   & 0   & 0   & 0   & 0   & 0   & 0   & ... & 0   & 0   & 0   & 0   & 0   & 0   & 0   & 0   & 0   & 0  \\\\\n",
       "\t255 & 1   & 0   & 0   & 0   & 1   & 0   & 0   & 0   & 0   & 0   & ... & 0   & 0   & 0   & 0   & 0   & 0   & 0   & 0   & 0   & 0  \\\\\n",
       "\t256 & 1   & 0   & 0   & 0   & 0   & 1   & 0   & 0   & 0   & 0   & ... & 0   & 0   & 0   & 0   & 0   & 0   & 0   & 0   & 0   & 0  \\\\\n",
       "\t257 & 1   & 0   & 0   & 0   & 0   & 0   & 1   & 0   & 0   & 0   & ... & 0   & 0   & 0   & 0   & 0   & 0   & 0   & 0   & 0   & 0  \\\\\n",
       "\t258 & 1   & 0   & 0   & 0   & 0   & 0   & 0   & 1   & 0   & 0   & ... & 0   & 0   & 0   & 0   & 0   & 0   & 0   & 0   & 0   & 0  \\\\\n",
       "\\end{tabular}\n"
      ],
      "text/markdown": [
       "\n",
       "| <!--/--> | ones | daynumber | S1 | S2 | S3 | S4 | S5 | S6 | S7 | S8 | ... | S53.day | S54.day | S55.day | S56.day | S57.day | S58.day | S59.day | S60.day | S61.day | S62.day | \n",
       "|---|---|---|---|---|---|\n",
       "| 253 | 1   | 0   | 1   | 0   | 0   | 0   | 0   | 0   | 0   | 0   | ... | 0   | 0   | 0   | 0   | 0   | 0   | 0   | 0   | 0   | 0   | \n",
       "| 254 | 1   | 0   | 0   | 1   | 0   | 0   | 0   | 0   | 0   | 0   | ... | 0   | 0   | 0   | 0   | 0   | 0   | 0   | 0   | 0   | 0   | \n",
       "| 255 | 1   | 0   | 0   | 0   | 1   | 0   | 0   | 0   | 0   | 0   | ... | 0   | 0   | 0   | 0   | 0   | 0   | 0   | 0   | 0   | 0   | \n",
       "| 256 | 1   | 0   | 0   | 0   | 0   | 1   | 0   | 0   | 0   | 0   | ... | 0   | 0   | 0   | 0   | 0   | 0   | 0   | 0   | 0   | 0   | \n",
       "| 257 | 1   | 0   | 0   | 0   | 0   | 0   | 1   | 0   | 0   | 0   | ... | 0   | 0   | 0   | 0   | 0   | 0   | 0   | 0   | 0   | 0   | \n",
       "| 258 | 1   | 0   | 0   | 0   | 0   | 0   | 0   | 1   | 0   | 0   | ... | 0   | 0   | 0   | 0   | 0   | 0   | 0   | 0   | 0   | 0   | \n",
       "\n",
       "\n"
      ],
      "text/plain": [
       "    ones daynumber S1 S2 S3 S4 S5 S6 S7 S8 ... S53.day S54.day S55.day S56.day\n",
       "253 1    0         1  0  0  0  0  0  0  0  ... 0       0       0       0      \n",
       "254 1    0         0  1  0  0  0  0  0  0  ... 0       0       0       0      \n",
       "255 1    0         0  0  1  0  0  0  0  0  ... 0       0       0       0      \n",
       "256 1    0         0  0  0  1  0  0  0  0  ... 0       0       0       0      \n",
       "257 1    0         0  0  0  0  1  0  0  0  ... 0       0       0       0      \n",
       "258 1    0         0  0  0  0  0  1  0  0  ... 0       0       0       0      \n",
       "    S57.day S58.day S59.day S60.day S61.day S62.day\n",
       "253 0       0       0       0       0       0      \n",
       "254 0       0       0       0       0       0      \n",
       "255 0       0       0       0       0       0      \n",
       "256 0       0       0       0       0       0      \n",
       "257 0       0       0       0       0       0      \n",
       "258 0       0       0       0       0       0      "
      ]
     },
     "metadata": {},
     "output_type": "display_data"
    },
    {
     "data": {
      "text/html": [
       "<ol class=list-inline>\n",
       "\t<li>378</li>\n",
       "\t<li>126</li>\n",
       "</ol>\n"
      ],
      "text/latex": [
       "\\begin{enumerate*}\n",
       "\\item 378\n",
       "\\item 126\n",
       "\\end{enumerate*}\n"
      ],
      "text/markdown": [
       "1. 378\n",
       "2. 126\n",
       "\n",
       "\n"
      ],
      "text/plain": [
       "[1] 378 126"
      ]
     },
     "metadata": {},
     "output_type": "display_data"
    }
   ],
   "source": [
    "#We create a new dataframe to make the model calculation easier below\n",
    "ones<-rep(1,378)\n",
    "#we remove the demand column since thats what we predict and we replace it with ones\n",
    "#so they are multiplied by the intercept coefficient\n",
    "final.model.data<-data.frame(ones,model.data.weekend[,-1])\n",
    "\n",
    "\n",
    "head(final.model.data)\n",
    "dim(final.model.data)"
   ]
  },
  {
   "cell_type": "code",
   "execution_count": 153,
   "metadata": {
    "ExecuteTime": {
     "end_time": "2018-12-30T21:38:17.696678Z",
     "start_time": "2018-12-30T21:38:17.646Z"
    }
   },
   "outputs": [
    {
     "data": {
      "image/png": "[encoded data removed]",
      "text/plain": [
       "plot without title"
      ]
     },
     "metadata": {},
     "output_type": "display_data"
    }
   ],
   "source": [
    "#coefficients(model)\n",
    "coef<-coefficients(model)\n",
    "\n",
    "mymodel = rowSums(mapply(\"*\", as.data.frame(final.model.data),coef))\n",
    "\n",
    "plot(weekend.data$demand,type='l')\n",
    "lines(mymodel,lwd = 1,col='red')"
   ]
  },
  {
   "cell_type": "code",
   "execution_count": 174,
   "metadata": {
    "ExecuteTime": {
     "end_time": "2018-12-30T21:47:46.117876Z",
     "start_time": "2018-12-30T21:47:46.094Z"
    }
   },
   "outputs": [
    {
     "data": {
      "text/html": [
       "0.544535161681404"
      ],
      "text/latex": [
       "0.544535161681404"
      ],
      "text/markdown": [
       "0.544535161681404"
      ],
      "text/plain": [
       "[1] 0.5445352"
      ]
     },
     "metadata": {},
     "output_type": "display_data"
    }
   ],
   "source": [
    "actual.demand<-validation.weekend$demand\n",
    "predicted.demand<-mymodel[253:378]\n",
    "\n",
    "residuals<-actual.demand-predicted.demand\n",
    "\n",
    "#Adjusted R-Squared #by a crazy coincidence k=n-1 so we use normal R2\n",
    "\n",
    "n=length(actual.demand)\n",
    "k=126-1 #Subtract one to ignore intercept\n",
    "\n",
    "SSE=sum(residuals**2)\n",
    "SSyy=sum((actual.demand-mean(actual.demand))**2)\n",
    "1-(SSE/SSyy)\n"
   ]
  },
  {
   "cell_type": "code",
   "execution_count": 175,
   "metadata": {
    "ExecuteTime": {
     "end_time": "2018-12-30T21:48:03.925549Z",
     "start_time": "2018-12-30T21:48:03.879Z"
    }
   },
   "outputs": [
    {
     "data": {
      "image/png": "[encoded data removed]",
      "text/plain": [
       "plot without title"
      ]
     },
     "metadata": {},
     "output_type": "display_data"
    }
   ],
   "source": [
    "plot(residuals)"
   ]
  },
  {
   "cell_type": "code",
   "execution_count": 176,
   "metadata": {
    "ExecuteTime": {
     "end_time": "2018-12-30T21:50:03.790221Z",
     "start_time": "2018-12-30T21:50:03.765Z"
    }
   },
   "outputs": [
    {
     "data": {
      "text/html": [
       "0.83353768508147"
      ],
      "text/latex": [
       "0.83353768508147"
      ],
      "text/markdown": [
       "0.83353768508147"
      ],
      "text/plain": [
       "[1] 0.8335377"
      ]
     },
     "metadata": {},
     "output_type": "display_data"
    }
   ],
   "source": [
    "#ON TRAIN\n",
    "actual.demand<-training.weekend$demand\n",
    "predicted.demand<-mymodel[1:126]\n",
    "\n",
    "residuals<-actual.demand-predicted.demand\n",
    "\n",
    "#Adjusted R-Squared\n",
    "n=length(actual.demand)\n",
    "k=126-1 #Subtract one to ignore intercept\n",
    "\n",
    "SSE=sum(residuals**2)\n",
    "SSyy=sum((actual.demand-mean(actual.demand))**2)\n",
    "1-(SSE/SSyy)"
   ]
  },
  {
   "cell_type": "markdown",
   "metadata": {},
   "source": [
    "## Weekday model"
   ]
  },
  {
   "cell_type": "code",
   "execution_count": 274,
   "metadata": {
    "ExecuteTime": {
     "end_time": "2018-12-31T01:31:38.186387Z",
     "start_time": "2018-12-31T01:31:38.094Z"
    }
   },
   "outputs": [],
   "source": [
    "weekday.data<-seasonal_data[seasonal_data$daytype=='weekday' & !is.na(seasonal_data$demand) ,]\n",
    "\n",
    "day_column<-rep(1,945)\n",
    "for(i in seq(1:945)){\n",
    "    \n",
    "        day<-strtoi(substr(newdata$date.and.time[i],9,10),base = 10)\n",
    "        if(day==7 | day==14 | day==21){\n",
    "            day_column[i]<-1\n",
    "        }else if(day==1 | day==8 | day==15 | day==22){\n",
    "            day_column[i]<-2\n",
    "        }else if(day==2 | day==9 | day==16 | day==23){\n",
    "            day_column[i]<-3\n",
    "        }else if(day==3 | day==10 | day==17 | day==24){\n",
    "            day_column[i]<-4\n",
    "        }else if(day==4 | day==11 | day==18 | day==25){\n",
    "            day_column[i]<-5\n",
    "        }\n",
    "}"
   ]
  },
  {
   "cell_type": "code",
   "execution_count": 275,
   "metadata": {
    "ExecuteTime": {
     "end_time": "2018-12-31T01:31:40.931048Z",
     "start_time": "2018-12-31T01:31:39.747Z"
    }
   },
   "outputs": [
    {
     "data": {
      "text/html": [
       "<table>\n",
       "<thead><tr><th scope=col>demand</th><th scope=col>daynumber</th><th scope=col>S1</th><th scope=col>S2</th><th scope=col>S3</th><th scope=col>S4</th><th scope=col>S5</th><th scope=col>S6</th><th scope=col>S7</th><th scope=col>S8</th><th scope=col>...</th><th scope=col>S53.day</th><th scope=col>S54.day</th><th scope=col>S55.day</th><th scope=col>S56.day</th><th scope=col>S57.day</th><th scope=col>S58.day</th><th scope=col>S59.day</th><th scope=col>S60.day</th><th scope=col>S61.day</th><th scope=col>S62.day</th></tr></thead>\n",
       "<tbody>\n",
       "\t<tr><td> 1 </td><td>2  </td><td>1  </td><td>0  </td><td>0  </td><td>0  </td><td>0  </td><td>0  </td><td>0  </td><td>0  </td><td>...</td><td>0  </td><td>0  </td><td>0  </td><td>0  </td><td>0  </td><td>0  </td><td>0  </td><td>0  </td><td>0  </td><td>0  </td></tr>\n",
       "\t<tr><td> 2 </td><td>2  </td><td>0  </td><td>1  </td><td>0  </td><td>0  </td><td>0  </td><td>0  </td><td>0  </td><td>0  </td><td>...</td><td>0  </td><td>0  </td><td>0  </td><td>0  </td><td>0  </td><td>0  </td><td>0  </td><td>0  </td><td>0  </td><td>0  </td></tr>\n",
       "\t<tr><td> 4 </td><td>2  </td><td>0  </td><td>0  </td><td>1  </td><td>0  </td><td>0  </td><td>0  </td><td>0  </td><td>0  </td><td>...</td><td>0  </td><td>0  </td><td>0  </td><td>0  </td><td>0  </td><td>0  </td><td>0  </td><td>0  </td><td>0  </td><td>0  </td></tr>\n",
       "\t<tr><td> 0 </td><td>2  </td><td>0  </td><td>0  </td><td>0  </td><td>1  </td><td>0  </td><td>0  </td><td>0  </td><td>0  </td><td>...</td><td>0  </td><td>0  </td><td>0  </td><td>0  </td><td>0  </td><td>0  </td><td>0  </td><td>0  </td><td>0  </td><td>0  </td></tr>\n",
       "\t<tr><td>10 </td><td>2  </td><td>0  </td><td>0  </td><td>0  </td><td>0  </td><td>1  </td><td>0  </td><td>0  </td><td>0  </td><td>...</td><td>0  </td><td>0  </td><td>0  </td><td>0  </td><td>0  </td><td>0  </td><td>0  </td><td>0  </td><td>0  </td><td>0  </td></tr>\n",
       "\t<tr><td>13 </td><td>2  </td><td>0  </td><td>0  </td><td>0  </td><td>0  </td><td>0  </td><td>1  </td><td>0  </td><td>0  </td><td>...</td><td>0  </td><td>0  </td><td>0  </td><td>0  </td><td>0  </td><td>0  </td><td>0  </td><td>0  </td><td>0  </td><td>0  </td></tr>\n",
       "</tbody>\n",
       "</table>\n"
      ],
      "text/latex": [
       "\\begin{tabular}{r|llllllllllllllllllllllllllllllllllllllllllllllllllllllllllllllllllllllllllllllllllllllllllllllllllllllllllllllllllllllllllllll}\n",
       " demand & daynumber & S1 & S2 & S3 & S4 & S5 & S6 & S7 & S8 & ... & S53.day & S54.day & S55.day & S56.day & S57.day & S58.day & S59.day & S60.day & S61.day & S62.day\\\\\n",
       "\\hline\n",
       "\t  1  & 2   & 1   & 0   & 0   & 0   & 0   & 0   & 0   & 0   & ... & 0   & 0   & 0   & 0   & 0   & 0   & 0   & 0   & 0   & 0  \\\\\n",
       "\t  2  & 2   & 0   & 1   & 0   & 0   & 0   & 0   & 0   & 0   & ... & 0   & 0   & 0   & 0   & 0   & 0   & 0   & 0   & 0   & 0  \\\\\n",
       "\t  4  & 2   & 0   & 0   & 1   & 0   & 0   & 0   & 0   & 0   & ... & 0   & 0   & 0   & 0   & 0   & 0   & 0   & 0   & 0   & 0  \\\\\n",
       "\t  0  & 2   & 0   & 0   & 0   & 1   & 0   & 0   & 0   & 0   & ... & 0   & 0   & 0   & 0   & 0   & 0   & 0   & 0   & 0   & 0  \\\\\n",
       "\t 10  & 2   & 0   & 0   & 0   & 0   & 1   & 0   & 0   & 0   & ... & 0   & 0   & 0   & 0   & 0   & 0   & 0   & 0   & 0   & 0  \\\\\n",
       "\t 13  & 2   & 0   & 0   & 0   & 0   & 0   & 1   & 0   & 0   & ... & 0   & 0   & 0   & 0   & 0   & 0   & 0   & 0   & 0   & 0  \\\\\n",
       "\\end{tabular}\n"
      ],
      "text/markdown": [
       "\n",
       "demand | daynumber | S1 | S2 | S3 | S4 | S5 | S6 | S7 | S8 | ... | S53.day | S54.day | S55.day | S56.day | S57.day | S58.day | S59.day | S60.day | S61.day | S62.day | \n",
       "|---|---|---|---|---|---|\n",
       "|  1  | 2   | 1   | 0   | 0   | 0   | 0   | 0   | 0   | 0   | ... | 0   | 0   | 0   | 0   | 0   | 0   | 0   | 0   | 0   | 0   | \n",
       "|  2  | 2   | 0   | 1   | 0   | 0   | 0   | 0   | 0   | 0   | ... | 0   | 0   | 0   | 0   | 0   | 0   | 0   | 0   | 0   | 0   | \n",
       "|  4  | 2   | 0   | 0   | 1   | 0   | 0   | 0   | 0   | 0   | ... | 0   | 0   | 0   | 0   | 0   | 0   | 0   | 0   | 0   | 0   | \n",
       "|  0  | 2   | 0   | 0   | 0   | 1   | 0   | 0   | 0   | 0   | ... | 0   | 0   | 0   | 0   | 0   | 0   | 0   | 0   | 0   | 0   | \n",
       "| 10  | 2   | 0   | 0   | 0   | 0   | 1   | 0   | 0   | 0   | ... | 0   | 0   | 0   | 0   | 0   | 0   | 0   | 0   | 0   | 0   | \n",
       "| 13  | 2   | 0   | 0   | 0   | 0   | 0   | 1   | 0   | 0   | ... | 0   | 0   | 0   | 0   | 0   | 0   | 0   | 0   | 0   | 0   | \n",
       "\n",
       "\n"
      ],
      "text/plain": [
       "  demand daynumber S1 S2 S3 S4 S5 S6 S7 S8 ... S53.day S54.day S55.day S56.day\n",
       "1  1     2         1  0  0  0  0  0  0  0  ... 0       0       0       0      \n",
       "2  2     2         0  1  0  0  0  0  0  0  ... 0       0       0       0      \n",
       "3  4     2         0  0  1  0  0  0  0  0  ... 0       0       0       0      \n",
       "4  0     2         0  0  0  1  0  0  0  0  ... 0       0       0       0      \n",
       "5 10     2         0  0  0  0  1  0  0  0  ... 0       0       0       0      \n",
       "6 13     2         0  0  0  0  0  1  0  0  ... 0       0       0       0      \n",
       "  S57.day S58.day S59.day S60.day S61.day S62.day\n",
       "1 0       0       0       0       0       0      \n",
       "2 0       0       0       0       0       0      \n",
       "3 0       0       0       0       0       0      \n",
       "4 0       0       0       0       0       0      \n",
       "5 0       0       0       0       0       0      \n",
       "6 0       0       0       0       0       0      "
      ]
     },
     "metadata": {},
     "output_type": "display_data"
    },
    {
     "data": {
      "text/html": [
       "<ol class=list-inline>\n",
       "\t<li>945</li>\n",
       "\t<li>126</li>\n",
       "</ol>\n"
      ],
      "text/latex": [
       "\\begin{enumerate*}\n",
       "\\item 945\n",
       "\\item 126\n",
       "\\end{enumerate*}\n"
      ],
      "text/markdown": [
       "1. 945\n",
       "2. 126\n",
       "\n",
       "\n"
      ],
      "text/plain": [
       "[1] 945 126"
      ]
     },
     "metadata": {},
     "output_type": "display_data"
    },
    {
     "data": {
      "text/html": [
       "<ol class=list-inline>\n",
       "\t<li>'demand'</li>\n",
       "\t<li>'daynumber'</li>\n",
       "\t<li>'S1'</li>\n",
       "\t<li>'S2'</li>\n",
       "\t<li>'S3'</li>\n",
       "\t<li>'S4'</li>\n",
       "\t<li>'S5'</li>\n",
       "\t<li>'S6'</li>\n",
       "\t<li>'S7'</li>\n",
       "\t<li>'S8'</li>\n",
       "\t<li>'S9'</li>\n",
       "\t<li>'S10'</li>\n",
       "\t<li>'S11'</li>\n",
       "\t<li>'S12'</li>\n",
       "\t<li>'S13'</li>\n",
       "\t<li>'S14'</li>\n",
       "\t<li>'S15'</li>\n",
       "\t<li>'S16'</li>\n",
       "\t<li>'S17'</li>\n",
       "\t<li>'S18'</li>\n",
       "\t<li>'S19'</li>\n",
       "\t<li>'S20'</li>\n",
       "\t<li>'S21'</li>\n",
       "\t<li>'S22'</li>\n",
       "\t<li>'S23'</li>\n",
       "\t<li>'S24'</li>\n",
       "\t<li>'S25'</li>\n",
       "\t<li>'S26'</li>\n",
       "\t<li>'S27'</li>\n",
       "\t<li>'S28'</li>\n",
       "\t<li>'S29'</li>\n",
       "\t<li>'S30'</li>\n",
       "\t<li>'S31'</li>\n",
       "\t<li>'S32'</li>\n",
       "\t<li>'S33'</li>\n",
       "\t<li>'S34'</li>\n",
       "\t<li>'S35'</li>\n",
       "\t<li>'S36'</li>\n",
       "\t<li>'S37'</li>\n",
       "\t<li>'S38'</li>\n",
       "\t<li>'S39'</li>\n",
       "\t<li>'S40'</li>\n",
       "\t<li>'S41'</li>\n",
       "\t<li>'S42'</li>\n",
       "\t<li>'S43'</li>\n",
       "\t<li>'S44'</li>\n",
       "\t<li>'S45'</li>\n",
       "\t<li>'S46'</li>\n",
       "\t<li>'S47'</li>\n",
       "\t<li>'S48'</li>\n",
       "\t<li>'S49'</li>\n",
       "\t<li>'S50'</li>\n",
       "\t<li>'S51'</li>\n",
       "\t<li>'S52'</li>\n",
       "\t<li>'S53'</li>\n",
       "\t<li>'S54'</li>\n",
       "\t<li>'S55'</li>\n",
       "\t<li>'S56'</li>\n",
       "\t<li>'S57'</li>\n",
       "\t<li>'S58'</li>\n",
       "\t<li>'S59'</li>\n",
       "\t<li>'S60'</li>\n",
       "\t<li>'S61'</li>\n",
       "\t<li>'S62'</li>\n",
       "\t<li>'S1.day'</li>\n",
       "\t<li>'S2.day'</li>\n",
       "\t<li>'S3.day'</li>\n",
       "\t<li>'S4.day'</li>\n",
       "\t<li>'S5.day'</li>\n",
       "\t<li>'S6.day'</li>\n",
       "\t<li>'S7.day'</li>\n",
       "\t<li>'S8.day'</li>\n",
       "\t<li>'S9.day'</li>\n",
       "\t<li>'S10.day'</li>\n",
       "\t<li>'S11.day'</li>\n",
       "\t<li>'S12.day'</li>\n",
       "\t<li>'S13.day'</li>\n",
       "\t<li>'S14.day'</li>\n",
       "\t<li>'S15.day'</li>\n",
       "\t<li>'S16.day'</li>\n",
       "\t<li>'S17.day'</li>\n",
       "\t<li>'S18.day'</li>\n",
       "\t<li>'S19.day'</li>\n",
       "\t<li>'S20.day'</li>\n",
       "\t<li>'S21.day'</li>\n",
       "\t<li>'S22.day'</li>\n",
       "\t<li>'S23.day'</li>\n",
       "\t<li>'S24.day'</li>\n",
       "\t<li>'S25.day'</li>\n",
       "\t<li>'S26.day'</li>\n",
       "\t<li>'S27.day'</li>\n",
       "\t<li>'S28.day'</li>\n",
       "\t<li>'S29.day'</li>\n",
       "\t<li>'S30.day'</li>\n",
       "\t<li>'S31.day'</li>\n",
       "\t<li>'S32.day'</li>\n",
       "\t<li>'S33.day'</li>\n",
       "\t<li>'S34.day'</li>\n",
       "\t<li>'S35.day'</li>\n",
       "\t<li>'S36.day'</li>\n",
       "\t<li>'S37.day'</li>\n",
       "\t<li>'S38.day'</li>\n",
       "\t<li>'S39.day'</li>\n",
       "\t<li>'S40.day'</li>\n",
       "\t<li>'S41.day'</li>\n",
       "\t<li>'S42.day'</li>\n",
       "\t<li>'S43.day'</li>\n",
       "\t<li>'S44.day'</li>\n",
       "\t<li>'S45.day'</li>\n",
       "\t<li>'S46.day'</li>\n",
       "\t<li>'S47.day'</li>\n",
       "\t<li>'S48.day'</li>\n",
       "\t<li>'S49.day'</li>\n",
       "\t<li>'S50.day'</li>\n",
       "\t<li>'S51.day'</li>\n",
       "\t<li>'S52.day'</li>\n",
       "\t<li>'S53.day'</li>\n",
       "\t<li>'S54.day'</li>\n",
       "\t<li>'S55.day'</li>\n",
       "\t<li>'S56.day'</li>\n",
       "\t<li>'S57.day'</li>\n",
       "\t<li>'S58.day'</li>\n",
       "\t<li>'S59.day'</li>\n",
       "\t<li>'S60.day'</li>\n",
       "\t<li>'S61.day'</li>\n",
       "\t<li>'S62.day'</li>\n",
       "</ol>\n"
      ],
      "text/latex": [
       "\\begin{enumerate*}\n",
       "\\item 'demand'\n",
       "\\item 'daynumber'\n",
       "\\item 'S1'\n",
       "\\item 'S2'\n",
       "\\item 'S3'\n",
       "\\item 'S4'\n",
       "\\item 'S5'\n",
       "\\item 'S6'\n",
       "\\item 'S7'\n",
       "\\item 'S8'\n",
       "\\item 'S9'\n",
       "\\item 'S10'\n",
       "\\item 'S11'\n",
       "\\item 'S12'\n",
       "\\item 'S13'\n",
       "\\item 'S14'\n",
       "\\item 'S15'\n",
       "\\item 'S16'\n",
       "\\item 'S17'\n",
       "\\item 'S18'\n",
       "\\item 'S19'\n",
       "\\item 'S20'\n",
       "\\item 'S21'\n",
       "\\item 'S22'\n",
       "\\item 'S23'\n",
       "\\item 'S24'\n",
       "\\item 'S25'\n",
       "\\item 'S26'\n",
       "\\item 'S27'\n",
       "\\item 'S28'\n",
       "\\item 'S29'\n",
       "\\item 'S30'\n",
       "\\item 'S31'\n",
       "\\item 'S32'\n",
       "\\item 'S33'\n",
       "\\item 'S34'\n",
       "\\item 'S35'\n",
       "\\item 'S36'\n",
       "\\item 'S37'\n",
       "\\item 'S38'\n",
       "\\item 'S39'\n",
       "\\item 'S40'\n",
       "\\item 'S41'\n",
       "\\item 'S42'\n",
       "\\item 'S43'\n",
       "\\item 'S44'\n",
       "\\item 'S45'\n",
       "\\item 'S46'\n",
       "\\item 'S47'\n",
       "\\item 'S48'\n",
       "\\item 'S49'\n",
       "\\item 'S50'\n",
       "\\item 'S51'\n",
       "\\item 'S52'\n",
       "\\item 'S53'\n",
       "\\item 'S54'\n",
       "\\item 'S55'\n",
       "\\item 'S56'\n",
       "\\item 'S57'\n",
       "\\item 'S58'\n",
       "\\item 'S59'\n",
       "\\item 'S60'\n",
       "\\item 'S61'\n",
       "\\item 'S62'\n",
       "\\item 'S1.day'\n",
       "\\item 'S2.day'\n",
       "\\item 'S3.day'\n",
       "\\item 'S4.day'\n",
       "\\item 'S5.day'\n",
       "\\item 'S6.day'\n",
       "\\item 'S7.day'\n",
       "\\item 'S8.day'\n",
       "\\item 'S9.day'\n",
       "\\item 'S10.day'\n",
       "\\item 'S11.day'\n",
       "\\item 'S12.day'\n",
       "\\item 'S13.day'\n",
       "\\item 'S14.day'\n",
       "\\item 'S15.day'\n",
       "\\item 'S16.day'\n",
       "\\item 'S17.day'\n",
       "\\item 'S18.day'\n",
       "\\item 'S19.day'\n",
       "\\item 'S20.day'\n",
       "\\item 'S21.day'\n",
       "\\item 'S22.day'\n",
       "\\item 'S23.day'\n",
       "\\item 'S24.day'\n",
       "\\item 'S25.day'\n",
       "\\item 'S26.day'\n",
       "\\item 'S27.day'\n",
       "\\item 'S28.day'\n",
       "\\item 'S29.day'\n",
       "\\item 'S30.day'\n",
       "\\item 'S31.day'\n",
       "\\item 'S32.day'\n",
       "\\item 'S33.day'\n",
       "\\item 'S34.day'\n",
       "\\item 'S35.day'\n",
       "\\item 'S36.day'\n",
       "\\item 'S37.day'\n",
       "\\item 'S38.day'\n",
       "\\item 'S39.day'\n",
       "\\item 'S40.day'\n",
       "\\item 'S41.day'\n",
       "\\item 'S42.day'\n",
       "\\item 'S43.day'\n",
       "\\item 'S44.day'\n",
       "\\item 'S45.day'\n",
       "\\item 'S46.day'\n",
       "\\item 'S47.day'\n",
       "\\item 'S48.day'\n",
       "\\item 'S49.day'\n",
       "\\item 'S50.day'\n",
       "\\item 'S51.day'\n",
       "\\item 'S52.day'\n",
       "\\item 'S53.day'\n",
       "\\item 'S54.day'\n",
       "\\item 'S55.day'\n",
       "\\item 'S56.day'\n",
       "\\item 'S57.day'\n",
       "\\item 'S58.day'\n",
       "\\item 'S59.day'\n",
       "\\item 'S60.day'\n",
       "\\item 'S61.day'\n",
       "\\item 'S62.day'\n",
       "\\end{enumerate*}\n"
      ],
      "text/markdown": [
       "1. 'demand'\n",
       "2. 'daynumber'\n",
       "3. 'S1'\n",
       "4. 'S2'\n",
       "5. 'S3'\n",
       "6. 'S4'\n",
       "7. 'S5'\n",
       "8. 'S6'\n",
       "9. 'S7'\n",
       "10. 'S8'\n",
       "11. 'S9'\n",
       "12. 'S10'\n",
       "13. 'S11'\n",
       "14. 'S12'\n",
       "15. 'S13'\n",
       "16. 'S14'\n",
       "17. 'S15'\n",
       "18. 'S16'\n",
       "19. 'S17'\n",
       "20. 'S18'\n",
       "21. 'S19'\n",
       "22. 'S20'\n",
       "23. 'S21'\n",
       "24. 'S22'\n",
       "25. 'S23'\n",
       "26. 'S24'\n",
       "27. 'S25'\n",
       "28. 'S26'\n",
       "29. 'S27'\n",
       "30. 'S28'\n",
       "31. 'S29'\n",
       "32. 'S30'\n",
       "33. 'S31'\n",
       "34. 'S32'\n",
       "35. 'S33'\n",
       "36. 'S34'\n",
       "37. 'S35'\n",
       "38. 'S36'\n",
       "39. 'S37'\n",
       "40. 'S38'\n",
       "41. 'S39'\n",
       "42. 'S40'\n",
       "43. 'S41'\n",
       "44. 'S42'\n",
       "45. 'S43'\n",
       "46. 'S44'\n",
       "47. 'S45'\n",
       "48. 'S46'\n",
       "49. 'S47'\n",
       "50. 'S48'\n",
       "51. 'S49'\n",
       "52. 'S50'\n",
       "53. 'S51'\n",
       "54. 'S52'\n",
       "55. 'S53'\n",
       "56. 'S54'\n",
       "57. 'S55'\n",
       "58. 'S56'\n",
       "59. 'S57'\n",
       "60. 'S58'\n",
       "61. 'S59'\n",
       "62. 'S60'\n",
       "63. 'S61'\n",
       "64. 'S62'\n",
       "65. 'S1.day'\n",
       "66. 'S2.day'\n",
       "67. 'S3.day'\n",
       "68. 'S4.day'\n",
       "69. 'S5.day'\n",
       "70. 'S6.day'\n",
       "71. 'S7.day'\n",
       "72. 'S8.day'\n",
       "73. 'S9.day'\n",
       "74. 'S10.day'\n",
       "75. 'S11.day'\n",
       "76. 'S12.day'\n",
       "77. 'S13.day'\n",
       "78. 'S14.day'\n",
       "79. 'S15.day'\n",
       "80. 'S16.day'\n",
       "81. 'S17.day'\n",
       "82. 'S18.day'\n",
       "83. 'S19.day'\n",
       "84. 'S20.day'\n",
       "85. 'S21.day'\n",
       "86. 'S22.day'\n",
       "87. 'S23.day'\n",
       "88. 'S24.day'\n",
       "89. 'S25.day'\n",
       "90. 'S26.day'\n",
       "91. 'S27.day'\n",
       "92. 'S28.day'\n",
       "93. 'S29.day'\n",
       "94. 'S30.day'\n",
       "95. 'S31.day'\n",
       "96. 'S32.day'\n",
       "97. 'S33.day'\n",
       "98. 'S34.day'\n",
       "99. 'S35.day'\n",
       "100. 'S36.day'\n",
       "101. 'S37.day'\n",
       "102. 'S38.day'\n",
       "103. 'S39.day'\n",
       "104. 'S40.day'\n",
       "105. 'S41.day'\n",
       "106. 'S42.day'\n",
       "107. 'S43.day'\n",
       "108. 'S44.day'\n",
       "109. 'S45.day'\n",
       "110. 'S46.day'\n",
       "111. 'S47.day'\n",
       "112. 'S48.day'\n",
       "113. 'S49.day'\n",
       "114. 'S50.day'\n",
       "115. 'S51.day'\n",
       "116. 'S52.day'\n",
       "117. 'S53.day'\n",
       "118. 'S54.day'\n",
       "119. 'S55.day'\n",
       "120. 'S56.day'\n",
       "121. 'S57.day'\n",
       "122. 'S58.day'\n",
       "123. 'S59.day'\n",
       "124. 'S60.day'\n",
       "125. 'S61.day'\n",
       "126. 'S62.day'\n",
       "\n",
       "\n"
      ],
      "text/plain": [
       "  [1] \"demand\"    \"daynumber\" \"S1\"        \"S2\"        \"S3\"        \"S4\"       \n",
       "  [7] \"S5\"        \"S6\"        \"S7\"        \"S8\"        \"S9\"        \"S10\"      \n",
       " [13] \"S11\"       \"S12\"       \"S13\"       \"S14\"       \"S15\"       \"S16\"      \n",
       " [19] \"S17\"       \"S18\"       \"S19\"       \"S20\"       \"S21\"       \"S22\"      \n",
       " [25] \"S23\"       \"S24\"       \"S25\"       \"S26\"       \"S27\"       \"S28\"      \n",
       " [31] \"S29\"       \"S30\"       \"S31\"       \"S32\"       \"S33\"       \"S34\"      \n",
       " [37] \"S35\"       \"S36\"       \"S37\"       \"S38\"       \"S39\"       \"S40\"      \n",
       " [43] \"S41\"       \"S42\"       \"S43\"       \"S44\"       \"S45\"       \"S46\"      \n",
       " [49] \"S47\"       \"S48\"       \"S49\"       \"S50\"       \"S51\"       \"S52\"      \n",
       " [55] \"S53\"       \"S54\"       \"S55\"       \"S56\"       \"S57\"       \"S58\"      \n",
       " [61] \"S59\"       \"S60\"       \"S61\"       \"S62\"       \"S1.day\"    \"S2.day\"   \n",
       " [67] \"S3.day\"    \"S4.day\"    \"S5.day\"    \"S6.day\"    \"S7.day\"    \"S8.day\"   \n",
       " [73] \"S9.day\"    \"S10.day\"   \"S11.day\"   \"S12.day\"   \"S13.day\"   \"S14.day\"  \n",
       " [79] \"S15.day\"   \"S16.day\"   \"S17.day\"   \"S18.day\"   \"S19.day\"   \"S20.day\"  \n",
       " [85] \"S21.day\"   \"S22.day\"   \"S23.day\"   \"S24.day\"   \"S25.day\"   \"S26.day\"  \n",
       " [91] \"S27.day\"   \"S28.day\"   \"S29.day\"   \"S30.day\"   \"S31.day\"   \"S32.day\"  \n",
       " [97] \"S33.day\"   \"S34.day\"   \"S35.day\"   \"S36.day\"   \"S37.day\"   \"S38.day\"  \n",
       "[103] \"S39.day\"   \"S40.day\"   \"S41.day\"   \"S42.day\"   \"S43.day\"   \"S44.day\"  \n",
       "[109] \"S45.day\"   \"S46.day\"   \"S47.day\"   \"S48.day\"   \"S49.day\"   \"S50.day\"  \n",
       "[115] \"S51.day\"   \"S52.day\"   \"S53.day\"   \"S54.day\"   \"S55.day\"   \"S56.day\"  \n",
       "[121] \"S57.day\"   \"S58.day\"   \"S59.day\"   \"S60.day\"   \"S61.day\"   \"S62.day\"  "
      ]
     },
     "metadata": {},
     "output_type": "display_data"
    }
   ],
   "source": [
    "model.data.weekday<-data.frame(weekday.data$demand, day_column, weekday.data[6:67], day_column*weekday.data[6:67])\n",
    "\n",
    "colnames(model.data.weekday)<-c('demand','daynumber',colnames(model.data.weekday)[3:64]\n",
    "                                , paste(colnames(model.data.weekday)[3:64],'.day',sep = ''))\n",
    "\n",
    "trainingdata<-model.data.weekday[1:(63*10),]\n",
    "\n",
    "head(model.data.weekday)\n",
    "dim(model.data.weekday)\n",
    "names(model.data.weekday)"
   ]
  },
  {
   "cell_type": "code",
   "execution_count": 228,
   "metadata": {
    "ExecuteTime": {
     "end_time": "2018-12-30T22:15:58.972201Z",
     "start_time": "2018-12-30T22:15:58.943Z"
    },
    "scrolled": true
   },
   "outputs": [
    {
     "data": {
      "text/plain": [
       "\n",
       "Call:\n",
       "lm(formula = demand ~ ., data = trainingdata)\n",
       "\n",
       "Residuals:\n",
       "    Min      1Q  Median      3Q     Max \n",
       "-30.326  -3.889  -0.087   3.647  39.152 \n",
       "\n",
       "Coefficients:\n",
       "            Estimate Std. Error t value Pr(>|t|)    \n",
       "(Intercept)  6.15217    5.85597   1.051 0.293954    \n",
       "daynumber   -0.17391    1.99687  -0.087 0.930632    \n",
       "S1          -3.31522    8.28159  -0.400 0.689096    \n",
       "S2          -4.01087    8.28159  -0.484 0.628375    \n",
       "S3          -5.05435    8.28159  -0.610 0.541931    \n",
       "S4          -0.48913    8.28159  -0.059 0.952926    \n",
       "S5           3.42391    8.28159   0.413 0.679462    \n",
       "S6           9.42391    8.28159   1.138 0.255688    \n",
       "S7          10.67391    8.28159   1.289 0.198034    \n",
       "S8           9.60870    8.28159   1.160 0.246497    \n",
       "S9          11.25000    8.28159   1.358 0.174933    \n",
       "S10         13.25000    8.28159   1.600 0.110240    \n",
       "S11         11.55435    8.28159   1.395 0.163574    \n",
       "S12         14.89130    8.28159   1.798 0.072756 .  \n",
       "S13         12.21739    8.28159   1.475 0.140770    \n",
       "S14          9.19565    8.28159   1.110 0.267368    \n",
       "S15         15.39130    8.28159   1.858 0.063681 .  \n",
       "S16         13.50000    8.28159   1.630 0.103700    \n",
       "S17         15.04348    8.28159   1.816 0.069888 .  \n",
       "S18         25.61957    8.28159   3.094 0.002087 ** \n",
       "S19         25.13043    8.28159   3.034 0.002534 ** \n",
       "S20         23.93478    8.28159   2.890 0.004017 ** \n",
       "S21         25.55435    8.28159   3.086 0.002142 ** \n",
       "S22         29.02174    8.28159   3.504 0.000498 ***\n",
       "S23         32.47826    8.28159   3.922 0.000100 ***\n",
       "S24         35.97826    8.28159   4.344 1.69e-05 ***\n",
       "S25         34.26087    8.28159   4.137 4.12e-05 ***\n",
       "S26         42.69565    8.28159   5.155 3.64e-07 ***\n",
       "S27         42.11957    8.28159   5.086 5.17e-07 ***\n",
       "S28         47.02174    8.28159   5.678 2.31e-08 ***\n",
       "S29         43.53261    8.28159   5.257 2.17e-07 ***\n",
       "S30         43.56522    8.28159   5.260 2.13e-07 ***\n",
       "S31         39.29348    8.28159   4.745 2.72e-06 ***\n",
       "S32         50.66304    8.28159   6.118 1.91e-09 ***\n",
       "S33         29.45652    8.28159   3.557 0.000411 ***\n",
       "S34         28.42391    8.28159   3.432 0.000648 ***\n",
       "S35         31.84783    8.28159   3.846 0.000136 ***\n",
       "S36         31.07609    8.28159   3.752 0.000195 ***\n",
       "S37         29.25000    8.28159   3.532 0.000450 ***\n",
       "S38         23.89130    8.28159   2.885 0.004083 ** \n",
       "S39         32.70652    8.28159   3.949 8.95e-05 ***\n",
       "S40         24.76087    8.28159   2.990 0.002927 ** \n",
       "S41         30.73913    8.28159   3.712 0.000229 ***\n",
       "S42         21.30435    8.28159   2.572 0.010382 *  \n",
       "S43         28.65217    8.28159   3.460 0.000587 ***\n",
       "S44         30.05435    8.28159   3.629 0.000313 ***\n",
       "S45         32.07609    8.28159   3.873 0.000122 ***\n",
       "S46         46.26087    8.28159   5.586 3.81e-08 ***\n",
       "S47         56.69565    8.28159   6.846 2.22e-11 ***\n",
       "S48         80.13043    8.28159   9.676  < 2e-16 ***\n",
       "S49         88.47826    8.28159  10.684  < 2e-16 ***\n",
       "S50         99.72826    8.28159  12.042  < 2e-16 ***\n",
       "S51         90.45652    8.28159  10.923  < 2e-16 ***\n",
       "S52         76.27174    8.28159   9.210  < 2e-16 ***\n",
       "S53         53.63043    8.28159   6.476 2.24e-10 ***\n",
       "S54         63.07609    8.28159   7.616 1.30e-13 ***\n",
       "S55         53.20652    8.28159   6.425 3.06e-10 ***\n",
       "S56         54.16304    8.28159   6.540 1.51e-10 ***\n",
       "S57         40.90217    8.28159   4.939 1.07e-06 ***\n",
       "S58         33.72826    8.28159   4.073 5.40e-05 ***\n",
       "S59         22.86957    8.28159   2.761 0.005964 ** \n",
       "S60         20.57609    8.28159   2.485 0.013295 *  \n",
       "S61         15.00000    8.28159   1.811 0.070698 .  \n",
       "S62          6.91304    8.28159   0.835 0.404255    \n",
       "S1.day      -0.03261    2.82400  -0.012 0.990792    \n",
       "S2.day       0.11957    2.82400   0.042 0.966245    \n",
       "S3.day       1.09783    2.82400   0.389 0.697626    \n",
       "S4.day      -0.11957    2.82400  -0.042 0.966245    \n",
       "S5.day       0.33696    2.82400   0.119 0.905070    \n",
       "S6.day      -1.16304    2.82400  -0.412 0.680630    \n",
       "S7.day       0.08696    2.82400   0.031 0.975448    \n",
       "S8.day      -0.19565    2.82400  -0.069 0.944793    \n",
       "S9.day      -0.25000    2.82400  -0.089 0.929493    \n",
       "S10.day     -1.25000    2.82400  -0.443 0.658220    \n",
       "S11.day     -0.59783    2.82400  -0.212 0.832431    \n",
       "S12.day      0.19565    2.82400   0.069 0.944793    \n",
       "S13.day      1.10870    2.82400   0.393 0.694782    \n",
       "S14.day      1.84783    2.82400   0.654 0.513198    \n",
       "S15.day     -0.30435    2.82400  -0.108 0.914219    \n",
       "S16.day      1.50000    2.82400   0.531 0.595541    \n",
       "S17.day      1.52174    2.82400   0.539 0.590221    \n",
       "S18.day     -1.31522    2.82400  -0.466 0.641611    \n",
       "S19.day     -0.43478    2.82400  -0.154 0.877703    \n",
       "S20.day      0.71739    2.82400   0.254 0.799573    \n",
       "S21.day     -0.09783    2.82400  -0.035 0.972380    \n",
       "S22.day     -0.23913    2.82400  -0.085 0.932551    \n",
       "S23.day      0.73913    2.82400   0.262 0.793635    \n",
       "S24.day     -0.26087    2.82400  -0.092 0.926436    \n",
       "S25.day      0.63043    2.82400   0.223 0.823438    \n",
       "S26.day     -0.65217    2.82400  -0.231 0.817455    \n",
       "S27.day     -0.81522    2.82400  -0.289 0.772949    \n",
       "S28.day     -2.23913    2.82400  -0.793 0.428213    \n",
       "S29.day     -0.35870    2.82400  -0.127 0.898978    \n",
       "S30.day      0.28261    2.82400   0.100 0.920325    \n",
       "S31.day      0.27174    2.82400   0.096 0.923380    \n",
       "S32.day     -2.79348    2.82400  -0.989 0.323044    \n",
       "S33.day      1.47826    2.82400   0.523 0.600882    \n",
       "S34.day      0.83696    2.82400   0.296 0.767067    \n",
       "S35.day     -1.32609    2.82400  -0.470 0.638860    \n",
       "S36.day     -0.33696    2.82400  -0.119 0.905070    \n",
       "S37.day     -0.75000    2.82400  -0.266 0.790671    \n",
       "S38.day      1.19565    2.82400   0.423 0.672191    \n",
       "S39.day     -2.77174    2.82400  -0.981 0.326820    \n",
       "S40.day      0.13043    2.82400   0.046 0.963179    \n",
       "S41.day     -1.13043    2.82400  -0.400 0.689108    \n",
       "S42.day      2.15217    2.82400   0.762 0.446356    \n",
       "S43.day      1.32609    2.82400   0.470 0.638860    \n",
       "S44.day      3.40217    2.82400   1.205 0.228870    \n",
       "S45.day      3.16304    2.82400   1.120 0.263222    \n",
       "S46.day      0.13043    2.82400   0.046 0.963179    \n",
       "S47.day     -1.65217    2.82400  -0.585 0.558777    \n",
       "S48.day     -2.93478    2.82400  -1.039 0.299196    \n",
       "S49.day     -5.26087    2.82400  -1.863 0.063056 .  \n",
       "S50.day     -7.01087    2.82400  -2.483 0.013367 *  \n",
       "S51.day     -7.02174    2.82400  -2.486 0.013225 *  \n",
       "S52.day     -2.98913    2.82400  -1.058 0.290346    \n",
       "S53.day      0.56522    2.82400   0.200 0.841446    \n",
       "S54.day     -3.33696    2.82400  -1.182 0.237905    \n",
       "S55.day     -2.27174    2.82400  -0.804 0.421522    \n",
       "S56.day     -5.29348    2.82400  -1.874 0.061445 .  \n",
       "S57.day     -1.92391    2.82400  -0.681 0.496012    \n",
       "S58.day     -2.51087    2.82400  -0.889 0.374363    \n",
       "S59.day     -0.56522    2.82400  -0.200 0.841446    \n",
       "S60.day      0.16304    2.82400   0.058 0.953983    \n",
       "S61.day     -1.00000    2.82400  -0.354 0.723406    \n",
       "S62.day     -0.54348    2.82400  -0.192 0.847467    \n",
       "---\n",
       "Signif. codes:  0 '***' 0.001 '**' 0.01 '*' 0.05 '.' 0.1 ' ' 1\n",
       "\n",
       "Residual standard error: 8.566 on 504 degrees of freedom\n",
       "Multiple R-squared:  0.8702,\tAdjusted R-squared:  0.838 \n",
       "F-statistic: 27.03 on 125 and 504 DF,  p-value: < 2.2e-16\n"
      ]
     },
     "metadata": {},
     "output_type": "display_data"
    }
   ],
   "source": [
    "model<-lm(demand~.,trainingdata)\n",
    "\n",
    "summary(model)"
   ]
  },
  {
   "cell_type": "code",
   "execution_count": 229,
   "metadata": {
    "ExecuteTime": {
     "end_time": "2018-12-30T22:16:05.719113Z",
     "start_time": "2018-12-30T22:16:05.467Z"
    },
    "scrolled": false
   },
   "outputs": [
    {
     "data": {
      "image/png": "[encoded data removed]",
      "text/plain": [
       "Plot with title \"Model evaluated on timeseries\""
      ]
     },
     "metadata": {},
     "output_type": "display_data"
    },
    {
     "data": {
      "image/png": "[encoded data removed]",
      "text/plain": [
       "Plot with title \"Auto correlation of timeseries\""
      ]
     },
     "metadata": {},
     "output_type": "display_data"
    },
    {
     "data": {
      "image/png": "[encoded data removed]",
      "text/plain": [
       "Plot with title \"Auto correlation of model residuals\""
      ]
     },
     "metadata": {},
     "output_type": "display_data"
    },
    {
     "data": {
      "image/png": "[encoded data removed]",
      "text/plain": [
       "Plot with title \"Model residuals\""
      ]
     },
     "metadata": {},
     "output_type": "display_data"
    },
    {
     "data": {
      "image/png": "[encoded data removed]",
      "text/plain": [
       "Plot with title \"QQ plot of model residuals\""
      ]
     },
     "metadata": {},
     "output_type": "display_data"
    }
   ],
   "source": [
    "#coefficients(model)\n",
    "coef<-coefficients(model)\n",
    "plot(trainingdata$demand,main='Model evaluated on timeseries',type='l')\n",
    "lines(model$fitted, lwd = 1,col='red')\n",
    "\n",
    "#model testing\n",
    "Acf(timeseries.weekday,main='Auto correlation of timeseries')\n",
    "Acf(resid(model),main='Auto correlation of model residuals')\n",
    "plot(resid(model),main='Model residuals')\n",
    "qqnorm(resid(model),main='QQ plot of model residuals')\n",
    "qqline(resid(model))"
   ]
  },
  {
   "cell_type": "markdown",
   "metadata": {},
   "source": [
    "### Evaluation and predictions"
   ]
  },
  {
   "cell_type": "code",
   "execution_count": 230,
   "metadata": {
    "ExecuteTime": {
     "end_time": "2018-12-30T22:16:43.441445Z",
     "start_time": "2018-12-30T22:16:43.410Z"
    }
   },
   "outputs": [
    {
     "data": {
      "text/html": [
       "<table>\n",
       "<thead><tr><th scope=col>ones</th><th scope=col>daynumber</th><th scope=col>S1</th><th scope=col>S2</th><th scope=col>S3</th><th scope=col>S4</th><th scope=col>S5</th><th scope=col>S6</th><th scope=col>S7</th><th scope=col>S8</th><th scope=col>...</th><th scope=col>S53.day</th><th scope=col>S54.day</th><th scope=col>S55.day</th><th scope=col>S56.day</th><th scope=col>S57.day</th><th scope=col>S58.day</th><th scope=col>S59.day</th><th scope=col>S60.day</th><th scope=col>S61.day</th><th scope=col>S62.day</th></tr></thead>\n",
       "<tbody>\n",
       "\t<tr><td>1  </td><td>2  </td><td>1  </td><td>0  </td><td>0  </td><td>0  </td><td>0  </td><td>0  </td><td>0  </td><td>0  </td><td>...</td><td>0  </td><td>0  </td><td>0  </td><td>0  </td><td>0  </td><td>0  </td><td>0  </td><td>0  </td><td>0  </td><td>0  </td></tr>\n",
       "\t<tr><td>1  </td><td>2  </td><td>0  </td><td>1  </td><td>0  </td><td>0  </td><td>0  </td><td>0  </td><td>0  </td><td>0  </td><td>...</td><td>0  </td><td>0  </td><td>0  </td><td>0  </td><td>0  </td><td>0  </td><td>0  </td><td>0  </td><td>0  </td><td>0  </td></tr>\n",
       "\t<tr><td>1  </td><td>2  </td><td>0  </td><td>0  </td><td>1  </td><td>0  </td><td>0  </td><td>0  </td><td>0  </td><td>0  </td><td>...</td><td>0  </td><td>0  </td><td>0  </td><td>0  </td><td>0  </td><td>0  </td><td>0  </td><td>0  </td><td>0  </td><td>0  </td></tr>\n",
       "\t<tr><td>1  </td><td>2  </td><td>0  </td><td>0  </td><td>0  </td><td>1  </td><td>0  </td><td>0  </td><td>0  </td><td>0  </td><td>...</td><td>0  </td><td>0  </td><td>0  </td><td>0  </td><td>0  </td><td>0  </td><td>0  </td><td>0  </td><td>0  </td><td>0  </td></tr>\n",
       "\t<tr><td>1  </td><td>2  </td><td>0  </td><td>0  </td><td>0  </td><td>0  </td><td>1  </td><td>0  </td><td>0  </td><td>0  </td><td>...</td><td>0  </td><td>0  </td><td>0  </td><td>0  </td><td>0  </td><td>0  </td><td>0  </td><td>0  </td><td>0  </td><td>0  </td></tr>\n",
       "\t<tr><td>1  </td><td>2  </td><td>0  </td><td>0  </td><td>0  </td><td>0  </td><td>0  </td><td>1  </td><td>0  </td><td>0  </td><td>...</td><td>0  </td><td>0  </td><td>0  </td><td>0  </td><td>0  </td><td>0  </td><td>0  </td><td>0  </td><td>0  </td><td>0  </td></tr>\n",
       "</tbody>\n",
       "</table>\n"
      ],
      "text/latex": [
       "\\begin{tabular}{r|llllllllllllllllllllllllllllllllllllllllllllllllllllllllllllllllllllllllllllllllllllllllllllllllllllllllllllllllllllllllllllll}\n",
       " ones & daynumber & S1 & S2 & S3 & S4 & S5 & S6 & S7 & S8 & ... & S53.day & S54.day & S55.day & S56.day & S57.day & S58.day & S59.day & S60.day & S61.day & S62.day\\\\\n",
       "\\hline\n",
       "\t 1   & 2   & 1   & 0   & 0   & 0   & 0   & 0   & 0   & 0   & ... & 0   & 0   & 0   & 0   & 0   & 0   & 0   & 0   & 0   & 0  \\\\\n",
       "\t 1   & 2   & 0   & 1   & 0   & 0   & 0   & 0   & 0   & 0   & ... & 0   & 0   & 0   & 0   & 0   & 0   & 0   & 0   & 0   & 0  \\\\\n",
       "\t 1   & 2   & 0   & 0   & 1   & 0   & 0   & 0   & 0   & 0   & ... & 0   & 0   & 0   & 0   & 0   & 0   & 0   & 0   & 0   & 0  \\\\\n",
       "\t 1   & 2   & 0   & 0   & 0   & 1   & 0   & 0   & 0   & 0   & ... & 0   & 0   & 0   & 0   & 0   & 0   & 0   & 0   & 0   & 0  \\\\\n",
       "\t 1   & 2   & 0   & 0   & 0   & 0   & 1   & 0   & 0   & 0   & ... & 0   & 0   & 0   & 0   & 0   & 0   & 0   & 0   & 0   & 0  \\\\\n",
       "\t 1   & 2   & 0   & 0   & 0   & 0   & 0   & 1   & 0   & 0   & ... & 0   & 0   & 0   & 0   & 0   & 0   & 0   & 0   & 0   & 0  \\\\\n",
       "\\end{tabular}\n"
      ],
      "text/markdown": [
       "\n",
       "ones | daynumber | S1 | S2 | S3 | S4 | S5 | S6 | S7 | S8 | ... | S53.day | S54.day | S55.day | S56.day | S57.day | S58.day | S59.day | S60.day | S61.day | S62.day | \n",
       "|---|---|---|---|---|---|\n",
       "| 1   | 2   | 1   | 0   | 0   | 0   | 0   | 0   | 0   | 0   | ... | 0   | 0   | 0   | 0   | 0   | 0   | 0   | 0   | 0   | 0   | \n",
       "| 1   | 2   | 0   | 1   | 0   | 0   | 0   | 0   | 0   | 0   | ... | 0   | 0   | 0   | 0   | 0   | 0   | 0   | 0   | 0   | 0   | \n",
       "| 1   | 2   | 0   | 0   | 1   | 0   | 0   | 0   | 0   | 0   | ... | 0   | 0   | 0   | 0   | 0   | 0   | 0   | 0   | 0   | 0   | \n",
       "| 1   | 2   | 0   | 0   | 0   | 1   | 0   | 0   | 0   | 0   | ... | 0   | 0   | 0   | 0   | 0   | 0   | 0   | 0   | 0   | 0   | \n",
       "| 1   | 2   | 0   | 0   | 0   | 0   | 1   | 0   | 0   | 0   | ... | 0   | 0   | 0   | 0   | 0   | 0   | 0   | 0   | 0   | 0   | \n",
       "| 1   | 2   | 0   | 0   | 0   | 0   | 0   | 1   | 0   | 0   | ... | 0   | 0   | 0   | 0   | 0   | 0   | 0   | 0   | 0   | 0   | \n",
       "\n",
       "\n"
      ],
      "text/plain": [
       "  ones daynumber S1 S2 S3 S4 S5 S6 S7 S8 ... S53.day S54.day S55.day S56.day\n",
       "1 1    2         1  0  0  0  0  0  0  0  ... 0       0       0       0      \n",
       "2 1    2         0  1  0  0  0  0  0  0  ... 0       0       0       0      \n",
       "3 1    2         0  0  1  0  0  0  0  0  ... 0       0       0       0      \n",
       "4 1    2         0  0  0  1  0  0  0  0  ... 0       0       0       0      \n",
       "5 1    2         0  0  0  0  1  0  0  0  ... 0       0       0       0      \n",
       "6 1    2         0  0  0  0  0  1  0  0  ... 0       0       0       0      \n",
       "  S57.day S58.day S59.day S60.day S61.day S62.day\n",
       "1 0       0       0       0       0       0      \n",
       "2 0       0       0       0       0       0      \n",
       "3 0       0       0       0       0       0      \n",
       "4 0       0       0       0       0       0      \n",
       "5 0       0       0       0       0       0      \n",
       "6 0       0       0       0       0       0      "
      ]
     },
     "metadata": {},
     "output_type": "display_data"
    },
    {
     "data": {
      "text/html": [
       "<ol class=list-inline>\n",
       "\t<li>945</li>\n",
       "\t<li>126</li>\n",
       "</ol>\n"
      ],
      "text/latex": [
       "\\begin{enumerate*}\n",
       "\\item 945\n",
       "\\item 126\n",
       "\\end{enumerate*}\n"
      ],
      "text/markdown": [
       "1. 945\n",
       "2. 126\n",
       "\n",
       "\n"
      ],
      "text/plain": [
       "[1] 945 126"
      ]
     },
     "metadata": {},
     "output_type": "display_data"
    }
   ],
   "source": [
    "#We create a new dataframe to make the model calculation easier below\n",
    "ones<-rep(1,945)\n",
    "#we remove the demand column since thats what we predict and we replace it with ones\n",
    "#so they are multiplied by the intercept coefficient\n",
    "final.model.data<-data.frame(ones,model.data.weekday[,-1])\n",
    "\n",
    "\n",
    "head(final.model.data)\n",
    "dim(final.model.data)"
   ]
  },
  {
   "cell_type": "code",
   "execution_count": 231,
   "metadata": {
    "ExecuteTime": {
     "end_time": "2018-12-30T22:16:47.894056Z",
     "start_time": "2018-12-30T22:16:47.820Z"
    }
   },
   "outputs": [
    {
     "data": {
      "image/png": "[encoded data removed]",
      "text/plain": [
       "plot without title"
      ]
     },
     "metadata": {},
     "output_type": "display_data"
    }
   ],
   "source": [
    "#coefficients(model)\n",
    "coef<-coefficients(model)\n",
    "\n",
    "mymodel = rowSums(mapply(\"*\", as.data.frame(final.model.data),coef))\n",
    "\n",
    "plot(weekday.data$demand,type='l')\n",
    "lines(mymodel,lwd = 1,col='red')"
   ]
  },
  {
   "cell_type": "code",
   "execution_count": 239,
   "metadata": {
    "ExecuteTime": {
     "end_time": "2018-12-30T22:20:56.550457Z",
     "start_time": "2018-12-30T22:20:56.526Z"
    }
   },
   "outputs": [
    {
     "data": {
      "text/html": [
       "0.481758427208811"
      ],
      "text/latex": [
       "0.481758427208811"
      ],
      "text/markdown": [
       "0.481758427208811"
      ],
      "text/plain": [
       "[1] 0.4817584"
      ]
     },
     "metadata": {},
     "output_type": "display_data"
    }
   ],
   "source": [
    "actual.demand<-validation.weekday$demand\n",
    "predicted.demand<-mymodel[631:945]\n",
    "\n",
    "residuals<-actual.demand-predicted.demand\n",
    "\n",
    "#Adjusted R-Squared\n",
    "n=length(actual.demand)\n",
    "k=126-1 #Subtract one to ignore intercept\n",
    "SSE=sum(residuals**2)\n",
    "SSyy=sum((actual.demand-mean(actual.demand))**2)\n",
    "1-(SSE/SSyy)*(n-1)/(n-(k+1))"
   ]
  },
  {
   "cell_type": "code",
   "execution_count": 240,
   "metadata": {
    "ExecuteTime": {
     "end_time": "2018-12-30T22:21:22.892243Z",
     "start_time": "2018-12-30T22:21:22.839Z"
    }
   },
   "outputs": [
    {
     "data": {
      "image/png": "[encoded data removed]",
      "text/plain": [
       "plot without title"
      ]
     },
     "metadata": {},
     "output_type": "display_data"
    }
   ],
   "source": [
    "plot(residuals)"
   ]
  },
  {
   "cell_type": "code",
   "execution_count": 242,
   "metadata": {
    "ExecuteTime": {
     "end_time": "2018-12-30T22:22:46.722363Z",
     "start_time": "2018-12-30T22:22:46.695Z"
    }
   },
   "outputs": [
    {
     "data": {
      "text/html": [
       "0.870215549491268"
      ],
      "text/latex": [
       "0.870215549491268"
      ],
      "text/markdown": [
       "0.870215549491268"
      ],
      "text/plain": [
       "[1] 0.8702155"
      ]
     },
     "metadata": {},
     "output_type": "display_data"
    }
   ],
   "source": [
    "#ON TRAIN\n",
    "actual.demand<-training.weekday$demand\n",
    "predicted.demand<-mymodel[1:630]\n",
    "\n",
    "residuals<-actual.demand-predicted.demand\n",
    "\n",
    "#Adjusted R-Squared\n",
    "n=length(actual.demand)\n",
    "k=126-1 #Subtract one to ignore intercept\n",
    "\n",
    "SSE=sum(residuals**2)\n",
    "SSyy=sum((actual.demand-mean(actual.demand))**2)\n",
    "1-(SSE/SSyy)"
   ]
  },
  {
   "cell_type": "markdown",
   "metadata": {},
   "source": [
    "# Summary"
   ]
  },
  {
   "cell_type": "markdown",
   "metadata": {},
   "source": [
    "It turns out that this model performs worse than our original one."
   ]
  },
  {
   "cell_type": "code",
   "execution_count": 272,
   "metadata": {
    "ExecuteTime": {
     "end_time": "2018-12-31T01:30:15.501344Z",
     "start_time": "2018-12-31T01:30:15.485Z"
    }
   },
   "outputs": [],
   "source": [
    "library('RSNNS')"
   ]
  },
  {
   "cell_type": "code",
   "execution_count": 280,
   "metadata": {
    "ExecuteTime": {
     "end_time": "2018-12-31T01:34:15.398109Z",
     "start_time": "2018-12-31T01:34:15.013Z"
    }
   },
   "outputs": [
    {
     "name": "stdout",
     "output_type": "stream",
     "text": [
      "Class: mlp->rsnns\n",
      "Number of inputs: 125 \n",
      "Number of outputs: 1 \n",
      "Maximal iterations: 100 \n",
      "Initialization function: Randomize_Weights \n",
      "Initialization function parameters: -0.3 0.3 \n",
      "Learning function: Std_Backpropagation \n",
      "Learning function parameters: 0.2 0 \n",
      "Update function:Topological_Order\n",
      "Update function parameters: 0 \n",
      "Patterns are shuffled internally: TRUE \n",
      "Compute error in every iteration: TRUE \n",
      "Architecture Parameters:\n",
      "$size\n",
      "[1] 5\n",
      "\n",
      "All members of model:\n",
      " [1] \"nInputs\"               \"maxit\"                 \"initFunc\"             \n",
      " [4] \"initFuncParams\"        \"learnFunc\"             \"learnFuncParams\"      \n",
      " [7] \"updateFunc\"            \"updateFuncParams\"      \"shufflePatterns\"      \n",
      "[10] \"computeIterativeError\" \"snnsObject\"            \"archParams\"           \n",
      "[13] \"IterativeFitError\"     \"fitted.values\"         \"nOutputs\"             \n"
     ]
    }
   ],
   "source": [
    "# Fit MLP\n",
    "mlp.fit <- mlp(model.data.weekday[-1],model.data.weekday[1])\n",
    "#plot(mlp.fit)\n",
    "print(mlp.fit)"
   ]
  },
  {
   "cell_type": "code",
   "execution_count": 283,
   "metadata": {
    "ExecuteTime": {
     "end_time": "2018-12-31T01:36:36.383837Z",
     "start_time": "2018-12-31T01:36:36.366Z"
    }
   },
   "outputs": [
    {
     "ename": "ERROR",
     "evalue": "Error in is.constant(y): (list) object cannot be coerced to type 'double'\n",
     "output_type": "error",
     "traceback": [
      "Error in is.constant(y): (list) object cannot be coerced to type 'double'\nTraceback:\n",
      "1. forecast(mlp.fit)",
      "2. forecast.default(mlp.fit)",
      "3. forecast.ts(object, ...)",
      "4. forecast(ets(object, lambda = lambda, biasadj = biasadj, allow.multiplicative.trend = allow.multiplicative.trend, \n .     ...), h = h, level = level, fan = fan)",
      "5. ets(object, lambda = lambda, biasadj = biasadj, allow.multiplicative.trend = allow.multiplicative.trend, \n .     ...)",
      "6. is.constant(y)"
     ]
    }
   ],
   "source": [
    "mlp.frc <- forecast(mlp.fit)\n",
    "plot(mlp.frc)"
   ]
  }
 ],
 "metadata": {
  "kernelspec": {
   "display_name": "R",
   "language": "R",
   "name": "ir"
  },
  "language_info": {
   "codemirror_mode": "r",
   "file_extension": ".r",
   "mimetype": "text/x-r-source",
   "name": "R",
   "pygments_lexer": "r",
   "version": "3.5.1"
  },
  "latex_envs": {
   "LaTeX_envs_menu_present": true,
   "autoclose": false,
   "autocomplete": true,
   "bibliofile": "biblio.bib",
   "cite_by": "apalike",
   "current_citInitial": 1,
   "eqLabelWithNumbers": true,
   "eqNumInitial": 1,
   "hotkeys": {
    "equation": "Ctrl-E",
    "itemize": "Ctrl-I"
   },
   "labels_anchors": false,
   "latex_user_defs": false,
   "report_style_numbering": false,
   "user_envs_cfg": false
  },
  "toc": {
   "base_numbering": 1,
   "nav_menu": {},
   "number_sections": true,
   "sideBar": true,
   "skip_h1_title": false,
   "title_cell": "Table of Contents",
   "title_sidebar": "Contents",
   "toc_cell": false,
   "toc_position": {
    "height": "calc(100% - 180px)",
    "left": "10px",
    "top": "150px",
    "width": "384px"
   },
   "toc_section_display": true,
   "toc_window_display": true
  },
  "varInspector": {
   "cols": {
    "lenName": 16,
    "lenType": 16,
    "lenVar": 40
   },
   "kernels_config": {
    "python": {
     "delete_cmd_postfix": "",
     "delete_cmd_prefix": "del ",
     "library": "var_list.py",
     "varRefreshCmd": "print(var_dic_list())"
    },
    "r": {
     "delete_cmd_postfix": ") ",
     "delete_cmd_prefix": "rm(",
     "library": "var_list.r",
     "varRefreshCmd": "cat(var_dic_list()) "
    }
   },
   "types_to_exclude": [
    "module",
    "function",
    "builtin_function_or_method",
    "instance",
    "_Feature"
   ],
   "window_display": false
  }
 },
 "nbformat": 4,
 "nbformat_minor": 2
}

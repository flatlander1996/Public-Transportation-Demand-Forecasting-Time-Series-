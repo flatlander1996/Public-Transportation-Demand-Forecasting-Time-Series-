{
 "cells": [
  {
   "cell_type": "markdown",
   "metadata": {},
   "source": [
    "**In this notebook we experimented with different season partitioning.The results were poor though.**"
   ]
  },
  {
   "cell_type": "code",
   "execution_count": 4,
   "metadata": {
    "ExecuteTime": {
     "end_time": "2018-12-29T14:24:48.976259Z",
     "start_time": "2018-12-29T14:24:48.919Z"
    }
   },
   "outputs": [
    {
     "data": {
      "text/html": [
       "'C'"
      ],
      "text/latex": [
       "'C'"
      ],
      "text/markdown": [
       "'C'"
      ],
      "text/plain": [
       "[1] \"C\""
      ]
     },
     "metadata": {},
     "output_type": "display_data"
    }
   ],
   "source": [
    "library(lubridate)  #work with dates\n",
    "library(xts)\n",
    "library(forecast)\n",
    "lct <- Sys.getlocale(\"LC_TIME\"); Sys.setlocale(\"LC_TIME\", \"C\") #needed for as.POSIXct"
   ]
  },
  {
   "cell_type": "code",
   "execution_count": 5,
   "metadata": {
    "ExecuteTime": {
     "end_time": "2018-12-29T14:24:49.337217Z",
     "start_time": "2018-12-29T14:24:49.313Z"
    }
   },
   "outputs": [
    {
     "data": {
      "text/html": [
       "<table>\n",
       "<thead><tr><th scope=col>DATE</th><th scope=col>TIME</th><th scope=col>DEMAND</th></tr></thead>\n",
       "<tbody>\n",
       "\t<tr><td>1-Mar-05</td><td>6:30    </td><td> 1      </td></tr>\n",
       "\t<tr><td>1-Mar-05</td><td>6:45    </td><td> 2      </td></tr>\n",
       "\t<tr><td>1-Mar-05</td><td>7:00    </td><td> 4      </td></tr>\n",
       "\t<tr><td>1-Mar-05</td><td>7:15    </td><td> 0      </td></tr>\n",
       "\t<tr><td>1-Mar-05</td><td>7:30    </td><td>10      </td></tr>\n",
       "\t<tr><td>1-Mar-05</td><td>7:45    </td><td>13      </td></tr>\n",
       "</tbody>\n",
       "</table>\n"
      ],
      "text/latex": [
       "\\begin{tabular}{r|lll}\n",
       " DATE & TIME & DEMAND\\\\\n",
       "\\hline\n",
       "\t 1-Mar-05 & 6:30     &  1      \\\\\n",
       "\t 1-Mar-05 & 6:45     &  2      \\\\\n",
       "\t 1-Mar-05 & 7:00     &  4      \\\\\n",
       "\t 1-Mar-05 & 7:15     &  0      \\\\\n",
       "\t 1-Mar-05 & 7:30     & 10      \\\\\n",
       "\t 1-Mar-05 & 7:45     & 13      \\\\\n",
       "\\end{tabular}\n"
      ],
      "text/markdown": [
       "\n",
       "DATE | TIME | DEMAND | \n",
       "|---|---|---|---|---|---|\n",
       "| 1-Mar-05 | 6:30     |  1       | \n",
       "| 1-Mar-05 | 6:45     |  2       | \n",
       "| 1-Mar-05 | 7:00     |  4       | \n",
       "| 1-Mar-05 | 7:15     |  0       | \n",
       "| 1-Mar-05 | 7:30     | 10       | \n",
       "| 1-Mar-05 | 7:45     | 13       | \n",
       "\n",
       "\n"
      ],
      "text/plain": [
       "  DATE     TIME DEMAND\n",
       "1 1-Mar-05 6:30  1    \n",
       "2 1-Mar-05 6:45  2    \n",
       "3 1-Mar-05 7:00  4    \n",
       "4 1-Mar-05 7:15  0    \n",
       "5 1-Mar-05 7:30 10    \n",
       "6 1-Mar-05 7:45 13    "
      ]
     },
     "metadata": {},
     "output_type": "display_data"
    },
    {
     "data": {
      "text/html": [
       "<ol class=list-inline>\n",
       "\t<li>1512</li>\n",
       "\t<li>3</li>\n",
       "</ol>\n"
      ],
      "text/latex": [
       "\\begin{enumerate*}\n",
       "\\item 1512\n",
       "\\item 3\n",
       "\\end{enumerate*}\n"
      ],
      "text/markdown": [
       "1. 1512\n",
       "2. 3\n",
       "\n",
       "\n"
      ],
      "text/plain": [
       "[1] 1512    3"
      ]
     },
     "metadata": {},
     "output_type": "display_data"
    }
   ],
   "source": [
    "data <- read.csv('bicup2006.csv',sep=',')\n",
    "head(data)\n",
    "dim(data)"
   ]
  },
  {
   "cell_type": "code",
   "execution_count": 41,
   "metadata": {
    "ExecuteTime": {
     "end_time": "2018-12-29T14:38:45.503735Z",
     "start_time": "2018-12-29T14:38:45.482Z"
    }
   },
   "outputs": [],
   "source": [
    "daytype<-rep(\"weekday\",1512)\n",
    "daytype[253:378]<-\"weekend\"\n",
    "daytype[694:819]<-\"weekend\"\n",
    "daytype[1135:1260]<-\"weekend\"\n",
    "dtype<-rep(1,1512)\n",
    "dtype[which(daytype==\"weekend\")]<-0\n",
    "\n",
    "\n",
    "myseason<-rep(c(rep(1,16),rep(2,16),rep(3,15),rep(4,16)),24)"
   ]
  },
  {
   "cell_type": "code",
   "execution_count": 42,
   "metadata": {
    "ExecuteTime": {
     "end_time": "2018-12-29T14:38:49.251877Z",
     "start_time": "2018-12-29T14:38:49.212Z"
    }
   },
   "outputs": [
    {
     "data": {
      "text/html": [
       "<table>\n",
       "<thead><tr><th scope=col>date.and.time</th><th scope=col>demand</th><th scope=col>daytype</th><th scope=col>myseason</th><th scope=col>dtype</th></tr></thead>\n",
       "<tbody>\n",
       "\t<tr><td>2005-03-01 06:30:00</td><td> 1                 </td><td>weekday            </td><td>1                  </td><td>1                  </td></tr>\n",
       "\t<tr><td>2005-03-01 06:45:00</td><td> 2                 </td><td>weekday            </td><td>1                  </td><td>1                  </td></tr>\n",
       "\t<tr><td>2005-03-01 07:00:00</td><td> 4                 </td><td>weekday            </td><td>1                  </td><td>1                  </td></tr>\n",
       "\t<tr><td>2005-03-01 07:15:00</td><td> 0                 </td><td>weekday            </td><td>1                  </td><td>1                  </td></tr>\n",
       "\t<tr><td>2005-03-01 07:30:00</td><td>10                 </td><td>weekday            </td><td>1                  </td><td>1                  </td></tr>\n",
       "\t<tr><td>2005-03-01 07:45:00</td><td>13                 </td><td>weekday            </td><td>1                  </td><td>1                  </td></tr>\n",
       "</tbody>\n",
       "</table>\n"
      ],
      "text/latex": [
       "\\begin{tabular}{r|lllll}\n",
       " date.and.time & demand & daytype & myseason & dtype\\\\\n",
       "\\hline\n",
       "\t 2005-03-01 06:30:00 &  1                  & weekday             & 1                   & 1                  \\\\\n",
       "\t 2005-03-01 06:45:00 &  2                  & weekday             & 1                   & 1                  \\\\\n",
       "\t 2005-03-01 07:00:00 &  4                  & weekday             & 1                   & 1                  \\\\\n",
       "\t 2005-03-01 07:15:00 &  0                  & weekday             & 1                   & 1                  \\\\\n",
       "\t 2005-03-01 07:30:00 & 10                  & weekday             & 1                   & 1                  \\\\\n",
       "\t 2005-03-01 07:45:00 & 13                  & weekday             & 1                   & 1                  \\\\\n",
       "\\end{tabular}\n"
      ],
      "text/markdown": [
       "\n",
       "date.and.time | demand | daytype | myseason | dtype | \n",
       "|---|---|---|---|---|---|\n",
       "| 2005-03-01 06:30:00 |  1                  | weekday             | 1                   | 1                   | \n",
       "| 2005-03-01 06:45:00 |  2                  | weekday             | 1                   | 1                   | \n",
       "| 2005-03-01 07:00:00 |  4                  | weekday             | 1                   | 1                   | \n",
       "| 2005-03-01 07:15:00 |  0                  | weekday             | 1                   | 1                   | \n",
       "| 2005-03-01 07:30:00 | 10                  | weekday             | 1                   | 1                   | \n",
       "| 2005-03-01 07:45:00 | 13                  | weekday             | 1                   | 1                   | \n",
       "\n",
       "\n"
      ],
      "text/plain": [
       "  date.and.time       demand daytype myseason dtype\n",
       "1 2005-03-01 06:30:00  1     weekday 1        1    \n",
       "2 2005-03-01 06:45:00  2     weekday 1        1    \n",
       "3 2005-03-01 07:00:00  4     weekday 1        1    \n",
       "4 2005-03-01 07:15:00  0     weekday 1        1    \n",
       "5 2005-03-01 07:30:00 10     weekday 1        1    \n",
       "6 2005-03-01 07:45:00 13     weekday 1        1    "
      ]
     },
     "metadata": {},
     "output_type": "display_data"
    },
    {
     "data": {
      "text/html": [
       "<ol class=list-inline>\n",
       "\t<li>1512</li>\n",
       "\t<li>5</li>\n",
       "</ol>\n"
      ],
      "text/latex": [
       "\\begin{enumerate*}\n",
       "\\item 1512\n",
       "\\item 5\n",
       "\\end{enumerate*}\n"
      ],
      "text/markdown": [
       "1. 1512\n",
       "2. 5\n",
       "\n",
       "\n"
      ],
      "text/plain": [
       "[1] 1512    5"
      ]
     },
     "metadata": {},
     "output_type": "display_data"
    }
   ],
   "source": [
    "date.and.time<-paste(data$DATE,data$TIME) #combine date and time in one column\n",
    "posix.date<-as.POSIXct(date.and.time,format=\"%d-%b-%y %H:%M\")\n",
    "#create new dataframe with columns posix.date and demand\n",
    "newdata<-data.frame(posix.date,data$DEMAND,daytype,myseason,dtype)\n",
    "names(newdata)<-c('date.and.time','demand','daytype','myseason','dtype')\n",
    "head(newdata)\n",
    "dim(newdata)"
   ]
  },
  {
   "cell_type": "code",
   "execution_count": 43,
   "metadata": {
    "ExecuteTime": {
     "end_time": "2018-12-29T14:38:50.936047Z",
     "start_time": "2018-12-29T14:38:50.875Z"
    },
    "scrolled": false
   },
   "outputs": [
    {
     "data": {
      "image/png": "[encoded data removed]",
      "text/plain": [
       "plot without title"
      ]
     },
     "metadata": {},
     "output_type": "display_data"
    }
   ],
   "source": [
    "#indexes for first two weeks\n",
    "training.set<-newdata[1:(14*63),]\n",
    "#indexes for last week\n",
    "validation.set<-newdata[((14*63)+1):(21*63),]\n",
    "#indexes for last 3 days\n",
    "future.set<-newdata[((21*63)+1):dim(newdata)[1],]\n",
    "plot(training.set$demand,type='l')"
   ]
  },
  {
   "cell_type": "code",
   "execution_count": 44,
   "metadata": {
    "ExecuteTime": {
     "end_time": "2018-12-29T14:38:51.696391Z",
     "start_time": "2018-12-29T14:38:51.676Z"
    }
   },
   "outputs": [
    {
     "data": {
      "text/plain": [
       "15 minute periodicity from 2005-03-01 06:30:00 to 2005-03-24 22:00:00 "
      ]
     },
     "metadata": {},
     "output_type": "display_data"
    }
   ],
   "source": [
    "newdata.xts = xts(coredata(newdata$demand), order.by=as.POSIXct(newdata$date.and.time))\n",
    "attr(newdata.xts,\"frequency\")<-4\n",
    "periodicity(newdata.xts)\n",
    "total_timeseries<-as.ts(newdata.xts)"
   ]
  },
  {
   "cell_type": "code",
   "execution_count": 45,
   "metadata": {
    "ExecuteTime": {
     "end_time": "2018-12-29T14:38:54.052056Z",
     "start_time": "2018-12-29T14:38:54.029Z"
    }
   },
   "outputs": [],
   "source": [
    "#dummy vars\n",
    "S1<-rep(0,1512)\n",
    "S2<-rep(0,1512)\n",
    "S3<-rep(0,1512)\n",
    "S4<-rep(0,1512)\n",
    "S1[which(myseason==1)]=1\n",
    "S2[which(myseason==2)]=1\n",
    "S3[which(myseason==3)]=1\n",
    "S4[which(myseason==4)]=1\n",
    "\n",
    "seasonal_data<-data.frame(newdata,S1,S2,S3,S4)"
   ]
  },
  {
   "cell_type": "code",
   "execution_count": 46,
   "metadata": {
    "ExecuteTime": {
     "end_time": "2018-12-29T14:38:54.687103Z",
     "start_time": "2018-12-29T14:38:54.667Z"
    }
   },
   "outputs": [
    {
     "data": {
      "text/plain": [
       "15 minute periodicity from 2005-03-01 06:30:00 to 2005-03-14 22:00:00 "
      ]
     },
     "metadata": {},
     "output_type": "display_data"
    }
   ],
   "source": [
    "my.xts = xts(coredata(training.set$demand), order.by=as.POSIXct(training.set$date.and.time))\n",
    "attr(my.xts,\"frequency\")<-4\n",
    "periodicity(my.xts)\n",
    "timeseries<-as.ts(my.xts)"
   ]
  },
  {
   "cell_type": "code",
   "execution_count": 123,
   "metadata": {
    "ExecuteTime": {
     "end_time": "2018-12-29T15:09:25.038145Z",
     "start_time": "2018-12-29T15:09:25.015Z"
    }
   },
   "outputs": [
    {
     "data": {
      "text/plain": [
       "\n",
       "Call:\n",
       "tslm(formula = timeseries ~ dtype[1:882] * (seasonal_data[1:882, \n",
       "    5 + 1] + seasonal_data[1:882, 5 + 2] + seasonal_data[1:882, \n",
       "    5 + 3]))\n",
       "\n",
       "Residuals:\n",
       "    Min      1Q  Median      3Q     Max \n",
       "-45.831  -5.625  -0.692   5.319  87.169 \n",
       "\n",
       "Coefficients:\n",
       "                                         Estimate Std. Error t value Pr(>|t|)\n",
       "(Intercept)                                1.7031     1.7844   0.954 0.340122\n",
       "dtype[1:882]                              47.1281     2.1113  22.321  < 2e-16\n",
       "seasonal_data[1:882, 5 + 1]               -0.4375     2.5235  -0.173 0.862403\n",
       "seasonal_data[1:882, 5 + 2]                2.6250     2.5235   1.040 0.298533\n",
       "seasonal_data[1:882, 5 + 3]                1.4969     2.5653   0.584 0.559695\n",
       "dtype[1:882]:seasonal_data[1:882, 5 + 1] -34.7125     2.9859 -11.625  < 2e-16\n",
       "dtype[1:882]:seasonal_data[1:882, 5 + 2] -11.8312     2.9859  -3.962 8.03e-05\n",
       "dtype[1:882]:seasonal_data[1:882, 5 + 3] -11.8015     3.0353  -3.888 0.000109\n",
       "                                            \n",
       "(Intercept)                                 \n",
       "dtype[1:882]                             ***\n",
       "seasonal_data[1:882, 5 + 1]                 \n",
       "seasonal_data[1:882, 5 + 2]                 \n",
       "seasonal_data[1:882, 5 + 3]                 \n",
       "dtype[1:882]:seasonal_data[1:882, 5 + 1] ***\n",
       "dtype[1:882]:seasonal_data[1:882, 5 + 2] ***\n",
       "dtype[1:882]:seasonal_data[1:882, 5 + 3] ***\n",
       "---\n",
       "Signif. codes:  0 '***' 0.001 '**' 0.01 '*' 0.05 '.' 0.1 ' ' 1\n",
       "\n",
       "Residual standard error: 14.28 on 874 degrees of freedom\n",
       "Multiple R-squared:  0.6268,\tAdjusted R-squared:  0.6238 \n",
       "F-statistic: 209.7 on 7 and 874 DF,  p-value: < 2.2e-16\n"
      ]
     },
     "metadata": {},
     "output_type": "display_data"
    }
   ],
   "source": [
    "model<-tslm(timeseries ~ dtype[1:882] *(\n",
    "            \n",
    "  seasonal_data[1:882, 5+1 ]\n",
    "  + seasonal_data[1:882, 5+2 ]\n",
    "  + seasonal_data[1:882, 5+3 ]  )        \n",
    "           )\n",
    "\n",
    "summary(model)"
   ]
  },
  {
   "cell_type": "code",
   "execution_count": 124,
   "metadata": {
    "ExecuteTime": {
     "end_time": "2018-12-29T15:09:27.443954Z",
     "start_time": "2018-12-29T15:09:27.379Z"
    }
   },
   "outputs": [
    {
     "data": {
      "image/png": "[encoded data removed]",
      "text/plain": [
       "plot without title"
      ]
     },
     "metadata": {},
     "output_type": "display_data"
    }
   ],
   "source": [
    "#coefficients(model)\n",
    "coef<-coefficients(model)\n",
    "plot(timeseries)\n",
    "lines(model$fitted, lwd = 2,col='blue')"
   ]
  },
  {
   "cell_type": "code",
   "execution_count": 133,
   "metadata": {
    "ExecuteTime": {
     "end_time": "2018-12-29T15:13:35.078167Z",
     "start_time": "2018-12-29T15:13:35.007Z"
    }
   },
   "outputs": [
    {
     "data": {
      "image/png": "[encoded data removed]",
      "text/plain": [
       "plot without title"
      ]
     },
     "metadata": {},
     "output_type": "display_data"
    }
   ],
   "source": [
    "mymodel  = ( coef[1] + coef[2]*dtype + seasonal_data$S1*coef[3] + seasonal_data$S2*coef[4] + seasonal_data$S3*coef[5] \n",
    " + dtype*(seasonal_data$S1*coef[6] + seasonal_data$S2*coef[7] + seasonal_data$S3*coef[8]))\n",
    "\n",
    "plot(newdata$demand,type='l')\n",
    "lines(mymodel,lwd = 2,col='blue')"
   ]
  },
  {
   "cell_type": "code",
   "execution_count": 185,
   "metadata": {
    "ExecuteTime": {
     "end_time": "2018-12-29T16:09:36.025156Z",
     "start_time": "2018-12-29T16:09:36.000Z"
    }
   },
   "outputs": [
    {
     "data": {
      "text/html": [
       "<table>\n",
       "<thead><tr><th scope=col>demand</th><th scope=col>daytype</th><th scope=col>S1</th><th scope=col>S2</th><th scope=col>S3</th><th scope=col>S1.dtype</th><th scope=col>S2.dtype</th><th scope=col>S3.dtype</th></tr></thead>\n",
       "<tbody>\n",
       "\t<tr><td> 1</td><td>1 </td><td>1 </td><td>0 </td><td>0 </td><td>1 </td><td>0 </td><td>0 </td></tr>\n",
       "\t<tr><td> 2</td><td>1 </td><td>1 </td><td>0 </td><td>0 </td><td>1 </td><td>0 </td><td>0 </td></tr>\n",
       "\t<tr><td> 4</td><td>1 </td><td>1 </td><td>0 </td><td>0 </td><td>1 </td><td>0 </td><td>0 </td></tr>\n",
       "\t<tr><td> 0</td><td>1 </td><td>1 </td><td>0 </td><td>0 </td><td>1 </td><td>0 </td><td>0 </td></tr>\n",
       "\t<tr><td>10</td><td>1 </td><td>1 </td><td>0 </td><td>0 </td><td>1 </td><td>0 </td><td>0 </td></tr>\n",
       "\t<tr><td>13</td><td>1 </td><td>1 </td><td>0 </td><td>0 </td><td>1 </td><td>0 </td><td>0 </td></tr>\n",
       "</tbody>\n",
       "</table>\n"
      ],
      "text/latex": [
       "\\begin{tabular}{r|llllllll}\n",
       " demand & daytype & S1 & S2 & S3 & S1.dtype & S2.dtype & S3.dtype\\\\\n",
       "\\hline\n",
       "\t  1 & 1  & 1  & 0  & 0  & 1  & 0  & 0 \\\\\n",
       "\t  2 & 1  & 1  & 0  & 0  & 1  & 0  & 0 \\\\\n",
       "\t  4 & 1  & 1  & 0  & 0  & 1  & 0  & 0 \\\\\n",
       "\t  0 & 1  & 1  & 0  & 0  & 1  & 0  & 0 \\\\\n",
       "\t 10 & 1  & 1  & 0  & 0  & 1  & 0  & 0 \\\\\n",
       "\t 13 & 1  & 1  & 0  & 0  & 1  & 0  & 0 \\\\\n",
       "\\end{tabular}\n"
      ],
      "text/markdown": [
       "\n",
       "demand | daytype | S1 | S2 | S3 | S1.dtype | S2.dtype | S3.dtype | \n",
       "|---|---|---|---|---|---|\n",
       "|  1 | 1  | 1  | 0  | 0  | 1  | 0  | 0  | \n",
       "|  2 | 1  | 1  | 0  | 0  | 1  | 0  | 0  | \n",
       "|  4 | 1  | 1  | 0  | 0  | 1  | 0  | 0  | \n",
       "|  0 | 1  | 1  | 0  | 0  | 1  | 0  | 0  | \n",
       "| 10 | 1  | 1  | 0  | 0  | 1  | 0  | 0  | \n",
       "| 13 | 1  | 1  | 0  | 0  | 1  | 0  | 0  | \n",
       "\n",
       "\n"
      ],
      "text/plain": [
       "  demand daytype S1 S2 S3 S1.dtype S2.dtype S3.dtype\n",
       "1  1     1       1  0  0  1        0        0       \n",
       "2  2     1       1  0  0  1        0        0       \n",
       "3  4     1       1  0  0  1        0        0       \n",
       "4  0     1       1  0  0  1        0        0       \n",
       "5 10     1       1  0  0  1        0        0       \n",
       "6 13     1       1  0  0  1        0        0       "
      ]
     },
     "metadata": {},
     "output_type": "display_data"
    }
   ],
   "source": [
    "modeldata<-data.frame(seasonal_data$demand,seasonal_data$dtype,seasonal_data[,6:8])\n",
    "colnames(modeldata)<-c('demand','daytype',colnames(model_dataframe)[3:5])\n",
    "\n",
    "multdata<-data.frame(modeldata$demand,modeldata$daytype,modeldata[,3:5],modeldata$daytype*modeldata[,3:5])\n",
    "colnames(multdata)<-c('demand','daytype',colnames(modeldata)[3:5],paste(colnames(modeldata)[3:5],'.dtype',sep = ''))\n",
    "\n",
    "trainingdata<-multdata[1:882,]\n",
    "head(trainingdata)"
   ]
  },
  {
   "cell_type": "code",
   "execution_count": 126,
   "metadata": {
    "ExecuteTime": {
     "end_time": "2018-12-29T15:09:51.436099Z",
     "start_time": "2018-12-29T15:09:51.406Z"
    }
   },
   "outputs": [
    {
     "data": {
      "text/plain": [
       "\n",
       "Call:\n",
       "lm(formula = demand ~ ., data = trainingdata)\n",
       "\n",
       "Residuals:\n",
       "    Min      1Q  Median      3Q     Max \n",
       "-45.831  -5.625  -0.692   5.319  87.169 \n",
       "\n",
       "Coefficients:\n",
       "            Estimate Std. Error t value Pr(>|t|)    \n",
       "(Intercept)   1.7031     1.7844   0.954 0.340122    \n",
       "daytype      47.1281     2.1113  22.321  < 2e-16 ***\n",
       "S1           -0.4375     2.5235  -0.173 0.862403    \n",
       "S2            2.6250     2.5235   1.040 0.298533    \n",
       "S3            1.4969     2.5653   0.584 0.559695    \n",
       "S1.dtype    -34.7125     2.9859 -11.625  < 2e-16 ***\n",
       "S2.dtype    -11.8312     2.9859  -3.962 8.03e-05 ***\n",
       "S3.dtype    -11.8015     3.0353  -3.888 0.000109 ***\n",
       "---\n",
       "Signif. codes:  0 '***' 0.001 '**' 0.01 '*' 0.05 '.' 0.1 ' ' 1\n",
       "\n",
       "Residual standard error: 14.28 on 874 degrees of freedom\n",
       "Multiple R-squared:  0.6268,\tAdjusted R-squared:  0.6238 \n",
       "F-statistic: 209.7 on 7 and 874 DF,  p-value: < 2.2e-16\n"
      ]
     },
     "metadata": {},
     "output_type": "display_data"
    }
   ],
   "source": [
    "model<-lm(demand~.,trainingdata)\n",
    "\n",
    "summary(model)"
   ]
  },
  {
   "cell_type": "code",
   "execution_count": 181,
   "metadata": {
    "ExecuteTime": {
     "end_time": "2018-12-29T16:05:27.848026Z",
     "start_time": "2018-12-29T16:05:27.789Z"
    },
    "scrolled": true
   },
   "outputs": [
    {
     "data": {
      "image/png": "[encoded data removed]",
      "text/plain": [
       "plot without title"
      ]
     },
     "metadata": {},
     "output_type": "display_data"
    }
   ],
   "source": [
    "plot(trainingdata$demand,type='l')\n",
    "lines(model$fitted, lwd = 2,col='blue')"
   ]
  },
  {
   "cell_type": "code",
   "execution_count": 191,
   "metadata": {
    "ExecuteTime": {
     "end_time": "2018-12-29T16:13:47.168348Z",
     "start_time": "2018-12-29T16:13:47.144Z"
    }
   },
   "outputs": [
    {
     "data": {
      "text/html": [
       "<table>\n",
       "<thead><tr><th scope=col>ones</th><th scope=col>daytype</th><th scope=col>S1</th><th scope=col>S2</th><th scope=col>S3</th><th scope=col>S1.dtype</th><th scope=col>S2.dtype</th><th scope=col>S3.dtype</th></tr></thead>\n",
       "<tbody>\n",
       "\t<tr><td>1</td><td>1</td><td>1</td><td>0</td><td>0</td><td>1</td><td>0</td><td>0</td></tr>\n",
       "\t<tr><td>1</td><td>1</td><td>1</td><td>0</td><td>0</td><td>1</td><td>0</td><td>0</td></tr>\n",
       "\t<tr><td>1</td><td>1</td><td>1</td><td>0</td><td>0</td><td>1</td><td>0</td><td>0</td></tr>\n",
       "\t<tr><td>1</td><td>1</td><td>1</td><td>0</td><td>0</td><td>1</td><td>0</td><td>0</td></tr>\n",
       "\t<tr><td>1</td><td>1</td><td>1</td><td>0</td><td>0</td><td>1</td><td>0</td><td>0</td></tr>\n",
       "\t<tr><td>1</td><td>1</td><td>1</td><td>0</td><td>0</td><td>1</td><td>0</td><td>0</td></tr>\n",
       "</tbody>\n",
       "</table>\n"
      ],
      "text/latex": [
       "\\begin{tabular}{r|llllllll}\n",
       " ones & daytype & S1 & S2 & S3 & S1.dtype & S2.dtype & S3.dtype\\\\\n",
       "\\hline\n",
       "\t 1 & 1 & 1 & 0 & 0 & 1 & 0 & 0\\\\\n",
       "\t 1 & 1 & 1 & 0 & 0 & 1 & 0 & 0\\\\\n",
       "\t 1 & 1 & 1 & 0 & 0 & 1 & 0 & 0\\\\\n",
       "\t 1 & 1 & 1 & 0 & 0 & 1 & 0 & 0\\\\\n",
       "\t 1 & 1 & 1 & 0 & 0 & 1 & 0 & 0\\\\\n",
       "\t 1 & 1 & 1 & 0 & 0 & 1 & 0 & 0\\\\\n",
       "\\end{tabular}\n"
      ],
      "text/markdown": [
       "\n",
       "ones | daytype | S1 | S2 | S3 | S1.dtype | S2.dtype | S3.dtype | \n",
       "|---|---|---|---|---|---|\n",
       "| 1 | 1 | 1 | 0 | 0 | 1 | 0 | 0 | \n",
       "| 1 | 1 | 1 | 0 | 0 | 1 | 0 | 0 | \n",
       "| 1 | 1 | 1 | 0 | 0 | 1 | 0 | 0 | \n",
       "| 1 | 1 | 1 | 0 | 0 | 1 | 0 | 0 | \n",
       "| 1 | 1 | 1 | 0 | 0 | 1 | 0 | 0 | \n",
       "| 1 | 1 | 1 | 0 | 0 | 1 | 0 | 0 | \n",
       "\n",
       "\n"
      ],
      "text/plain": [
       "  ones daytype S1 S2 S3 S1.dtype S2.dtype S3.dtype\n",
       "1 1    1       1  0  0  1        0        0       \n",
       "2 1    1       1  0  0  1        0        0       \n",
       "3 1    1       1  0  0  1        0        0       \n",
       "4 1    1       1  0  0  1        0        0       \n",
       "5 1    1       1  0  0  1        0        0       \n",
       "6 1    1       1  0  0  1        0        0       "
      ]
     },
     "metadata": {},
     "output_type": "display_data"
    },
    {
     "data": {
      "text/html": [
       "<ol class=list-inline>\n",
       "\t<li>1512</li>\n",
       "\t<li>8</li>\n",
       "</ol>\n"
      ],
      "text/latex": [
       "\\begin{enumerate*}\n",
       "\\item 1512\n",
       "\\item 8\n",
       "\\end{enumerate*}\n"
      ],
      "text/markdown": [
       "1. 1512\n",
       "2. 8\n",
       "\n",
       "\n"
      ],
      "text/plain": [
       "[1] 1512    8"
      ]
     },
     "metadata": {},
     "output_type": "display_data"
    }
   ],
   "source": [
    "#We create a new dataframe to make the model calculation easier below\n",
    "ones<-rep(1,1512)\n",
    "#we remove the demand column since thats what we predict and we replace it with ones\n",
    "#so they are multiplied by the intercept coefficient\n",
    "final.model.data<-data.frame(ones,multdata[,-1])\n",
    "\n",
    "\n",
    "head(final.model.data)\n",
    "dim(final.model.data)"
   ]
  },
  {
   "cell_type": "code",
   "execution_count": 192,
   "metadata": {
    "ExecuteTime": {
     "end_time": "2018-12-29T16:13:50.145008Z",
     "start_time": "2018-12-29T16:13:50.079Z"
    },
    "scrolled": false
   },
   "outputs": [
    {
     "data": {
      "image/png": "[encoded data removed]",
      "text/plain": [
       "plot without title"
      ]
     },
     "metadata": {},
     "output_type": "display_data"
    }
   ],
   "source": [
    "#coefficients(model)\n",
    "coef<-coefficients(model)\n",
    "\n",
    "mymodel = rowSums(mapply(\"*\", as.data.frame(final.model.data),coef))\n",
    "\n",
    "plot(newdata$demand,type='l')\n",
    "lines(mymodel,lwd = 2,col='blue')"
   ]
  }
 ],
 "metadata": {
  "kernelspec": {
   "display_name": "R",
   "language": "R",
   "name": "ir"
  },
  "language_info": {
   "codemirror_mode": "r",
   "file_extension": ".r",
   "mimetype": "text/x-r-source",
   "name": "R",
   "pygments_lexer": "r",
   "version": "3.5.1"
  },
  "latex_envs": {
   "LaTeX_envs_menu_present": true,
   "autoclose": false,
   "autocomplete": true,
   "bibliofile": "biblio.bib",
   "cite_by": "apalike",
   "current_citInitial": 1,
   "eqLabelWithNumbers": true,
   "eqNumInitial": 1,
   "hotkeys": {
    "equation": "Ctrl-E",
    "itemize": "Ctrl-I"
   },
   "labels_anchors": false,
   "latex_user_defs": false,
   "report_style_numbering": false,
   "user_envs_cfg": false
  },
  "toc": {
   "base_numbering": 1,
   "nav_menu": {},
   "number_sections": true,
   "sideBar": true,
   "skip_h1_title": false,
   "title_cell": "Table of Contents",
   "title_sidebar": "Contents",
   "toc_cell": false,
   "toc_position": {},
   "toc_section_display": true,
   "toc_window_display": true
  },
  "varInspector": {
   "cols": {
    "lenName": 16,
    "lenType": 16,
    "lenVar": 40
   },
   "kernels_config": {
    "python": {
     "delete_cmd_postfix": "",
     "delete_cmd_prefix": "del ",
     "library": "var_list.py",
     "varRefreshCmd": "print(var_dic_list())"
    },
    "r": {
     "delete_cmd_postfix": ") ",
     "delete_cmd_prefix": "rm(",
     "library": "var_list.r",
     "varRefreshCmd": "cat(var_dic_list()) "
    }
   },
   "types_to_exclude": [
    "module",
    "function",
    "builtin_function_or_method",
    "instance",
    "_Feature"
   ],
   "window_display": false
  }
 },
 "nbformat": 4,
 "nbformat_minor": 2
}

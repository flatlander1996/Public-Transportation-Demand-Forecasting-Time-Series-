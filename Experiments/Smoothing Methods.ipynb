{
 "cells": [
  {
   "cell_type": "markdown",
   "metadata": {},
   "source": [
    "# Data prep"
   ]
  },
  {
   "cell_type": "code",
   "execution_count": 16,
   "metadata": {
    "ExecuteTime": {
     "end_time": "2018-12-24T11:33:32.389516Z",
     "start_time": "2018-12-24T11:33:28.274Z"
    }
   },
   "outputs": [
    {
     "data": {
      "text/html": [
       "'C'"
      ],
      "text/latex": [
       "'C'"
      ],
      "text/markdown": [
       "'C'"
      ],
      "text/plain": [
       "[1] \"C\""
      ]
     },
     "metadata": {},
     "output_type": "display_data"
    }
   ],
   "source": [
    "library(lubridate)  #work with dates\n",
    "library(xts)\n",
    "library(zoo)\n",
    "library(forecast)\n",
    "lct <- Sys.getlocale(\"LC_TIME\"); Sys.setlocale(\"LC_TIME\", \"C\") #needed for as.POSIXct"
   ]
  },
  {
   "cell_type": "code",
   "execution_count": 4,
   "metadata": {
    "ExecuteTime": {
     "end_time": "2018-12-24T11:22:47.532110Z",
     "start_time": "2018-12-24T11:22:47.507Z"
    }
   },
   "outputs": [
    {
     "data": {
      "text/html": [
       "<table>\n",
       "<thead><tr><th scope=col>DATE</th><th scope=col>TIME</th><th scope=col>DEMAND</th></tr></thead>\n",
       "<tbody>\n",
       "\t<tr><td>1-Mar-05</td><td>6:30    </td><td> 1      </td></tr>\n",
       "\t<tr><td>1-Mar-05</td><td>6:45    </td><td> 2      </td></tr>\n",
       "\t<tr><td>1-Mar-05</td><td>7:00    </td><td> 4      </td></tr>\n",
       "\t<tr><td>1-Mar-05</td><td>7:15    </td><td> 0      </td></tr>\n",
       "\t<tr><td>1-Mar-05</td><td>7:30    </td><td>10      </td></tr>\n",
       "\t<tr><td>1-Mar-05</td><td>7:45    </td><td>13      </td></tr>\n",
       "</tbody>\n",
       "</table>\n"
      ],
      "text/latex": [
       "\\begin{tabular}{r|lll}\n",
       " DATE & TIME & DEMAND\\\\\n",
       "\\hline\n",
       "\t 1-Mar-05 & 6:30     &  1      \\\\\n",
       "\t 1-Mar-05 & 6:45     &  2      \\\\\n",
       "\t 1-Mar-05 & 7:00     &  4      \\\\\n",
       "\t 1-Mar-05 & 7:15     &  0      \\\\\n",
       "\t 1-Mar-05 & 7:30     & 10      \\\\\n",
       "\t 1-Mar-05 & 7:45     & 13      \\\\\n",
       "\\end{tabular}\n"
      ],
      "text/markdown": [
       "\n",
       "DATE | TIME | DEMAND | \n",
       "|---|---|---|---|---|---|\n",
       "| 1-Mar-05 | 6:30     |  1       | \n",
       "| 1-Mar-05 | 6:45     |  2       | \n",
       "| 1-Mar-05 | 7:00     |  4       | \n",
       "| 1-Mar-05 | 7:15     |  0       | \n",
       "| 1-Mar-05 | 7:30     | 10       | \n",
       "| 1-Mar-05 | 7:45     | 13       | \n",
       "\n",
       "\n"
      ],
      "text/plain": [
       "  DATE     TIME DEMAND\n",
       "1 1-Mar-05 6:30  1    \n",
       "2 1-Mar-05 6:45  2    \n",
       "3 1-Mar-05 7:00  4    \n",
       "4 1-Mar-05 7:15  0    \n",
       "5 1-Mar-05 7:30 10    \n",
       "6 1-Mar-05 7:45 13    "
      ]
     },
     "metadata": {},
     "output_type": "display_data"
    },
    {
     "data": {
      "text/html": [
       "<ol class=list-inline>\n",
       "\t<li>1512</li>\n",
       "\t<li>3</li>\n",
       "</ol>\n"
      ],
      "text/latex": [
       "\\begin{enumerate*}\n",
       "\\item 1512\n",
       "\\item 3\n",
       "\\end{enumerate*}\n"
      ],
      "text/markdown": [
       "1. 1512\n",
       "2. 3\n",
       "\n",
       "\n"
      ],
      "text/plain": [
       "[1] 1512    3"
      ]
     },
     "metadata": {},
     "output_type": "display_data"
    }
   ],
   "source": [
    "data <- read.csv('bicup2006.csv',sep=',')\n",
    "head(data)\n",
    "dim(data)"
   ]
  },
  {
   "cell_type": "code",
   "execution_count": 5,
   "metadata": {
    "ExecuteTime": {
     "end_time": "2018-12-24T11:23:03.851890Z",
     "start_time": "2018-12-24T11:23:03.827Z"
    }
   },
   "outputs": [],
   "source": [
    "daytype<-rep(\"weekday\",1512)\n",
    "daytype[253:378]<-\"weekend\"\n",
    "daytype[694:819]<-\"weekend\"\n",
    "daytype[1135:1260]<-\"weekend\"\n",
    "dtype<-rep(1,1512)\n",
    "dtype[which(daytype==\"weekend\")]<-3\n",
    "\n",
    "\n",
    "myseason<-rep(seq(1,63),24)"
   ]
  },
  {
   "cell_type": "code",
   "execution_count": 6,
   "metadata": {
    "ExecuteTime": {
     "end_time": "2018-12-24T11:23:09.546657Z",
     "start_time": "2018-12-24T11:23:09.499Z"
    }
   },
   "outputs": [
    {
     "data": {
      "text/html": [
       "<table>\n",
       "<thead><tr><th scope=col>date.and.time</th><th scope=col>demand</th><th scope=col>daytype</th><th scope=col>myseason</th><th scope=col>dtype</th></tr></thead>\n",
       "<tbody>\n",
       "\t<tr><td>2005-03-01 06:30:00</td><td> 1                 </td><td>weekday            </td><td>1                  </td><td>1                  </td></tr>\n",
       "\t<tr><td>2005-03-01 06:45:00</td><td> 2                 </td><td>weekday            </td><td>2                  </td><td>1                  </td></tr>\n",
       "\t<tr><td>2005-03-01 07:00:00</td><td> 4                 </td><td>weekday            </td><td>3                  </td><td>1                  </td></tr>\n",
       "\t<tr><td>2005-03-01 07:15:00</td><td> 0                 </td><td>weekday            </td><td>4                  </td><td>1                  </td></tr>\n",
       "\t<tr><td>2005-03-01 07:30:00</td><td>10                 </td><td>weekday            </td><td>5                  </td><td>1                  </td></tr>\n",
       "\t<tr><td>2005-03-01 07:45:00</td><td>13                 </td><td>weekday            </td><td>6                  </td><td>1                  </td></tr>\n",
       "</tbody>\n",
       "</table>\n"
      ],
      "text/latex": [
       "\\begin{tabular}{r|lllll}\n",
       " date.and.time & demand & daytype & myseason & dtype\\\\\n",
       "\\hline\n",
       "\t 2005-03-01 06:30:00 &  1                  & weekday             & 1                   & 1                  \\\\\n",
       "\t 2005-03-01 06:45:00 &  2                  & weekday             & 2                   & 1                  \\\\\n",
       "\t 2005-03-01 07:00:00 &  4                  & weekday             & 3                   & 1                  \\\\\n",
       "\t 2005-03-01 07:15:00 &  0                  & weekday             & 4                   & 1                  \\\\\n",
       "\t 2005-03-01 07:30:00 & 10                  & weekday             & 5                   & 1                  \\\\\n",
       "\t 2005-03-01 07:45:00 & 13                  & weekday             & 6                   & 1                  \\\\\n",
       "\\end{tabular}\n"
      ],
      "text/markdown": [
       "\n",
       "date.and.time | demand | daytype | myseason | dtype | \n",
       "|---|---|---|---|---|---|\n",
       "| 2005-03-01 06:30:00 |  1                  | weekday             | 1                   | 1                   | \n",
       "| 2005-03-01 06:45:00 |  2                  | weekday             | 2                   | 1                   | \n",
       "| 2005-03-01 07:00:00 |  4                  | weekday             | 3                   | 1                   | \n",
       "| 2005-03-01 07:15:00 |  0                  | weekday             | 4                   | 1                   | \n",
       "| 2005-03-01 07:30:00 | 10                  | weekday             | 5                   | 1                   | \n",
       "| 2005-03-01 07:45:00 | 13                  | weekday             | 6                   | 1                   | \n",
       "\n",
       "\n"
      ],
      "text/plain": [
       "  date.and.time       demand daytype myseason dtype\n",
       "1 2005-03-01 06:30:00  1     weekday 1        1    \n",
       "2 2005-03-01 06:45:00  2     weekday 2        1    \n",
       "3 2005-03-01 07:00:00  4     weekday 3        1    \n",
       "4 2005-03-01 07:15:00  0     weekday 4        1    \n",
       "5 2005-03-01 07:30:00 10     weekday 5        1    \n",
       "6 2005-03-01 07:45:00 13     weekday 6        1    "
      ]
     },
     "metadata": {},
     "output_type": "display_data"
    },
    {
     "data": {
      "text/html": [
       "<ol class=list-inline>\n",
       "\t<li>1512</li>\n",
       "\t<li>5</li>\n",
       "</ol>\n"
      ],
      "text/latex": [
       "\\begin{enumerate*}\n",
       "\\item 1512\n",
       "\\item 5\n",
       "\\end{enumerate*}\n"
      ],
      "text/markdown": [
       "1. 1512\n",
       "2. 5\n",
       "\n",
       "\n"
      ],
      "text/plain": [
       "[1] 1512    5"
      ]
     },
     "metadata": {},
     "output_type": "display_data"
    }
   ],
   "source": [
    "date.and.time<-paste(data$DATE,data$TIME) #combine date and time in one column\n",
    "posix.date<-as.POSIXct(date.and.time,format=\"%d-%b-%y %H:%M\")\n",
    "#create new dataframe with columns posix.date and demand\n",
    "newdata<-data.frame(posix.date,data$DEMAND,daytype,myseason,dtype)\n",
    "names(newdata)<-c('date.and.time','demand','daytype','myseason','dtype')\n",
    "head(newdata)\n",
    "dim(newdata)"
   ]
  },
  {
   "cell_type": "code",
   "execution_count": 7,
   "metadata": {
    "ExecuteTime": {
     "end_time": "2018-12-24T11:23:19.575064Z",
     "start_time": "2018-12-24T11:23:19.557Z"
    }
   },
   "outputs": [],
   "source": [
    "#indexes for first two weeks\n",
    "training.set<-newdata[1:(14*63),]\n",
    "#indexes for last week\n",
    "validation.set<-newdata[((14*63)+1):(21*63),]\n",
    "#indexes for last 3 days\n",
    "future.set<-newdata[((21*63)+1):dim(newdata)[1],]"
   ]
  },
  {
   "cell_type": "code",
   "execution_count": 8,
   "metadata": {
    "ExecuteTime": {
     "end_time": "2018-12-24T11:23:27.509897Z",
     "start_time": "2018-12-24T11:23:27.451Z"
    }
   },
   "outputs": [
    {
     "data": {
      "image/png": "[encoded data removed]",
      "text/plain": [
       "Plot with title \"Timeseries of training data\""
      ]
     },
     "metadata": {},
     "output_type": "display_data"
    }
   ],
   "source": [
    "plot(training.set$demand,type='l',main=\"Timeseries of training data\")"
   ]
  },
  {
   "cell_type": "code",
   "execution_count": 104,
   "metadata": {
    "ExecuteTime": {
     "end_time": "2018-12-24T21:50:16.516522Z",
     "start_time": "2018-12-24T21:50:16.496Z"
    }
   },
   "outputs": [
    {
     "data": {
      "text/plain": [
       "15 minute periodicity from 2005-03-01 06:30:00 to 2005-03-24 22:00:00 "
      ]
     },
     "metadata": {},
     "output_type": "display_data"
    }
   ],
   "source": [
    "newdata.xts = xts(coredata(newdata$demand), order.by=as.POSIXct(newdata$date.and.time))\n",
    "attr(newdata.xts,\"frequency\")<-63\n",
    "periodicity(newdata.xts)\n",
    "total_timeseries<-as.ts(newdata.xts)"
   ]
  },
  {
   "cell_type": "code",
   "execution_count": 10,
   "metadata": {
    "ExecuteTime": {
     "end_time": "2018-12-24T11:25:06.389390Z",
     "start_time": "2018-12-24T11:25:06.371Z"
    }
   },
   "outputs": [],
   "source": [
    "seasonal_data<-data.frame(newdata,seasonaldummy(total_timeseries))"
   ]
  },
  {
   "cell_type": "code",
   "execution_count": 11,
   "metadata": {
    "ExecuteTime": {
     "end_time": "2018-12-24T11:25:19.350315Z",
     "start_time": "2018-12-24T11:25:19.331Z"
    }
   },
   "outputs": [
    {
     "data": {
      "text/plain": [
       "15 minute periodicity from 2005-03-01 06:30:00 to 2005-03-14 22:00:00 "
      ]
     },
     "metadata": {},
     "output_type": "display_data"
    }
   ],
   "source": [
    "my.xts = xts(coredata(training.set$demand), order.by=as.POSIXct(training.set$date.and.time))\n",
    "attr(my.xts,\"frequency\")<-63\n",
    "periodicity(my.xts)\n",
    "timeseries<-as.ts(my.xts)"
   ]
  },
  {
   "cell_type": "code",
   "execution_count": 12,
   "metadata": {
    "ExecuteTime": {
     "end_time": "2018-12-24T11:25:28.736440Z",
     "start_time": "2018-12-24T11:25:28.627Z"
    }
   },
   "outputs": [],
   "source": [
    "day_column<-rep(1,1512)\n",
    "for(i in seq(1:1512)){\n",
    "    \n",
    "        day<-strtoi(substr(newdata$date.and.time[i],9,10),base = 10)\n",
    "        if(day==7 | day==14 | day==21){\n",
    "            day_column[i]<-1\n",
    "        }else if(day==1 | day==8 | day==15 | day==22){\n",
    "            day_column[i]<-2\n",
    "        }else if(day==2 | day==9 | day==16 | day==23){\n",
    "            day_column[i]<-3\n",
    "        }else if(day==3 | day==10 | day==17 | day==24){\n",
    "            day_column[i]<-4\n",
    "        }else if(day==4 | day==11 | day==18 | day==25){\n",
    "            day_column[i]<-5\n",
    "        }else if(day==5 | day==12 | day==19 | day==26){\n",
    "            day_column[i]<-6\n",
    "        }else if(day==6 | day==13 | day==20){\n",
    "            day_column[i]<-7\n",
    "        }\n",
    "}\n",
    "            \n",
    "seasonal_and_day_data<-data.frame(day_column,seasonal_data)"
   ]
  },
  {
   "cell_type": "code",
   "execution_count": 13,
   "metadata": {
    "ExecuteTime": {
     "end_time": "2018-12-24T11:25:44.502246Z",
     "start_time": "2018-12-24T11:25:44.427Z"
    },
    "scrolled": true
   },
   "outputs": [
    {
     "data": {
      "text/plain": [
       "\n",
       "Call:\n",
       "tslm(formula = timeseries ~ dtype[1:882] * day_column[1:882] * \n",
       "    (+seasonal_data[1:882, 5 + 1] + seasonal_data[1:882, 5 + \n",
       "        2] + seasonal_data[1:882, 5 + 3] + seasonal_data[1:882, \n",
       "        5 + 4] + seasonal_data[1:882, 5 + 5] + seasonal_data[1:882, \n",
       "        5 + 6] + seasonal_data[1:882, 5 + 7] + seasonal_data[1:882, \n",
       "        5 + 8] + seasonal_data[1:882, 5 + 9] + seasonal_data[1:882, \n",
       "        5 + 10] + seasonal_data[1:882, 5 + 11] + seasonal_data[1:882, \n",
       "        5 + 12] + seasonal_data[1:882, 5 + 13] + seasonal_data[1:882, \n",
       "        5 + 14] + seasonal_data[1:882, 5 + 15] + seasonal_data[1:882, \n",
       "        5 + 16] + seasonal_data[1:882, 5 + 17] + seasonal_data[1:882, \n",
       "        5 + 18] + seasonal_data[1:882, 5 + 19] + seasonal_data[1:882, \n",
       "        5 + 20] + seasonal_data[1:882, 5 + 21] + seasonal_data[1:882, \n",
       "        5 + 22] + seasonal_data[1:882, 5 + 23] + seasonal_data[1:882, \n",
       "        5 + 24] + seasonal_data[1:882, 5 + 25] + seasonal_data[1:882, \n",
       "        5 + 26] + seasonal_data[1:882, 5 + 27] + seasonal_data[1:882, \n",
       "        5 + 28] + seasonal_data[1:882, 5 + 29] + seasonal_data[1:882, \n",
       "        5 + 30] + seasonal_data[1:882, 5 + 31] + seasonal_data[1:882, \n",
       "        5 + 32] + seasonal_data[1:882, 5 + 33] + seasonal_data[1:882, \n",
       "        5 + 34] + seasonal_data[1:882, 5 + 35] + seasonal_data[1:882, \n",
       "        5 + 36] + seasonal_data[1:882, 5 + 37] + seasonal_data[1:882, \n",
       "        5 + 38] + seasonal_data[1:882, 5 + 39] + seasonal_data[1:882, \n",
       "        5 + 40] + seasonal_data[1:882, 5 + 41] + seasonal_data[1:882, \n",
       "        5 + 42] + seasonal_data[1:882, 5 + 43] + seasonal_data[1:882, \n",
       "        5 + 44] + seasonal_data[1:882, 5 + 45] + seasonal_data[1:882, \n",
       "        5 + 46] + seasonal_data[1:882, 5 + 47] + seasonal_data[1:882, \n",
       "        5 + 48] + seasonal_data[1:882, 5 + 49] + seasonal_data[1:882, \n",
       "        5 + 50] + seasonal_data[1:882, 5 + 51] + seasonal_data[1:882, \n",
       "        5 + 52] + seasonal_data[1:882, 5 + 53] + seasonal_data[1:882, \n",
       "        5 + 54] + seasonal_data[1:882, 5 + 55] + seasonal_data[1:882, \n",
       "        5 + 56] + seasonal_data[1:882, 5 + 57] + seasonal_data[1:882, \n",
       "        5 + 58] + seasonal_data[1:882, 5 + 59] + seasonal_data[1:882, \n",
       "        5 + 60] + seasonal_data[1:882, 5 + 61] + seasonal_data[1:882, \n",
       "        5 + 62]))\n",
       "\n",
       "Residuals:\n",
       "    Min      1Q  Median      3Q     Max \n",
       "-31.400  -2.038   0.000   2.000  26.650 \n",
       "\n",
       "Coefficients:\n",
       "                                                              Estimate\n",
       "(Intercept)                                                  1.193e+01\n",
       "dtype[1:882]                                                -3.975e+00\n",
       "day_column[1:882]                                           -1.125e+00\n",
       "seasonal_data[1:882, 5 + 1]                                 -1.018e+01\n",
       "seasonal_data[1:882, 5 + 2]                                 -1.085e+01\n",
       "seasonal_data[1:882, 5 + 3]                                 -1.233e+01\n",
       "seasonal_data[1:882, 5 + 4]                                 -4.525e+00\n",
       "seasonal_data[1:882, 5 + 5]                                 -1.725e+00\n",
       "seasonal_data[1:882, 5 + 6]                                  8.450e+00\n",
       "seasonal_data[1:882, 5 + 7]                                  1.197e+01\n",
       "seasonal_data[1:882, 5 + 8]                                  1.542e+01\n",
       "seasonal_data[1:882, 5 + 9]                                  4.425e+00\n",
       "seasonal_data[1:882, 5 + 10]                                 1.352e+01\n",
       "seasonal_data[1:882, 5 + 11]                                 9.900e+00\n",
       "seasonal_data[1:882, 5 + 12]                                 6.500e+00\n",
       "seasonal_data[1:882, 5 + 13]                                 1.170e+01\n",
       "seasonal_data[1:882, 5 + 14]                                 8.375e+00\n",
       "seasonal_data[1:882, 5 + 15]                                 1.597e+01\n",
       "seasonal_data[1:882, 5 + 16]                                 1.377e+01\n",
       "seasonal_data[1:882, 5 + 17]                                 1.792e+01\n",
       "seasonal_data[1:882, 5 + 18]                                 1.965e+01\n",
       "seasonal_data[1:882, 5 + 19]                                 2.467e+01\n",
       "seasonal_data[1:882, 5 + 20]                                 3.220e+01\n",
       "seasonal_data[1:882, 5 + 21]                                 1.417e+01\n",
       "seasonal_data[1:882, 5 + 22]                                 2.607e+01\n",
       "seasonal_data[1:882, 5 + 23]                                 3.792e+01\n",
       "seasonal_data[1:882, 5 + 24]                                 3.207e+01\n",
       "seasonal_data[1:882, 5 + 25]                                 3.807e+01\n",
       "seasonal_data[1:882, 5 + 26]                                 2.455e+01\n",
       "seasonal_data[1:882, 5 + 27]                                 4.310e+01\n",
       "seasonal_data[1:882, 5 + 28]                                 4.067e+01\n",
       "seasonal_data[1:882, 5 + 29]                                 3.460e+01\n",
       "seasonal_data[1:882, 5 + 30]                                 3.260e+01\n",
       "seasonal_data[1:882, 5 + 31]                                 2.392e+01\n",
       "seasonal_data[1:882, 5 + 32]                                 5.320e+01\n",
       "seasonal_data[1:882, 5 + 33]                                 3.190e+01\n",
       "seasonal_data[1:882, 5 + 34]                                 2.540e+01\n",
       "seasonal_data[1:882, 5 + 35]                                 2.377e+01\n",
       "seasonal_data[1:882, 5 + 36]                                 1.560e+01\n",
       "seasonal_data[1:882, 5 + 37]                                 2.925e+01\n",
       "seasonal_data[1:882, 5 + 38]                                 3.175e+01\n",
       "seasonal_data[1:882, 5 + 39]                                 3.280e+01\n",
       "seasonal_data[1:882, 5 + 40]                                 2.460e+01\n",
       "seasonal_data[1:882, 5 + 41]                                 3.945e+01\n",
       "seasonal_data[1:882, 5 + 42]                                 2.567e+01\n",
       "seasonal_data[1:882, 5 + 43]                                 2.840e+01\n",
       "seasonal_data[1:882, 5 + 44]                                 4.300e+01\n",
       "seasonal_data[1:882, 5 + 45]                                 4.585e+01\n",
       "seasonal_data[1:882, 5 + 46]                                 6.710e+01\n",
       "seasonal_data[1:882, 5 + 47]                                 6.945e+01\n",
       "seasonal_data[1:882, 5 + 48]                                 1.341e+02\n",
       "seasonal_data[1:882, 5 + 49]                                 1.629e+02\n",
       "seasonal_data[1:882, 5 + 50]                                 1.725e+02\n",
       "seasonal_data[1:882, 5 + 51]                                 1.554e+02\n",
       "seasonal_data[1:882, 5 + 52]                                 1.328e+02\n",
       "seasonal_data[1:882, 5 + 53]                                 1.133e+02\n",
       "seasonal_data[1:882, 5 + 54]                                 9.387e+01\n",
       "seasonal_data[1:882, 5 + 55]                                 9.150e+01\n",
       "seasonal_data[1:882, 5 + 56]                                 9.442e+01\n",
       "seasonal_data[1:882, 5 + 57]                                 6.135e+01\n",
       "seasonal_data[1:882, 5 + 58]                                 3.575e+01\n",
       "seasonal_data[1:882, 5 + 59]                                 1.697e+01\n",
       "seasonal_data[1:882, 5 + 60]                                 3.347e+01\n",
       "seasonal_data[1:882, 5 + 61]                                 1.247e+01\n",
       "seasonal_data[1:882, 5 + 62]                                 6.675e+00\n",
       "dtype[1:882]:day_column[1:882]                               3.750e-01\n",
       "dtype[1:882]:seasonal_data[1:882, 5 + 1]                     5.725e+00\n",
       "dtype[1:882]:seasonal_data[1:882, 5 + 2]                     5.950e+00\n",
       "dtype[1:882]:seasonal_data[1:882, 5 + 3]                     8.775e+00\n",
       "dtype[1:882]:seasonal_data[1:882, 5 + 4]                     2.675e+00\n",
       "dtype[1:882]:seasonal_data[1:882, 5 + 5]                     4.075e+00\n",
       "dtype[1:882]:seasonal_data[1:882, 5 + 6]                     1.850e+00\n",
       "dtype[1:882]:seasonal_data[1:882, 5 + 7]                     4.175e+00\n",
       "dtype[1:882]:seasonal_data[1:882, 5 + 8]                    -4.975e+00\n",
       "dtype[1:882]:seasonal_data[1:882, 5 + 9]                     9.025e+00\n",
       "dtype[1:882]:seasonal_data[1:882, 5 + 10]                   -2.175e+00\n",
       "dtype[1:882]:seasonal_data[1:882, 5 + 11]                    3.700e+00\n",
       "dtype[1:882]:seasonal_data[1:882, 5 + 12]                    5.000e+00\n",
       "dtype[1:882]:seasonal_data[1:882, 5 + 13]                    3.100e+00\n",
       "dtype[1:882]:seasonal_data[1:882, 5 + 14]                    3.375e+00\n",
       "dtype[1:882]:seasonal_data[1:882, 5 + 15]                   -3.250e-01\n",
       "dtype[1:882]:seasonal_data[1:882, 5 + 16]                    2.575e+00\n",
       "dtype[1:882]:seasonal_data[1:882, 5 + 17]                    2.500e-02\n",
       "dtype[1:882]:seasonal_data[1:882, 5 + 18]                    6.450e+00\n",
       "dtype[1:882]:seasonal_data[1:882, 5 + 19]                   -3.225e+00\n",
       "dtype[1:882]:seasonal_data[1:882, 5 + 20]                   -4.900e+00\n",
       "dtype[1:882]:seasonal_data[1:882, 5 + 21]                    8.275e+00\n",
       "dtype[1:882]:seasonal_data[1:882, 5 + 22]                    3.975e+00\n",
       "dtype[1:882]:seasonal_data[1:882, 5 + 23]                   -3.975e+00\n",
       "dtype[1:882]:seasonal_data[1:882, 5 + 24]                    2.475e+00\n",
       "dtype[1:882]:seasonal_data[1:882, 5 + 25]                   -5.250e-01\n",
       "dtype[1:882]:seasonal_data[1:882, 5 + 26]                    1.465e+01\n",
       "dtype[1:882]:seasonal_data[1:882, 5 + 27]                    3.800e+00\n",
       "dtype[1:882]:seasonal_data[1:882, 5 + 28]                    5.775e+00\n",
       "dtype[1:882]:seasonal_data[1:882, 5 + 29]                    1.880e+01\n",
       "dtype[1:882]:seasonal_data[1:882, 5 + 30]                    6.300e+00\n",
       "dtype[1:882]:seasonal_data[1:882, 5 + 31]                    1.353e+01\n",
       "dtype[1:882]:seasonal_data[1:882, 5 + 32]                   -4.400e+00\n",
       "dtype[1:882]:seasonal_data[1:882, 5 + 33]                    4.700e+00\n",
       "dtype[1:882]:seasonal_data[1:882, 5 + 34]                    3.700e+00\n",
       "dtype[1:882]:seasonal_data[1:882, 5 + 35]                    5.075e+00\n",
       "dtype[1:882]:seasonal_data[1:882, 5 + 36]                    1.130e+01\n",
       "dtype[1:882]:seasonal_data[1:882, 5 + 37]                    2.250e+00\n",
       "dtype[1:882]:seasonal_data[1:882, 5 + 38]                   -3.250e+00\n",
       "dtype[1:882]:seasonal_data[1:882, 5 + 39]                   -3.100e+00\n",
       "dtype[1:882]:seasonal_data[1:882, 5 + 40]                   -7.000e-01\n",
       "dtype[1:882]:seasonal_data[1:882, 5 + 41]                   -1.465e+01\n",
       "dtype[1:882]:seasonal_data[1:882, 5 + 42]                   -3.725e+00\n",
       "dtype[1:882]:seasonal_data[1:882, 5 + 43]                   -5.300e+00\n",
       "dtype[1:882]:seasonal_data[1:882, 5 + 44]                   -1.250e+01\n",
       "dtype[1:882]:seasonal_data[1:882, 5 + 45]                   -7.950e+00\n",
       "dtype[1:882]:seasonal_data[1:882, 5 + 46]                   -1.270e+01\n",
       "dtype[1:882]:seasonal_data[1:882, 5 + 47]                   -1.465e+01\n",
       "dtype[1:882]:seasonal_data[1:882, 5 + 48]                   -3.502e+01\n",
       "dtype[1:882]:seasonal_data[1:882, 5 + 49]                   -5.348e+01\n",
       "dtype[1:882]:seasonal_data[1:882, 5 + 50]                   -5.367e+01\n",
       "dtype[1:882]:seasonal_data[1:882, 5 + 51]                   -5.115e+01\n",
       "dtype[1:882]:seasonal_data[1:882, 5 + 52]                   -4.343e+01\n",
       "dtype[1:882]:seasonal_data[1:882, 5 + 53]                   -4.110e+01\n",
       "dtype[1:882]:seasonal_data[1:882, 5 + 54]                   -2.762e+01\n",
       "dtype[1:882]:seasonal_data[1:882, 5 + 55]                   -3.100e+01\n",
       "dtype[1:882]:seasonal_data[1:882, 5 + 56]                   -3.497e+01\n",
       "dtype[1:882]:seasonal_data[1:882, 5 + 57]                   -1.795e+01\n",
       "dtype[1:882]:seasonal_data[1:882, 5 + 58]                   -8.250e+00\n",
       "dtype[1:882]:seasonal_data[1:882, 5 + 59]                   -8.250e-01\n",
       "dtype[1:882]:seasonal_data[1:882, 5 + 60]                   -1.382e+01\n",
       "dtype[1:882]:seasonal_data[1:882, 5 + 61]                    6.750e-01\n",
       "dtype[1:882]:seasonal_data[1:882, 5 + 62]                   -2.225e+00\n",
       "day_column[1:882]:seasonal_data[1:882, 5 + 1]                1.025e+00\n",
       "day_column[1:882]:seasonal_data[1:882, 5 + 2]                1.100e+00\n",
       "day_column[1:882]:seasonal_data[1:882, 5 + 3]                1.675e+00\n",
       "day_column[1:882]:seasonal_data[1:882, 5 + 4]                7.750e-01\n",
       "day_column[1:882]:seasonal_data[1:882, 5 + 5]                1.725e+00\n",
       "day_column[1:882]:seasonal_data[1:882, 5 + 6]               -9.500e-01\n",
       "day_column[1:882]:seasonal_data[1:882, 5 + 7]               -8.750e-01\n",
       "day_column[1:882]:seasonal_data[1:882, 5 + 8]               -6.750e-01\n",
       "day_column[1:882]:seasonal_data[1:882, 5 + 9]                8.250e-01\n",
       "day_column[1:882]:seasonal_data[1:882, 5 + 10]              -1.750e-01\n",
       "day_column[1:882]:seasonal_data[1:882, 5 + 11]              -3.000e-01\n",
       "day_column[1:882]:seasonal_data[1:882, 5 + 12]               3.450e+00\n",
       "day_column[1:882]:seasonal_data[1:882, 5 + 13]               1.650e+00\n",
       "day_column[1:882]:seasonal_data[1:882, 5 + 14]               2.375e+00\n",
       "day_column[1:882]:seasonal_data[1:882, 5 + 15]               4.750e-01\n",
       "day_column[1:882]:seasonal_data[1:882, 5 + 16]               2.025e+00\n",
       "day_column[1:882]:seasonal_data[1:882, 5 + 17]               1.775e+00\n",
       "day_column[1:882]:seasonal_data[1:882, 5 + 18]               8.000e-01\n",
       "day_column[1:882]:seasonal_data[1:882, 5 + 19]               2.275e+00\n",
       "day_column[1:882]:seasonal_data[1:882, 5 + 20]               5.000e-01\n",
       "day_column[1:882]:seasonal_data[1:882, 5 + 21]               4.175e+00\n",
       "day_column[1:882]:seasonal_data[1:882, 5 + 22]               1.675e+00\n",
       "day_column[1:882]:seasonal_data[1:882, 5 + 23]               1.975e+00\n",
       "day_column[1:882]:seasonal_data[1:882, 5 + 24]               3.125e+00\n",
       "day_column[1:882]:seasonal_data[1:882, 5 + 25]               1.675e+00\n",
       "day_column[1:882]:seasonal_data[1:882, 5 + 26]               5.650e+00\n",
       "day_column[1:882]:seasonal_data[1:882, 5 + 27]               3.000e-01\n",
       "day_column[1:882]:seasonal_data[1:882, 5 + 28]               1.375e+00\n",
       "day_column[1:882]:seasonal_data[1:882, 5 + 29]               1.100e+00\n",
       "day_column[1:882]:seasonal_data[1:882, 5 + 30]               6.200e+00\n",
       "day_column[1:882]:seasonal_data[1:882, 5 + 31]               5.775e+00\n",
       "day_column[1:882]:seasonal_data[1:882, 5 + 32]               5.000e-02\n",
       "day_column[1:882]:seasonal_data[1:882, 5 + 33]               1.600e+00\n",
       "day_column[1:882]:seasonal_data[1:882, 5 + 34]               3.250e+00\n",
       "day_column[1:882]:seasonal_data[1:882, 5 + 35]               2.275e+00\n",
       "day_column[1:882]:seasonal_data[1:882, 5 + 36]               5.150e+00\n",
       "day_column[1:882]:seasonal_data[1:882, 5 + 37]               4.000e-01\n",
       "day_column[1:882]:seasonal_data[1:882, 5 + 38]               7.500e-01\n",
       "day_column[1:882]:seasonal_data[1:882, 5 + 39]              -6.000e-01\n",
       "day_column[1:882]:seasonal_data[1:882, 5 + 40]               2.100e+00\n",
       "day_column[1:882]:seasonal_data[1:882, 5 + 41]               1.000e+00\n",
       "day_column[1:882]:seasonal_data[1:882, 5 + 42]               3.475e+00\n",
       "day_column[1:882]:seasonal_data[1:882, 5 + 43]               5.250e+00\n",
       "day_column[1:882]:seasonal_data[1:882, 5 + 44]               4.450e+00\n",
       "day_column[1:882]:seasonal_data[1:882, 5 + 45]               2.700e+00\n",
       "day_column[1:882]:seasonal_data[1:882, 5 + 46]              -1.900e+00\n",
       "day_column[1:882]:seasonal_data[1:882, 5 + 47]               5.500e-01\n",
       "day_column[1:882]:seasonal_data[1:882, 5 + 48]              -1.127e+01\n",
       "day_column[1:882]:seasonal_data[1:882, 5 + 49]              -1.732e+01\n",
       "day_column[1:882]:seasonal_data[1:882, 5 + 50]              -1.792e+01\n",
       "day_column[1:882]:seasonal_data[1:882, 5 + 51]              -1.605e+01\n",
       "day_column[1:882]:seasonal_data[1:882, 5 + 52]              -1.042e+01\n",
       "day_column[1:882]:seasonal_data[1:882, 5 + 53]              -9.550e+00\n",
       "day_column[1:882]:seasonal_data[1:882, 5 + 54]              -5.175e+00\n",
       "day_column[1:882]:seasonal_data[1:882, 5 + 55]              -6.850e+00\n",
       "day_column[1:882]:seasonal_data[1:882, 5 + 56]              -1.052e+01\n",
       "day_column[1:882]:seasonal_data[1:882, 5 + 57]              -3.250e+00\n",
       "day_column[1:882]:seasonal_data[1:882, 5 + 58]               6.000e-01\n",
       "day_column[1:882]:seasonal_data[1:882, 5 + 59]               3.625e+00\n",
       "day_column[1:882]:seasonal_data[1:882, 5 + 60]              -7.500e-02\n",
       "day_column[1:882]:seasonal_data[1:882, 5 + 61]               6.250e-01\n",
       "day_column[1:882]:seasonal_data[1:882, 5 + 62]               5.250e-01\n",
       "dtype[1:882]:day_column[1:882]:seasonal_data[1:882, 5 + 1]  -6.750e-01\n",
       "dtype[1:882]:day_column[1:882]:seasonal_data[1:882, 5 + 2]  -7.000e-01\n",
       "dtype[1:882]:day_column[1:882]:seasonal_data[1:882, 5 + 3]  -1.225e+00\n",
       "dtype[1:882]:day_column[1:882]:seasonal_data[1:882, 5 + 4]  -4.250e-01\n",
       "dtype[1:882]:day_column[1:882]:seasonal_data[1:882, 5 + 5]  -1.075e+00\n",
       "dtype[1:882]:day_column[1:882]:seasonal_data[1:882, 5 + 6]  -3.500e-01\n",
       "dtype[1:882]:day_column[1:882]:seasonal_data[1:882, 5 + 7]  -8.750e-01\n",
       "dtype[1:882]:day_column[1:882]:seasonal_data[1:882, 5 + 8]   2.250e-01\n",
       "dtype[1:882]:day_column[1:882]:seasonal_data[1:882, 5 + 9]  -1.775e+00\n",
       "dtype[1:882]:day_column[1:882]:seasonal_data[1:882, 5 + 10] -2.750e-01\n",
       "dtype[1:882]:day_column[1:882]:seasonal_data[1:882, 5 + 11] -9.000e-01\n",
       "dtype[1:882]:day_column[1:882]:seasonal_data[1:882, 5 + 12] -2.150e+00\n",
       "dtype[1:882]:day_column[1:882]:seasonal_data[1:882, 5 + 13] -1.550e+00\n",
       "dtype[1:882]:day_column[1:882]:seasonal_data[1:882, 5 + 14] -1.625e+00\n",
       "dtype[1:882]:day_column[1:882]:seasonal_data[1:882, 5 + 15] -8.250e-01\n",
       "dtype[1:882]:day_column[1:882]:seasonal_data[1:882, 5 + 16] -1.675e+00\n",
       "dtype[1:882]:day_column[1:882]:seasonal_data[1:882, 5 + 17] -1.425e+00\n",
       "dtype[1:882]:day_column[1:882]:seasonal_data[1:882, 5 + 18] -2.100e+00\n",
       "dtype[1:882]:day_column[1:882]:seasonal_data[1:882, 5 + 19] -1.425e+00\n",
       "dtype[1:882]:day_column[1:882]:seasonal_data[1:882, 5 + 20] -1.000e+00\n",
       "dtype[1:882]:day_column[1:882]:seasonal_data[1:882, 5 + 21] -3.225e+00\n",
       "dtype[1:882]:day_column[1:882]:seasonal_data[1:882, 5 + 22] -2.225e+00\n",
       "dtype[1:882]:day_column[1:882]:seasonal_data[1:882, 5 + 23] -1.825e+00\n",
       "dtype[1:882]:day_column[1:882]:seasonal_data[1:882, 5 + 24] -2.875e+00\n",
       "dtype[1:882]:day_column[1:882]:seasonal_data[1:882, 5 + 25] -2.225e+00\n",
       "dtype[1:882]:day_column[1:882]:seasonal_data[1:882, 5 + 26] -5.050e+00\n",
       "dtype[1:882]:day_column[1:882]:seasonal_data[1:882, 5 + 27] -2.600e+00\n",
       "dtype[1:882]:day_column[1:882]:seasonal_data[1:882, 5 + 28] -3.125e+00\n",
       "dtype[1:882]:day_column[1:882]:seasonal_data[1:882, 5 + 29] -4.700e+00\n",
       "dtype[1:882]:day_column[1:882]:seasonal_data[1:882, 5 + 30] -4.400e+00\n",
       "dtype[1:882]:day_column[1:882]:seasonal_data[1:882, 5 + 31] -4.925e+00\n",
       "dtype[1:882]:day_column[1:882]:seasonal_data[1:882, 5 + 32] -1.850e+00\n",
       "dtype[1:882]:day_column[1:882]:seasonal_data[1:882, 5 + 33] -2.700e+00\n",
       "dtype[1:882]:day_column[1:882]:seasonal_data[1:882, 5 + 34] -2.750e+00\n",
       "dtype[1:882]:day_column[1:882]:seasonal_data[1:882, 5 + 35] -2.425e+00\n",
       "dtype[1:882]:day_column[1:882]:seasonal_data[1:882, 5 + 36] -4.050e+00\n",
       "dtype[1:882]:day_column[1:882]:seasonal_data[1:882, 5 + 37] -1.800e+00\n",
       "dtype[1:882]:day_column[1:882]:seasonal_data[1:882, 5 + 38] -1.250e+00\n",
       "dtype[1:882]:day_column[1:882]:seasonal_data[1:882, 5 + 39] -8.000e-01\n",
       "dtype[1:882]:day_column[1:882]:seasonal_data[1:882, 5 + 40] -1.700e+00\n",
       "dtype[1:882]:day_column[1:882]:seasonal_data[1:882, 5 + 41] -8.549e-14\n",
       "dtype[1:882]:day_column[1:882]:seasonal_data[1:882, 5 + 42] -1.825e+00\n",
       "dtype[1:882]:day_column[1:882]:seasonal_data[1:882, 5 + 43] -2.250e+00\n",
       "dtype[1:882]:day_column[1:882]:seasonal_data[1:882, 5 + 44] -1.650e+00\n",
       "dtype[1:882]:day_column[1:882]:seasonal_data[1:882, 5 + 45] -1.900e+00\n",
       "dtype[1:882]:day_column[1:882]:seasonal_data[1:882, 5 + 46] -7.000e-01\n",
       "dtype[1:882]:day_column[1:882]:seasonal_data[1:882, 5 + 47] -1.350e+00\n",
       "dtype[1:882]:day_column[1:882]:seasonal_data[1:882, 5 + 48]  2.425e+00\n",
       "dtype[1:882]:day_column[1:882]:seasonal_data[1:882, 5 + 49]  5.775e+00\n",
       "dtype[1:882]:day_column[1:882]:seasonal_data[1:882, 5 + 50]  5.475e+00\n",
       "dtype[1:882]:day_column[1:882]:seasonal_data[1:882, 5 + 51]  5.350e+00\n",
       "dtype[1:882]:day_column[1:882]:seasonal_data[1:882, 5 + 52]  3.475e+00\n",
       "dtype[1:882]:day_column[1:882]:seasonal_data[1:882, 5 + 53]  3.850e+00\n",
       "dtype[1:882]:day_column[1:882]:seasonal_data[1:882, 5 + 54]  1.225e+00\n",
       "dtype[1:882]:day_column[1:882]:seasonal_data[1:882, 5 + 55]  2.450e+00\n",
       "dtype[1:882]:day_column[1:882]:seasonal_data[1:882, 5 + 56]  4.175e+00\n",
       "dtype[1:882]:day_column[1:882]:seasonal_data[1:882, 5 + 57]  7.500e-01\n",
       "dtype[1:882]:day_column[1:882]:seasonal_data[1:882, 5 + 58] -7.000e-01\n",
       "dtype[1:882]:day_column[1:882]:seasonal_data[1:882, 5 + 59] -1.875e+00\n",
       "dtype[1:882]:day_column[1:882]:seasonal_data[1:882, 5 + 60]  5.250e-01\n",
       "dtype[1:882]:day_column[1:882]:seasonal_data[1:882, 5 + 61] -8.750e-01\n",
       "dtype[1:882]:day_column[1:882]:seasonal_data[1:882, 5 + 62] -1.750e-01\n",
       "                                                            Std. Error t value\n",
       "(Intercept)                                                  2.179e+01   0.547\n",
       "dtype[1:882]                                                 2.075e+01  -0.192\n",
       "day_column[1:882]                                            3.809e+00  -0.295\n",
       "seasonal_data[1:882, 5 + 1]                                  3.081e+01  -0.330\n",
       "seasonal_data[1:882, 5 + 2]                                  3.081e+01  -0.352\n",
       "seasonal_data[1:882, 5 + 3]                                  3.081e+01  -0.400\n",
       "seasonal_data[1:882, 5 + 4]                                  3.081e+01  -0.147\n",
       "seasonal_data[1:882, 5 + 5]                                  3.081e+01  -0.056\n",
       "seasonal_data[1:882, 5 + 6]                                  3.081e+01   0.274\n",
       "seasonal_data[1:882, 5 + 7]                                  3.081e+01   0.389\n",
       "seasonal_data[1:882, 5 + 8]                                  3.081e+01   0.501\n",
       "seasonal_data[1:882, 5 + 9]                                  3.081e+01   0.144\n",
       "seasonal_data[1:882, 5 + 10]                                 3.081e+01   0.439\n",
       "seasonal_data[1:882, 5 + 11]                                 3.081e+01   0.321\n",
       "seasonal_data[1:882, 5 + 12]                                 3.081e+01   0.211\n",
       "seasonal_data[1:882, 5 + 13]                                 3.081e+01   0.380\n",
       "seasonal_data[1:882, 5 + 14]                                 3.081e+01   0.272\n",
       "seasonal_data[1:882, 5 + 15]                                 3.081e+01   0.518\n",
       "seasonal_data[1:882, 5 + 16]                                 3.081e+01   0.447\n",
       "seasonal_data[1:882, 5 + 17]                                 3.081e+01   0.582\n",
       "seasonal_data[1:882, 5 + 18]                                 3.081e+01   0.638\n",
       "seasonal_data[1:882, 5 + 19]                                 3.081e+01   0.801\n",
       "seasonal_data[1:882, 5 + 20]                                 3.081e+01   1.045\n",
       "seasonal_data[1:882, 5 + 21]                                 3.081e+01   0.460\n",
       "seasonal_data[1:882, 5 + 22]                                 3.081e+01   0.846\n",
       "seasonal_data[1:882, 5 + 23]                                 3.081e+01   1.231\n",
       "seasonal_data[1:882, 5 + 24]                                 3.081e+01   1.041\n",
       "seasonal_data[1:882, 5 + 25]                                 3.081e+01   1.236\n",
       "seasonal_data[1:882, 5 + 26]                                 3.081e+01   0.797\n",
       "seasonal_data[1:882, 5 + 27]                                 3.081e+01   1.399\n",
       "seasonal_data[1:882, 5 + 28]                                 3.081e+01   1.320\n",
       "seasonal_data[1:882, 5 + 29]                                 3.081e+01   1.123\n",
       "seasonal_data[1:882, 5 + 30]                                 3.081e+01   1.058\n",
       "seasonal_data[1:882, 5 + 31]                                 3.081e+01   0.777\n",
       "seasonal_data[1:882, 5 + 32]                                 3.081e+01   1.727\n",
       "seasonal_data[1:882, 5 + 33]                                 3.081e+01   1.035\n",
       "seasonal_data[1:882, 5 + 34]                                 3.081e+01   0.824\n",
       "seasonal_data[1:882, 5 + 35]                                 3.081e+01   0.772\n",
       "seasonal_data[1:882, 5 + 36]                                 3.081e+01   0.506\n",
       "seasonal_data[1:882, 5 + 37]                                 3.081e+01   0.949\n",
       "seasonal_data[1:882, 5 + 38]                                 3.081e+01   1.030\n",
       "seasonal_data[1:882, 5 + 39]                                 3.081e+01   1.065\n",
       "seasonal_data[1:882, 5 + 40]                                 3.081e+01   0.798\n",
       "seasonal_data[1:882, 5 + 41]                                 3.081e+01   1.280\n",
       "seasonal_data[1:882, 5 + 42]                                 3.081e+01   0.833\n",
       "seasonal_data[1:882, 5 + 43]                                 3.081e+01   0.922\n",
       "seasonal_data[1:882, 5 + 44]                                 3.081e+01   1.396\n",
       "seasonal_data[1:882, 5 + 45]                                 3.081e+01   1.488\n",
       "seasonal_data[1:882, 5 + 46]                                 3.081e+01   2.178\n",
       "seasonal_data[1:882, 5 + 47]                                 3.081e+01   2.254\n",
       "seasonal_data[1:882, 5 + 48]                                 3.081e+01   4.352\n",
       "seasonal_data[1:882, 5 + 49]                                 3.081e+01   5.288\n",
       "seasonal_data[1:882, 5 + 50]                                 3.081e+01   5.599\n",
       "seasonal_data[1:882, 5 + 51]                                 3.081e+01   5.045\n",
       "seasonal_data[1:882, 5 + 52]                                 3.081e+01   4.309\n",
       "seasonal_data[1:882, 5 + 53]                                 3.081e+01   3.677\n",
       "seasonal_data[1:882, 5 + 54]                                 3.081e+01   3.047\n",
       "seasonal_data[1:882, 5 + 55]                                 3.081e+01   2.970\n",
       "seasonal_data[1:882, 5 + 56]                                 3.081e+01   3.065\n",
       "seasonal_data[1:882, 5 + 57]                                 3.081e+01   1.991\n",
       "seasonal_data[1:882, 5 + 58]                                 3.081e+01   1.160\n",
       "seasonal_data[1:882, 5 + 59]                                 3.081e+01   0.551\n",
       "seasonal_data[1:882, 5 + 60]                                 3.081e+01   1.086\n",
       "seasonal_data[1:882, 5 + 61]                                 3.081e+01   0.405\n",
       "seasonal_data[1:882, 5 + 62]                                 3.081e+01   0.217\n",
       "dtype[1:882]:day_column[1:882]                               3.241e+00   0.116\n",
       "dtype[1:882]:seasonal_data[1:882, 5 + 1]                     2.935e+01   0.195\n",
       "dtype[1:882]:seasonal_data[1:882, 5 + 2]                     2.935e+01   0.203\n",
       "dtype[1:882]:seasonal_data[1:882, 5 + 3]                     2.935e+01   0.299\n",
       "dtype[1:882]:seasonal_data[1:882, 5 + 4]                     2.935e+01   0.091\n",
       "dtype[1:882]:seasonal_data[1:882, 5 + 5]                     2.935e+01   0.139\n",
       "dtype[1:882]:seasonal_data[1:882, 5 + 6]                     2.935e+01   0.063\n",
       "dtype[1:882]:seasonal_data[1:882, 5 + 7]                     2.935e+01   0.142\n",
       "dtype[1:882]:seasonal_data[1:882, 5 + 8]                     2.935e+01  -0.170\n",
       "dtype[1:882]:seasonal_data[1:882, 5 + 9]                     2.935e+01   0.308\n",
       "dtype[1:882]:seasonal_data[1:882, 5 + 10]                    2.935e+01  -0.074\n",
       "dtype[1:882]:seasonal_data[1:882, 5 + 11]                    2.935e+01   0.126\n",
       "dtype[1:882]:seasonal_data[1:882, 5 + 12]                    2.935e+01   0.170\n",
       "dtype[1:882]:seasonal_data[1:882, 5 + 13]                    2.935e+01   0.106\n",
       "dtype[1:882]:seasonal_data[1:882, 5 + 14]                    2.935e+01   0.115\n",
       "dtype[1:882]:seasonal_data[1:882, 5 + 15]                    2.935e+01  -0.011\n",
       "dtype[1:882]:seasonal_data[1:882, 5 + 16]                    2.935e+01   0.088\n",
       "dtype[1:882]:seasonal_data[1:882, 5 + 17]                    2.935e+01   0.001\n",
       "dtype[1:882]:seasonal_data[1:882, 5 + 18]                    2.935e+01   0.220\n",
       "dtype[1:882]:seasonal_data[1:882, 5 + 19]                    2.935e+01  -0.110\n",
       "dtype[1:882]:seasonal_data[1:882, 5 + 20]                    2.935e+01  -0.167\n",
       "dtype[1:882]:seasonal_data[1:882, 5 + 21]                    2.935e+01   0.282\n",
       "dtype[1:882]:seasonal_data[1:882, 5 + 22]                    2.935e+01   0.135\n",
       "dtype[1:882]:seasonal_data[1:882, 5 + 23]                    2.935e+01  -0.135\n",
       "dtype[1:882]:seasonal_data[1:882, 5 + 24]                    2.935e+01   0.084\n",
       "dtype[1:882]:seasonal_data[1:882, 5 + 25]                    2.935e+01  -0.018\n",
       "dtype[1:882]:seasonal_data[1:882, 5 + 26]                    2.935e+01   0.499\n",
       "dtype[1:882]:seasonal_data[1:882, 5 + 27]                    2.935e+01   0.129\n",
       "dtype[1:882]:seasonal_data[1:882, 5 + 28]                    2.935e+01   0.197\n",
       "dtype[1:882]:seasonal_data[1:882, 5 + 29]                    2.935e+01   0.641\n",
       "dtype[1:882]:seasonal_data[1:882, 5 + 30]                    2.935e+01   0.215\n",
       "dtype[1:882]:seasonal_data[1:882, 5 + 31]                    2.935e+01   0.461\n",
       "dtype[1:882]:seasonal_data[1:882, 5 + 32]                    2.935e+01  -0.150\n",
       "dtype[1:882]:seasonal_data[1:882, 5 + 33]                    2.935e+01   0.160\n",
       "dtype[1:882]:seasonal_data[1:882, 5 + 34]                    2.935e+01   0.126\n",
       "dtype[1:882]:seasonal_data[1:882, 5 + 35]                    2.935e+01   0.173\n",
       "dtype[1:882]:seasonal_data[1:882, 5 + 36]                    2.935e+01   0.385\n",
       "dtype[1:882]:seasonal_data[1:882, 5 + 37]                    2.935e+01   0.077\n",
       "dtype[1:882]:seasonal_data[1:882, 5 + 38]                    2.935e+01  -0.111\n",
       "dtype[1:882]:seasonal_data[1:882, 5 + 39]                    2.935e+01  -0.106\n",
       "dtype[1:882]:seasonal_data[1:882, 5 + 40]                    2.935e+01  -0.024\n",
       "dtype[1:882]:seasonal_data[1:882, 5 + 41]                    2.935e+01  -0.499\n",
       "dtype[1:882]:seasonal_data[1:882, 5 + 42]                    2.935e+01  -0.127\n",
       "dtype[1:882]:seasonal_data[1:882, 5 + 43]                    2.935e+01  -0.181\n",
       "dtype[1:882]:seasonal_data[1:882, 5 + 44]                    2.935e+01  -0.426\n",
       "dtype[1:882]:seasonal_data[1:882, 5 + 45]                    2.935e+01  -0.271\n",
       "dtype[1:882]:seasonal_data[1:882, 5 + 46]                    2.935e+01  -0.433\n",
       "dtype[1:882]:seasonal_data[1:882, 5 + 47]                    2.935e+01  -0.499\n",
       "dtype[1:882]:seasonal_data[1:882, 5 + 48]                    2.935e+01  -1.193\n",
       "dtype[1:882]:seasonal_data[1:882, 5 + 49]                    2.935e+01  -1.822\n",
       "dtype[1:882]:seasonal_data[1:882, 5 + 50]                    2.935e+01  -1.829\n",
       "dtype[1:882]:seasonal_data[1:882, 5 + 51]                    2.935e+01  -1.743\n",
       "dtype[1:882]:seasonal_data[1:882, 5 + 52]                    2.935e+01  -1.480\n",
       "dtype[1:882]:seasonal_data[1:882, 5 + 53]                    2.935e+01  -1.400\n",
       "dtype[1:882]:seasonal_data[1:882, 5 + 54]                    2.935e+01  -0.941\n",
       "dtype[1:882]:seasonal_data[1:882, 5 + 55]                    2.935e+01  -1.056\n",
       "dtype[1:882]:seasonal_data[1:882, 5 + 56]                    2.935e+01  -1.192\n",
       "dtype[1:882]:seasonal_data[1:882, 5 + 57]                    2.935e+01  -0.612\n",
       "dtype[1:882]:seasonal_data[1:882, 5 + 58]                    2.935e+01  -0.281\n",
       "dtype[1:882]:seasonal_data[1:882, 5 + 59]                    2.935e+01  -0.028\n",
       "dtype[1:882]:seasonal_data[1:882, 5 + 60]                    2.935e+01  -0.471\n",
       "dtype[1:882]:seasonal_data[1:882, 5 + 61]                    2.935e+01   0.023\n",
       "dtype[1:882]:seasonal_data[1:882, 5 + 62]                    2.935e+01  -0.076\n",
       "day_column[1:882]:seasonal_data[1:882, 5 + 1]                5.386e+00   0.190\n",
       "day_column[1:882]:seasonal_data[1:882, 5 + 2]                5.386e+00   0.204\n",
       "day_column[1:882]:seasonal_data[1:882, 5 + 3]                5.386e+00   0.311\n",
       "day_column[1:882]:seasonal_data[1:882, 5 + 4]                5.386e+00   0.144\n",
       "day_column[1:882]:seasonal_data[1:882, 5 + 5]                5.386e+00   0.320\n",
       "day_column[1:882]:seasonal_data[1:882, 5 + 6]                5.386e+00  -0.176\n",
       "day_column[1:882]:seasonal_data[1:882, 5 + 7]                5.386e+00  -0.162\n",
       "day_column[1:882]:seasonal_data[1:882, 5 + 8]                5.386e+00  -0.125\n",
       "day_column[1:882]:seasonal_data[1:882, 5 + 9]                5.386e+00   0.153\n",
       "day_column[1:882]:seasonal_data[1:882, 5 + 10]               5.386e+00  -0.032\n",
       "day_column[1:882]:seasonal_data[1:882, 5 + 11]               5.386e+00  -0.056\n",
       "day_column[1:882]:seasonal_data[1:882, 5 + 12]               5.386e+00   0.641\n",
       "day_column[1:882]:seasonal_data[1:882, 5 + 13]               5.386e+00   0.306\n",
       "day_column[1:882]:seasonal_data[1:882, 5 + 14]               5.386e+00   0.441\n",
       "day_column[1:882]:seasonal_data[1:882, 5 + 15]               5.386e+00   0.088\n",
       "day_column[1:882]:seasonal_data[1:882, 5 + 16]               5.386e+00   0.376\n",
       "day_column[1:882]:seasonal_data[1:882, 5 + 17]               5.386e+00   0.330\n",
       "day_column[1:882]:seasonal_data[1:882, 5 + 18]               5.386e+00   0.149\n",
       "day_column[1:882]:seasonal_data[1:882, 5 + 19]               5.386e+00   0.422\n",
       "day_column[1:882]:seasonal_data[1:882, 5 + 20]               5.386e+00   0.093\n",
       "day_column[1:882]:seasonal_data[1:882, 5 + 21]               5.386e+00   0.775\n",
       "day_column[1:882]:seasonal_data[1:882, 5 + 22]               5.386e+00   0.311\n",
       "day_column[1:882]:seasonal_data[1:882, 5 + 23]               5.386e+00   0.367\n",
       "day_column[1:882]:seasonal_data[1:882, 5 + 24]               5.386e+00   0.580\n",
       "day_column[1:882]:seasonal_data[1:882, 5 + 25]               5.386e+00   0.311\n",
       "day_column[1:882]:seasonal_data[1:882, 5 + 26]               5.386e+00   1.049\n",
       "day_column[1:882]:seasonal_data[1:882, 5 + 27]               5.386e+00   0.056\n",
       "day_column[1:882]:seasonal_data[1:882, 5 + 28]               5.386e+00   0.255\n",
       "day_column[1:882]:seasonal_data[1:882, 5 + 29]               5.386e+00   0.204\n",
       "day_column[1:882]:seasonal_data[1:882, 5 + 30]               5.386e+00   1.151\n",
       "day_column[1:882]:seasonal_data[1:882, 5 + 31]               5.386e+00   1.072\n",
       "day_column[1:882]:seasonal_data[1:882, 5 + 32]               5.386e+00   0.009\n",
       "day_column[1:882]:seasonal_data[1:882, 5 + 33]               5.386e+00   0.297\n",
       "day_column[1:882]:seasonal_data[1:882, 5 + 34]               5.386e+00   0.603\n",
       "day_column[1:882]:seasonal_data[1:882, 5 + 35]               5.386e+00   0.422\n",
       "day_column[1:882]:seasonal_data[1:882, 5 + 36]               5.386e+00   0.956\n",
       "day_column[1:882]:seasonal_data[1:882, 5 + 37]               5.386e+00   0.074\n",
       "day_column[1:882]:seasonal_data[1:882, 5 + 38]               5.386e+00   0.139\n",
       "day_column[1:882]:seasonal_data[1:882, 5 + 39]               5.386e+00  -0.111\n",
       "day_column[1:882]:seasonal_data[1:882, 5 + 40]               5.386e+00   0.390\n",
       "day_column[1:882]:seasonal_data[1:882, 5 + 41]               5.386e+00   0.186\n",
       "day_column[1:882]:seasonal_data[1:882, 5 + 42]               5.386e+00   0.645\n",
       "day_column[1:882]:seasonal_data[1:882, 5 + 43]               5.386e+00   0.975\n",
       "day_column[1:882]:seasonal_data[1:882, 5 + 44]               5.386e+00   0.826\n",
       "day_column[1:882]:seasonal_data[1:882, 5 + 45]               5.386e+00   0.501\n",
       "day_column[1:882]:seasonal_data[1:882, 5 + 46]               5.386e+00  -0.353\n",
       "day_column[1:882]:seasonal_data[1:882, 5 + 47]               5.386e+00   0.102\n",
       "day_column[1:882]:seasonal_data[1:882, 5 + 48]               5.386e+00  -2.093\n",
       "day_column[1:882]:seasonal_data[1:882, 5 + 49]               5.386e+00  -3.217\n",
       "day_column[1:882]:seasonal_data[1:882, 5 + 50]               5.386e+00  -3.328\n",
       "day_column[1:882]:seasonal_data[1:882, 5 + 51]               5.386e+00  -2.980\n",
       "day_column[1:882]:seasonal_data[1:882, 5 + 52]               5.386e+00  -1.936\n",
       "day_column[1:882]:seasonal_data[1:882, 5 + 53]               5.386e+00  -1.773\n",
       "day_column[1:882]:seasonal_data[1:882, 5 + 54]               5.386e+00  -0.961\n",
       "day_column[1:882]:seasonal_data[1:882, 5 + 55]               5.386e+00  -1.272\n",
       "day_column[1:882]:seasonal_data[1:882, 5 + 56]               5.386e+00  -1.954\n",
       "day_column[1:882]:seasonal_data[1:882, 5 + 57]               5.386e+00  -0.603\n",
       "day_column[1:882]:seasonal_data[1:882, 5 + 58]               5.386e+00   0.111\n",
       "day_column[1:882]:seasonal_data[1:882, 5 + 59]               5.386e+00   0.673\n",
       "day_column[1:882]:seasonal_data[1:882, 5 + 60]               5.386e+00  -0.014\n",
       "day_column[1:882]:seasonal_data[1:882, 5 + 61]               5.386e+00   0.116\n",
       "day_column[1:882]:seasonal_data[1:882, 5 + 62]               5.386e+00   0.097\n",
       "dtype[1:882]:day_column[1:882]:seasonal_data[1:882, 5 + 1]   4.583e+00  -0.147\n",
       "dtype[1:882]:day_column[1:882]:seasonal_data[1:882, 5 + 2]   4.583e+00  -0.153\n",
       "dtype[1:882]:day_column[1:882]:seasonal_data[1:882, 5 + 3]   4.583e+00  -0.267\n",
       "dtype[1:882]:day_column[1:882]:seasonal_data[1:882, 5 + 4]   4.583e+00  -0.093\n",
       "dtype[1:882]:day_column[1:882]:seasonal_data[1:882, 5 + 5]   4.583e+00  -0.235\n",
       "dtype[1:882]:day_column[1:882]:seasonal_data[1:882, 5 + 6]   4.583e+00  -0.076\n",
       "dtype[1:882]:day_column[1:882]:seasonal_data[1:882, 5 + 7]   4.583e+00  -0.191\n",
       "dtype[1:882]:day_column[1:882]:seasonal_data[1:882, 5 + 8]   4.583e+00   0.049\n",
       "dtype[1:882]:day_column[1:882]:seasonal_data[1:882, 5 + 9]   4.583e+00  -0.387\n",
       "dtype[1:882]:day_column[1:882]:seasonal_data[1:882, 5 + 10]  4.583e+00  -0.060\n",
       "dtype[1:882]:day_column[1:882]:seasonal_data[1:882, 5 + 11]  4.583e+00  -0.196\n",
       "dtype[1:882]:day_column[1:882]:seasonal_data[1:882, 5 + 12]  4.583e+00  -0.469\n",
       "dtype[1:882]:day_column[1:882]:seasonal_data[1:882, 5 + 13]  4.583e+00  -0.338\n",
       "dtype[1:882]:day_column[1:882]:seasonal_data[1:882, 5 + 14]  4.583e+00  -0.355\n",
       "dtype[1:882]:day_column[1:882]:seasonal_data[1:882, 5 + 15]  4.583e+00  -0.180\n",
       "dtype[1:882]:day_column[1:882]:seasonal_data[1:882, 5 + 16]  4.583e+00  -0.365\n",
       "dtype[1:882]:day_column[1:882]:seasonal_data[1:882, 5 + 17]  4.583e+00  -0.311\n",
       "dtype[1:882]:day_column[1:882]:seasonal_data[1:882, 5 + 18]  4.583e+00  -0.458\n",
       "dtype[1:882]:day_column[1:882]:seasonal_data[1:882, 5 + 19]  4.583e+00  -0.311\n",
       "dtype[1:882]:day_column[1:882]:seasonal_data[1:882, 5 + 20]  4.583e+00  -0.218\n",
       "dtype[1:882]:day_column[1:882]:seasonal_data[1:882, 5 + 21]  4.583e+00  -0.704\n",
       "dtype[1:882]:day_column[1:882]:seasonal_data[1:882, 5 + 22]  4.583e+00  -0.485\n",
       "dtype[1:882]:day_column[1:882]:seasonal_data[1:882, 5 + 23]  4.583e+00  -0.398\n",
       "dtype[1:882]:day_column[1:882]:seasonal_data[1:882, 5 + 24]  4.583e+00  -0.627\n",
       "dtype[1:882]:day_column[1:882]:seasonal_data[1:882, 5 + 25]  4.583e+00  -0.485\n",
       "dtype[1:882]:day_column[1:882]:seasonal_data[1:882, 5 + 26]  4.583e+00  -1.102\n",
       "dtype[1:882]:day_column[1:882]:seasonal_data[1:882, 5 + 27]  4.583e+00  -0.567\n",
       "dtype[1:882]:day_column[1:882]:seasonal_data[1:882, 5 + 28]  4.583e+00  -0.682\n",
       "dtype[1:882]:day_column[1:882]:seasonal_data[1:882, 5 + 29]  4.583e+00  -1.025\n",
       "dtype[1:882]:day_column[1:882]:seasonal_data[1:882, 5 + 30]  4.583e+00  -0.960\n",
       "dtype[1:882]:day_column[1:882]:seasonal_data[1:882, 5 + 31]  4.583e+00  -1.075\n",
       "dtype[1:882]:day_column[1:882]:seasonal_data[1:882, 5 + 32]  4.583e+00  -0.404\n",
       "dtype[1:882]:day_column[1:882]:seasonal_data[1:882, 5 + 33]  4.583e+00  -0.589\n",
       "dtype[1:882]:day_column[1:882]:seasonal_data[1:882, 5 + 34]  4.583e+00  -0.600\n",
       "dtype[1:882]:day_column[1:882]:seasonal_data[1:882, 5 + 35]  4.583e+00  -0.529\n",
       "dtype[1:882]:day_column[1:882]:seasonal_data[1:882, 5 + 36]  4.583e+00  -0.884\n",
       "dtype[1:882]:day_column[1:882]:seasonal_data[1:882, 5 + 37]  4.583e+00  -0.393\n",
       "dtype[1:882]:day_column[1:882]:seasonal_data[1:882, 5 + 38]  4.583e+00  -0.273\n",
       "dtype[1:882]:day_column[1:882]:seasonal_data[1:882, 5 + 39]  4.583e+00  -0.175\n",
       "dtype[1:882]:day_column[1:882]:seasonal_data[1:882, 5 + 40]  4.583e+00  -0.371\n",
       "dtype[1:882]:day_column[1:882]:seasonal_data[1:882, 5 + 41]  4.583e+00   0.000\n",
       "dtype[1:882]:day_column[1:882]:seasonal_data[1:882, 5 + 42]  4.583e+00  -0.398\n",
       "dtype[1:882]:day_column[1:882]:seasonal_data[1:882, 5 + 43]  4.583e+00  -0.491\n",
       "dtype[1:882]:day_column[1:882]:seasonal_data[1:882, 5 + 44]  4.583e+00  -0.360\n",
       "dtype[1:882]:day_column[1:882]:seasonal_data[1:882, 5 + 45]  4.583e+00  -0.415\n",
       "dtype[1:882]:day_column[1:882]:seasonal_data[1:882, 5 + 46]  4.583e+00  -0.153\n",
       "dtype[1:882]:day_column[1:882]:seasonal_data[1:882, 5 + 47]  4.583e+00  -0.295\n",
       "dtype[1:882]:day_column[1:882]:seasonal_data[1:882, 5 + 48]  4.583e+00   0.529\n",
       "dtype[1:882]:day_column[1:882]:seasonal_data[1:882, 5 + 49]  4.583e+00   1.260\n",
       "dtype[1:882]:day_column[1:882]:seasonal_data[1:882, 5 + 50]  4.583e+00   1.195\n",
       "dtype[1:882]:day_column[1:882]:seasonal_data[1:882, 5 + 51]  4.583e+00   1.167\n",
       "dtype[1:882]:day_column[1:882]:seasonal_data[1:882, 5 + 52]  4.583e+00   0.758\n",
       "dtype[1:882]:day_column[1:882]:seasonal_data[1:882, 5 + 53]  4.583e+00   0.840\n",
       "dtype[1:882]:day_column[1:882]:seasonal_data[1:882, 5 + 54]  4.583e+00   0.267\n",
       "dtype[1:882]:day_column[1:882]:seasonal_data[1:882, 5 + 55]  4.583e+00   0.535\n",
       "dtype[1:882]:day_column[1:882]:seasonal_data[1:882, 5 + 56]  4.583e+00   0.911\n",
       "dtype[1:882]:day_column[1:882]:seasonal_data[1:882, 5 + 57]  4.583e+00   0.164\n",
       "dtype[1:882]:day_column[1:882]:seasonal_data[1:882, 5 + 58]  4.583e+00  -0.153\n",
       "dtype[1:882]:day_column[1:882]:seasonal_data[1:882, 5 + 59]  4.583e+00  -0.409\n",
       "dtype[1:882]:day_column[1:882]:seasonal_data[1:882, 5 + 60]  4.583e+00   0.115\n",
       "dtype[1:882]:day_column[1:882]:seasonal_data[1:882, 5 + 61]  4.583e+00  -0.191\n",
       "dtype[1:882]:day_column[1:882]:seasonal_data[1:882, 5 + 62]  4.583e+00  -0.038\n",
       "                                                            Pr(>|t|)    \n",
       "(Intercept)                                                 0.584329    \n",
       "dtype[1:882]                                                0.848157    \n",
       "day_column[1:882]                                           0.767792    \n",
       "seasonal_data[1:882, 5 + 1]                                 0.741328    \n",
       "seasonal_data[1:882, 5 + 2]                                 0.724845    \n",
       "seasonal_data[1:882, 5 + 3]                                 0.689277    \n",
       "seasonal_data[1:882, 5 + 4]                                 0.883287    \n",
       "seasonal_data[1:882, 5 + 5]                                 0.955370    \n",
       "seasonal_data[1:882, 5 + 6]                                 0.783980    \n",
       "seasonal_data[1:882, 5 + 7]                                 0.697658    \n",
       "seasonal_data[1:882, 5 + 8]                                 0.616803    \n",
       "seasonal_data[1:882, 5 + 9]                                 0.885848    \n",
       "seasonal_data[1:882, 5 + 10]                                0.660835    \n",
       "seasonal_data[1:882, 5 + 11]                                0.748078    \n",
       "seasonal_data[1:882, 5 + 12]                                0.832983    \n",
       "seasonal_data[1:882, 5 + 13]                                0.704269    \n",
       "seasonal_data[1:882, 5 + 14]                                0.785850    \n",
       "seasonal_data[1:882, 5 + 15]                                0.604302    \n",
       "seasonal_data[1:882, 5 + 16]                                0.654969    \n",
       "seasonal_data[1:882, 5 + 17]                                0.560926    \n",
       "seasonal_data[1:882, 5 + 18]                                0.523861    \n",
       "seasonal_data[1:882, 5 + 19]                                0.423518    \n",
       "seasonal_data[1:882, 5 + 20]                                0.296384    \n",
       "seasonal_data[1:882, 5 + 21]                                0.645629    \n",
       "seasonal_data[1:882, 5 + 22]                                0.397711    \n",
       "seasonal_data[1:882, 5 + 23]                                0.218821    \n",
       "seasonal_data[1:882, 5 + 24]                                0.298262    \n",
       "seasonal_data[1:882, 5 + 25]                                0.217007    \n",
       "seasonal_data[1:882, 5 + 26]                                0.425870    \n",
       "seasonal_data[1:882, 5 + 27]                                0.162348    \n",
       "seasonal_data[1:882, 5 + 28]                                0.187264    \n",
       "seasonal_data[1:882, 5 + 29]                                0.261874    \n",
       "seasonal_data[1:882, 5 + 30]                                0.290430    \n",
       "seasonal_data[1:882, 5 + 31]                                0.437739    \n",
       "seasonal_data[1:882, 5 + 32]                                0.084719 .  \n",
       "seasonal_data[1:882, 5 + 33]                                0.300903    \n",
       "seasonal_data[1:882, 5 + 34]                                0.410033    \n",
       "seasonal_data[1:882, 5 + 35]                                0.440615    \n",
       "seasonal_data[1:882, 5 + 36]                                0.612813    \n",
       "seasonal_data[1:882, 5 + 37]                                0.342812    \n",
       "seasonal_data[1:882, 5 + 38]                                0.303180    \n",
       "seasonal_data[1:882, 5 + 39]                                0.287483    \n",
       "seasonal_data[1:882, 5 + 40]                                0.424928    \n",
       "seasonal_data[1:882, 5 + 41]                                0.200879    \n",
       "seasonal_data[1:882, 5 + 42]                                0.404986    \n",
       "seasonal_data[1:882, 5 + 43]                                0.357011    \n",
       "seasonal_data[1:882, 5 + 44]                                0.163323    \n",
       "seasonal_data[1:882, 5 + 45]                                0.137222    \n",
       "seasonal_data[1:882, 5 + 46]                                0.029791 *  \n",
       "seasonal_data[1:882, 5 + 47]                                0.024534 *  \n",
       "seasonal_data[1:882, 5 + 48]                                1.58e-05 ***\n",
       "seasonal_data[1:882, 5 + 49]                                1.71e-07 ***\n",
       "seasonal_data[1:882, 5 + 50]                                3.21e-08 ***\n",
       "seasonal_data[1:882, 5 + 51]                                5.93e-07 ***\n",
       "seasonal_data[1:882, 5 + 52]                                1.90e-05 ***\n",
       "seasonal_data[1:882, 5 + 53]                                0.000256 ***\n",
       "seasonal_data[1:882, 5 + 54]                                0.002410 ** \n",
       "seasonal_data[1:882, 5 + 55]                                0.003094 ** \n",
       "seasonal_data[1:882, 5 + 56]                                0.002272 ** \n",
       "seasonal_data[1:882, 5 + 57]                                0.046893 *  \n",
       "seasonal_data[1:882, 5 + 58]                                0.246364    \n",
       "seasonal_data[1:882, 5 + 59]                                0.581869    \n",
       "seasonal_data[1:882, 5 + 60]                                0.277688    \n",
       "seasonal_data[1:882, 5 + 61]                                0.685696    \n",
       "seasonal_data[1:882, 5 + 62]                                0.828556    \n",
       "dtype[1:882]:day_column[1:882]                              0.907920    \n",
       "dtype[1:882]:seasonal_data[1:882, 5 + 1]                    0.845397    \n",
       "dtype[1:882]:seasonal_data[1:882, 5 + 2]                    0.839402    \n",
       "dtype[1:882]:seasonal_data[1:882, 5 + 3]                    0.765037    \n",
       "dtype[1:882]:seasonal_data[1:882, 5 + 4]                    0.927403    \n",
       "dtype[1:882]:seasonal_data[1:882, 5 + 5]                    0.889611    \n",
       "dtype[1:882]:seasonal_data[1:882, 5 + 6]                    0.949757    \n",
       "dtype[1:882]:seasonal_data[1:882, 5 + 7]                    0.886920    \n",
       "dtype[1:882]:seasonal_data[1:882, 5 + 8]                    0.865442    \n",
       "dtype[1:882]:seasonal_data[1:882, 5 + 9]                    0.758549    \n",
       "dtype[1:882]:seasonal_data[1:882, 5 + 10]                   0.940945    \n",
       "dtype[1:882]:seasonal_data[1:882, 5 + 11]                   0.899713    \n",
       "dtype[1:882]:seasonal_data[1:882, 5 + 12]                   0.864773    \n",
       "dtype[1:882]:seasonal_data[1:882, 5 + 13]                   0.915909    \n",
       "dtype[1:882]:seasonal_data[1:882, 5 + 14]                   0.908481    \n",
       "dtype[1:882]:seasonal_data[1:882, 5 + 15]                   0.991168    \n",
       "dtype[1:882]:seasonal_data[1:882, 5 + 16]                   0.930110    \n",
       "dtype[1:882]:seasonal_data[1:882, 5 + 17]                   0.999321    \n",
       "dtype[1:882]:seasonal_data[1:882, 5 + 18]                   0.826114    \n",
       "dtype[1:882]:seasonal_data[1:882, 5 + 19]                   0.912532    \n",
       "dtype[1:882]:seasonal_data[1:882, 5 + 20]                   0.867452    \n",
       "dtype[1:882]:seasonal_data[1:882, 5 + 21]                   0.778063    \n",
       "dtype[1:882]:seasonal_data[1:882, 5 + 22]                   0.892303    \n",
       "dtype[1:882]:seasonal_data[1:882, 5 + 23]                   0.892303    \n",
       "dtype[1:882]:seasonal_data[1:882, 5 + 24]                   0.932818    \n",
       "dtype[1:882]:seasonal_data[1:882, 5 + 25]                   0.985733    \n",
       "dtype[1:882]:seasonal_data[1:882, 5 + 26]                   0.617821    \n",
       "dtype[1:882]:seasonal_data[1:882, 5 + 27]                   0.897017    \n",
       "dtype[1:882]:seasonal_data[1:882, 5 + 28]                   0.844064    \n",
       "dtype[1:882]:seasonal_data[1:882, 5 + 29]                   0.522017    \n",
       "dtype[1:882]:seasonal_data[1:882, 5 + 30]                   0.830095    \n",
       "dtype[1:882]:seasonal_data[1:882, 5 + 31]                   0.645061    \n",
       "dtype[1:882]:seasonal_data[1:882, 5 + 32]                   0.880870    \n",
       "dtype[1:882]:seasonal_data[1:882, 5 + 33]                   0.872815    \n",
       "dtype[1:882]:seasonal_data[1:882, 5 + 34]                   0.899713    \n",
       "dtype[1:882]:seasonal_data[1:882, 5 + 35]                   0.862764    \n",
       "dtype[1:882]:seasonal_data[1:882, 5 + 36]                   0.700338    \n",
       "dtype[1:882]:seasonal_data[1:882, 5 + 37]                   0.938913    \n",
       "dtype[1:882]:seasonal_data[1:882, 5 + 38]                   0.911857    \n",
       "dtype[1:882]:seasonal_data[1:882, 5 + 39]                   0.915909    \n",
       "dtype[1:882]:seasonal_data[1:882, 5 + 40]                   0.980978    \n",
       "dtype[1:882]:seasonal_data[1:882, 5 + 41]                   0.617821    \n",
       "dtype[1:882]:seasonal_data[1:882, 5 + 42]                   0.899039    \n",
       "dtype[1:882]:seasonal_data[1:882, 5 + 43]                   0.856744    \n",
       "dtype[1:882]:seasonal_data[1:882, 5 + 44]                   0.670305    \n",
       "dtype[1:882]:seasonal_data[1:882, 5 + 45]                   0.786564    \n",
       "dtype[1:882]:seasonal_data[1:882, 5 + 46]                   0.665349    \n",
       "dtype[1:882]:seasonal_data[1:882, 5 + 47]                   0.617821    \n",
       "dtype[1:882]:seasonal_data[1:882, 5 + 48]                   0.233141    \n",
       "dtype[1:882]:seasonal_data[1:882, 5 + 49]                   0.068910 .  \n",
       "dtype[1:882]:seasonal_data[1:882, 5 + 50]                   0.067881 .  \n",
       "dtype[1:882]:seasonal_data[1:882, 5 + 51]                   0.081839 .  \n",
       "dtype[1:882]:seasonal_data[1:882, 5 + 52]                   0.139459    \n",
       "dtype[1:882]:seasonal_data[1:882, 5 + 53]                   0.161869    \n",
       "dtype[1:882]:seasonal_data[1:882, 5 + 54]                   0.346910    \n",
       "dtype[1:882]:seasonal_data[1:882, 5 + 55]                   0.291234    \n",
       "dtype[1:882]:seasonal_data[1:882, 5 + 56]                   0.233808    \n",
       "dtype[1:882]:seasonal_data[1:882, 5 + 57]                   0.541000    \n",
       "dtype[1:882]:seasonal_data[1:882, 5 + 58]                   0.778716    \n",
       "dtype[1:882]:seasonal_data[1:882, 5 + 59]                   0.977582    \n",
       "dtype[1:882]:seasonal_data[1:882, 5 + 60]                   0.637748    \n",
       "dtype[1:882]:seasonal_data[1:882, 5 + 61]                   0.981657    \n",
       "dtype[1:882]:seasonal_data[1:882, 5 + 62]                   0.939590    \n",
       "day_column[1:882]:seasonal_data[1:882, 5 + 1]               0.849130    \n",
       "day_column[1:882]:seasonal_data[1:882, 5 + 2]               0.838239    \n",
       "day_column[1:882]:seasonal_data[1:882, 5 + 3]               0.755912    \n",
       "day_column[1:882]:seasonal_data[1:882, 5 + 4]               0.885633    \n",
       "day_column[1:882]:seasonal_data[1:882, 5 + 5]               0.748868    \n",
       "day_column[1:882]:seasonal_data[1:882, 5 + 6]               0.860051    \n",
       "day_column[1:882]:seasonal_data[1:882, 5 + 7]               0.870998    \n",
       "day_column[1:882]:seasonal_data[1:882, 5 + 8]               0.900307    \n",
       "day_column[1:882]:seasonal_data[1:882, 5 + 9]               0.878310    \n",
       "day_column[1:882]:seasonal_data[1:882, 5 + 10]              0.974090    \n",
       "day_column[1:882]:seasonal_data[1:882, 5 + 11]              0.955599    \n",
       "day_column[1:882]:seasonal_data[1:882, 5 + 12]              0.522052    \n",
       "day_column[1:882]:seasonal_data[1:882, 5 + 13]              0.759442    \n",
       "day_column[1:882]:seasonal_data[1:882, 5 + 14]              0.659397    \n",
       "day_column[1:882]:seasonal_data[1:882, 5 + 15]              0.929753    \n",
       "day_column[1:882]:seasonal_data[1:882, 5 + 16]              0.707065    \n",
       "day_column[1:882]:seasonal_data[1:882, 5 + 17]              0.741846    \n",
       "day_column[1:882]:seasonal_data[1:882, 5 + 18]              0.881970    \n",
       "day_column[1:882]:seasonal_data[1:882, 5 + 19]              0.672886    \n",
       "day_column[1:882]:seasonal_data[1:882, 5 + 20]              0.926066    \n",
       "day_column[1:882]:seasonal_data[1:882, 5 + 21]              0.438541    \n",
       "day_column[1:882]:seasonal_data[1:882, 5 + 22]              0.755912    \n",
       "day_column[1:882]:seasonal_data[1:882, 5 + 23]              0.713975    \n",
       "day_column[1:882]:seasonal_data[1:882, 5 + 24]              0.561985    \n",
       "day_column[1:882]:seasonal_data[1:882, 5 + 25]              0.755912    \n",
       "day_column[1:882]:seasonal_data[1:882, 5 + 26]              0.294577    \n",
       "day_column[1:882]:seasonal_data[1:882, 5 + 27]              0.955599    \n",
       "day_column[1:882]:seasonal_data[1:882, 5 + 28]              0.798583    \n",
       "day_column[1:882]:seasonal_data[1:882, 5 + 29]              0.838239    \n",
       "day_column[1:882]:seasonal_data[1:882, 5 + 30]              0.250118    \n",
       "day_column[1:882]:seasonal_data[1:882, 5 + 31]              0.284034    \n",
       "day_column[1:882]:seasonal_data[1:882, 5 + 32]              0.992596    \n",
       "day_column[1:882]:seasonal_data[1:882, 5 + 33]              0.766516    \n",
       "day_column[1:882]:seasonal_data[1:882, 5 + 34]              0.546452    \n",
       "day_column[1:882]:seasonal_data[1:882, 5 + 35]              0.672886    \n",
       "day_column[1:882]:seasonal_data[1:882, 5 + 36]              0.339351    \n",
       "day_column[1:882]:seasonal_data[1:882, 5 + 37]              0.940822    \n",
       "day_column[1:882]:seasonal_data[1:882, 5 + 38]              0.889298    \n",
       "day_column[1:882]:seasonal_data[1:882, 5 + 39]              0.911335    \n",
       "day_column[1:882]:seasonal_data[1:882, 5 + 40]              0.696745    \n",
       "day_column[1:882]:seasonal_data[1:882, 5 + 41]              0.852767    \n",
       "day_column[1:882]:seasonal_data[1:882, 5 + 42]              0.519042    \n",
       "day_column[1:882]:seasonal_data[1:882, 5 + 43]              0.330063    \n",
       "day_column[1:882]:seasonal_data[1:882, 5 + 44]              0.408998    \n",
       "day_column[1:882]:seasonal_data[1:882, 5 + 45]              0.616338    \n",
       "day_column[1:882]:seasonal_data[1:882, 5 + 46]              0.724384    \n",
       "day_column[1:882]:seasonal_data[1:882, 5 + 47]              0.918697    \n",
       "day_column[1:882]:seasonal_data[1:882, 5 + 48]              0.036715 *  \n",
       "day_column[1:882]:seasonal_data[1:882, 5 + 49]              0.001363 ** \n",
       "day_column[1:882]:seasonal_data[1:882, 5 + 50]              0.000926 ***\n",
       "day_column[1:882]:seasonal_data[1:882, 5 + 51]              0.002994 ** \n",
       "day_column[1:882]:seasonal_data[1:882, 5 + 52]              0.053369 .  \n",
       "day_column[1:882]:seasonal_data[1:882, 5 + 53]              0.076695 .  \n",
       "day_column[1:882]:seasonal_data[1:882, 5 + 54]              0.337013    \n",
       "day_column[1:882]:seasonal_data[1:882, 5 + 55]              0.203912    \n",
       "day_column[1:882]:seasonal_data[1:882, 5 + 56]              0.051129 .  \n",
       "day_column[1:882]:seasonal_data[1:882, 5 + 57]              0.546452    \n",
       "day_column[1:882]:seasonal_data[1:882, 5 + 58]              0.911335    \n",
       "day_column[1:882]:seasonal_data[1:882, 5 + 59]              0.501172    \n",
       "day_column[1:882]:seasonal_data[1:882, 5 + 60]              0.988894    \n",
       "day_column[1:882]:seasonal_data[1:882, 5 + 61]              0.907657    \n",
       "day_column[1:882]:seasonal_data[1:882, 5 + 62]              0.922381    \n",
       "dtype[1:882]:day_column[1:882]:seasonal_data[1:882, 5 + 1]  0.882964    \n",
       "dtype[1:882]:day_column[1:882]:seasonal_data[1:882, 5 + 2]  0.878662    \n",
       "dtype[1:882]:day_column[1:882]:seasonal_data[1:882, 5 + 3]  0.789346    \n",
       "dtype[1:882]:day_column[1:882]:seasonal_data[1:882, 5 + 4]  0.926150    \n",
       "dtype[1:882]:day_column[1:882]:seasonal_data[1:882, 5 + 5]  0.814637    \n",
       "dtype[1:882]:day_column[1:882]:seasonal_data[1:882, 5 + 6]  0.939154    \n",
       "dtype[1:882]:day_column[1:882]:seasonal_data[1:882, 5 + 7]  0.848658    \n",
       "dtype[1:882]:day_column[1:882]:seasonal_data[1:882, 5 + 8]  0.960862    \n",
       "dtype[1:882]:day_column[1:882]:seasonal_data[1:882, 5 + 9]  0.698685    \n",
       "dtype[1:882]:day_column[1:882]:seasonal_data[1:882, 5 + 10] 0.952175    \n",
       "dtype[1:882]:day_column[1:882]:seasonal_data[1:882, 5 + 11] 0.844389    \n",
       "dtype[1:882]:day_column[1:882]:seasonal_data[1:882, 5 + 12] 0.639166    \n",
       "dtype[1:882]:day_column[1:882]:seasonal_data[1:882, 5 + 13] 0.735338    \n",
       "dtype[1:882]:day_column[1:882]:seasonal_data[1:882, 5 + 14] 0.723048    \n",
       "dtype[1:882]:day_column[1:882]:seasonal_data[1:882, 5 + 15] 0.857210    \n",
       "dtype[1:882]:day_column[1:882]:seasonal_data[1:882, 5 + 16] 0.714894    \n",
       "dtype[1:882]:day_column[1:882]:seasonal_data[1:882, 5 + 17] 0.755972    \n",
       "dtype[1:882]:day_column[1:882]:seasonal_data[1:882, 5 + 18] 0.646979    \n",
       "dtype[1:882]:day_column[1:882]:seasonal_data[1:882, 5 + 19] 0.755972    \n",
       "dtype[1:882]:day_column[1:882]:seasonal_data[1:882, 5 + 20] 0.827358    \n",
       "dtype[1:882]:day_column[1:882]:seasonal_data[1:882, 5 + 21] 0.481919    \n",
       "dtype[1:882]:day_column[1:882]:seasonal_data[1:882, 5 + 22] 0.627522    \n",
       "dtype[1:882]:day_column[1:882]:seasonal_data[1:882, 5 + 23] 0.690631    \n",
       "dtype[1:882]:day_column[1:882]:seasonal_data[1:882, 5 + 24] 0.530707    \n",
       "dtype[1:882]:day_column[1:882]:seasonal_data[1:882, 5 + 25] 0.627522    \n",
       "dtype[1:882]:day_column[1:882]:seasonal_data[1:882, 5 + 26] 0.270961    \n",
       "dtype[1:882]:day_column[1:882]:seasonal_data[1:882, 5 + 27] 0.570730    \n",
       "dtype[1:882]:day_column[1:882]:seasonal_data[1:882, 5 + 28] 0.495604    \n",
       "dtype[1:882]:day_column[1:882]:seasonal_data[1:882, 5 + 29] 0.305542    \n",
       "dtype[1:882]:day_column[1:882]:seasonal_data[1:882, 5 + 30] 0.337423    \n",
       "dtype[1:882]:day_column[1:882]:seasonal_data[1:882, 5 + 31] 0.282989    \n",
       "dtype[1:882]:day_column[1:882]:seasonal_data[1:882, 5 + 32] 0.686617    \n",
       "dtype[1:882]:day_column[1:882]:seasonal_data[1:882, 5 + 33] 0.556011    \n",
       "dtype[1:882]:day_column[1:882]:seasonal_data[1:882, 5 + 34] 0.548721    \n",
       "dtype[1:882]:day_column[1:882]:seasonal_data[1:882, 5 + 35] 0.596928    \n",
       "dtype[1:882]:day_column[1:882]:seasonal_data[1:882, 5 + 36] 0.377229    \n",
       "dtype[1:882]:day_column[1:882]:seasonal_data[1:882, 5 + 37] 0.694653    \n",
       "dtype[1:882]:day_column[1:882]:seasonal_data[1:882, 5 + 38] 0.785152    \n",
       "dtype[1:882]:day_column[1:882]:seasonal_data[1:882, 5 + 39] 0.861493    \n",
       "dtype[1:882]:day_column[1:882]:seasonal_data[1:882, 5 + 40] 0.710829    \n",
       "dtype[1:882]:day_column[1:882]:seasonal_data[1:882, 5 + 41] 1.000000    \n",
       "dtype[1:882]:day_column[1:882]:seasonal_data[1:882, 5 + 42] 0.690631    \n",
       "dtype[1:882]:day_column[1:882]:seasonal_data[1:882, 5 + 43] 0.623661    \n",
       "dtype[1:882]:day_column[1:882]:seasonal_data[1:882, 5 + 44] 0.718967    \n",
       "dtype[1:882]:day_column[1:882]:seasonal_data[1:882, 5 + 45] 0.678615    \n",
       "dtype[1:882]:day_column[1:882]:seasonal_data[1:882, 5 + 46] 0.878662    \n",
       "dtype[1:882]:day_column[1:882]:seasonal_data[1:882, 5 + 47] 0.768438    \n",
       "dtype[1:882]:day_column[1:882]:seasonal_data[1:882, 5 + 48] 0.596928    \n",
       "dtype[1:882]:day_column[1:882]:seasonal_data[1:882, 5 + 49] 0.208135    \n",
       "dtype[1:882]:day_column[1:882]:seasonal_data[1:882, 5 + 50] 0.232713    \n",
       "dtype[1:882]:day_column[1:882]:seasonal_data[1:882, 5 + 51] 0.243541    \n",
       "dtype[1:882]:day_column[1:882]:seasonal_data[1:882, 5 + 52] 0.448625    \n",
       "dtype[1:882]:day_column[1:882]:seasonal_data[1:882, 5 + 53] 0.401226    \n",
       "dtype[1:882]:day_column[1:882]:seasonal_data[1:882, 5 + 54] 0.789346    \n",
       "dtype[1:882]:day_column[1:882]:seasonal_data[1:882, 5 + 55] 0.593152    \n",
       "dtype[1:882]:day_column[1:882]:seasonal_data[1:882, 5 + 56] 0.362691    \n",
       "dtype[1:882]:day_column[1:882]:seasonal_data[1:882, 5 + 57] 0.870070    \n",
       "dtype[1:882]:day_column[1:882]:seasonal_data[1:882, 5 + 58] 0.878662    \n",
       "dtype[1:882]:day_column[1:882]:seasonal_data[1:882, 5 + 59] 0.682611    \n",
       "dtype[1:882]:day_column[1:882]:seasonal_data[1:882, 5 + 60] 0.908842    \n",
       "dtype[1:882]:day_column[1:882]:seasonal_data[1:882, 5 + 61] 0.848658    \n",
       "dtype[1:882]:day_column[1:882]:seasonal_data[1:882, 5 + 62] 0.969555    \n",
       "---\n",
       "Signif. codes:  0 '***' 0.001 '**' 0.01 '*' 0.05 '.' 0.1 ' ' 1\n",
       "\n",
       "Residual standard error: 6.326 on 630 degrees of freedom\n",
       "Multiple R-squared:  0.9472,\tAdjusted R-squared:  0.9261 \n",
       "F-statistic:    45 on 251 and 630 DF,  p-value: < 2.2e-16\n"
      ]
     },
     "metadata": {},
     "output_type": "display_data"
    }
   ],
   "source": [
    "model<-tslm(timeseries ~ dtype[1:882]*day_column[1:882] *(\n",
    "            \n",
    " + seasonal_data[1:882, 5+1 ]\n",
    "  + seasonal_data[1:882, 5+2 ]\n",
    "  + seasonal_data[1:882, 5+3 ]+ seasonal_data[1:882, 5+4 ]\n",
    " + seasonal_data[1:882, 5+5 ]+ seasonal_data[1:882, 5+6 ]+ seasonal_data[1:882, 5+7 ]+ seasonal_data[1:882, 5+8 ]\n",
    " + seasonal_data[1:882,  5+9]+ seasonal_data[1:882, 5+10 ]+ seasonal_data[1:882, 5+11 ]+ seasonal_data[1:882, 5+12 ]\n",
    " + seasonal_data[1:882, 5+13 ]+ seasonal_data[1:882, 5+14 ]+ seasonal_data[1:882, 5+15 ]+ seasonal_data[1:882, 5+16 ]\n",
    " + seasonal_data[1:882, 5+17 ]+ seasonal_data[1:882, 5+18 ]+ seasonal_data[1:882, 5+19 ]+ seasonal_data[1:882, 5+20 ]\n",
    " + seasonal_data[1:882, 5+21 ]+ seasonal_data[1:882, 5+22 ]+ seasonal_data[1:882, 5+23 ]+ seasonal_data[1:882, 5+24 ]\n",
    " + seasonal_data[1:882, 5+25 ]+ seasonal_data[1:882, 5+26 ]+ seasonal_data[1:882, 5+27 ]+ seasonal_data[1:882, 5+28 ]\n",
    "+ seasonal_data[1:882, 5+29 ]\n",
    "+ seasonal_data[1:882, 5+30 ]+ seasonal_data[1:882, 5+31 ]+ seasonal_data[1:882, 5+32]\n",
    "+ seasonal_data[1:882, 5+33 ]\n",
    "+ seasonal_data[1:882, 5+34 ]+ seasonal_data[1:882, 5+35 ]+ seasonal_data[1:882, 5+36 ]\n",
    "+ seasonal_data[1:882, 5+37 ]\n",
    "+ seasonal_data[1:882, 5+38 ]\n",
    "+ seasonal_data[1:882, 5+39 ]+ seasonal_data[1:882, 5+40 ]\n",
    "+ seasonal_data[1:882, 5+41 ]+ seasonal_data[1:882, 5+42 ]\n",
    "+ seasonal_data[1:882, 5+43 ]+ seasonal_data[1:882, 5+44 ]\n",
    "+ seasonal_data[1:882, 5+45 ]+ seasonal_data[1:882, 5+46 ]\n",
    "+ seasonal_data[1:882, 5+47 ]+ seasonal_data[1:882, 5+48 ]\n",
    "+ seasonal_data[1:882, 5+49 ]+ seasonal_data[1:882, 5+50 ]\n",
    "+ seasonal_data[1:882, 5+51 ]+ seasonal_data[1:882, 5+52 ]\n",
    "+ seasonal_data[1:882, 5+53 ]+ seasonal_data[1:882, 5+54 ]\n",
    "+ seasonal_data[1:882, 5+55 ]\n",
    "+ seasonal_data[1:882, 5+56 ]\n",
    "+ seasonal_data[1:882, 5+57 ]\n",
    "+ seasonal_data[1:882, 5+58 ]\n",
    "+ seasonal_data[1:882, 5+59 ]\n",
    "+ seasonal_data[1:882, 5+60 ]\n",
    "+ seasonal_data[1:882, 5+61 ]\n",
    "+ seasonal_data[1:882, 5+62 ]\n",
    "\n",
    "                )\n",
    "            \n",
    "           )\n",
    "\n",
    "summary(model)"
   ]
  },
  {
   "cell_type": "code",
   "execution_count": 14,
   "metadata": {
    "ExecuteTime": {
     "end_time": "2018-12-24T11:26:06.889231Z",
     "start_time": "2018-12-24T11:26:06.652Z"
    },
    "scrolled": false
   },
   "outputs": [
    {
     "data": {
      "image/png": "[encoded data removed]",
      "text/plain": [
       "Plot with title \"Model evaluated on timeseries\""
      ]
     },
     "metadata": {},
     "output_type": "display_data"
    },
    {
     "data": {
      "image/png": "[encoded data removed]",
      "text/plain": [
       "Plot with title \"Auto correlation of timeseries\""
      ]
     },
     "metadata": {},
     "output_type": "display_data"
    },
    {
     "data": {
      "image/png": "[encoded data removed]",
      "text/plain": [
       "Plot with title \"Auto correlation of model residuals\""
      ]
     },
     "metadata": {},
     "output_type": "display_data"
    },
    {
     "data": {
      "image/png": "[encoded data removed]",
      "text/plain": [
       "Plot with title \"Model residuals\""
      ]
     },
     "metadata": {},
     "output_type": "display_data"
    },
    {
     "data": {
      "image/png": "[encoded data removed]",
      "text/plain": [
       "Plot with title \"QQ plot of model residuals\""
      ]
     },
     "metadata": {},
     "output_type": "display_data"
    }
   ],
   "source": [
    "#coefficients(model)\n",
    "coef<-coefficients(model)\n",
    "plot(timeseries,main='Model evaluated on timeseries')\n",
    "lines(model$fitted, lwd = 2,col='blue')\n",
    "\n",
    "#model testing\n",
    "Acf(timeseries,main='Auto correlation of timeseries')\n",
    "Acf(resid(model),main='Auto correlation of model residuals')\n",
    "plot(resid(model),main='Model residuals')\n",
    "qqnorm(resid(model),main='QQ plot of model residuals')\n",
    "qqline(resid(model))"
   ]
  },
  {
   "cell_type": "markdown",
   "metadata": {},
   "source": [
    "# Smoothing methods"
   ]
  },
  {
   "cell_type": "code",
   "execution_count": 33,
   "metadata": {
    "ExecuteTime": {
     "end_time": "2018-12-24T11:38:44.407103Z",
     "start_time": "2018-12-24T11:38:36.978Z"
    }
   },
   "outputs": [],
   "source": [
    "# centered moving average with window order = \n",
    "ma.centered <- ma(timeseries, order = 63)\n",
    "\n",
    "# trailing moving average with window k = \n",
    "# in rollmean(), use argument align = right to calculate a trailing moving average.\n",
    "ma.trailing <- rollmean(timeseries, k = 63, align = \"right\")\n",
    "\n",
    "\n"
   ]
  },
  {
   "cell_type": "code",
   "execution_count": 34,
   "metadata": {
    "ExecuteTime": {
     "end_time": "2018-12-24T11:38:52.971793Z",
     "start_time": "2018-12-24T11:38:52.909Z"
    }
   },
   "outputs": [
    {
     "data": {
      "image/png": "[encoded data removed]",
      "text/plain": [
       "plot without title"
      ]
     },
     "metadata": {},
     "output_type": "display_data"
    }
   ],
   "source": [
    "plot(timeseries)\n",
    "lines(ma.centered,col='blue')\n",
    "lines(ma.trailing, lwd = 2, lty = 2,col='red')"
   ]
  },
  {
   "cell_type": "code",
   "execution_count": 35,
   "metadata": {
    "ExecuteTime": {
     "end_time": "2018-12-24T11:41:55.386115Z",
     "start_time": "2018-12-24T11:41:55.370Z"
    }
   },
   "outputs": [],
   "source": [
    "# obtain the last moving average in the training period\n",
    "last.ma <- tail(ma.trailing, 1)"
   ]
  },
  {
   "cell_type": "code",
   "execution_count": 44,
   "metadata": {
    "ExecuteTime": {
     "end_time": "2018-12-24T11:47:59.103879Z",
     "start_time": "2018-12-24T11:47:59.042Z"
    }
   },
   "outputs": [
    {
     "data": {
      "image/png": "[encoded data removed]",
      "text/plain": [
       "plot without title"
      ]
     },
     "metadata": {},
     "output_type": "display_data"
    }
   ],
   "source": [
    "# create forecast based on last MA\n",
    "ma.trailing.pred <- ts(rep(last.ma, 120),freq=63,start = c(14,63 +1))\n",
    "plot(timeseries)\n",
    "lines(ma.trailing, lwd = 2, lty = 2,col='red')\n",
    "lines(ma.trailing.pred,col='green',lwd=3)"
   ]
  },
  {
   "cell_type": "markdown",
   "metadata": {},
   "source": [
    "# Moving average to residuals"
   ]
  },
  {
   "cell_type": "markdown",
   "metadata": {},
   "source": [
    "**Choosing window width (w)**\n",
    "With moving average forecasting or visualization, the only choice that the user\n",
    "must make is the width of the window (w). As with other methods such as knearest neighbors, the choice of the smoothing parameter is a balance between\n",
    "under-smoothing and over-smoothing. For visualization (using a centered window), wider windows will expose more global trends, while narrow windows\n",
    "will reveal local trends. Hence, examining several window widths is useful for\n",
    "exploring trends of differing local/global nature. For forecasting (using a trailing window), the choice should incorporate domain knowledge in terms of\n",
    "relevance of past values and how fast the series changes. Empirical predictive\n",
    "evaluation can also be done by experimenting with different values of w and\n",
    "comparing performance. However, care should be taken not to overfit!"
   ]
  },
  {
   "cell_type": "code",
   "execution_count": 59,
   "metadata": {
    "ExecuteTime": {
     "end_time": "2018-12-24T12:03:21.803264Z",
     "start_time": "2018-12-24T12:03:21.690Z"
    }
   },
   "outputs": [
    {
     "name": "stdout",
     "output_type": "stream",
     "text": [
      "Last trailing moving average value -5.25"
     ]
    },
    {
     "data": {
      "image/png": "[encoded data removed]",
      "text/plain": [
       "plot without title"
      ]
     },
     "metadata": {},
     "output_type": "display_data"
    },
    {
     "data": {
      "image/png": "[encoded data removed]",
      "text/plain": [
       "Plot with title \"Series  model$residuals\""
      ]
     },
     "metadata": {},
     "output_type": "display_data"
    }
   ],
   "source": [
    "# create single-point forecast\n",
    "#cant do it yet i have to define the model\n",
    "\n",
    "# apply MA to residuals    k =window\n",
    "ma.trailing <- rollmean(model$residuals, k = 10, align = \"right\")\n",
    "last.ma <- tail(ma.trailing, 1)\n",
    "cat('Last trailing moving average value',last.ma)\n",
    "\n",
    "plot(model$residuals)\n",
    "lines(ma.trailing,col='blue',lwd=2)\n",
    "\n",
    "Acf(model$residuals)"
   ]
  },
  {
   "cell_type": "markdown",
   "metadata": {},
   "source": [
    "Maybe since our residuals have high autocorrelation at lag 1 , we can use this to improve the next prediction by using the trailing moving average of the errors to subtract the last value of the t.m.a. from the models prediction.In a sense,since we kind of know what the next error is going to be from the previous error,we use this information to improve the next forecast."
   ]
  },
  {
   "cell_type": "markdown",
   "metadata": {},
   "source": [
    "# Simple exponential smoothing"
   ]
  },
  {
   "cell_type": "code",
   "execution_count": 68,
   "metadata": {
    "ExecuteTime": {
     "end_time": "2018-12-24T21:31:20.993023Z",
     "start_time": "2018-12-24T21:31:20.920Z"
    }
   },
   "outputs": [
    {
     "data": {
      "image/png": "[encoded data removed]",
      "text/plain": [
       "Plot with title \"Forecasts from ETS(A,N,N)\""
      ]
     },
     "metadata": {},
     "output_type": "display_data"
    }
   ],
   "source": [
    "# get residuals\n",
    "residuals.ts <- model$residuals\n",
    "# run simple exponential smoothing\n",
    "# use ets() with model = \"ANN\" (additive error (A), no trend (N), no seasonality (N))\n",
    "# and alpha = 0.2 to fit simple exponential smoothing.\n",
    "ses <- ets(residuals.ts, model = \"ANN\", alpha = 0.2)\n",
    "ses.pred <- forecast(ses, h = 10, level = 0)\n",
    "\n",
    "plot(ses.pred)\n",
    "lines(ses.pred$fitted,col='blue')"
   ]
  },
  {
   "cell_type": "markdown",
   "metadata": {},
   "source": [
    "# Holt-Winters"
   ]
  },
  {
   "cell_type": "code",
   "execution_count": 92,
   "metadata": {
    "ExecuteTime": {
     "end_time": "2018-12-24T21:46:50.826461Z",
     "start_time": "2018-12-24T21:46:50.807Z"
    }
   },
   "outputs": [
    {
     "data": {
      "text/plain": [
       "15 minute periodicity from 2005-03-01 06:30:00 to 2005-03-14 22:00:00 "
      ]
     },
     "metadata": {},
     "output_type": "display_data"
    }
   ],
   "source": [
    "my.xts = xts(coredata(training.set$demand), order.by=as.POSIXct(training.set$date.and.time))\n",
    "attr(my.xts,\"frequency\")<-63\n",
    "periodicity(my.xts)\n",
    "timeseries<-as.ts(my.xts)"
   ]
  },
  {
   "cell_type": "code",
   "execution_count": 80,
   "metadata": {
    "ExecuteTime": {
     "end_time": "2018-12-24T21:41:28.849593Z",
     "start_time": "2018-12-24T21:41:22.519Z"
    }
   },
   "outputs": [],
   "source": [
    "# run Holt-Winters exponential smoothing\n",
    "# use ets() with option model = \"MAA\" to fit Holt-Winter's exponential smoothing\n",
    "# with multiplicative error, additive trend, and additive seasonality.\n",
    "hwin <- ets(timeseries, model = \"ZAZ\")\n",
    "# create predictions\n",
    "hwin.pred <- forecast(hwin, h = 100, level = 0)"
   ]
  },
  {
   "cell_type": "code",
   "execution_count": 81,
   "metadata": {
    "ExecuteTime": {
     "end_time": "2018-12-24T21:41:37.232286Z",
     "start_time": "2018-12-24T21:41:32.037Z"
    }
   },
   "outputs": [
    {
     "data": {
      "image/png": "[encoded data removed]",
      "text/plain": [
       "Plot with title \"Forecasts from ETS(A,Ad,N)\""
      ]
     },
     "metadata": {},
     "output_type": "display_data"
    }
   ],
   "source": [
    "plot(hwin.pred)\n",
    "lines(hwin.pred$fitted, lwd = 2, col = \"blue\")"
   ]
  },
  {
   "cell_type": "markdown",
   "metadata": {},
   "source": [
    "# Links-References"
   ]
  },
  {
   "cell_type": "markdown",
   "metadata": {},
   "source": [
    "holt winters may be bad for my data\n",
    "- https://stats.stackexchange.com/questions/76322/forecasting-using-holt-winters-technique-using-r-with-less-than-2-years-of-histo \n"
   ]
  },
  {
   "cell_type": "markdown",
   "metadata": {},
   "source": [
    "More on TBATS\n",
    "- https://robjhyndman.com/hyndsight/tbats-with-regressors/  \n",
    "\n",
    "- https://robjhyndman.com/hyndsight/seasonal-periods/"
   ]
  }
 ],
 "metadata": {
  "kernelspec": {
   "display_name": "R",
   "language": "R",
   "name": "ir"
  },
  "language_info": {
   "codemirror_mode": "r",
   "file_extension": ".r",
   "mimetype": "text/x-r-source",
   "name": "R",
   "pygments_lexer": "r",
   "version": "3.5.1"
  },
  "latex_envs": {
   "LaTeX_envs_menu_present": true,
   "autoclose": false,
   "autocomplete": true,
   "bibliofile": "biblio.bib",
   "cite_by": "apalike",
   "current_citInitial": 1,
   "eqLabelWithNumbers": true,
   "eqNumInitial": 1,
   "hotkeys": {
    "equation": "Ctrl-E",
    "itemize": "Ctrl-I"
   },
   "labels_anchors": false,
   "latex_user_defs": false,
   "report_style_numbering": false,
   "user_envs_cfg": false
  },
  "toc": {
   "base_numbering": 1,
   "nav_menu": {},
   "number_sections": true,
   "sideBar": true,
   "skip_h1_title": false,
   "title_cell": "Table of Contents",
   "title_sidebar": "Contents",
   "toc_cell": false,
   "toc_position": {
    "height": "calc(100% - 180px)",
    "left": "10px",
    "top": "150px",
    "width": "384px"
   },
   "toc_section_display": true,
   "toc_window_display": true
  },
  "varInspector": {
   "cols": {
    "lenName": 16,
    "lenType": 16,
    "lenVar": 40
   },
   "kernels_config": {
    "python": {
     "delete_cmd_postfix": "",
     "delete_cmd_prefix": "del ",
     "library": "var_list.py",
     "varRefreshCmd": "print(var_dic_list())"
    },
    "r": {
     "delete_cmd_postfix": ") ",
     "delete_cmd_prefix": "rm(",
     "library": "var_list.r",
     "varRefreshCmd": "cat(var_dic_list()) "
    }
   },
   "types_to_exclude": [
    "module",
    "function",
    "builtin_function_or_method",
    "instance",
    "_Feature"
   ],
   "window_display": false
  }
 },
 "nbformat": 4,
 "nbformat_minor": 2
}

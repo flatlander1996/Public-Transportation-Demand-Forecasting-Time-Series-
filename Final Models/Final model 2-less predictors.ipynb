{
 "cells": [
  {
   "cell_type": "markdown",
   "metadata": {},
   "source": [
    "# Removing the column with the highest p-value"
   ]
  },
  {
   "cell_type": "code",
   "execution_count": 2,
   "metadata": {
    "ExecuteTime": {
     "end_time": "2019-01-12T00:56:58.702277Z",
     "start_time": "2019-01-12T00:56:58.142Z"
    }
   },
   "outputs": [
    {
     "name": "stderr",
     "output_type": "stream",
     "text": [
      "\n",
      "Attaching package: 'lubridate'\n",
      "\n",
      "The following object is masked from 'package:base':\n",
      "\n",
      "    date\n",
      "\n",
      "Loading required package: zoo\n",
      "\n",
      "Attaching package: 'zoo'\n",
      "\n",
      "The following objects are masked from 'package:base':\n",
      "\n",
      "    as.Date, as.Date.numeric\n",
      "\n"
     ]
    },
    {
     "data": {
      "text/html": [
       "'C'"
      ],
      "text/latex": [
       "'C'"
      ],
      "text/markdown": [
       "'C'"
      ],
      "text/plain": [
       "[1] \"C\""
      ]
     },
     "metadata": {},
     "output_type": "display_data"
    }
   ],
   "source": [
    "library(lubridate)  #work with dates\n",
    "library(xts)\n",
    "library(forecast)\n",
    "lct <- Sys.getlocale(\"LC_TIME\"); Sys.setlocale(\"LC_TIME\", \"C\") #needed for as.POSIXct"
   ]
  },
  {
   "cell_type": "code",
   "execution_count": 3,
   "metadata": {
    "ExecuteTime": {
     "end_time": "2019-01-12T00:56:58.844520Z",
     "start_time": "2019-01-12T00:56:58.802Z"
    }
   },
   "outputs": [
    {
     "data": {
      "text/html": [
       "<table>\n",
       "<thead><tr><th scope=col>DATE</th><th scope=col>TIME</th><th scope=col>DEMAND</th></tr></thead>\n",
       "<tbody>\n",
       "\t<tr><td>1-Mar-05</td><td>6:30    </td><td> 1      </td></tr>\n",
       "\t<tr><td>1-Mar-05</td><td>6:45    </td><td> 2      </td></tr>\n",
       "\t<tr><td>1-Mar-05</td><td>7:00    </td><td> 4      </td></tr>\n",
       "\t<tr><td>1-Mar-05</td><td>7:15    </td><td> 0      </td></tr>\n",
       "\t<tr><td>1-Mar-05</td><td>7:30    </td><td>10      </td></tr>\n",
       "\t<tr><td>1-Mar-05</td><td>7:45    </td><td>13      </td></tr>\n",
       "</tbody>\n",
       "</table>\n"
      ],
      "text/latex": [
       "\\begin{tabular}{r|lll}\n",
       " DATE & TIME & DEMAND\\\\\n",
       "\\hline\n",
       "\t 1-Mar-05 & 6:30     &  1      \\\\\n",
       "\t 1-Mar-05 & 6:45     &  2      \\\\\n",
       "\t 1-Mar-05 & 7:00     &  4      \\\\\n",
       "\t 1-Mar-05 & 7:15     &  0      \\\\\n",
       "\t 1-Mar-05 & 7:30     & 10      \\\\\n",
       "\t 1-Mar-05 & 7:45     & 13      \\\\\n",
       "\\end{tabular}\n"
      ],
      "text/markdown": [
       "\n",
       "DATE | TIME | DEMAND | \n",
       "|---|---|---|---|---|---|\n",
       "| 1-Mar-05 | 6:30     |  1       | \n",
       "| 1-Mar-05 | 6:45     |  2       | \n",
       "| 1-Mar-05 | 7:00     |  4       | \n",
       "| 1-Mar-05 | 7:15     |  0       | \n",
       "| 1-Mar-05 | 7:30     | 10       | \n",
       "| 1-Mar-05 | 7:45     | 13       | \n",
       "\n",
       "\n"
      ],
      "text/plain": [
       "  DATE     TIME DEMAND\n",
       "1 1-Mar-05 6:30  1    \n",
       "2 1-Mar-05 6:45  2    \n",
       "3 1-Mar-05 7:00  4    \n",
       "4 1-Mar-05 7:15  0    \n",
       "5 1-Mar-05 7:30 10    \n",
       "6 1-Mar-05 7:45 13    "
      ]
     },
     "metadata": {},
     "output_type": "display_data"
    },
    {
     "data": {
      "text/html": [
       "<ol class=list-inline>\n",
       "\t<li>1512</li>\n",
       "\t<li>3</li>\n",
       "</ol>\n"
      ],
      "text/latex": [
       "\\begin{enumerate*}\n",
       "\\item 1512\n",
       "\\item 3\n",
       "\\end{enumerate*}\n"
      ],
      "text/markdown": [
       "1. 1512\n",
       "2. 3\n",
       "\n",
       "\n"
      ],
      "text/plain": [
       "[1] 1512    3"
      ]
     },
     "metadata": {},
     "output_type": "display_data"
    }
   ],
   "source": [
    "data <- read.csv('bicup2006.csv',sep=',')\n",
    "head(data)\n",
    "dim(data)"
   ]
  },
  {
   "cell_type": "code",
   "execution_count": 4,
   "metadata": {
    "ExecuteTime": {
     "end_time": "2019-01-12T00:56:59.301871Z",
     "start_time": "2019-01-12T00:56:59.281Z"
    }
   },
   "outputs": [],
   "source": [
    "daytype<-rep(\"weekday\",1512)\n",
    "daytype[253:378]<-\"weekend\"\n",
    "daytype[694:819]<-\"weekend\"\n",
    "daytype[1135:1260]<-\"weekend\"\n",
    "dtype<-rep(1,1512)\n",
    "dtype[which(daytype==\"weekend\")]<-3\n",
    "\n",
    "\n",
    "myseason<-rep(seq(1,63),24)"
   ]
  },
  {
   "cell_type": "code",
   "execution_count": 5,
   "metadata": {
    "ExecuteTime": {
     "end_time": "2019-01-12T00:56:59.808396Z",
     "start_time": "2019-01-12T00:56:59.761Z"
    }
   },
   "outputs": [
    {
     "data": {
      "text/html": [
       "<table>\n",
       "<thead><tr><th scope=col>date.and.time</th><th scope=col>demand</th><th scope=col>daytype</th><th scope=col>myseason</th><th scope=col>dtype</th></tr></thead>\n",
       "<tbody>\n",
       "\t<tr><td>2005-03-01 06:30:00</td><td> 1                 </td><td>weekday            </td><td>1                  </td><td>1                  </td></tr>\n",
       "\t<tr><td>2005-03-01 06:45:00</td><td> 2                 </td><td>weekday            </td><td>2                  </td><td>1                  </td></tr>\n",
       "\t<tr><td>2005-03-01 07:00:00</td><td> 4                 </td><td>weekday            </td><td>3                  </td><td>1                  </td></tr>\n",
       "\t<tr><td>2005-03-01 07:15:00</td><td> 0                 </td><td>weekday            </td><td>4                  </td><td>1                  </td></tr>\n",
       "\t<tr><td>2005-03-01 07:30:00</td><td>10                 </td><td>weekday            </td><td>5                  </td><td>1                  </td></tr>\n",
       "\t<tr><td>2005-03-01 07:45:00</td><td>13                 </td><td>weekday            </td><td>6                  </td><td>1                  </td></tr>\n",
       "</tbody>\n",
       "</table>\n"
      ],
      "text/latex": [
       "\\begin{tabular}{r|lllll}\n",
       " date.and.time & demand & daytype & myseason & dtype\\\\\n",
       "\\hline\n",
       "\t 2005-03-01 06:30:00 &  1                  & weekday             & 1                   & 1                  \\\\\n",
       "\t 2005-03-01 06:45:00 &  2                  & weekday             & 2                   & 1                  \\\\\n",
       "\t 2005-03-01 07:00:00 &  4                  & weekday             & 3                   & 1                  \\\\\n",
       "\t 2005-03-01 07:15:00 &  0                  & weekday             & 4                   & 1                  \\\\\n",
       "\t 2005-03-01 07:30:00 & 10                  & weekday             & 5                   & 1                  \\\\\n",
       "\t 2005-03-01 07:45:00 & 13                  & weekday             & 6                   & 1                  \\\\\n",
       "\\end{tabular}\n"
      ],
      "text/markdown": [
       "\n",
       "date.and.time | demand | daytype | myseason | dtype | \n",
       "|---|---|---|---|---|---|\n",
       "| 2005-03-01 06:30:00 |  1                  | weekday             | 1                   | 1                   | \n",
       "| 2005-03-01 06:45:00 |  2                  | weekday             | 2                   | 1                   | \n",
       "| 2005-03-01 07:00:00 |  4                  | weekday             | 3                   | 1                   | \n",
       "| 2005-03-01 07:15:00 |  0                  | weekday             | 4                   | 1                   | \n",
       "| 2005-03-01 07:30:00 | 10                  | weekday             | 5                   | 1                   | \n",
       "| 2005-03-01 07:45:00 | 13                  | weekday             | 6                   | 1                   | \n",
       "\n",
       "\n"
      ],
      "text/plain": [
       "  date.and.time       demand daytype myseason dtype\n",
       "1 2005-03-01 06:30:00  1     weekday 1        1    \n",
       "2 2005-03-01 06:45:00  2     weekday 2        1    \n",
       "3 2005-03-01 07:00:00  4     weekday 3        1    \n",
       "4 2005-03-01 07:15:00  0     weekday 4        1    \n",
       "5 2005-03-01 07:30:00 10     weekday 5        1    \n",
       "6 2005-03-01 07:45:00 13     weekday 6        1    "
      ]
     },
     "metadata": {},
     "output_type": "display_data"
    },
    {
     "data": {
      "text/html": [
       "<ol class=list-inline>\n",
       "\t<li>1512</li>\n",
       "\t<li>5</li>\n",
       "</ol>\n"
      ],
      "text/latex": [
       "\\begin{enumerate*}\n",
       "\\item 1512\n",
       "\\item 5\n",
       "\\end{enumerate*}\n"
      ],
      "text/markdown": [
       "1. 1512\n",
       "2. 5\n",
       "\n",
       "\n"
      ],
      "text/plain": [
       "[1] 1512    5"
      ]
     },
     "metadata": {},
     "output_type": "display_data"
    }
   ],
   "source": [
    "date.and.time<-paste(data$DATE,data$TIME) #combine date and time in one column\n",
    "posix.date<-as.POSIXct(date.and.time,format=\"%d-%b-%y %H:%M\")\n",
    "#create new dataframe with columns posix.date and demand\n",
    "newdata<-data.frame(posix.date,data$DEMAND,daytype,myseason,dtype)\n",
    "names(newdata)<-c('date.and.time','demand','daytype','myseason','dtype')\n",
    "head(newdata)\n",
    "dim(newdata)"
   ]
  },
  {
   "cell_type": "code",
   "execution_count": 6,
   "metadata": {
    "ExecuteTime": {
     "end_time": "2019-01-12T00:57:00.238924Z",
     "start_time": "2019-01-12T00:57:00.217Z"
    }
   },
   "outputs": [],
   "source": [
    "#indexes for first two weeks\n",
    "training.set<-newdata[1:(14*63),]\n",
    "#indexes for last week\n",
    "validation.set<-newdata[((14*63)+1):(21*63),]\n",
    "#indexes for last 3 days\n",
    "future.set<-newdata[((21*63)+1):dim(newdata)[1],]"
   ]
  },
  {
   "cell_type": "code",
   "execution_count": 7,
   "metadata": {
    "ExecuteTime": {
     "end_time": "2019-01-12T00:57:00.721639Z",
     "start_time": "2019-01-12T00:57:00.699Z"
    }
   },
   "outputs": [
    {
     "data": {
      "text/plain": [
       "15 minute periodicity from 2005-03-01 06:30:00 to 2005-03-24 22:00:00 "
      ]
     },
     "metadata": {},
     "output_type": "display_data"
    }
   ],
   "source": [
    "newdata.xts = xts(coredata(newdata$demand), order.by=as.POSIXct(newdata$date.and.time))\n",
    "attr(newdata.xts,\"frequency\")<-63\n",
    "periodicity(newdata.xts)\n",
    "total_timeseries<-as.ts(newdata.xts)"
   ]
  },
  {
   "cell_type": "code",
   "execution_count": 8,
   "metadata": {
    "ExecuteTime": {
     "end_time": "2019-01-12T00:57:01.307226Z",
     "start_time": "2019-01-12T00:57:01.188Z"
    }
   },
   "outputs": [],
   "source": [
    "day_column<-rep(1,1512)\n",
    "for(i in seq(1:1512)){\n",
    "    \n",
    "        day<-strtoi(substr(newdata$date.and.time[i],9,10),base = 10)\n",
    "        if(day==7 | day==14 | day==21){\n",
    "            day_column[i]<-1\n",
    "        }else if(day==1 | day==8 | day==15 | day==22){\n",
    "            day_column[i]<-2\n",
    "        }else if(day==2 | day==9 | day==16 | day==23){\n",
    "            day_column[i]<-3\n",
    "        }else if(day==3 | day==10 | day==17 | day==24){\n",
    "            day_column[i]<-4\n",
    "        }else if(day==4 | day==11 | day==18 | day==25){\n",
    "            day_column[i]<-5\n",
    "        }else if(day==5 | day==12 | day==19 | day==26){\n",
    "            day_column[i]<-6\n",
    "        }else if(day==6 | day==13 | day==20){\n",
    "            day_column[i]<-7\n",
    "        }\n",
    "}\n",
    "            "
   ]
  },
  {
   "cell_type": "code",
   "execution_count": 30,
   "metadata": {
    "ExecuteTime": {
     "end_time": "2019-01-12T01:03:10.655592Z",
     "start_time": "2019-01-12T01:03:10.597Z"
    }
   },
   "outputs": [
    {
     "data": {
      "text/html": [
       "<table>\n",
       "<thead><tr><th scope=col>demand</th><th scope=col>daytype</th><th scope=col>daynumber</th><th scope=col>S1</th><th scope=col>S2</th><th scope=col>S3</th><th scope=col>S4</th><th scope=col>S5</th><th scope=col>S6</th><th scope=col>S7</th><th scope=col>...</th><th scope=col>S53.day.dtype</th><th scope=col>S54.day.dtype</th><th scope=col>S55.day.dtype</th><th scope=col>S56.day.dtype</th><th scope=col>S57.day.dtype</th><th scope=col>S58.day.dtype</th><th scope=col>S59.day.dtype</th><th scope=col>S60.day.dtype</th><th scope=col>S61.day.dtype</th><th scope=col>S62.day.dtype</th></tr></thead>\n",
       "<tbody>\n",
       "\t<tr><td> 1 </td><td>1  </td><td>2  </td><td>1  </td><td>0  </td><td>0  </td><td>0  </td><td>0  </td><td>0  </td><td>0  </td><td>...</td><td>0  </td><td>0  </td><td>0  </td><td>0  </td><td>0  </td><td>0  </td><td>0  </td><td>0  </td><td>0  </td><td>0  </td></tr>\n",
       "\t<tr><td> 2 </td><td>1  </td><td>2  </td><td>0  </td><td>1  </td><td>0  </td><td>0  </td><td>0  </td><td>0  </td><td>0  </td><td>...</td><td>0  </td><td>0  </td><td>0  </td><td>0  </td><td>0  </td><td>0  </td><td>0  </td><td>0  </td><td>0  </td><td>0  </td></tr>\n",
       "\t<tr><td> 4 </td><td>1  </td><td>2  </td><td>0  </td><td>0  </td><td>1  </td><td>0  </td><td>0  </td><td>0  </td><td>0  </td><td>...</td><td>0  </td><td>0  </td><td>0  </td><td>0  </td><td>0  </td><td>0  </td><td>0  </td><td>0  </td><td>0  </td><td>0  </td></tr>\n",
       "\t<tr><td> 0 </td><td>1  </td><td>2  </td><td>0  </td><td>0  </td><td>0  </td><td>1  </td><td>0  </td><td>0  </td><td>0  </td><td>...</td><td>0  </td><td>0  </td><td>0  </td><td>0  </td><td>0  </td><td>0  </td><td>0  </td><td>0  </td><td>0  </td><td>0  </td></tr>\n",
       "\t<tr><td>10 </td><td>1  </td><td>2  </td><td>0  </td><td>0  </td><td>0  </td><td>0  </td><td>1  </td><td>0  </td><td>0  </td><td>...</td><td>0  </td><td>0  </td><td>0  </td><td>0  </td><td>0  </td><td>0  </td><td>0  </td><td>0  </td><td>0  </td><td>0  </td></tr>\n",
       "\t<tr><td>13 </td><td>1  </td><td>2  </td><td>0  </td><td>0  </td><td>0  </td><td>0  </td><td>0  </td><td>1  </td><td>0  </td><td>...</td><td>0  </td><td>0  </td><td>0  </td><td>0  </td><td>0  </td><td>0  </td><td>0  </td><td>0  </td><td>0  </td><td>0  </td></tr>\n",
       "</tbody>\n",
       "</table>\n"
      ],
      "text/latex": [
       "\\begin{tabular}{r|lllllllllllllllllllllllllllllllllllllllllllllllllllllllllllllllllllllllllllllllllllllllllllllllllllllllllllllllllllllllllllllllllllllllllllllllllllllllllllllllllllllllllllllllllllllllllllllllllllllllllllllllllllllllllllllllllllllllllllllllllllllllllll}\n",
       " demand & daytype & daynumber & S1 & S2 & S3 & S4 & S5 & S6 & S7 & ... & S53.day.dtype & S54.day.dtype & S55.day.dtype & S56.day.dtype & S57.day.dtype & S58.day.dtype & S59.day.dtype & S60.day.dtype & S61.day.dtype & S62.day.dtype\\\\\n",
       "\\hline\n",
       "\t  1  & 1   & 2   & 1   & 0   & 0   & 0   & 0   & 0   & 0   & ... & 0   & 0   & 0   & 0   & 0   & 0   & 0   & 0   & 0   & 0  \\\\\n",
       "\t  2  & 1   & 2   & 0   & 1   & 0   & 0   & 0   & 0   & 0   & ... & 0   & 0   & 0   & 0   & 0   & 0   & 0   & 0   & 0   & 0  \\\\\n",
       "\t  4  & 1   & 2   & 0   & 0   & 1   & 0   & 0   & 0   & 0   & ... & 0   & 0   & 0   & 0   & 0   & 0   & 0   & 0   & 0   & 0  \\\\\n",
       "\t  0  & 1   & 2   & 0   & 0   & 0   & 1   & 0   & 0   & 0   & ... & 0   & 0   & 0   & 0   & 0   & 0   & 0   & 0   & 0   & 0  \\\\\n",
       "\t 10  & 1   & 2   & 0   & 0   & 0   & 0   & 1   & 0   & 0   & ... & 0   & 0   & 0   & 0   & 0   & 0   & 0   & 0   & 0   & 0  \\\\\n",
       "\t 13  & 1   & 2   & 0   & 0   & 0   & 0   & 0   & 1   & 0   & ... & 0   & 0   & 0   & 0   & 0   & 0   & 0   & 0   & 0   & 0  \\\\\n",
       "\\end{tabular}\n"
      ],
      "text/markdown": [
       "\n",
       "demand | daytype | daynumber | S1 | S2 | S3 | S4 | S5 | S6 | S7 | ... | S53.day.dtype | S54.day.dtype | S55.day.dtype | S56.day.dtype | S57.day.dtype | S58.day.dtype | S59.day.dtype | S60.day.dtype | S61.day.dtype | S62.day.dtype | \n",
       "|---|---|---|---|---|---|\n",
       "|  1  | 1   | 2   | 1   | 0   | 0   | 0   | 0   | 0   | 0   | ... | 0   | 0   | 0   | 0   | 0   | 0   | 0   | 0   | 0   | 0   | \n",
       "|  2  | 1   | 2   | 0   | 1   | 0   | 0   | 0   | 0   | 0   | ... | 0   | 0   | 0   | 0   | 0   | 0   | 0   | 0   | 0   | 0   | \n",
       "|  4  | 1   | 2   | 0   | 0   | 1   | 0   | 0   | 0   | 0   | ... | 0   | 0   | 0   | 0   | 0   | 0   | 0   | 0   | 0   | 0   | \n",
       "|  0  | 1   | 2   | 0   | 0   | 0   | 1   | 0   | 0   | 0   | ... | 0   | 0   | 0   | 0   | 0   | 0   | 0   | 0   | 0   | 0   | \n",
       "| 10  | 1   | 2   | 0   | 0   | 0   | 0   | 1   | 0   | 0   | ... | 0   | 0   | 0   | 0   | 0   | 0   | 0   | 0   | 0   | 0   | \n",
       "| 13  | 1   | 2   | 0   | 0   | 0   | 0   | 0   | 1   | 0   | ... | 0   | 0   | 0   | 0   | 0   | 0   | 0   | 0   | 0   | 0   | \n",
       "\n",
       "\n"
      ],
      "text/plain": [
       "  demand daytype daynumber S1 S2 S3 S4 S5 S6 S7 ... S53.day.dtype S54.day.dtype\n",
       "1  1     1       2         1  0  0  0  0  0  0  ... 0             0            \n",
       "2  2     1       2         0  1  0  0  0  0  0  ... 0             0            \n",
       "3  4     1       2         0  0  1  0  0  0  0  ... 0             0            \n",
       "4  0     1       2         0  0  0  1  0  0  0  ... 0             0            \n",
       "5 10     1       2         0  0  0  0  1  0  0  ... 0             0            \n",
       "6 13     1       2         0  0  0  0  0  1  0  ... 0             0            \n",
       "  S55.day.dtype S56.day.dtype S57.day.dtype S58.day.dtype S59.day.dtype\n",
       "1 0             0             0             0             0            \n",
       "2 0             0             0             0             0            \n",
       "3 0             0             0             0             0            \n",
       "4 0             0             0             0             0            \n",
       "5 0             0             0             0             0            \n",
       "6 0             0             0             0             0            \n",
       "  S60.day.dtype S61.day.dtype S62.day.dtype\n",
       "1 0             0             0            \n",
       "2 0             0             0            \n",
       "3 0             0             0            \n",
       "4 0             0             0            \n",
       "5 0             0             0            \n",
       "6 0             0             0            "
      ]
     },
     "metadata": {},
     "output_type": "display_data"
    },
    {
     "data": {
      "text/html": [
       "<ol class=list-inline>\n",
       "\t<li>1512</li>\n",
       "\t<li>251</li>\n",
       "</ol>\n"
      ],
      "text/latex": [
       "\\begin{enumerate*}\n",
       "\\item 1512\n",
       "\\item 251\n",
       "\\end{enumerate*}\n"
      ],
      "text/markdown": [
       "1. 1512\n",
       "2. 251\n",
       "\n",
       "\n"
      ],
      "text/plain": [
       "[1] 1512  251"
      ]
     },
     "metadata": {},
     "output_type": "display_data"
    },
    {
     "data": {
      "text/html": [
       "<ol class=list-inline>\n",
       "\t<li>'demand'</li>\n",
       "\t<li>'daytype'</li>\n",
       "\t<li>'daynumber'</li>\n",
       "\t<li>'S1'</li>\n",
       "\t<li>'S2'</li>\n",
       "\t<li>'S3'</li>\n",
       "\t<li>'S4'</li>\n",
       "\t<li>'S5'</li>\n",
       "\t<li>'S6'</li>\n",
       "\t<li>'S7'</li>\n",
       "\t<li>'S8'</li>\n",
       "\t<li>'S9'</li>\n",
       "\t<li>'S10'</li>\n",
       "\t<li>'S11'</li>\n",
       "\t<li>'S12'</li>\n",
       "\t<li>'S13'</li>\n",
       "\t<li>'S14'</li>\n",
       "\t<li>'S15'</li>\n",
       "\t<li>'S16'</li>\n",
       "\t<li>'S17'</li>\n",
       "\t<li>'S18'</li>\n",
       "\t<li>'S19'</li>\n",
       "\t<li>'S20'</li>\n",
       "\t<li>'S21'</li>\n",
       "\t<li>'S22'</li>\n",
       "\t<li>'S23'</li>\n",
       "\t<li>'S24'</li>\n",
       "\t<li>'S25'</li>\n",
       "\t<li>'S26'</li>\n",
       "\t<li>'S27'</li>\n",
       "\t<li>'S28'</li>\n",
       "\t<li>'S29'</li>\n",
       "\t<li>'S30'</li>\n",
       "\t<li>'S31'</li>\n",
       "\t<li>'S32'</li>\n",
       "\t<li>'S33'</li>\n",
       "\t<li>'S34'</li>\n",
       "\t<li>'S35'</li>\n",
       "\t<li>'S36'</li>\n",
       "\t<li>'S37'</li>\n",
       "\t<li>'S38'</li>\n",
       "\t<li>'S39'</li>\n",
       "\t<li>'S40'</li>\n",
       "\t<li>'S41'</li>\n",
       "\t<li>'S42'</li>\n",
       "\t<li>'S43'</li>\n",
       "\t<li>'S44'</li>\n",
       "\t<li>'S45'</li>\n",
       "\t<li>'S46'</li>\n",
       "\t<li>'S47'</li>\n",
       "\t<li>'S48'</li>\n",
       "\t<li>'S49'</li>\n",
       "\t<li>'S50'</li>\n",
       "\t<li>'S51'</li>\n",
       "\t<li>'S52'</li>\n",
       "\t<li>'S53'</li>\n",
       "\t<li>'S54'</li>\n",
       "\t<li>'S55'</li>\n",
       "\t<li>'S56'</li>\n",
       "\t<li>'S57'</li>\n",
       "\t<li>'S58'</li>\n",
       "\t<li>'S59'</li>\n",
       "\t<li>'S60'</li>\n",
       "\t<li>'S61'</li>\n",
       "\t<li>'S62'</li>\n",
       "\t<li>'S1.dtype'</li>\n",
       "\t<li>'S2.dtype'</li>\n",
       "\t<li>'S3.dtype'</li>\n",
       "\t<li>'S4.dtype'</li>\n",
       "\t<li>'S5.dtype'</li>\n",
       "\t<li>'S6.dtype'</li>\n",
       "\t<li>'S7.dtype'</li>\n",
       "\t<li>'S8.dtype'</li>\n",
       "\t<li>'S9.dtype'</li>\n",
       "\t<li>'S10.dtype'</li>\n",
       "\t<li>'S11.dtype'</li>\n",
       "\t<li>'S12.dtype'</li>\n",
       "\t<li>'S13.dtype'</li>\n",
       "\t<li>'S14.dtype'</li>\n",
       "\t<li>'S15.dtype'</li>\n",
       "\t<li>'S16.dtype'</li>\n",
       "\t<li>'S17.dtype'</li>\n",
       "\t<li>'S18.dtype'</li>\n",
       "\t<li>'S19.dtype'</li>\n",
       "\t<li>'S20.dtype'</li>\n",
       "\t<li>'S21.dtype'</li>\n",
       "\t<li>'S22.dtype'</li>\n",
       "\t<li>'S23.dtype'</li>\n",
       "\t<li>'S24.dtype'</li>\n",
       "\t<li>'S25.dtype'</li>\n",
       "\t<li>'S26.dtype'</li>\n",
       "\t<li>'S27.dtype'</li>\n",
       "\t<li>'S28.dtype'</li>\n",
       "\t<li>'S29.dtype'</li>\n",
       "\t<li>'S30.dtype'</li>\n",
       "\t<li>'S31.dtype'</li>\n",
       "\t<li>'S32.dtype'</li>\n",
       "\t<li>'S33.dtype'</li>\n",
       "\t<li>'S34.dtype'</li>\n",
       "\t<li>'S35.dtype'</li>\n",
       "\t<li>'S36.dtype'</li>\n",
       "\t<li>'S37.dtype'</li>\n",
       "\t<li>'S38.dtype'</li>\n",
       "\t<li>'S39.dtype'</li>\n",
       "\t<li>'S40.dtype'</li>\n",
       "\t<li>'S41.dtype'</li>\n",
       "\t<li>'S42.dtype'</li>\n",
       "\t<li>'S43.dtype'</li>\n",
       "\t<li>'S44.dtype'</li>\n",
       "\t<li>'S45.dtype'</li>\n",
       "\t<li>'S46.dtype'</li>\n",
       "\t<li>'S47.dtype'</li>\n",
       "\t<li>'S48.dtype'</li>\n",
       "\t<li>'S49.dtype'</li>\n",
       "\t<li>'S50.dtype'</li>\n",
       "\t<li>'S51.dtype'</li>\n",
       "\t<li>'S52.dtype'</li>\n",
       "\t<li>'S53.dtype'</li>\n",
       "\t<li>'S54.dtype'</li>\n",
       "\t<li>'S55.dtype'</li>\n",
       "\t<li>'S56.dtype'</li>\n",
       "\t<li>'S57.dtype'</li>\n",
       "\t<li>'S58.dtype'</li>\n",
       "\t<li>'S59.dtype'</li>\n",
       "\t<li>'S60.dtype'</li>\n",
       "\t<li>'S61.dtype'</li>\n",
       "\t<li>'S62.dtype'</li>\n",
       "\t<li>'S1.day'</li>\n",
       "\t<li>'S2.day'</li>\n",
       "\t<li>'S3.day'</li>\n",
       "\t<li>'S4.day'</li>\n",
       "\t<li>'S5.day'</li>\n",
       "\t<li>'S6.day'</li>\n",
       "\t<li>'S7.day'</li>\n",
       "\t<li>'S8.day'</li>\n",
       "\t<li>'S9.day'</li>\n",
       "\t<li>'S10.day'</li>\n",
       "\t<li>'S11.day'</li>\n",
       "\t<li>'S12.day'</li>\n",
       "\t<li>'S13.day'</li>\n",
       "\t<li>'S14.day'</li>\n",
       "\t<li>'S15.day'</li>\n",
       "\t<li>'S16.day'</li>\n",
       "\t<li>'S17.day'</li>\n",
       "\t<li>'S18.day'</li>\n",
       "\t<li>'S19.day'</li>\n",
       "\t<li>'S20.day'</li>\n",
       "\t<li>'S21.day'</li>\n",
       "\t<li>'S22.day'</li>\n",
       "\t<li>'S23.day'</li>\n",
       "\t<li>'S24.day'</li>\n",
       "\t<li>'S25.day'</li>\n",
       "\t<li>'S26.day'</li>\n",
       "\t<li>'S27.day'</li>\n",
       "\t<li>'S28.day'</li>\n",
       "\t<li>'S29.day'</li>\n",
       "\t<li>'S30.day'</li>\n",
       "\t<li>'S31.day'</li>\n",
       "\t<li>'S32.day'</li>\n",
       "\t<li>'S33.day'</li>\n",
       "\t<li>'S34.day'</li>\n",
       "\t<li>'S35.day'</li>\n",
       "\t<li>'S36.day'</li>\n",
       "\t<li>'S37.day'</li>\n",
       "\t<li>'S38.day'</li>\n",
       "\t<li>'S39.day'</li>\n",
       "\t<li>'S40.day'</li>\n",
       "\t<li>'S41.day'</li>\n",
       "\t<li>'S42.day'</li>\n",
       "\t<li>'S43.day'</li>\n",
       "\t<li>'S44.day'</li>\n",
       "\t<li>'S45.day'</li>\n",
       "\t<li>'S46.day'</li>\n",
       "\t<li>'S47.day'</li>\n",
       "\t<li>'S48.day'</li>\n",
       "\t<li>'S49.day'</li>\n",
       "\t<li>'S50.day'</li>\n",
       "\t<li>'S51.day'</li>\n",
       "\t<li>'S52.day'</li>\n",
       "\t<li>'S53.day'</li>\n",
       "\t<li>'S54.day'</li>\n",
       "\t<li>'S55.day'</li>\n",
       "\t<li>'S56.day'</li>\n",
       "\t<li>'S57.day'</li>\n",
       "\t<li>'S58.day'</li>\n",
       "\t<li>'S59.day'</li>\n",
       "\t<li>'S60.day'</li>\n",
       "\t<li>'S61.day'</li>\n",
       "\t<li>'S62.day'</li>\n",
       "\t<li>'S1.day.dtype'</li>\n",
       "\t<li>'S2.day.dtype'</li>\n",
       "\t<li>'S3.day.dtype'</li>\n",
       "\t<li>'S4.day.dtype'</li>\n",
       "\t<li>'S5.day.dtype'</li>\n",
       "\t<li>'S6.day.dtype'</li>\n",
       "\t<li>'S7.day.dtype'</li>\n",
       "\t<li>'S8.day.dtype'</li>\n",
       "\t<li>'S9.day.dtype'</li>\n",
       "\t<li>'S10.day.dtype'</li>\n",
       "\t<li>'S11.day.dtype'</li>\n",
       "\t<li>'S12.day.dtype'</li>\n",
       "\t<li>'S13.day.dtype'</li>\n",
       "\t<li>'S14.day.dtype'</li>\n",
       "\t<li>'S15.day.dtype'</li>\n",
       "\t<li>'S16.day.dtype'</li>\n",
       "\t<li>'S17.day.dtype'</li>\n",
       "\t<li>'S18.day.dtype'</li>\n",
       "\t<li>'S19.day.dtype'</li>\n",
       "\t<li>'S20.day.dtype'</li>\n",
       "\t<li>'S21.day.dtype'</li>\n",
       "\t<li>'S22.day.dtype'</li>\n",
       "\t<li>'S23.day.dtype'</li>\n",
       "\t<li>'S24.day.dtype'</li>\n",
       "\t<li>'S25.day.dtype'</li>\n",
       "\t<li>'S26.day.dtype'</li>\n",
       "\t<li>'S27.day.dtype'</li>\n",
       "\t<li>'S28.day.dtype'</li>\n",
       "\t<li>'S29.day.dtype'</li>\n",
       "\t<li>'S30.day.dtype'</li>\n",
       "\t<li>'S31.day.dtype'</li>\n",
       "\t<li>'S32.day.dtype'</li>\n",
       "\t<li>'S33.day.dtype'</li>\n",
       "\t<li>'S34.day.dtype'</li>\n",
       "\t<li>'S35.day.dtype'</li>\n",
       "\t<li>'S36.day.dtype'</li>\n",
       "\t<li>'S37.day.dtype'</li>\n",
       "\t<li>'S38.day.dtype'</li>\n",
       "\t<li>'S39.day.dtype'</li>\n",
       "\t<li>'S40.day.dtype'</li>\n",
       "\t<li>'S41.day.dtype'</li>\n",
       "\t<li>'S42.day.dtype'</li>\n",
       "\t<li>'S43.day.dtype'</li>\n",
       "\t<li>'S44.day.dtype'</li>\n",
       "\t<li>'S45.day.dtype'</li>\n",
       "\t<li>'S46.day.dtype'</li>\n",
       "\t<li>'S47.day.dtype'</li>\n",
       "\t<li>'S48.day.dtype'</li>\n",
       "\t<li>'S49.day.dtype'</li>\n",
       "\t<li>'S50.day.dtype'</li>\n",
       "\t<li>'S51.day.dtype'</li>\n",
       "\t<li>'S52.day.dtype'</li>\n",
       "\t<li>'S53.day.dtype'</li>\n",
       "\t<li>'S54.day.dtype'</li>\n",
       "\t<li>'S55.day.dtype'</li>\n",
       "\t<li>'S56.day.dtype'</li>\n",
       "\t<li>'S57.day.dtype'</li>\n",
       "\t<li>'S58.day.dtype'</li>\n",
       "\t<li>'S59.day.dtype'</li>\n",
       "\t<li>'S60.day.dtype'</li>\n",
       "\t<li>'S61.day.dtype'</li>\n",
       "\t<li>'S62.day.dtype'</li>\n",
       "</ol>\n"
      ],
      "text/latex": [
       "\\begin{enumerate*}\n",
       "\\item 'demand'\n",
       "\\item 'daytype'\n",
       "\\item 'daynumber'\n",
       "\\item 'S1'\n",
       "\\item 'S2'\n",
       "\\item 'S3'\n",
       "\\item 'S4'\n",
       "\\item 'S5'\n",
       "\\item 'S6'\n",
       "\\item 'S7'\n",
       "\\item 'S8'\n",
       "\\item 'S9'\n",
       "\\item 'S10'\n",
       "\\item 'S11'\n",
       "\\item 'S12'\n",
       "\\item 'S13'\n",
       "\\item 'S14'\n",
       "\\item 'S15'\n",
       "\\item 'S16'\n",
       "\\item 'S17'\n",
       "\\item 'S18'\n",
       "\\item 'S19'\n",
       "\\item 'S20'\n",
       "\\item 'S21'\n",
       "\\item 'S22'\n",
       "\\item 'S23'\n",
       "\\item 'S24'\n",
       "\\item 'S25'\n",
       "\\item 'S26'\n",
       "\\item 'S27'\n",
       "\\item 'S28'\n",
       "\\item 'S29'\n",
       "\\item 'S30'\n",
       "\\item 'S31'\n",
       "\\item 'S32'\n",
       "\\item 'S33'\n",
       "\\item 'S34'\n",
       "\\item 'S35'\n",
       "\\item 'S36'\n",
       "\\item 'S37'\n",
       "\\item 'S38'\n",
       "\\item 'S39'\n",
       "\\item 'S40'\n",
       "\\item 'S41'\n",
       "\\item 'S42'\n",
       "\\item 'S43'\n",
       "\\item 'S44'\n",
       "\\item 'S45'\n",
       "\\item 'S46'\n",
       "\\item 'S47'\n",
       "\\item 'S48'\n",
       "\\item 'S49'\n",
       "\\item 'S50'\n",
       "\\item 'S51'\n",
       "\\item 'S52'\n",
       "\\item 'S53'\n",
       "\\item 'S54'\n",
       "\\item 'S55'\n",
       "\\item 'S56'\n",
       "\\item 'S57'\n",
       "\\item 'S58'\n",
       "\\item 'S59'\n",
       "\\item 'S60'\n",
       "\\item 'S61'\n",
       "\\item 'S62'\n",
       "\\item 'S1.dtype'\n",
       "\\item 'S2.dtype'\n",
       "\\item 'S3.dtype'\n",
       "\\item 'S4.dtype'\n",
       "\\item 'S5.dtype'\n",
       "\\item 'S6.dtype'\n",
       "\\item 'S7.dtype'\n",
       "\\item 'S8.dtype'\n",
       "\\item 'S9.dtype'\n",
       "\\item 'S10.dtype'\n",
       "\\item 'S11.dtype'\n",
       "\\item 'S12.dtype'\n",
       "\\item 'S13.dtype'\n",
       "\\item 'S14.dtype'\n",
       "\\item 'S15.dtype'\n",
       "\\item 'S16.dtype'\n",
       "\\item 'S17.dtype'\n",
       "\\item 'S18.dtype'\n",
       "\\item 'S19.dtype'\n",
       "\\item 'S20.dtype'\n",
       "\\item 'S21.dtype'\n",
       "\\item 'S22.dtype'\n",
       "\\item 'S23.dtype'\n",
       "\\item 'S24.dtype'\n",
       "\\item 'S25.dtype'\n",
       "\\item 'S26.dtype'\n",
       "\\item 'S27.dtype'\n",
       "\\item 'S28.dtype'\n",
       "\\item 'S29.dtype'\n",
       "\\item 'S30.dtype'\n",
       "\\item 'S31.dtype'\n",
       "\\item 'S32.dtype'\n",
       "\\item 'S33.dtype'\n",
       "\\item 'S34.dtype'\n",
       "\\item 'S35.dtype'\n",
       "\\item 'S36.dtype'\n",
       "\\item 'S37.dtype'\n",
       "\\item 'S38.dtype'\n",
       "\\item 'S39.dtype'\n",
       "\\item 'S40.dtype'\n",
       "\\item 'S41.dtype'\n",
       "\\item 'S42.dtype'\n",
       "\\item 'S43.dtype'\n",
       "\\item 'S44.dtype'\n",
       "\\item 'S45.dtype'\n",
       "\\item 'S46.dtype'\n",
       "\\item 'S47.dtype'\n",
       "\\item 'S48.dtype'\n",
       "\\item 'S49.dtype'\n",
       "\\item 'S50.dtype'\n",
       "\\item 'S51.dtype'\n",
       "\\item 'S52.dtype'\n",
       "\\item 'S53.dtype'\n",
       "\\item 'S54.dtype'\n",
       "\\item 'S55.dtype'\n",
       "\\item 'S56.dtype'\n",
       "\\item 'S57.dtype'\n",
       "\\item 'S58.dtype'\n",
       "\\item 'S59.dtype'\n",
       "\\item 'S60.dtype'\n",
       "\\item 'S61.dtype'\n",
       "\\item 'S62.dtype'\n",
       "\\item 'S1.day'\n",
       "\\item 'S2.day'\n",
       "\\item 'S3.day'\n",
       "\\item 'S4.day'\n",
       "\\item 'S5.day'\n",
       "\\item 'S6.day'\n",
       "\\item 'S7.day'\n",
       "\\item 'S8.day'\n",
       "\\item 'S9.day'\n",
       "\\item 'S10.day'\n",
       "\\item 'S11.day'\n",
       "\\item 'S12.day'\n",
       "\\item 'S13.day'\n",
       "\\item 'S14.day'\n",
       "\\item 'S15.day'\n",
       "\\item 'S16.day'\n",
       "\\item 'S17.day'\n",
       "\\item 'S18.day'\n",
       "\\item 'S19.day'\n",
       "\\item 'S20.day'\n",
       "\\item 'S21.day'\n",
       "\\item 'S22.day'\n",
       "\\item 'S23.day'\n",
       "\\item 'S24.day'\n",
       "\\item 'S25.day'\n",
       "\\item 'S26.day'\n",
       "\\item 'S27.day'\n",
       "\\item 'S28.day'\n",
       "\\item 'S29.day'\n",
       "\\item 'S30.day'\n",
       "\\item 'S31.day'\n",
       "\\item 'S32.day'\n",
       "\\item 'S33.day'\n",
       "\\item 'S34.day'\n",
       "\\item 'S35.day'\n",
       "\\item 'S36.day'\n",
       "\\item 'S37.day'\n",
       "\\item 'S38.day'\n",
       "\\item 'S39.day'\n",
       "\\item 'S40.day'\n",
       "\\item 'S41.day'\n",
       "\\item 'S42.day'\n",
       "\\item 'S43.day'\n",
       "\\item 'S44.day'\n",
       "\\item 'S45.day'\n",
       "\\item 'S46.day'\n",
       "\\item 'S47.day'\n",
       "\\item 'S48.day'\n",
       "\\item 'S49.day'\n",
       "\\item 'S50.day'\n",
       "\\item 'S51.day'\n",
       "\\item 'S52.day'\n",
       "\\item 'S53.day'\n",
       "\\item 'S54.day'\n",
       "\\item 'S55.day'\n",
       "\\item 'S56.day'\n",
       "\\item 'S57.day'\n",
       "\\item 'S58.day'\n",
       "\\item 'S59.day'\n",
       "\\item 'S60.day'\n",
       "\\item 'S61.day'\n",
       "\\item 'S62.day'\n",
       "\\item 'S1.day.dtype'\n",
       "\\item 'S2.day.dtype'\n",
       "\\item 'S3.day.dtype'\n",
       "\\item 'S4.day.dtype'\n",
       "\\item 'S5.day.dtype'\n",
       "\\item 'S6.day.dtype'\n",
       "\\item 'S7.day.dtype'\n",
       "\\item 'S8.day.dtype'\n",
       "\\item 'S9.day.dtype'\n",
       "\\item 'S10.day.dtype'\n",
       "\\item 'S11.day.dtype'\n",
       "\\item 'S12.day.dtype'\n",
       "\\item 'S13.day.dtype'\n",
       "\\item 'S14.day.dtype'\n",
       "\\item 'S15.day.dtype'\n",
       "\\item 'S16.day.dtype'\n",
       "\\item 'S17.day.dtype'\n",
       "\\item 'S18.day.dtype'\n",
       "\\item 'S19.day.dtype'\n",
       "\\item 'S20.day.dtype'\n",
       "\\item 'S21.day.dtype'\n",
       "\\item 'S22.day.dtype'\n",
       "\\item 'S23.day.dtype'\n",
       "\\item 'S24.day.dtype'\n",
       "\\item 'S25.day.dtype'\n",
       "\\item 'S26.day.dtype'\n",
       "\\item 'S27.day.dtype'\n",
       "\\item 'S28.day.dtype'\n",
       "\\item 'S29.day.dtype'\n",
       "\\item 'S30.day.dtype'\n",
       "\\item 'S31.day.dtype'\n",
       "\\item 'S32.day.dtype'\n",
       "\\item 'S33.day.dtype'\n",
       "\\item 'S34.day.dtype'\n",
       "\\item 'S35.day.dtype'\n",
       "\\item 'S36.day.dtype'\n",
       "\\item 'S37.day.dtype'\n",
       "\\item 'S38.day.dtype'\n",
       "\\item 'S39.day.dtype'\n",
       "\\item 'S40.day.dtype'\n",
       "\\item 'S41.day.dtype'\n",
       "\\item 'S42.day.dtype'\n",
       "\\item 'S43.day.dtype'\n",
       "\\item 'S44.day.dtype'\n",
       "\\item 'S45.day.dtype'\n",
       "\\item 'S46.day.dtype'\n",
       "\\item 'S47.day.dtype'\n",
       "\\item 'S48.day.dtype'\n",
       "\\item 'S49.day.dtype'\n",
       "\\item 'S50.day.dtype'\n",
       "\\item 'S51.day.dtype'\n",
       "\\item 'S52.day.dtype'\n",
       "\\item 'S53.day.dtype'\n",
       "\\item 'S54.day.dtype'\n",
       "\\item 'S55.day.dtype'\n",
       "\\item 'S56.day.dtype'\n",
       "\\item 'S57.day.dtype'\n",
       "\\item 'S58.day.dtype'\n",
       "\\item 'S59.day.dtype'\n",
       "\\item 'S60.day.dtype'\n",
       "\\item 'S61.day.dtype'\n",
       "\\item 'S62.day.dtype'\n",
       "\\end{enumerate*}\n"
      ],
      "text/markdown": [
       "1. 'demand'\n",
       "2. 'daytype'\n",
       "3. 'daynumber'\n",
       "4. 'S1'\n",
       "5. 'S2'\n",
       "6. 'S3'\n",
       "7. 'S4'\n",
       "8. 'S5'\n",
       "9. 'S6'\n",
       "10. 'S7'\n",
       "11. 'S8'\n",
       "12. 'S9'\n",
       "13. 'S10'\n",
       "14. 'S11'\n",
       "15. 'S12'\n",
       "16. 'S13'\n",
       "17. 'S14'\n",
       "18. 'S15'\n",
       "19. 'S16'\n",
       "20. 'S17'\n",
       "21. 'S18'\n",
       "22. 'S19'\n",
       "23. 'S20'\n",
       "24. 'S21'\n",
       "25. 'S22'\n",
       "26. 'S23'\n",
       "27. 'S24'\n",
       "28. 'S25'\n",
       "29. 'S26'\n",
       "30. 'S27'\n",
       "31. 'S28'\n",
       "32. 'S29'\n",
       "33. 'S30'\n",
       "34. 'S31'\n",
       "35. 'S32'\n",
       "36. 'S33'\n",
       "37. 'S34'\n",
       "38. 'S35'\n",
       "39. 'S36'\n",
       "40. 'S37'\n",
       "41. 'S38'\n",
       "42. 'S39'\n",
       "43. 'S40'\n",
       "44. 'S41'\n",
       "45. 'S42'\n",
       "46. 'S43'\n",
       "47. 'S44'\n",
       "48. 'S45'\n",
       "49. 'S46'\n",
       "50. 'S47'\n",
       "51. 'S48'\n",
       "52. 'S49'\n",
       "53. 'S50'\n",
       "54. 'S51'\n",
       "55. 'S52'\n",
       "56. 'S53'\n",
       "57. 'S54'\n",
       "58. 'S55'\n",
       "59. 'S56'\n",
       "60. 'S57'\n",
       "61. 'S58'\n",
       "62. 'S59'\n",
       "63. 'S60'\n",
       "64. 'S61'\n",
       "65. 'S62'\n",
       "66. 'S1.dtype'\n",
       "67. 'S2.dtype'\n",
       "68. 'S3.dtype'\n",
       "69. 'S4.dtype'\n",
       "70. 'S5.dtype'\n",
       "71. 'S6.dtype'\n",
       "72. 'S7.dtype'\n",
       "73. 'S8.dtype'\n",
       "74. 'S9.dtype'\n",
       "75. 'S10.dtype'\n",
       "76. 'S11.dtype'\n",
       "77. 'S12.dtype'\n",
       "78. 'S13.dtype'\n",
       "79. 'S14.dtype'\n",
       "80. 'S15.dtype'\n",
       "81. 'S16.dtype'\n",
       "82. 'S17.dtype'\n",
       "83. 'S18.dtype'\n",
       "84. 'S19.dtype'\n",
       "85. 'S20.dtype'\n",
       "86. 'S21.dtype'\n",
       "87. 'S22.dtype'\n",
       "88. 'S23.dtype'\n",
       "89. 'S24.dtype'\n",
       "90. 'S25.dtype'\n",
       "91. 'S26.dtype'\n",
       "92. 'S27.dtype'\n",
       "93. 'S28.dtype'\n",
       "94. 'S29.dtype'\n",
       "95. 'S30.dtype'\n",
       "96. 'S31.dtype'\n",
       "97. 'S32.dtype'\n",
       "98. 'S33.dtype'\n",
       "99. 'S34.dtype'\n",
       "100. 'S35.dtype'\n",
       "101. 'S36.dtype'\n",
       "102. 'S37.dtype'\n",
       "103. 'S38.dtype'\n",
       "104. 'S39.dtype'\n",
       "105. 'S40.dtype'\n",
       "106. 'S41.dtype'\n",
       "107. 'S42.dtype'\n",
       "108. 'S43.dtype'\n",
       "109. 'S44.dtype'\n",
       "110. 'S45.dtype'\n",
       "111. 'S46.dtype'\n",
       "112. 'S47.dtype'\n",
       "113. 'S48.dtype'\n",
       "114. 'S49.dtype'\n",
       "115. 'S50.dtype'\n",
       "116. 'S51.dtype'\n",
       "117. 'S52.dtype'\n",
       "118. 'S53.dtype'\n",
       "119. 'S54.dtype'\n",
       "120. 'S55.dtype'\n",
       "121. 'S56.dtype'\n",
       "122. 'S57.dtype'\n",
       "123. 'S58.dtype'\n",
       "124. 'S59.dtype'\n",
       "125. 'S60.dtype'\n",
       "126. 'S61.dtype'\n",
       "127. 'S62.dtype'\n",
       "128. 'S1.day'\n",
       "129. 'S2.day'\n",
       "130. 'S3.day'\n",
       "131. 'S4.day'\n",
       "132. 'S5.day'\n",
       "133. 'S6.day'\n",
       "134. 'S7.day'\n",
       "135. 'S8.day'\n",
       "136. 'S9.day'\n",
       "137. 'S10.day'\n",
       "138. 'S11.day'\n",
       "139. 'S12.day'\n",
       "140. 'S13.day'\n",
       "141. 'S14.day'\n",
       "142. 'S15.day'\n",
       "143. 'S16.day'\n",
       "144. 'S17.day'\n",
       "145. 'S18.day'\n",
       "146. 'S19.day'\n",
       "147. 'S20.day'\n",
       "148. 'S21.day'\n",
       "149. 'S22.day'\n",
       "150. 'S23.day'\n",
       "151. 'S24.day'\n",
       "152. 'S25.day'\n",
       "153. 'S26.day'\n",
       "154. 'S27.day'\n",
       "155. 'S28.day'\n",
       "156. 'S29.day'\n",
       "157. 'S30.day'\n",
       "158. 'S31.day'\n",
       "159. 'S32.day'\n",
       "160. 'S33.day'\n",
       "161. 'S34.day'\n",
       "162. 'S35.day'\n",
       "163. 'S36.day'\n",
       "164. 'S37.day'\n",
       "165. 'S38.day'\n",
       "166. 'S39.day'\n",
       "167. 'S40.day'\n",
       "168. 'S41.day'\n",
       "169. 'S42.day'\n",
       "170. 'S43.day'\n",
       "171. 'S44.day'\n",
       "172. 'S45.day'\n",
       "173. 'S46.day'\n",
       "174. 'S47.day'\n",
       "175. 'S48.day'\n",
       "176. 'S49.day'\n",
       "177. 'S50.day'\n",
       "178. 'S51.day'\n",
       "179. 'S52.day'\n",
       "180. 'S53.day'\n",
       "181. 'S54.day'\n",
       "182. 'S55.day'\n",
       "183. 'S56.day'\n",
       "184. 'S57.day'\n",
       "185. 'S58.day'\n",
       "186. 'S59.day'\n",
       "187. 'S60.day'\n",
       "188. 'S61.day'\n",
       "189. 'S62.day'\n",
       "190. 'S1.day.dtype'\n",
       "191. 'S2.day.dtype'\n",
       "192. 'S3.day.dtype'\n",
       "193. 'S4.day.dtype'\n",
       "194. 'S5.day.dtype'\n",
       "195. 'S6.day.dtype'\n",
       "196. 'S7.day.dtype'\n",
       "197. 'S8.day.dtype'\n",
       "198. 'S9.day.dtype'\n",
       "199. 'S10.day.dtype'\n",
       "200. 'S11.day.dtype'\n",
       "201. 'S12.day.dtype'\n",
       "202. 'S13.day.dtype'\n",
       "203. 'S14.day.dtype'\n",
       "204. 'S15.day.dtype'\n",
       "205. 'S16.day.dtype'\n",
       "206. 'S17.day.dtype'\n",
       "207. 'S18.day.dtype'\n",
       "208. 'S19.day.dtype'\n",
       "209. 'S20.day.dtype'\n",
       "210. 'S21.day.dtype'\n",
       "211. 'S22.day.dtype'\n",
       "212. 'S23.day.dtype'\n",
       "213. 'S24.day.dtype'\n",
       "214. 'S25.day.dtype'\n",
       "215. 'S26.day.dtype'\n",
       "216. 'S27.day.dtype'\n",
       "217. 'S28.day.dtype'\n",
       "218. 'S29.day.dtype'\n",
       "219. 'S30.day.dtype'\n",
       "220. 'S31.day.dtype'\n",
       "221. 'S32.day.dtype'\n",
       "222. 'S33.day.dtype'\n",
       "223. 'S34.day.dtype'\n",
       "224. 'S35.day.dtype'\n",
       "225. 'S36.day.dtype'\n",
       "226. 'S37.day.dtype'\n",
       "227. 'S38.day.dtype'\n",
       "228. 'S39.day.dtype'\n",
       "229. 'S40.day.dtype'\n",
       "230. 'S41.day.dtype'\n",
       "231. 'S42.day.dtype'\n",
       "232. 'S43.day.dtype'\n",
       "233. 'S44.day.dtype'\n",
       "234. 'S45.day.dtype'\n",
       "235. 'S46.day.dtype'\n",
       "236. 'S47.day.dtype'\n",
       "237. 'S48.day.dtype'\n",
       "238. 'S49.day.dtype'\n",
       "239. 'S50.day.dtype'\n",
       "240. 'S51.day.dtype'\n",
       "241. 'S52.day.dtype'\n",
       "242. 'S53.day.dtype'\n",
       "243. 'S54.day.dtype'\n",
       "244. 'S55.day.dtype'\n",
       "245. 'S56.day.dtype'\n",
       "246. 'S57.day.dtype'\n",
       "247. 'S58.day.dtype'\n",
       "248. 'S59.day.dtype'\n",
       "249. 'S60.day.dtype'\n",
       "250. 'S61.day.dtype'\n",
       "251. 'S62.day.dtype'\n",
       "\n",
       "\n"
      ],
      "text/plain": [
       "  [1] \"demand\"        \"daytype\"       \"daynumber\"     \"S1\"           \n",
       "  [5] \"S2\"            \"S3\"            \"S4\"            \"S5\"           \n",
       "  [9] \"S6\"            \"S7\"            \"S8\"            \"S9\"           \n",
       " [13] \"S10\"           \"S11\"           \"S12\"           \"S13\"          \n",
       " [17] \"S14\"           \"S15\"           \"S16\"           \"S17\"          \n",
       " [21] \"S18\"           \"S19\"           \"S20\"           \"S21\"          \n",
       " [25] \"S22\"           \"S23\"           \"S24\"           \"S25\"          \n",
       " [29] \"S26\"           \"S27\"           \"S28\"           \"S29\"          \n",
       " [33] \"S30\"           \"S31\"           \"S32\"           \"S33\"          \n",
       " [37] \"S34\"           \"S35\"           \"S36\"           \"S37\"          \n",
       " [41] \"S38\"           \"S39\"           \"S40\"           \"S41\"          \n",
       " [45] \"S42\"           \"S43\"           \"S44\"           \"S45\"          \n",
       " [49] \"S46\"           \"S47\"           \"S48\"           \"S49\"          \n",
       " [53] \"S50\"           \"S51\"           \"S52\"           \"S53\"          \n",
       " [57] \"S54\"           \"S55\"           \"S56\"           \"S57\"          \n",
       " [61] \"S58\"           \"S59\"           \"S60\"           \"S61\"          \n",
       " [65] \"S62\"           \"S1.dtype\"      \"S2.dtype\"      \"S3.dtype\"     \n",
       " [69] \"S4.dtype\"      \"S5.dtype\"      \"S6.dtype\"      \"S7.dtype\"     \n",
       " [73] \"S8.dtype\"      \"S9.dtype\"      \"S10.dtype\"     \"S11.dtype\"    \n",
       " [77] \"S12.dtype\"     \"S13.dtype\"     \"S14.dtype\"     \"S15.dtype\"    \n",
       " [81] \"S16.dtype\"     \"S17.dtype\"     \"S18.dtype\"     \"S19.dtype\"    \n",
       " [85] \"S20.dtype\"     \"S21.dtype\"     \"S22.dtype\"     \"S23.dtype\"    \n",
       " [89] \"S24.dtype\"     \"S25.dtype\"     \"S26.dtype\"     \"S27.dtype\"    \n",
       " [93] \"S28.dtype\"     \"S29.dtype\"     \"S30.dtype\"     \"S31.dtype\"    \n",
       " [97] \"S32.dtype\"     \"S33.dtype\"     \"S34.dtype\"     \"S35.dtype\"    \n",
       "[101] \"S36.dtype\"     \"S37.dtype\"     \"S38.dtype\"     \"S39.dtype\"    \n",
       "[105] \"S40.dtype\"     \"S41.dtype\"     \"S42.dtype\"     \"S43.dtype\"    \n",
       "[109] \"S44.dtype\"     \"S45.dtype\"     \"S46.dtype\"     \"S47.dtype\"    \n",
       "[113] \"S48.dtype\"     \"S49.dtype\"     \"S50.dtype\"     \"S51.dtype\"    \n",
       "[117] \"S52.dtype\"     \"S53.dtype\"     \"S54.dtype\"     \"S55.dtype\"    \n",
       "[121] \"S56.dtype\"     \"S57.dtype\"     \"S58.dtype\"     \"S59.dtype\"    \n",
       "[125] \"S60.dtype\"     \"S61.dtype\"     \"S62.dtype\"     \"S1.day\"       \n",
       "[129] \"S2.day\"        \"S3.day\"        \"S4.day\"        \"S5.day\"       \n",
       "[133] \"S6.day\"        \"S7.day\"        \"S8.day\"        \"S9.day\"       \n",
       "[137] \"S10.day\"       \"S11.day\"       \"S12.day\"       \"S13.day\"      \n",
       "[141] \"S14.day\"       \"S15.day\"       \"S16.day\"       \"S17.day\"      \n",
       "[145] \"S18.day\"       \"S19.day\"       \"S20.day\"       \"S21.day\"      \n",
       "[149] \"S22.day\"       \"S23.day\"       \"S24.day\"       \"S25.day\"      \n",
       "[153] \"S26.day\"       \"S27.day\"       \"S28.day\"       \"S29.day\"      \n",
       "[157] \"S30.day\"       \"S31.day\"       \"S32.day\"       \"S33.day\"      \n",
       "[161] \"S34.day\"       \"S35.day\"       \"S36.day\"       \"S37.day\"      \n",
       "[165] \"S38.day\"       \"S39.day\"       \"S40.day\"       \"S41.day\"      \n",
       "[169] \"S42.day\"       \"S43.day\"       \"S44.day\"       \"S45.day\"      \n",
       "[173] \"S46.day\"       \"S47.day\"       \"S48.day\"       \"S49.day\"      \n",
       "[177] \"S50.day\"       \"S51.day\"       \"S52.day\"       \"S53.day\"      \n",
       "[181] \"S54.day\"       \"S55.day\"       \"S56.day\"       \"S57.day\"      \n",
       "[185] \"S58.day\"       \"S59.day\"       \"S60.day\"       \"S61.day\"      \n",
       "[189] \"S62.day\"       \"S1.day.dtype\"  \"S2.day.dtype\"  \"S3.day.dtype\" \n",
       "[193] \"S4.day.dtype\"  \"S5.day.dtype\"  \"S6.day.dtype\"  \"S7.day.dtype\" \n",
       "[197] \"S8.day.dtype\"  \"S9.day.dtype\"  \"S10.day.dtype\" \"S11.day.dtype\"\n",
       "[201] \"S12.day.dtype\" \"S13.day.dtype\" \"S14.day.dtype\" \"S15.day.dtype\"\n",
       "[205] \"S16.day.dtype\" \"S17.day.dtype\" \"S18.day.dtype\" \"S19.day.dtype\"\n",
       "[209] \"S20.day.dtype\" \"S21.day.dtype\" \"S22.day.dtype\" \"S23.day.dtype\"\n",
       "[213] \"S24.day.dtype\" \"S25.day.dtype\" \"S26.day.dtype\" \"S27.day.dtype\"\n",
       "[217] \"S28.day.dtype\" \"S29.day.dtype\" \"S30.day.dtype\" \"S31.day.dtype\"\n",
       "[221] \"S32.day.dtype\" \"S33.day.dtype\" \"S34.day.dtype\" \"S35.day.dtype\"\n",
       "[225] \"S36.day.dtype\" \"S37.day.dtype\" \"S38.day.dtype\" \"S39.day.dtype\"\n",
       "[229] \"S40.day.dtype\" \"S41.day.dtype\" \"S42.day.dtype\" \"S43.day.dtype\"\n",
       "[233] \"S44.day.dtype\" \"S45.day.dtype\" \"S46.day.dtype\" \"S47.day.dtype\"\n",
       "[237] \"S48.day.dtype\" \"S49.day.dtype\" \"S50.day.dtype\" \"S51.day.dtype\"\n",
       "[241] \"S52.day.dtype\" \"S53.day.dtype\" \"S54.day.dtype\" \"S55.day.dtype\"\n",
       "[245] \"S56.day.dtype\" \"S57.day.dtype\" \"S58.day.dtype\" \"S59.day.dtype\"\n",
       "[249] \"S60.day.dtype\" \"S61.day.dtype\" \"S62.day.dtype\""
      ]
     },
     "metadata": {},
     "output_type": "display_data"
    }
   ],
   "source": [
    "seasonal_data<-data.frame(newdata,seasonaldummy(total_timeseries))\n",
    "\n",
    "\n",
    "\n",
    "#dataframe used to represent our model.The columns are the variables.\n",
    "model.data<-data.frame(seasonal_data$demand, seasonal_data$dtype, day_column, seasonal_data[6:67]\n",
    ",seasonal_data$dtype*seasonal_data[6:67], day_column*seasonal_data[6:67]\n",
    ",seasonal_data$dtype*day_column*seasonal_data[6:67])\n",
    "\n",
    "colnames(model.data)<-c('demand','daytype','daynumber',colnames(model.data)[4:65],\n",
    "                        paste(colnames(model.data)[4:65],'.dtype',sep = ''),\n",
    "                        paste(colnames(model.data)[4:65],'.day',sep = ''),\n",
    "                        paste(colnames(model.data)[4:65],'.day.dtype',sep = ''))\n",
    "\n",
    "trainingdata<-model.data[1:882,]\n",
    "\n",
    "\n",
    "head(model.data)\n",
    "dim(model.data)\n",
    "names(model.data)"
   ]
  },
  {
   "cell_type": "code",
   "execution_count": 31,
   "metadata": {
    "ExecuteTime": {
     "end_time": "2019-01-12T01:03:18.635240Z",
     "start_time": "2019-01-12T01:03:13.133Z"
    },
    "scrolled": true
   },
   "outputs": [
    {
     "data": {
      "text/plain": [
       "\n",
       "Call:\n",
       "lm(formula = demand ~ ., data = trainingdata)\n",
       "\n",
       "Residuals:\n",
       "    Min      1Q  Median      3Q     Max \n",
       "-31.400  -2.038   0.000   2.000  26.650 \n",
       "\n",
       "Coefficients:\n",
       "               Estimate Std. Error t value Pr(>|t|)    \n",
       "(Intercept)     9.44286    3.80241   2.483  0.01327 *  \n",
       "daytype        -1.60000    3.05316  -0.524  0.60043    \n",
       "daynumber      -0.71429    1.37928  -0.518  0.60473    \n",
       "S1             -7.69286   22.09913  -0.348  0.72788    \n",
       "S2             -8.36786   22.09913  -0.379  0.70507    \n",
       "S3             -9.84286   22.09913  -0.445  0.65619    \n",
       "S4             -2.04286   22.09913  -0.092  0.92638    \n",
       "S5              0.75714   22.09913   0.034  0.97268    \n",
       "S6             10.93214   22.09913   0.495  0.62099    \n",
       "S7             14.45714   22.09913   0.654  0.51322    \n",
       "S8             17.90714   22.09913   0.810  0.41807    \n",
       "S9              6.90714   22.09913   0.313  0.75472    \n",
       "S10            16.00714   22.09913   0.724  0.46913    \n",
       "S11            12.38214   22.09913   0.560  0.57547    \n",
       "S12             8.98214   22.09913   0.406  0.68455    \n",
       "S13            14.18214   22.09913   0.642  0.52127    \n",
       "S14            10.85714   22.09913   0.491  0.62339    \n",
       "S15            18.45714   22.09913   0.835  0.40392    \n",
       "S16            16.25714   22.09913   0.736  0.46222    \n",
       "S17            20.40714   22.09913   0.923  0.35613    \n",
       "S18            22.13214   22.09913   1.001  0.31697    \n",
       "S19            27.15714   22.09913   1.229  0.21958    \n",
       "S20            34.68214   22.09913   1.569  0.11706    \n",
       "S21            16.65714   22.09913   0.754  0.45128    \n",
       "S22            28.55714   22.09913   1.292  0.19675    \n",
       "S23            40.40714   22.09913   1.828  0.06795 .  \n",
       "S24            34.55714   22.09913   1.564  0.11838    \n",
       "S25            40.55714   22.09913   1.835  0.06694 .  \n",
       "S26            27.03214   22.09913   1.223  0.22170    \n",
       "S27            45.58214   22.09913   2.063  0.03956 *  \n",
       "S28            43.15714   22.09913   1.953  0.05127 .  \n",
       "S29            37.08214   22.09913   1.678  0.09384 .  \n",
       "S30            35.08214   22.09913   1.587  0.11290    \n",
       "S31            26.40714   22.09913   1.195  0.23256    \n",
       "S32            55.68214   22.09913   2.520  0.01199 *  \n",
       "S33            34.38214   22.09913   1.556  0.12025    \n",
       "S34            27.88214   22.09913   1.262  0.20753    \n",
       "S35            26.25714   22.09913   1.188  0.23522    \n",
       "S36            18.08214   22.09913   0.818  0.41354    \n",
       "S37            31.73214   22.09913   1.436  0.15153    \n",
       "S38            34.23214   22.09913   1.549  0.12188    \n",
       "S39            35.28214   22.09913   1.597  0.11087    \n",
       "S40            27.08214   22.09913   1.225  0.22085    \n",
       "S41            41.93214   22.09913   1.897  0.05822 .  \n",
       "S42            28.15714   22.09913   1.274  0.20309    \n",
       "S43            30.88214   22.09913   1.397  0.16277    \n",
       "S44            45.48214   22.09913   2.058  0.03999 *  \n",
       "S45            48.33214   22.09913   2.187  0.02910 *  \n",
       "S46            69.58214   22.09913   3.149  0.00172 ** \n",
       "S47            71.93214   22.09913   3.255  0.00119 ** \n",
       "S48           136.55714   22.09913   6.179 1.16e-09 ***\n",
       "S49           165.40714   22.09913   7.485 2.42e-13 ***\n",
       "S50           175.00714   22.09913   7.919 1.08e-14 ***\n",
       "S51           157.93214   22.09913   7.147 2.47e-12 ***\n",
       "S52           135.25714   22.09913   6.120 1.64e-09 ***\n",
       "S53           115.78214   22.09913   5.239 2.20e-07 ***\n",
       "S54            96.35714   22.09913   4.360 1.52e-05 ***\n",
       "S55            93.98214   22.09913   4.253 2.43e-05 ***\n",
       "S56            96.90714   22.09913   4.385 1.36e-05 ***\n",
       "S57            63.83214   22.09913   2.888  0.00400 ** \n",
       "S58            38.23214   22.09913   1.730  0.08411 .  \n",
       "S59            19.45714   22.09913   0.880  0.37895    \n",
       "S60            35.95714   22.09913   1.627  0.10422    \n",
       "S61            14.95714   22.09913   0.677  0.49877    \n",
       "S62             9.15714   22.09913   0.414  0.67875    \n",
       "S1.dtype        3.35000   20.95923   0.160  0.87306    \n",
       "S2.dtype        3.57500   20.95923   0.171  0.86462    \n",
       "S3.dtype        6.40000   20.95923   0.305  0.76020    \n",
       "S4.dtype        0.30000   20.95923   0.014  0.98858    \n",
       "S5.dtype        1.70000   20.95923   0.081  0.93538    \n",
       "S6.dtype       -0.52500   20.95923  -0.025  0.98002    \n",
       "S7.dtype        1.80000   20.95923   0.086  0.93159    \n",
       "S8.dtype       -7.35000   20.95923  -0.351  0.72594    \n",
       "S9.dtype        6.65000   20.95923   0.317  0.75113    \n",
       "S10.dtype      -4.55000   20.95923  -0.217  0.82821    \n",
       "S11.dtype       1.32500   20.95923   0.063  0.94961    \n",
       "S12.dtype       2.62500   20.95923   0.125  0.90037    \n",
       "S13.dtype       0.72500   20.95923   0.035  0.97242    \n",
       "S14.dtype       1.00000   20.95923   0.048  0.96196    \n",
       "S15.dtype      -2.70000   20.95923  -0.129  0.89754    \n",
       "S16.dtype       0.20000   20.95923   0.010  0.99239    \n",
       "S17.dtype      -2.35000   20.95923  -0.112  0.91076    \n",
       "S18.dtype       4.07500   20.95923   0.194  0.84591    \n",
       "S19.dtype      -5.60000   20.95923  -0.267  0.78941    \n",
       "S20.dtype      -7.27500   20.95923  -0.347  0.72863    \n",
       "S21.dtype       5.90000   20.95923   0.281  0.77842    \n",
       "S22.dtype       1.60000   20.95923   0.076  0.93917    \n",
       "S23.dtype      -6.35000   20.95923  -0.303  0.76201    \n",
       "S24.dtype       0.10000   20.95923   0.005  0.99619    \n",
       "S25.dtype      -2.90000   20.95923  -0.138  0.89000    \n",
       "S26.dtype      12.27500   20.95923   0.586  0.55831    \n",
       "S27.dtype       1.42500   20.95923   0.068  0.94582    \n",
       "S28.dtype       3.40000   20.95923   0.162  0.87118    \n",
       "S29.dtype      16.42500   20.95923   0.784  0.43353    \n",
       "S30.dtype       3.92500   20.95923   0.187  0.85151    \n",
       "S31.dtype      11.15000   20.95923   0.532  0.59492    \n",
       "S32.dtype      -6.77500   20.95923  -0.323  0.74662    \n",
       "S33.dtype       2.32500   20.95923   0.111  0.91171    \n",
       "S34.dtype       1.32500   20.95923   0.063  0.94961    \n",
       "S35.dtype       2.70000   20.95923   0.129  0.89754    \n",
       "S36.dtype       8.92500   20.95923   0.426  0.67038    \n",
       "S37.dtype      -0.12500   20.95923  -0.006  0.99524    \n",
       "S38.dtype      -5.62500   20.95923  -0.268  0.78850    \n",
       "S39.dtype      -5.47500   20.95923  -0.261  0.79401    \n",
       "S40.dtype      -3.07500   20.95923  -0.147  0.88341    \n",
       "S41.dtype     -17.02500   20.95923  -0.812  0.41693    \n",
       "S42.dtype      -6.10000   20.95923  -0.291  0.77112    \n",
       "S43.dtype      -7.67500   20.95923  -0.366  0.71435    \n",
       "S44.dtype     -14.87500   20.95923  -0.710  0.47815    \n",
       "S45.dtype     -10.32500   20.95923  -0.493  0.62245    \n",
       "S46.dtype     -15.07500   20.95923  -0.719  0.47225    \n",
       "S47.dtype     -17.02500   20.95923  -0.812  0.41693    \n",
       "S48.dtype     -37.40000   20.95923  -1.784  0.07484 .  \n",
       "S49.dtype     -55.85000   20.95923  -2.665  0.00790 ** \n",
       "S50.dtype     -56.05000   20.95923  -2.674  0.00768 ** \n",
       "S51.dtype     -53.52500   20.95923  -2.554  0.01089 *  \n",
       "S52.dtype     -45.80000   20.95923  -2.185  0.02924 *  \n",
       "S53.dtype     -43.47500   20.95923  -2.074  0.03846 *  \n",
       "S54.dtype     -30.00000   20.95923  -1.431  0.15282    \n",
       "S55.dtype     -33.37500   20.95923  -1.592  0.11180    \n",
       "S56.dtype     -37.35000   20.95923  -1.782  0.07522 .  \n",
       "S57.dtype     -20.32500   20.95923  -0.970  0.33255    \n",
       "S58.dtype     -10.62500   20.95923  -0.507  0.61238    \n",
       "S59.dtype      -3.20000   20.95923  -0.153  0.87870    \n",
       "S60.dtype     -16.20000   20.95923  -0.773  0.43985    \n",
       "S61.dtype      -1.70000   20.95923  -0.081  0.93538    \n",
       "S62.dtype      -4.60000   20.95923  -0.219  0.82635    \n",
       "S1.day          0.61429    4.04777   0.152  0.87943    \n",
       "S2.day          0.68929    4.04777   0.170  0.86484    \n",
       "S3.day          1.26429    4.04777   0.312  0.75488    \n",
       "S4.day          0.36429    4.04777   0.090  0.92832    \n",
       "S5.day          1.31429    4.04777   0.325  0.74552    \n",
       "S6.day         -1.36071    4.04777  -0.336  0.73686    \n",
       "S7.day         -1.28571    4.04777  -0.318  0.75087    \n",
       "S8.day         -1.08571    4.04777  -0.268  0.78861    \n",
       "S9.day          0.41429    4.04777   0.102  0.91851    \n",
       "S10.day        -0.58571    4.04777  -0.145  0.88499    \n",
       "S11.day        -0.71071    4.04777  -0.176  0.86068    \n",
       "S12.day         3.03929    4.04777   0.751  0.45302    \n",
       "S13.day         1.23929    4.04777   0.306  0.75958    \n",
       "S14.day         1.96429    4.04777   0.485  0.62765    \n",
       "S15.day         0.06429    4.04777   0.016  0.98733    \n",
       "S16.day         1.61429    4.04777   0.399  0.69017    \n",
       "S17.day         1.36429    4.04777   0.337  0.73619    \n",
       "S18.day         0.38929    4.04777   0.096  0.92341    \n",
       "S19.day         1.86429    4.04777   0.461  0.64527    \n",
       "S20.day         0.08929    4.04777   0.022  0.98241    \n",
       "S21.day         3.76429    4.04777   0.930  0.35275    \n",
       "S22.day         1.26429    4.04777   0.312  0.75488    \n",
       "S23.day         1.56429    4.04777   0.386  0.69929    \n",
       "S24.day         2.71429    4.04777   0.671  0.50274    \n",
       "S25.day         1.26429    4.04777   0.312  0.75488    \n",
       "S26.day         5.23929    4.04777   1.294  0.19601    \n",
       "S27.day        -0.11071    4.04777  -0.027  0.97819    \n",
       "S28.day         0.96429    4.04777   0.238  0.81178    \n",
       "S29.day         0.68929    4.04777   0.170  0.86484    \n",
       "S30.day         5.78929    4.04777   1.430  0.15314    \n",
       "S31.day         5.36429    4.04777   1.325  0.18557    \n",
       "S32.day        -0.36071    4.04777  -0.089  0.92902    \n",
       "S33.day         1.18929    4.04777   0.294  0.76900    \n",
       "S34.day         2.83929    4.04777   0.701  0.48328    \n",
       "S35.day         1.86429    4.04777   0.461  0.64527    \n",
       "S36.day         4.73929    4.04777   1.171  0.24211    \n",
       "S37.day        -0.01071    4.04777  -0.003  0.99789    \n",
       "S38.day         0.33929    4.04777   0.084  0.93323    \n",
       "S39.day        -1.01071    4.04777  -0.250  0.80290    \n",
       "S40.day         1.68929    4.04777   0.417  0.67657    \n",
       "S41.day         0.58929    4.04777   0.146  0.88430    \n",
       "S42.day         3.06429    4.04777   0.757  0.44931    \n",
       "S43.day         4.83929    4.04777   1.196  0.23232    \n",
       "S44.day         4.03929    4.04777   0.998  0.31871    \n",
       "S45.day         2.28929    4.04777   0.566  0.57189    \n",
       "S46.day        -2.31071    4.04777  -0.571  0.56830    \n",
       "S47.day         0.13929    4.04777   0.034  0.97256    \n",
       "S48.day       -11.68571    4.04777  -2.887  0.00402 ** \n",
       "S49.day       -17.73571    4.04777  -4.382 1.38e-05 ***\n",
       "S50.day       -18.33571    4.04777  -4.530 7.06e-06 ***\n",
       "S51.day       -16.46071    4.04777  -4.067 5.37e-05 ***\n",
       "S52.day       -10.83571    4.04777  -2.677  0.00762 ** \n",
       "S53.day        -9.96071    4.04777  -2.461  0.01413 *  \n",
       "S54.day        -5.58571    4.04777  -1.380  0.16809    \n",
       "S55.day        -7.26071    4.04777  -1.794  0.07333 .  \n",
       "S56.day       -10.93571    4.04777  -2.702  0.00708 ** \n",
       "S57.day        -3.66071    4.04777  -0.904  0.36614    \n",
       "S58.day         0.18929    4.04777   0.047  0.96272    \n",
       "S59.day         3.21429    4.04777   0.794  0.42744    \n",
       "S60.day        -0.48571    4.04777  -0.120  0.90452    \n",
       "S61.day         0.21429    4.04777   0.053  0.95780    \n",
       "S62.day         0.11429    4.04777   0.028  0.97748    \n",
       "S1.day.dtype   -0.30000    3.23837  -0.093  0.92622    \n",
       "S2.day.dtype   -0.32500    3.23837  -0.100  0.92009    \n",
       "S3.day.dtype   -0.85000    3.23837  -0.262  0.79304    \n",
       "S4.day.dtype   -0.05000    3.23837  -0.015  0.98769    \n",
       "S5.day.dtype   -0.70000    3.23837  -0.216  0.82893    \n",
       "S6.day.dtype    0.02500    3.23837   0.008  0.99384    \n",
       "S7.day.dtype   -0.50000    3.23837  -0.154  0.87734    \n",
       "S8.day.dtype    0.60000    3.23837   0.185  0.85307    \n",
       "S9.day.dtype   -1.40000    3.23837  -0.432  0.66566    \n",
       "S10.day.dtype   0.10000    3.23837   0.031  0.97538    \n",
       "S11.day.dtype  -0.52500    3.23837  -0.162  0.87126    \n",
       "S12.day.dtype  -1.77500    3.23837  -0.548  0.58381    \n",
       "S13.day.dtype  -1.17500    3.23837  -0.363  0.71685    \n",
       "S14.day.dtype  -1.25000    3.23837  -0.386  0.69963    \n",
       "S15.day.dtype  -0.45000    3.23837  -0.139  0.88953    \n",
       "S16.day.dtype  -1.30000    3.23837  -0.401  0.68823    \n",
       "S17.day.dtype  -1.05000    3.23837  -0.324  0.74587    \n",
       "S18.day.dtype  -1.72500    3.23837  -0.533  0.59445    \n",
       "S19.day.dtype  -1.05000    3.23837  -0.324  0.74587    \n",
       "S20.day.dtype  -0.62500    3.23837  -0.193  0.84702    \n",
       "S21.day.dtype  -2.85000    3.23837  -0.880  0.37915    \n",
       "S22.day.dtype  -1.85000    3.23837  -0.571  0.56802    \n",
       "S23.day.dtype  -1.45000    3.23837  -0.448  0.65448    \n",
       "S24.day.dtype  -2.50000    3.23837  -0.772  0.44041    \n",
       "S25.day.dtype  -1.85000    3.23837  -0.571  0.56802    \n",
       "S26.day.dtype  -4.67500    3.23837  -1.444  0.14934    \n",
       "S27.day.dtype  -2.22500    3.23837  -0.687  0.49229    \n",
       "S28.day.dtype  -2.75000    3.23837  -0.849  0.39610    \n",
       "S29.day.dtype  -4.32500    3.23837  -1.336  0.18218    \n",
       "S30.day.dtype  -4.02500    3.23837  -1.243  0.21436    \n",
       "S31.day.dtype  -4.55000    3.23837  -1.405  0.16050    \n",
       "S32.day.dtype  -1.47500    3.23837  -0.455  0.64892    \n",
       "S33.day.dtype  -2.32500    3.23837  -0.718  0.47305    \n",
       "S34.day.dtype  -2.37500    3.23837  -0.733  0.46359    \n",
       "S35.day.dtype  -2.05000    3.23837  -0.633  0.52694    \n",
       "S36.day.dtype  -3.67500    3.23837  -1.135  0.25688    \n",
       "S37.day.dtype  -1.42500    3.23837  -0.440  0.66006    \n",
       "S38.day.dtype  -0.87500    3.23837  -0.270  0.78710    \n",
       "S39.day.dtype  -0.42500    3.23837  -0.131  0.89563    \n",
       "S40.day.dtype  -1.32500    3.23837  -0.409  0.68256    \n",
       "S41.day.dtype   0.37500    3.23837   0.116  0.90785    \n",
       "S42.day.dtype  -1.45000    3.23837  -0.448  0.65448    \n",
       "S43.day.dtype  -1.87500    3.23837  -0.579  0.56280    \n",
       "S44.day.dtype  -1.27500    3.23837  -0.394  0.69392    \n",
       "S45.day.dtype  -1.52500    3.23837  -0.471  0.63786    \n",
       "S46.day.dtype  -0.32500    3.23837  -0.100  0.92009    \n",
       "S47.day.dtype  -0.97500    3.23837  -0.301  0.76345    \n",
       "S48.day.dtype   2.80000    3.23837   0.865  0.38757    \n",
       "S49.day.dtype   6.15000    3.23837   1.899  0.05801 .  \n",
       "S50.day.dtype   5.85000    3.23837   1.806  0.07132 .  \n",
       "S51.day.dtype   5.72500    3.23837   1.768  0.07757 .  \n",
       "S52.day.dtype   3.85000    3.23837   1.189  0.23494    \n",
       "S53.day.dtype   4.22500    3.23837   1.305  0.19248    \n",
       "S54.day.dtype   1.60000    3.23837   0.494  0.62142    \n",
       "S55.day.dtype   2.82500    3.23837   0.872  0.38335    \n",
       "S56.day.dtype   4.55000    3.23837   1.405  0.16050    \n",
       "S57.day.dtype   1.12500    3.23837   0.347  0.72841    \n",
       "S58.day.dtype  -0.32500    3.23837  -0.100  0.92009    \n",
       "S59.day.dtype  -1.50000    3.23837  -0.463  0.64338    \n",
       "S60.day.dtype   0.90000    3.23837   0.278  0.78117    \n",
       "S61.day.dtype  -0.50000    3.23837  -0.154  0.87734    \n",
       "S62.day.dtype   0.20000    3.23837   0.062  0.95077    \n",
       "---\n",
       "Signif. codes:  0 '***' 0.001 '**' 0.01 '*' 0.05 '.' 0.1 ' ' 1\n",
       "\n",
       "Residual standard error: 6.321 on 631 degrees of freedom\n",
       "Multiple R-squared:  0.9472,\tAdjusted R-squared:  0.9262 \n",
       "F-statistic: 45.25 on 250 and 631 DF,  p-value: < 2.2e-16\n"
      ]
     },
     "metadata": {},
     "output_type": "display_data"
    }
   ],
   "source": [
    "model<-lm(demand~.,trainingdata)\n",
    "\n",
    "summary(model)"
   ]
  },
  {
   "cell_type": "code",
   "execution_count": 32,
   "metadata": {
    "ExecuteTime": {
     "end_time": "2019-01-12T01:03:26.874774Z",
     "start_time": "2019-01-12T01:03:13.651Z"
    }
   },
   "outputs": [
    {
     "data": {
      "text/plain": [
       "15 minute periodicity from 2005-03-01 06:30:00 to 2005-03-14 22:00:00 "
      ]
     },
     "metadata": {},
     "output_type": "display_data"
    },
    {
     "data": {
      "image/png": "[encoded data removed]",
      "text/plain": [
       "Plot with title \"Model evaluated on timeseries\""
      ]
     },
     "metadata": {},
     "output_type": "display_data"
    },
    {
     "data": {
      "image/png": "[encoded data removed]",
      "text/plain": [
       "Plot with title \"Auto correlation of timeseries\""
      ]
     },
     "metadata": {},
     "output_type": "display_data"
    },
    {
     "data": {
      "image/png": "[encoded data removed]",
      "text/plain": [
       "Plot with title \"Auto correlation of model residuals\""
      ]
     },
     "metadata": {},
     "output_type": "display_data"
    },
    {
     "data": {
      "image/png": "[encoded data removed]",
      "text/plain": [
       "Plot with title \"Model residuals\""
      ]
     },
     "metadata": {},
     "output_type": "display_data"
    },
    {
     "data": {
      "image/png": "[encoded data removed]",
      "text/plain": [
       "Plot with title \"QQ plot of model residuals\""
      ]
     },
     "metadata": {},
     "output_type": "display_data"
    }
   ],
   "source": [
    "my.xts = xts(coredata(training.set$demand), order.by=as.POSIXct(training.set$date.and.time))\n",
    "attr(my.xts,\"frequency\")<-63\n",
    "periodicity(my.xts)\n",
    "timeseries<-as.ts(my.xts)\n",
    "\n",
    "\n",
    "\n",
    "#coefficients(model)\n",
    "coef<-coefficients(model)\n",
    "plot(trainingdata$demand,main='Model evaluated on timeseries',type='l')\n",
    "lines(model$fitted, lwd = 1,col='red')\n",
    "\n",
    "#model testing\n",
    "Acf(timeseries,main='Auto correlation of timeseries')\n",
    "Acf(resid(model),main='Auto correlation of model residuals')\n",
    "plot(resid(model),main='Model residuals')\n",
    "qqnorm(resid(model),main='QQ plot of model residuals')\n",
    "qqline(resid(model))"
   ]
  },
  {
   "cell_type": "code",
   "execution_count": 12,
   "metadata": {
    "ExecuteTime": {
     "end_time": "2019-01-12T00:57:13.322817Z",
     "start_time": "2019-01-12T00:57:03.090Z"
    }
   },
   "outputs": [
    {
     "data": {
      "text/html": [
       "<table>\n",
       "<thead><tr><th scope=col>ones</th><th scope=col>daytype</th><th scope=col>daynumber</th><th scope=col>S1</th><th scope=col>S2</th><th scope=col>S3</th><th scope=col>S4</th><th scope=col>S5</th><th scope=col>S6</th><th scope=col>S7</th><th scope=col>...</th><th scope=col>S53.day.dtype</th><th scope=col>S54.day.dtype</th><th scope=col>S55.day.dtype</th><th scope=col>S56.day.dtype</th><th scope=col>S57.day.dtype</th><th scope=col>S58.day.dtype</th><th scope=col>S59.day.dtype</th><th scope=col>S60.day.dtype</th><th scope=col>S61.day.dtype</th><th scope=col>S62.day.dtype</th></tr></thead>\n",
       "<tbody>\n",
       "\t<tr><td>1  </td><td>1  </td><td>2  </td><td>1  </td><td>0  </td><td>0  </td><td>0  </td><td>0  </td><td>0  </td><td>0  </td><td>...</td><td>0  </td><td>0  </td><td>0  </td><td>0  </td><td>0  </td><td>0  </td><td>0  </td><td>0  </td><td>0  </td><td>0  </td></tr>\n",
       "\t<tr><td>1  </td><td>1  </td><td>2  </td><td>0  </td><td>1  </td><td>0  </td><td>0  </td><td>0  </td><td>0  </td><td>0  </td><td>...</td><td>0  </td><td>0  </td><td>0  </td><td>0  </td><td>0  </td><td>0  </td><td>0  </td><td>0  </td><td>0  </td><td>0  </td></tr>\n",
       "\t<tr><td>1  </td><td>1  </td><td>2  </td><td>0  </td><td>0  </td><td>1  </td><td>0  </td><td>0  </td><td>0  </td><td>0  </td><td>...</td><td>0  </td><td>0  </td><td>0  </td><td>0  </td><td>0  </td><td>0  </td><td>0  </td><td>0  </td><td>0  </td><td>0  </td></tr>\n",
       "\t<tr><td>1  </td><td>1  </td><td>2  </td><td>0  </td><td>0  </td><td>0  </td><td>1  </td><td>0  </td><td>0  </td><td>0  </td><td>...</td><td>0  </td><td>0  </td><td>0  </td><td>0  </td><td>0  </td><td>0  </td><td>0  </td><td>0  </td><td>0  </td><td>0  </td></tr>\n",
       "\t<tr><td>1  </td><td>1  </td><td>2  </td><td>0  </td><td>0  </td><td>0  </td><td>0  </td><td>1  </td><td>0  </td><td>0  </td><td>...</td><td>0  </td><td>0  </td><td>0  </td><td>0  </td><td>0  </td><td>0  </td><td>0  </td><td>0  </td><td>0  </td><td>0  </td></tr>\n",
       "\t<tr><td>1  </td><td>1  </td><td>2  </td><td>0  </td><td>0  </td><td>0  </td><td>0  </td><td>0  </td><td>1  </td><td>0  </td><td>...</td><td>0  </td><td>0  </td><td>0  </td><td>0  </td><td>0  </td><td>0  </td><td>0  </td><td>0  </td><td>0  </td><td>0  </td></tr>\n",
       "</tbody>\n",
       "</table>\n"
      ],
      "text/latex": [
       "\\begin{tabular}{r|lllllllllllllllllllllllllllllllllllllllllllllllllllllllllllllllllllllllllllllllllllllllllllllllllllllllllllllllllllllllllllllllllllllllllllllllllllllllllllllllllllllllllllllllllllllllllllllllllllllllllllllllllllllllllllllllllllllllllllllllllllllllllll}\n",
       " ones & daytype & daynumber & S1 & S2 & S3 & S4 & S5 & S6 & S7 & ... & S53.day.dtype & S54.day.dtype & S55.day.dtype & S56.day.dtype & S57.day.dtype & S58.day.dtype & S59.day.dtype & S60.day.dtype & S61.day.dtype & S62.day.dtype\\\\\n",
       "\\hline\n",
       "\t 1   & 1   & 2   & 1   & 0   & 0   & 0   & 0   & 0   & 0   & ... & 0   & 0   & 0   & 0   & 0   & 0   & 0   & 0   & 0   & 0  \\\\\n",
       "\t 1   & 1   & 2   & 0   & 1   & 0   & 0   & 0   & 0   & 0   & ... & 0   & 0   & 0   & 0   & 0   & 0   & 0   & 0   & 0   & 0  \\\\\n",
       "\t 1   & 1   & 2   & 0   & 0   & 1   & 0   & 0   & 0   & 0   & ... & 0   & 0   & 0   & 0   & 0   & 0   & 0   & 0   & 0   & 0  \\\\\n",
       "\t 1   & 1   & 2   & 0   & 0   & 0   & 1   & 0   & 0   & 0   & ... & 0   & 0   & 0   & 0   & 0   & 0   & 0   & 0   & 0   & 0  \\\\\n",
       "\t 1   & 1   & 2   & 0   & 0   & 0   & 0   & 1   & 0   & 0   & ... & 0   & 0   & 0   & 0   & 0   & 0   & 0   & 0   & 0   & 0  \\\\\n",
       "\t 1   & 1   & 2   & 0   & 0   & 0   & 0   & 0   & 1   & 0   & ... & 0   & 0   & 0   & 0   & 0   & 0   & 0   & 0   & 0   & 0  \\\\\n",
       "\\end{tabular}\n"
      ],
      "text/markdown": [
       "\n",
       "ones | daytype | daynumber | S1 | S2 | S3 | S4 | S5 | S6 | S7 | ... | S53.day.dtype | S54.day.dtype | S55.day.dtype | S56.day.dtype | S57.day.dtype | S58.day.dtype | S59.day.dtype | S60.day.dtype | S61.day.dtype | S62.day.dtype | \n",
       "|---|---|---|---|---|---|\n",
       "| 1   | 1   | 2   | 1   | 0   | 0   | 0   | 0   | 0   | 0   | ... | 0   | 0   | 0   | 0   | 0   | 0   | 0   | 0   | 0   | 0   | \n",
       "| 1   | 1   | 2   | 0   | 1   | 0   | 0   | 0   | 0   | 0   | ... | 0   | 0   | 0   | 0   | 0   | 0   | 0   | 0   | 0   | 0   | \n",
       "| 1   | 1   | 2   | 0   | 0   | 1   | 0   | 0   | 0   | 0   | ... | 0   | 0   | 0   | 0   | 0   | 0   | 0   | 0   | 0   | 0   | \n",
       "| 1   | 1   | 2   | 0   | 0   | 0   | 1   | 0   | 0   | 0   | ... | 0   | 0   | 0   | 0   | 0   | 0   | 0   | 0   | 0   | 0   | \n",
       "| 1   | 1   | 2   | 0   | 0   | 0   | 0   | 1   | 0   | 0   | ... | 0   | 0   | 0   | 0   | 0   | 0   | 0   | 0   | 0   | 0   | \n",
       "| 1   | 1   | 2   | 0   | 0   | 0   | 0   | 0   | 1   | 0   | ... | 0   | 0   | 0   | 0   | 0   | 0   | 0   | 0   | 0   | 0   | \n",
       "\n",
       "\n"
      ],
      "text/plain": [
       "  ones daytype daynumber S1 S2 S3 S4 S5 S6 S7 ... S53.day.dtype S54.day.dtype\n",
       "1 1    1       2         1  0  0  0  0  0  0  ... 0             0            \n",
       "2 1    1       2         0  1  0  0  0  0  0  ... 0             0            \n",
       "3 1    1       2         0  0  1  0  0  0  0  ... 0             0            \n",
       "4 1    1       2         0  0  0  1  0  0  0  ... 0             0            \n",
       "5 1    1       2         0  0  0  0  1  0  0  ... 0             0            \n",
       "6 1    1       2         0  0  0  0  0  1  0  ... 0             0            \n",
       "  S55.day.dtype S56.day.dtype S57.day.dtype S58.day.dtype S59.day.dtype\n",
       "1 0             0             0             0             0            \n",
       "2 0             0             0             0             0            \n",
       "3 0             0             0             0             0            \n",
       "4 0             0             0             0             0            \n",
       "5 0             0             0             0             0            \n",
       "6 0             0             0             0             0            \n",
       "  S60.day.dtype S61.day.dtype S62.day.dtype\n",
       "1 0             0             0            \n",
       "2 0             0             0            \n",
       "3 0             0             0            \n",
       "4 0             0             0            \n",
       "5 0             0             0            \n",
       "6 0             0             0            "
      ]
     },
     "metadata": {},
     "output_type": "display_data"
    },
    {
     "data": {
      "text/html": [
       "<ol class=list-inline>\n",
       "\t<li>1512</li>\n",
       "\t<li>251</li>\n",
       "</ol>\n"
      ],
      "text/latex": [
       "\\begin{enumerate*}\n",
       "\\item 1512\n",
       "\\item 251\n",
       "\\end{enumerate*}\n"
      ],
      "text/markdown": [
       "1. 1512\n",
       "2. 251\n",
       "\n",
       "\n"
      ],
      "text/plain": [
       "[1] 1512  251"
      ]
     },
     "metadata": {},
     "output_type": "display_data"
    }
   ],
   "source": [
    "#We create a new dataframe to make the model calculation easier below\n",
    "ones<-rep(1,1512)\n",
    "#we remove the demand column since thats what we predict and we replace it with ones\n",
    "#so they are multiplied by the intercept coefficient\n",
    "final.model.data<-data.frame(ones,model.data[,-1])\n",
    "\n",
    "\n",
    "head(final.model.data)\n",
    "dim(final.model.data)"
   ]
  },
  {
   "cell_type": "code",
   "execution_count": 13,
   "metadata": {
    "ExecuteTime": {
     "end_time": "2019-01-12T00:57:19.065505Z",
     "start_time": "2019-01-12T00:57:03.619Z"
    }
   },
   "outputs": [
    {
     "data": {
      "image/png": "[encoded data removed]",
      "text/plain": [
       "plot without title"
      ]
     },
     "metadata": {},
     "output_type": "display_data"
    }
   ],
   "source": [
    "#coefficients(model)\n",
    "coef<-coefficients(model)\n",
    "\n",
    "mymodel = rowSums(mapply(\"*\", as.data.frame(final.model.data),coef))\n",
    "\n",
    "plot(newdata$demand,type='l')\n",
    "lines(mymodel,lwd = 1,col='red')"
   ]
  },
  {
   "cell_type": "code",
   "execution_count": 14,
   "metadata": {
    "ExecuteTime": {
     "end_time": "2019-01-12T00:57:24.565649Z",
     "start_time": "2019-01-12T00:57:04.092Z"
    }
   },
   "outputs": [
    {
     "data": {
      "text/html": [
       "0.617080638296765"
      ],
      "text/latex": [
       "0.617080638296765"
      ],
      "text/markdown": [
       "0.617080638296765"
      ],
      "text/plain": [
       "[1] 0.6170806"
      ]
     },
     "metadata": {},
     "output_type": "display_data"
    }
   ],
   "source": [
    "actual.demand<-validation.set$demand\n",
    "predicted.demand<-mymodel[883:1323]\n",
    "\n",
    "residuals<-actual.demand-predicted.demand\n",
    "\n",
    "#Adjusted R-Squared\n",
    "n=length(actual.demand)\n",
    "k=dim(final.model.data)[2]-1 #Subtract one to ignore intercept\n",
    "SSE=sum(residuals**2)\n",
    "SSyy=sum((actual.demand-mean(actual.demand))**2)\n",
    "1-(SSE/SSyy)*(n-1)/(n-(k+1))\n"
   ]
  },
  {
   "cell_type": "code",
   "execution_count": 15,
   "metadata": {
    "ExecuteTime": {
     "end_time": "2019-01-12T00:57:30.168837Z",
     "start_time": "2019-01-12T00:57:04.497Z"
    },
    "scrolled": true
   },
   "outputs": [
    {
     "data": {
      "text/html": [
       "<table>\n",
       "<thead><tr><th></th><th scope=col>Estimate</th><th scope=col>Std. Error</th><th scope=col>t value</th><th scope=col>Pr(&gt;|t|)</th></tr></thead>\n",
       "<tbody>\n",
       "\t<tr><th scope=row>(Intercept)</th><td> 9.4428571</td><td> 3.802406 </td><td> 2.4833903</td><td>0.01327246</td></tr>\n",
       "\t<tr><th scope=row>daytype</th><td>-1.6000000</td><td> 3.053161 </td><td>-0.5240471</td><td>0.60042981</td></tr>\n",
       "\t<tr><th scope=row>daynumber</th><td>-0.7142857</td><td> 1.379277 </td><td>-0.5178695</td><td>0.60473084</td></tr>\n",
       "\t<tr><th scope=row>S1</th><td>-7.6928571</td><td>22.099128 </td><td>-0.3481068</td><td>0.72787607</td></tr>\n",
       "\t<tr><th scope=row>S2</th><td>-8.3678571</td><td>22.099128 </td><td>-0.3786510</td><td>0.70507441</td></tr>\n",
       "\t<tr><th scope=row>S3</th><td>-9.8428571</td><td>22.099128 </td><td>-0.4453957</td><td>0.65618657</td></tr>\n",
       "</tbody>\n",
       "</table>\n"
      ],
      "text/latex": [
       "\\begin{tabular}{r|llll}\n",
       "  & Estimate & Std. Error & t value & Pr(>\\textbar{}t\\textbar{})\\\\\n",
       "\\hline\n",
       "\t(Intercept) &  9.4428571 &  3.802406  &  2.4833903 & 0.01327246\\\\\n",
       "\tdaytype & -1.6000000 &  3.053161  & -0.5240471 & 0.60042981\\\\\n",
       "\tdaynumber & -0.7142857 &  1.379277  & -0.5178695 & 0.60473084\\\\\n",
       "\tS1 & -7.6928571 & 22.099128  & -0.3481068 & 0.72787607\\\\\n",
       "\tS2 & -8.3678571 & 22.099128  & -0.3786510 & 0.70507441\\\\\n",
       "\tS3 & -9.8428571 & 22.099128  & -0.4453957 & 0.65618657\\\\\n",
       "\\end{tabular}\n"
      ],
      "text/markdown": [
       "\n",
       "| <!--/--> | Estimate | Std. Error | t value | Pr(>|t|) | \n",
       "|---|---|---|---|---|---|\n",
       "| (Intercept) |  9.4428571 |  3.802406  |  2.4833903 | 0.01327246 | \n",
       "| daytype | -1.6000000 |  3.053161  | -0.5240471 | 0.60042981 | \n",
       "| daynumber | -0.7142857 |  1.379277  | -0.5178695 | 0.60473084 | \n",
       "| S1 | -7.6928571 | 22.099128  | -0.3481068 | 0.72787607 | \n",
       "| S2 | -8.3678571 | 22.099128  | -0.3786510 | 0.70507441 | \n",
       "| S3 | -9.8428571 | 22.099128  | -0.4453957 | 0.65618657 | \n",
       "\n",
       "\n"
      ],
      "text/plain": [
       "            Estimate   Std. Error t value    Pr(>|t|)  \n",
       "(Intercept)  9.4428571  3.802406   2.4833903 0.01327246\n",
       "daytype     -1.6000000  3.053161  -0.5240471 0.60042981\n",
       "daynumber   -0.7142857  1.379277  -0.5178695 0.60473084\n",
       "S1          -7.6928571 22.099128  -0.3481068 0.72787607\n",
       "S2          -8.3678571 22.099128  -0.3786510 0.70507441\n",
       "S3          -9.8428571 22.099128  -0.4453957 0.65618657"
      ]
     },
     "metadata": {},
     "output_type": "display_data"
    },
    {
     "data": {
      "text/html": [
       "0.997888872527837"
      ],
      "text/latex": [
       "0.997888872527837"
      ],
      "text/markdown": [
       "0.997888872527837"
      ],
      "text/plain": [
       "[1] 0.9978889"
      ]
     },
     "metadata": {},
     "output_type": "display_data"
    },
    {
     "data": {
      "text/html": [
       "<strong>S37.day:</strong> 164"
      ],
      "text/latex": [
       "\\textbf{S37.day:} 164"
      ],
      "text/markdown": [
       "**S37.day:** 164"
      ],
      "text/plain": [
       "S37.day \n",
       "    164 "
      ]
     },
     "metadata": {},
     "output_type": "display_data"
    },
    {
     "data": {
      "text/html": [
       "'S37.day'"
      ],
      "text/latex": [
       "'S37.day'"
      ],
      "text/markdown": [
       "'S37.day'"
      ],
      "text/plain": [
       "[1] \"S37.day\""
      ]
     },
     "metadata": {},
     "output_type": "display_data"
    }
   ],
   "source": [
    "head(coef(summary(model)))\n",
    "#coef(summary(model))[,'Pr(>|t|)']\n",
    "maxpvalue<-max(coef(summary(model))[,'Pr(>|t|)'])\n",
    "maxpvalue\n",
    "\n",
    "#row.names(coef(summary(model)))\n",
    "maxindex<-which(coef(summary(model))[,'Pr(>|t|)']==maxpvalue)\n",
    "maxindex\n",
    "nameofmaxp<-names(maxindex)\n",
    "nameofmaxp"
   ]
  },
  {
   "cell_type": "markdown",
   "metadata": {},
   "source": [
    "Now lets remove that from our model and calculate everything again"
   ]
  },
  {
   "cell_type": "code",
   "execution_count": 16,
   "metadata": {
    "ExecuteTime": {
     "end_time": "2019-01-12T00:57:36.149606Z",
     "start_time": "2019-01-12T00:57:05.578Z"
    }
   },
   "outputs": [],
   "source": [
    "new.model.data<-model.data[,-which(names(model.data)==nameofmaxp)]\n",
    "\n",
    "\n",
    "trainingdata<-new.model.data[1:882,]"
   ]
  },
  {
   "cell_type": "code",
   "execution_count": 17,
   "metadata": {
    "ExecuteTime": {
     "end_time": "2019-01-12T00:57:42.183935Z",
     "start_time": "2019-01-12T00:57:05.829Z"
    },
    "scrolled": false
   },
   "outputs": [
    {
     "data": {
      "text/plain": [
       "\n",
       "Call:\n",
       "lm(formula = demand ~ ., data = trainingdata)\n",
       "\n",
       "Residuals:\n",
       "    Min      1Q  Median      3Q     Max \n",
       "-31.400  -2.038   0.000   2.000  26.650 \n",
       "\n",
       "Coefficients:\n",
       "               Estimate Std. Error t value Pr(>|t|)    \n",
       "(Intercept)     9.44441    3.75377   2.516 0.012117 *  \n",
       "daytype        -1.59782    2.93797  -0.544 0.586734    \n",
       "daynumber      -0.71553    1.29571  -0.552 0.580985    \n",
       "S1             -7.69441   22.07383  -0.349 0.727524    \n",
       "S2             -8.36941   22.07383  -0.379 0.704700    \n",
       "S3             -9.84441   22.07383  -0.446 0.655767    \n",
       "S4             -2.04441   22.07383  -0.093 0.926237    \n",
       "S5              0.75559   22.07383   0.034 0.972705    \n",
       "S6             10.93059   22.07383   0.495 0.620643    \n",
       "S7             14.45559   22.07383   0.655 0.512787    \n",
       "S8             17.90559   22.07383   0.811 0.417575    \n",
       "S9              6.90559   22.07383   0.313 0.754505    \n",
       "S10            16.00559   22.07383   0.725 0.468663    \n",
       "S11            12.38059   22.07383   0.561 0.575084    \n",
       "S12             8.98059   22.07383   0.407 0.684261    \n",
       "S13            14.18059   22.07383   0.642 0.520836    \n",
       "S14            10.85559   22.07383   0.492 0.623042    \n",
       "S15            18.45559   22.07383   0.836 0.403423    \n",
       "S16            16.25559   22.07383   0.736 0.461749    \n",
       "S17            20.40559   22.07383   0.924 0.355618    \n",
       "S18            22.13059   22.07383   1.003 0.316452    \n",
       "S19            27.15559   22.07383   1.230 0.219074    \n",
       "S20            34.68059   22.07383   1.571 0.116656    \n",
       "S21            16.65559   22.07383   0.755 0.450806    \n",
       "S22            28.55559   22.07383   1.294 0.196262    \n",
       "S23            40.40559   22.07383   1.830 0.067650 .  \n",
       "S24            34.55559   22.07383   1.565 0.117977    \n",
       "S25            40.55559   22.07383   1.837 0.066639 .  \n",
       "S26            27.03059   22.07383   1.225 0.221200    \n",
       "S27            45.58059   22.07383   2.065 0.039338 *  \n",
       "S28            43.15559   22.07383   1.955 0.051017 .  \n",
       "S29            37.08059   22.07383   1.680 0.093482 .  \n",
       "S30            35.08059   22.07383   1.589 0.112507    \n",
       "S31            26.40559   22.07383   1.196 0.232052    \n",
       "S32            55.68059   22.07383   2.522 0.011898 *  \n",
       "S33            34.38059   22.07383   1.558 0.119846    \n",
       "S34            27.88059   22.07383   1.263 0.207033    \n",
       "S35            26.25559   22.07383   1.189 0.234712    \n",
       "S36            18.08059   22.07383   0.819 0.413040    \n",
       "S37            31.67932    9.48430   3.340 0.000887 ***\n",
       "S38            34.23059   22.07383   1.551 0.121467    \n",
       "S39            35.28059   22.07383   1.598 0.110476    \n",
       "S40            27.08059   22.07383   1.227 0.220348    \n",
       "S41            41.93059   22.07383   1.900 0.057946 .  \n",
       "S42            28.15559   22.07383   1.276 0.202594    \n",
       "S43            30.88059   22.07383   1.399 0.162313    \n",
       "S44            45.48059   22.07383   2.060 0.039771 *  \n",
       "S45            48.33059   22.07383   2.189 0.028926 *  \n",
       "S46            69.58059   22.07383   3.152 0.001697 ** \n",
       "S47            71.93059   22.07383   3.259 0.001180 ** \n",
       "S48           136.55559   22.07383   6.186 1.11e-09 ***\n",
       "S49           165.40559   22.07383   7.493 2.28e-13 ***\n",
       "S50           175.00559   22.07383   7.928 1.01e-14 ***\n",
       "S51           157.93059   22.07383   7.155 2.33e-12 ***\n",
       "S52           135.25559   22.07383   6.127 1.57e-09 ***\n",
       "S53           115.78059   22.07383   5.245 2.13e-07 ***\n",
       "S54            96.35559   22.07383   4.365 1.48e-05 ***\n",
       "S55            93.98059   22.07383   4.258 2.38e-05 ***\n",
       "S56            96.90559   22.07383   4.390 1.33e-05 ***\n",
       "S57            63.83059   22.07383   2.892 0.003964 ** \n",
       "S58            38.23059   22.07383   1.732 0.083772 .  \n",
       "S59            19.45559   22.07383   0.881 0.378444    \n",
       "S60            35.95559   22.07383   1.629 0.103837    \n",
       "S61            14.95559   22.07383   0.678 0.498320    \n",
       "S62             9.15559   22.07383   0.415 0.678450    \n",
       "S1.dtype        3.34782   20.92651   0.160 0.872948    \n",
       "S2.dtype        3.57282   20.92651   0.171 0.864489    \n",
       "S3.dtype        6.39782   20.92651   0.306 0.759912    \n",
       "S4.dtype        0.29782   20.92651   0.014 0.988650    \n",
       "S5.dtype        1.69782   20.92651   0.081 0.935362    \n",
       "S6.dtype       -0.52718   20.92651  -0.025 0.979910    \n",
       "S7.dtype        1.79782   20.92651   0.086 0.931564    \n",
       "S8.dtype       -7.35218   20.92651  -0.351 0.725456    \n",
       "S9.dtype        6.64782   20.92651   0.318 0.750837    \n",
       "S10.dtype      -4.55218   20.92651  -0.218 0.827864    \n",
       "S11.dtype       1.32282   20.92651   0.063 0.949617    \n",
       "S12.dtype       2.62282   20.92651   0.125 0.900298    \n",
       "S13.dtype       0.72282   20.92651   0.035 0.972457    \n",
       "S14.dtype       0.99782   20.92651   0.048 0.961985    \n",
       "S15.dtype      -2.70218   20.92651  -0.129 0.897298    \n",
       "S16.dtype       0.19782   20.92651   0.009 0.992461    \n",
       "S17.dtype      -2.35218   20.92651  -0.112 0.910541    \n",
       "S18.dtype       4.07282   20.92651   0.195 0.845749    \n",
       "S19.dtype      -5.60218   20.92651  -0.268 0.789012    \n",
       "S20.dtype      -7.27718   20.92651  -0.348 0.728144    \n",
       "S21.dtype       5.89782   20.92651   0.282 0.778162    \n",
       "S22.dtype       1.59782   20.92651   0.076 0.939162    \n",
       "S23.dtype      -6.35218   20.92651  -0.304 0.761573    \n",
       "S24.dtype       0.09782   20.92651   0.005 0.996272    \n",
       "S25.dtype      -2.90218   20.92651  -0.139 0.889744    \n",
       "S26.dtype      12.27282   20.92651   0.586 0.557767    \n",
       "S27.dtype       1.42282   20.92651   0.068 0.945814    \n",
       "S28.dtype       3.39782   20.92651   0.162 0.871067    \n",
       "S29.dtype      16.42282   20.92651   0.785 0.432873    \n",
       "S30.dtype       3.92282   20.92651   0.187 0.851362    \n",
       "S31.dtype      11.14782   20.92651   0.533 0.594420    \n",
       "S32.dtype      -6.77718   20.92651  -0.324 0.746154    \n",
       "S33.dtype       2.32282   20.92651   0.111 0.911652    \n",
       "S34.dtype       1.32282   20.92651   0.063 0.949617    \n",
       "S35.dtype       2.69782   20.92651   0.129 0.897463    \n",
       "S36.dtype       8.92282   20.92651   0.426 0.669970    \n",
       "S37.dtype      -0.08179   13.13281  -0.006 0.995033    \n",
       "S38.dtype      -5.62718   20.92651  -0.269 0.788093    \n",
       "S39.dtype      -5.47718   20.92651  -0.262 0.793612    \n",
       "S40.dtype      -3.07718   20.92651  -0.147 0.883142    \n",
       "S41.dtype     -17.02718   20.92651  -0.814 0.416143    \n",
       "S42.dtype      -6.10218   20.92651  -0.292 0.770688    \n",
       "S43.dtype      -7.67718   20.92651  -0.367 0.713844    \n",
       "S44.dtype     -14.87718   20.92651  -0.711 0.477393    \n",
       "S45.dtype     -10.32718   20.92651  -0.493 0.621833    \n",
       "S46.dtype     -15.07718   20.92651  -0.720 0.471495    \n",
       "S47.dtype     -17.02718   20.92651  -0.814 0.416143    \n",
       "S48.dtype     -37.40218   20.92651  -1.787 0.074366 .  \n",
       "S49.dtype     -55.85218   20.92651  -2.669 0.007804 ** \n",
       "S50.dtype     -56.05218   20.92651  -2.679 0.007587 ** \n",
       "S51.dtype     -53.52718   20.92651  -2.558 0.010764 *  \n",
       "S52.dtype     -45.80218   20.92651  -2.189 0.028983 *  \n",
       "S53.dtype     -43.47718   20.92651  -2.078 0.038148 *  \n",
       "S54.dtype     -30.00218   20.92651  -1.434 0.152155    \n",
       "S55.dtype     -33.37718   20.92651  -1.595 0.111219    \n",
       "S56.dtype     -37.35218   20.92651  -1.785 0.074754 .  \n",
       "S57.dtype     -20.32718   20.92651  -0.971 0.331741    \n",
       "S58.dtype     -10.62718   20.92651  -0.508 0.611748    \n",
       "S59.dtype      -3.20218   20.92651  -0.153 0.878431    \n",
       "S60.dtype     -16.20218   20.92651  -0.774 0.439077    \n",
       "S61.dtype      -1.70218   20.92651  -0.081 0.935197    \n",
       "S62.dtype      -4.60218   20.92651  -0.220 0.826004    \n",
       "S1.day          0.61553    4.01721   0.153 0.878271    \n",
       "S2.day          0.69053    4.01721   0.172 0.863577    \n",
       "S3.day          1.26553    4.01721   0.315 0.752845    \n",
       "S4.day          0.36553    4.01721   0.091 0.927529    \n",
       "S5.day          1.31553    4.01721   0.327 0.743418    \n",
       "S6.day         -1.35947    4.01721  -0.338 0.735166    \n",
       "S7.day         -1.28447    4.01721  -0.320 0.749270    \n",
       "S8.day         -1.08447    4.01721  -0.270 0.787282    \n",
       "S9.day          0.41553    4.01721   0.103 0.917649    \n",
       "S10.day        -0.58447    4.01721  -0.145 0.884369    \n",
       "S11.day        -0.70947    4.01721  -0.177 0.859873    \n",
       "S12.day         3.04053    4.01721   0.757 0.449407    \n",
       "S13.day         1.24053    4.01721   0.309 0.757573    \n",
       "S14.day         1.96553    4.01721   0.489 0.624815    \n",
       "S15.day         0.06553    4.01721   0.016 0.986990    \n",
       "S16.day         1.61553    4.01721   0.402 0.687708    \n",
       "S17.day         1.36553    4.01721   0.340 0.734030    \n",
       "S18.day         0.39053    4.01721   0.097 0.922587    \n",
       "S19.day         1.86553    4.01721   0.464 0.642533    \n",
       "S20.day         0.09053    4.01721   0.023 0.982028    \n",
       "S21.day         3.76553    4.01721   0.937 0.348937    \n",
       "S22.day         1.26553    4.01721   0.315 0.752845    \n",
       "S23.day         1.56553    4.01721   0.390 0.696886    \n",
       "S24.day         2.71553    4.01721   0.676 0.499305    \n",
       "S25.day         1.26553    4.01721   0.315 0.752845    \n",
       "S26.day         5.24053    4.01721   1.305 0.192532    \n",
       "S27.day        -0.10947    4.01721  -0.027 0.978269    \n",
       "S28.day         0.96553    4.01721   0.240 0.810138    \n",
       "S29.day         0.69053    4.01721   0.172 0.863577    \n",
       "S30.day         5.79053    4.01721   1.441 0.149959    \n",
       "S31.day         5.36553    4.01721   1.336 0.182150    \n",
       "S32.day        -0.35947    4.01721  -0.089 0.928727    \n",
       "S33.day         1.19053    4.01721   0.296 0.767055    \n",
       "S34.day         2.84053    4.01721   0.707 0.479772    \n",
       "S35.day         1.86553    4.01721   0.464 0.642533    \n",
       "S36.day         4.74053    4.01721   1.180 0.238423    \n",
       "S38.day         0.34053    4.01721   0.085 0.932473    \n",
       "S39.day        -1.00947    4.01721  -0.251 0.801675    \n",
       "S40.day         1.69053    4.01721   0.421 0.674029    \n",
       "S41.day         0.59053    4.01721   0.147 0.883179    \n",
       "S42.day         3.06553    4.01721   0.763 0.445689    \n",
       "S43.day         4.84053    4.01721   1.205 0.228675    \n",
       "S44.day         4.04053    4.01721   1.006 0.314895    \n",
       "S45.day         2.29053    4.01721   0.570 0.568759    \n",
       "S46.day        -2.30947    4.01721  -0.575 0.565568    \n",
       "S47.day         0.14053    4.01721   0.035 0.972105    \n",
       "S48.day       -11.68447    4.01721  -2.909 0.003758 ** \n",
       "S49.day       -17.73447    4.01721  -4.415 1.19e-05 ***\n",
       "S50.day       -18.33447    4.01721  -4.564 6.03e-06 ***\n",
       "S51.day       -16.45947    4.01721  -4.097 4.73e-05 ***\n",
       "S52.day       -10.83447    4.01721  -2.697 0.007183 ** \n",
       "S53.day        -9.95947    4.01721  -2.479 0.013428 *  \n",
       "S54.day        -5.58447    4.01721  -1.390 0.164977    \n",
       "S55.day        -7.25947    4.01721  -1.807 0.071224 .  \n",
       "S56.day       -10.93447    4.01721  -2.722 0.006670 ** \n",
       "S57.day        -3.65947    4.01721  -0.911 0.362670    \n",
       "S58.day         0.19053    4.01721   0.047 0.962187    \n",
       "S59.day         3.21553    4.01721   0.800 0.423758    \n",
       "S60.day        -0.48447    4.01721  -0.121 0.904047    \n",
       "S61.day         0.21553    4.01721   0.054 0.957230    \n",
       "S62.day         0.11553    4.01721   0.029 0.977066    \n",
       "S1.day.dtype   -0.30000    3.23580  -0.093 0.926161    \n",
       "S2.day.dtype   -0.32500    3.23580  -0.100 0.920028    \n",
       "S3.day.dtype   -0.85000    3.23580  -0.263 0.792878    \n",
       "S4.day.dtype   -0.05000    3.23580  -0.015 0.987676    \n",
       "S5.day.dtype   -0.70000    3.23580  -0.216 0.828801    \n",
       "S6.day.dtype    0.02500    3.23580   0.008 0.993838    \n",
       "S7.day.dtype   -0.50000    3.23580  -0.155 0.877248    \n",
       "S8.day.dtype    0.60000    3.23580   0.185 0.852955    \n",
       "S9.day.dtype   -1.40000    3.23580  -0.433 0.665410    \n",
       "S10.day.dtype   0.10000    3.23580   0.031 0.975356    \n",
       "S11.day.dtype  -0.52500    3.23580  -0.162 0.871163    \n",
       "S12.day.dtype  -1.77500    3.23580  -0.549 0.583508    \n",
       "S13.day.dtype  -1.17500    3.23580  -0.363 0.716633    \n",
       "S14.day.dtype  -1.25000    3.23580  -0.386 0.699402    \n",
       "S15.day.dtype  -0.45000    3.23580  -0.139 0.889440    \n",
       "S16.day.dtype  -1.30000    3.23580  -0.402 0.688000    \n",
       "S17.day.dtype  -1.05000    3.23580  -0.324 0.745671    \n",
       "S18.day.dtype  -1.72500    3.23580  -0.533 0.594153    \n",
       "S19.day.dtype  -1.05000    3.23580  -0.324 0.745671    \n",
       "S20.day.dtype  -0.62500    3.23580  -0.193 0.846902    \n",
       "S21.day.dtype  -2.85000    3.23580  -0.881 0.378777    \n",
       "S22.day.dtype  -1.85000    3.23580  -0.572 0.567709    \n",
       "S23.day.dtype  -1.45000    3.23580  -0.448 0.654226    \n",
       "S24.day.dtype  -2.50000    3.23580  -0.773 0.440045    \n",
       "S25.day.dtype  -1.85000    3.23580  -0.572 0.567709    \n",
       "S26.day.dtype  -4.67500    3.23580  -1.445 0.149017    \n",
       "S27.day.dtype  -2.22500    3.23580  -0.688 0.491945    \n",
       "S28.day.dtype  -2.75000    3.23580  -0.850 0.395721    \n",
       "S29.day.dtype  -4.32500    3.23580  -1.337 0.181832    \n",
       "S30.day.dtype  -4.02500    3.23580  -1.244 0.213999    \n",
       "S31.day.dtype  -4.55000    3.23580  -1.406 0.160173    \n",
       "S32.day.dtype  -1.47500    3.23580  -0.456 0.648664    \n",
       "S33.day.dtype  -2.32500    3.23580  -0.719 0.472700    \n",
       "S34.day.dtype  -2.37500    3.23580  -0.734 0.463236    \n",
       "S35.day.dtype  -2.05000    3.23580  -0.634 0.526612    \n",
       "S36.day.dtype  -3.67500    3.23580  -1.136 0.256500    \n",
       "S37.day.dtype  -1.43251    1.55931  -0.919 0.358612    \n",
       "S38.day.dtype  -0.87500    3.23580  -0.270 0.786932    \n",
       "S39.day.dtype  -0.42500    3.23580  -0.131 0.895546    \n",
       "S40.day.dtype  -1.32500    3.23580  -0.409 0.682325    \n",
       "S41.day.dtype   0.37500    3.23580   0.116 0.907776    \n",
       "S42.day.dtype  -1.45000    3.23580  -0.448 0.654226    \n",
       "S43.day.dtype  -1.87500    3.23580  -0.579 0.562489    \n",
       "S44.day.dtype  -1.27500    3.23580  -0.394 0.693693    \n",
       "S45.day.dtype  -1.52500    3.23580  -0.471 0.637597    \n",
       "S46.day.dtype  -0.32500    3.23580  -0.100 0.920028    \n",
       "S47.day.dtype  -0.97500    3.23580  -0.301 0.763272    \n",
       "S48.day.dtype   2.80000    3.23580   0.865 0.387192    \n",
       "S49.day.dtype   6.15000    3.23580   1.901 0.057808 .  \n",
       "S50.day.dtype   5.85000    3.23580   1.808 0.071098 .  \n",
       "S51.day.dtype   5.72500    3.23580   1.769 0.077332 .  \n",
       "S52.day.dtype   3.85000    3.23580   1.190 0.234567    \n",
       "S53.day.dtype   4.22500    3.23580   1.306 0.192128    \n",
       "S54.day.dtype   1.60000    3.23580   0.494 0.621148    \n",
       "S55.day.dtype   2.82500    3.23580   0.873 0.382970    \n",
       "S56.day.dtype   4.55000    3.23580   1.406 0.160173    \n",
       "S57.day.dtype   1.12500    3.23580   0.348 0.728202    \n",
       "S58.day.dtype  -0.32500    3.23580  -0.100 0.920028    \n",
       "S59.day.dtype  -1.50000    3.23580  -0.464 0.643120    \n",
       "S60.day.dtype   0.90000    3.23580   0.278 0.780997    \n",
       "S61.day.dtype  -0.50000    3.23580  -0.155 0.877248    \n",
       "S62.day.dtype   0.20000    3.23580   0.062 0.950735    \n",
       "---\n",
       "Signif. codes:  0 '***' 0.001 '**' 0.01 '*' 0.05 '.' 0.1 ' ' 1\n",
       "\n",
       "Residual standard error: 6.316 on 632 degrees of freedom\n",
       "Multiple R-squared:  0.9472,\tAdjusted R-squared:  0.9264 \n",
       "F-statistic: 45.51 on 249 and 632 DF,  p-value: < 2.2e-16\n"
      ]
     },
     "metadata": {},
     "output_type": "display_data"
    }
   ],
   "source": [
    "newmodel<-lm(demand~.,trainingdata)\n",
    "\n",
    "summary(newmodel)"
   ]
  },
  {
   "cell_type": "code",
   "execution_count": 51,
   "metadata": {
    "ExecuteTime": {
     "end_time": "2019-01-12T01:11:19.473684Z",
     "start_time": "2019-01-12T01:11:19.455Z"
    }
   },
   "outputs": [
    {
     "data": {
      "text/html": [
       "<dl class=dl-horizontal>\n",
       "\t<dt>(Intercept)</dt>\n",
       "\t\t<dd>8.22758813540262</dd>\n",
       "\t<dt>daytype</dt>\n",
       "\t\t<dd>-2.99331366192289</dd>\n",
       "\t<dt>S6</dt>\n",
       "\t\t<dd>12.1285995305864</dd>\n",
       "\t<dt>S7</dt>\n",
       "\t\t<dd>18.9857423877292</dd>\n",
       "\t<dt>S8</dt>\n",
       "\t\t<dd>13.7224118645974</dd>\n",
       "\t<dt>S9</dt>\n",
       "\t\t<dd>12.8504392896534</dd>\n",
       "\t<dt>S10</dt>\n",
       "\t\t<dd>15.0724118645974</dd>\n",
       "\t<dt>S11</dt>\n",
       "\t\t<dd>16.9857423877292</dd>\n",
       "\t<dt>S12</dt>\n",
       "\t\t<dd>18.0104959468772</dd>\n",
       "\t<dt>S13</dt>\n",
       "\t\t<dd>17.9729605361123</dd>\n",
       "\t<dt>S14</dt>\n",
       "\t\t<dd>16.4290511876703</dd>\n",
       "\t<dt>S15</dt>\n",
       "\t\t<dd>17.3653118108998</dd>\n",
       "\t<dt>S16</dt>\n",
       "\t\t<dd>20.5221814992851</dd>\n",
       "\t<dt>S17</dt>\n",
       "\t\t<dd>22.4131163434777</dd>\n",
       "\t<dt>S18</dt>\n",
       "\t\t<dd>26.2951984964522</dd>\n",
       "\t<dt>S19</dt>\n",
       "\t\t<dd>28.0869831990018</dd>\n",
       "\t<dt>S20</dt>\n",
       "\t\t<dd>30.580255153676</dd>\n",
       "\t<dt>S21</dt>\n",
       "\t\t<dd>29.4765016125995</dd>\n",
       "\t<dt>S22</dt>\n",
       "\t\t<dd>32.9892494879537</dd>\n",
       "\t<dt>S23</dt>\n",
       "\t\t<dd>40.1737395729395</dd>\n",
       "\t<dt>S24</dt>\n",
       "\t\t<dd>41.1779888647242</dd>\n",
       "\t<dt>S25</dt>\n",
       "\t\t<dd>41.9743769667072</dd>\n",
       "\t<dt>S26</dt>\n",
       "\t\t<dd>47.3713316409282</dd>\n",
       "\t<dt>S27</dt>\n",
       "\t\t<dd>46.8684987797383</dd>\n",
       "\t<dt>S28</dt>\n",
       "\t\t<dd>48.134433623931</dd>\n",
       "\t<dt>S29</dt>\n",
       "\t\t<dd>50.1801135106165</dd>\n",
       "\t<dt>S30</dt>\n",
       "\t\t<dd>41.7516173970921</dd>\n",
       "\t<dt>S31</dt>\n",
       "\t\t<dd>46.2679322075004</dd>\n",
       "\t<dt>S32</dt>\n",
       "\t\t<dd>50.9240936805882</dd>\n",
       "\t<dt>S33</dt>\n",
       "\t\t<dd>39.1347877315797</dd>\n",
       "\t<dt>S34</dt>\n",
       "\t\t<dd>35.5990228590585</dd>\n",
       "\t<dt>S35</dt>\n",
       "\t\t<dd>32.7477480715231</dd>\n",
       "\t<dt>S36</dt>\n",
       "\t\t<dd>35.0756517542426</dd>\n",
       "\t<dt>S37</dt>\n",
       "\t\t<dd>32.2002976465939</dd>\n",
       "\t<dt>S38</dt>\n",
       "\t\t<dd>31.7863458052341</dd>\n",
       "\t<dt>S39</dt>\n",
       "\t\t<dd>36.5724118645974</dd>\n",
       "\t<dt>S40</dt>\n",
       "\t\t<dd>29.3182154936194</dd>\n",
       "\t<dt>S41</dt>\n",
       "\t\t<dd>41.0224118645974</dd>\n",
       "\t<dt>S42</dt>\n",
       "\t\t<dd>31.3950568533927</dd>\n",
       "\t<dt>S43</dt>\n",
       "\t\t<dd>25.6552178616681</dd>\n",
       "\t<dt>S44</dt>\n",
       "\t\t<dd>57.5474118645974</dd>\n",
       "\t<dt>S45</dt>\n",
       "\t\t<dd>59.5224118645974</dd>\n",
       "\t<dt>S46</dt>\n",
       "\t\t<dd>72.9486023407879</dd>\n",
       "\t<dt>S47</dt>\n",
       "\t\t<dd>77.5474118645974</dd>\n",
       "\t<dt>S48</dt>\n",
       "\t\t<dd>119.239078531264</dd>\n",
       "\t<dt>S49</dt>\n",
       "\t\t<dd>166.622411864598</dd>\n",
       "\t<dt>S50</dt>\n",
       "\t\t<dd>137.500983293169</dd>\n",
       "\t<dt>S51</dt>\n",
       "\t\t<dd>121.25336424555</dd>\n",
       "\t<dt>S52</dt>\n",
       "\t\t<dd>110.989078531264</dd>\n",
       "\t<dt>S53</dt>\n",
       "\t\t<dd>89.0319356741213</dd>\n",
       "\t<dt>S54</dt>\n",
       "\t\t<dd>86.9819356741213</dd>\n",
       "\t<dt>S55</dt>\n",
       "\t\t<dd>76.4986023407879</dd>\n",
       "\t<dt>S56</dt>\n",
       "\t\t<dd>68.0057451979308</dd>\n",
       "\t<dt>S57</dt>\n",
       "\t\t<dd>57.6009832931689</dd>\n",
       "\t<dt>S58</dt>\n",
       "\t\t<dd>40.4974118645974</dd>\n",
       "\t<dt>S59</dt>\n",
       "\t\t<dd>24.9683571366789</dd>\n",
       "\t<dt>S60</dt>\n",
       "\t\t<dd>30.9474118645974</dd>\n",
       "\t<dt>S61</dt>\n",
       "\t\t<dd>14.8656659185486</dd>\n",
       "\t<dt>S62</dt>\n",
       "\t\t<dd>4.47619047619048</dd>\n",
       "</dl>\n"
      ],
      "text/latex": [
       "\\begin{description*}\n",
       "\\item[(Intercept)] 8.22758813540262\n",
       "\\item[daytype] -2.99331366192289\n",
       "\\item[S6] 12.1285995305864\n",
       "\\item[S7] 18.9857423877292\n",
       "\\item[S8] 13.7224118645974\n",
       "\\item[S9] 12.8504392896534\n",
       "\\item[S10] 15.0724118645974\n",
       "\\item[S11] 16.9857423877292\n",
       "\\item[S12] 18.0104959468772\n",
       "\\item[S13] 17.9729605361123\n",
       "\\item[S14] 16.4290511876703\n",
       "\\item[S15] 17.3653118108998\n",
       "\\item[S16] 20.5221814992851\n",
       "\\item[S17] 22.4131163434777\n",
       "\\item[S18] 26.2951984964522\n",
       "\\item[S19] 28.0869831990018\n",
       "\\item[S20] 30.580255153676\n",
       "\\item[S21] 29.4765016125995\n",
       "\\item[S22] 32.9892494879537\n",
       "\\item[S23] 40.1737395729395\n",
       "\\item[S24] 41.1779888647242\n",
       "\\item[S25] 41.9743769667072\n",
       "\\item[S26] 47.3713316409282\n",
       "\\item[S27] 46.8684987797383\n",
       "\\item[S28] 48.134433623931\n",
       "\\item[S29] 50.1801135106165\n",
       "\\item[S30] 41.7516173970921\n",
       "\\item[S31] 46.2679322075004\n",
       "\\item[S32] 50.9240936805882\n",
       "\\item[S33] 39.1347877315797\n",
       "\\item[S34] 35.5990228590585\n",
       "\\item[S35] 32.7477480715231\n",
       "\\item[S36] 35.0756517542426\n",
       "\\item[S37] 32.2002976465939\n",
       "\\item[S38] 31.7863458052341\n",
       "\\item[S39] 36.5724118645974\n",
       "\\item[S40] 29.3182154936194\n",
       "\\item[S41] 41.0224118645974\n",
       "\\item[S42] 31.3950568533927\n",
       "\\item[S43] 25.6552178616681\n",
       "\\item[S44] 57.5474118645974\n",
       "\\item[S45] 59.5224118645974\n",
       "\\item[S46] 72.9486023407879\n",
       "\\item[S47] 77.5474118645974\n",
       "\\item[S48] 119.239078531264\n",
       "\\item[S49] 166.622411864598\n",
       "\\item[S50] 137.500983293169\n",
       "\\item[S51] 121.25336424555\n",
       "\\item[S52] 110.989078531264\n",
       "\\item[S53] 89.0319356741213\n",
       "\\item[S54] 86.9819356741213\n",
       "\\item[S55] 76.4986023407879\n",
       "\\item[S56] 68.0057451979308\n",
       "\\item[S57] 57.6009832931689\n",
       "\\item[S58] 40.4974118645974\n",
       "\\item[S59] 24.9683571366789\n",
       "\\item[S60] 30.9474118645974\n",
       "\\item[S61] 14.8656659185486\n",
       "\\item[S62] 4.47619047619048\n",
       "\\end{description*}\n"
      ],
      "text/markdown": [
       "(Intercept)\n",
       ":   8.22758813540262daytype\n",
       ":   -2.99331366192289S6\n",
       ":   12.1285995305864S7\n",
       ":   18.9857423877292S8\n",
       ":   13.7224118645974S9\n",
       ":   12.8504392896534S10\n",
       ":   15.0724118645974S11\n",
       ":   16.9857423877292S12\n",
       ":   18.0104959468772S13\n",
       ":   17.9729605361123S14\n",
       ":   16.4290511876703S15\n",
       ":   17.3653118108998S16\n",
       ":   20.5221814992851S17\n",
       ":   22.4131163434777S18\n",
       ":   26.2951984964522S19\n",
       ":   28.0869831990018S20\n",
       ":   30.580255153676S21\n",
       ":   29.4765016125995S22\n",
       ":   32.9892494879537S23\n",
       ":   40.1737395729395S24\n",
       ":   41.1779888647242S25\n",
       ":   41.9743769667072S26\n",
       ":   47.3713316409282S27\n",
       ":   46.8684987797383S28\n",
       ":   48.134433623931S29\n",
       ":   50.1801135106165S30\n",
       ":   41.7516173970921S31\n",
       ":   46.2679322075004S32\n",
       ":   50.9240936805882S33\n",
       ":   39.1347877315797S34\n",
       ":   35.5990228590585S35\n",
       ":   32.7477480715231S36\n",
       ":   35.0756517542426S37\n",
       ":   32.2002976465939S38\n",
       ":   31.7863458052341S39\n",
       ":   36.5724118645974S40\n",
       ":   29.3182154936194S41\n",
       ":   41.0224118645974S42\n",
       ":   31.3950568533927S43\n",
       ":   25.6552178616681S44\n",
       ":   57.5474118645974S45\n",
       ":   59.5224118645974S46\n",
       ":   72.9486023407879S47\n",
       ":   77.5474118645974S48\n",
       ":   119.239078531264S49\n",
       ":   166.622411864598S50\n",
       ":   137.500983293169S51\n",
       ":   121.25336424555S52\n",
       ":   110.989078531264S53\n",
       ":   89.0319356741213S54\n",
       ":   86.9819356741213S55\n",
       ":   76.4986023407879S56\n",
       ":   68.0057451979308S57\n",
       ":   57.6009832931689S58\n",
       ":   40.4974118645974S59\n",
       ":   24.9683571366789S60\n",
       ":   30.9474118645974S61\n",
       ":   14.8656659185486S62\n",
       ":   4.47619047619048\n",
       "\n"
      ],
      "text/plain": [
       "(Intercept)     daytype          S6          S7          S8          S9 \n",
       "   8.227588   -2.993314   12.128600   18.985742   13.722412   12.850439 \n",
       "        S10         S11         S12         S13         S14         S15 \n",
       "  15.072412   16.985742   18.010496   17.972961   16.429051   17.365312 \n",
       "        S16         S17         S18         S19         S20         S21 \n",
       "  20.522181   22.413116   26.295198   28.086983   30.580255   29.476502 \n",
       "        S22         S23         S24         S25         S26         S27 \n",
       "  32.989249   40.173740   41.177989   41.974377   47.371332   46.868499 \n",
       "        S28         S29         S30         S31         S32         S33 \n",
       "  48.134434   50.180114   41.751617   46.267932   50.924094   39.134788 \n",
       "        S34         S35         S36         S37         S38         S39 \n",
       "  35.599023   32.747748   35.075652   32.200298   31.786346   36.572412 \n",
       "        S40         S41         S42         S43         S44         S45 \n",
       "  29.318215   41.022412   31.395057   25.655218   57.547412   59.522412 \n",
       "        S46         S47         S48         S49         S50         S51 \n",
       "  72.948602   77.547412  119.239079  166.622412  137.500983  121.253364 \n",
       "        S52         S53         S54         S55         S56         S57 \n",
       " 110.989079   89.031936   86.981936   76.498602   68.005745   57.600983 \n",
       "        S58         S59         S60         S61         S62 \n",
       "  40.497412   24.968357   30.947412   14.865666    4.476190 "
      ]
     },
     "metadata": {},
     "output_type": "display_data"
    }
   ],
   "source": [
    "coefficients(newmodel)[1:59]"
   ]
  },
  {
   "cell_type": "code",
   "execution_count": 18,
   "metadata": {
    "ExecuteTime": {
     "end_time": "2019-01-12T00:57:52.103399Z",
     "start_time": "2019-01-12T00:57:06.377Z"
    }
   },
   "outputs": [
    {
     "data": {
      "text/html": [
       "0.619084111316334"
      ],
      "text/latex": [
       "0.619084111316334"
      ],
      "text/markdown": [
       "0.619084111316334"
      ],
      "text/plain": [
       "[1] 0.6190841"
      ]
     },
     "metadata": {},
     "output_type": "display_data"
    }
   ],
   "source": [
    "#We create a new dataframe to make the model calculation easier below\n",
    "ones<-rep(1,1512)\n",
    "#we remove the demand column since thats what we predict and we replace it with ones\n",
    "#so they are multiplied by the intercept coefficient\n",
    "new.final.model.data<-data.frame(ones,new.model.data[,-1])\n",
    "\n",
    "\n",
    "#coefficients(model)\n",
    "newcoef<-coefficients(newmodel)\n",
    "\n",
    "newmymodel = rowSums(mapply(\"*\", as.data.frame(new.final.model.data),newcoef))\n",
    "\n",
    "\n",
    "actual.demand<-validation.set$demand\n",
    "predicted.demand<-newmymodel[883:1323]\n",
    "\n",
    "residuals<-actual.demand-predicted.demand\n",
    "\n",
    "#Adjusted R-Squared\n",
    "n=length(actual.demand)\n",
    "k=dim(new.final.model.data)[2]-1 #Subtract one to ignore intercept\n",
    "SSE=sum(residuals**2)\n",
    "SSyy=sum((actual.demand-mean(actual.demand))**2)\n",
    "1-(SSE/SSyy)*(n-1)/(n-(k+1))\n"
   ]
  },
  {
   "cell_type": "code",
   "execution_count": 19,
   "metadata": {
    "ExecuteTime": {
     "end_time": "2019-01-12T00:58:02.421873Z",
     "start_time": "2019-01-12T00:57:06.798Z"
    }
   },
   "outputs": [
    {
     "data": {
      "text/html": [
       "0.996271702964365"
      ],
      "text/latex": [
       "0.996271702964365"
      ],
      "text/markdown": [
       "0.996271702964365"
      ],
      "text/plain": [
       "[1] 0.9962717"
      ]
     },
     "metadata": {},
     "output_type": "display_data"
    },
    {
     "data": {
      "text/html": [
       "<strong>S24.dtype:</strong> 89"
      ],
      "text/latex": [
       "\\textbf{S24.dtype:} 89"
      ],
      "text/markdown": [
       "**S24.dtype:** 89"
      ],
      "text/plain": [
       "S24.dtype \n",
       "       89 "
      ]
     },
     "metadata": {},
     "output_type": "display_data"
    },
    {
     "data": {
      "text/html": [
       "'S24.dtype'"
      ],
      "text/latex": [
       "'S24.dtype'"
      ],
      "text/markdown": [
       "'S24.dtype'"
      ],
      "text/plain": [
       "[1] \"S24.dtype\""
      ]
     },
     "metadata": {},
     "output_type": "display_data"
    }
   ],
   "source": [
    "#coef(summary(model))[,'Pr(>|t|)']\n",
    "maxpvalue<-max(coef(summary(newmodel))[,'Pr(>|t|)'])\n",
    "maxpvalue\n",
    "\n",
    "#row.names(coef(summary(model)))\n",
    "maxindex<-which(coef(summary(newmodel))[,'Pr(>|t|)']==maxpvalue)\n",
    "maxindex\n",
    "nameofmaxp<-names(maxindex)\n",
    "nameofmaxp"
   ]
  },
  {
   "cell_type": "markdown",
   "metadata": {},
   "source": [
    "# Let's do the above steps in a loop"
   ]
  },
  {
   "cell_type": "code",
   "execution_count": 20,
   "metadata": {
    "ExecuteTime": {
     "end_time": "2019-01-12T00:58:16.030196Z",
     "start_time": "2019-01-12T00:57:08.147Z"
    },
    "scrolled": true
   },
   "outputs": [
    {
     "name": "stdout",
     "output_type": "stream",
     "text": [
      "\n",
      "New max p-value:  0.9962717 \tColumn to be removed:  S24.dtype \n",
      "new R squared =  0.6210676 \n",
      "\n",
      "MAPE= 159.7101 \n",
      "MAE= 5.378685\n",
      "New max p-value:  0.9947027 \tColumn to be removed:  S37.dtype \n",
      "new R squared =  0.6230351 \n",
      "\n",
      "MAPE= 160.9419 \n",
      "MAE= 5.399093\n",
      "New max p-value:  0.9938282 \tColumn to be removed:  S6.day.dtype \n",
      "new R squared =  0.6249776 \n",
      "\n",
      "MAPE= 159.9363 \n",
      "MAE= 5.387755\n",
      "New max p-value:  0.9920571 \tColumn to be removed:  S16.dtype \n",
      "new R squared =  0.6269011 \n",
      "\n",
      "MAPE= 158.2286 \n",
      "MAE= 5.365079\n",
      "New max p-value:  0.9883152 \tColumn to be removed:  S4.dtype \n",
      "new R squared =  0.6288046 \n",
      "\n",
      "MAPE= 156.6921 \n",
      "MAE= 5.365079\n",
      "New max p-value:  0.9952352 \tColumn to be removed:  S4.day.dtype \n",
      "new R squared =  0.6306898 \n",
      "\n",
      "MAPE= 158.0459 \n",
      "MAE= 5.367347\n",
      "New max p-value:  0.9876609 \tColumn to be removed:  S15.day \n",
      "new R squared =  0.632551 \n",
      "\n",
      "MAPE= 159.3157 \n",
      "MAE= 5.369615\n",
      "New max p-value:  0.9831669 \tColumn to be removed:  S20.day \n",
      "new R squared =  0.6343927 \n",
      "\n",
      "MAPE= 157.6485 \n",
      "MAE= 5.367347\n",
      "New max p-value:  0.9788517 \tColumn to be removed:  S62.day \n",
      "new R squared =  0.6362163 \n",
      "\n",
      "MAPE= 157.3838 \n",
      "MAE= 5.367347\n",
      "New max p-value:  0.9751808 \tColumn to be removed:  S10.day.dtype \n",
      "new R squared =  0.6380339 \n",
      "\n",
      "MAPE= 157.7055 \n",
      "MAE= 5.376417\n",
      "New max p-value:  0.9746694 \tColumn to be removed:  S47.day \n",
      "new R squared =  0.6397799 \n",
      "\n",
      "MAPE= 162.418 \n",
      "MAE= 5.39229\n",
      "New max p-value:  0.9725043 \tColumn to be removed:  S27.day \n",
      "new R squared =  0.6415487 \n",
      "\n",
      "MAPE= 159.9196 \n",
      "MAE= 5.378685\n",
      "New max p-value:  0.9712439 \tColumn to be removed:  S5 \n",
      "new R squared =  0.6433036 \n",
      "\n",
      "MAPE= 158.0803 \n",
      "MAE= 5.369615\n",
      "New max p-value:  0.9709017 \tColumn to be removed:  S13.dtype \n",
      "new R squared =  0.6450387 \n",
      "\n",
      "MAPE= 157.2457 \n",
      "MAE= 5.371882\n",
      "New max p-value:  0.9633752 \tColumn to be removed:  S58.day \n",
      "new R squared =  0.6467848 \n",
      "\n",
      "MAPE= 156.8052 \n",
      "MAE= 5.358277\n",
      "New max p-value:  0.9600874 \tColumn to be removed:  S14.dtype \n",
      "new R squared =  0.6484984 \n",
      "\n",
      "MAPE= 158.7635 \n",
      "MAE= 5.380952\n",
      "New max p-value:  0.9593009 \tColumn to be removed:  S61.day \n",
      "new R squared =  0.6501871 \n",
      "\n",
      "MAPE= 157.9264 \n",
      "MAE= 5.369615\n",
      "New max p-value:  0.9473638 \tColumn to be removed:  S34.dtype \n",
      "new R squared =  0.6518614 \n",
      "\n",
      "MAPE= 157.581 \n",
      "MAE= 5.37415\n",
      "New max p-value:  0.9477004 \tColumn to be removed:  S11.dtype \n",
      "new R squared =  0.6535113 \n",
      "\n",
      "MAPE= 159.0048 \n",
      "MAE= 5.37415\n",
      "New max p-value:  0.9373544 \tColumn to be removed:  S22.dtype \n",
      "new R squared =  0.6551376 \n",
      "\n",
      "MAPE= 158.2763 \n",
      "MAE= 5.376417\n",
      "New max p-value:  0.9333991 \tColumn to be removed:  S38.day \n",
      "new R squared =  0.656751 \n",
      "\n",
      "MAPE= 156.7767 \n",
      "MAE= 5.362812\n",
      "New max p-value:  0.9294041 \tColumn to be removed:  S7.dtype \n",
      "new R squared =  0.6583731 \n",
      "\n",
      "MAPE= 159.4552 \n",
      "MAE= 5.371882\n",
      "New max p-value:  0.9248923 \tColumn to be removed:  S1.day.dtype \n",
      "new R squared =  0.6599677 \n",
      "\n",
      "MAPE= 158.1039 \n",
      "MAE= 5.378685\n",
      "New max p-value:  0.9248032 \tColumn to be removed:  S18.day \n",
      "new R squared =  0.6615206 \n",
      "\n",
      "MAPE= 159.7093 \n",
      "MAE= 5.37415\n",
      "New max p-value:  0.9222644 \tColumn to be removed:  S9.day \n",
      "new R squared =  0.6631115 \n",
      "\n",
      "MAPE= 159.7918 \n",
      "MAE= 5.376417\n",
      "New max p-value:  0.9217559 \tColumn to be removed:  S6.dtype \n",
      "new R squared =  0.6646627 \n",
      "\n",
      "MAPE= 158.9993 \n",
      "MAE= 5.387755\n",
      "New max p-value:  0.9184089 \tColumn to be removed:  S2.day.dtype \n",
      "new R squared =  0.6662025 \n",
      "\n",
      "MAPE= 158.1999 \n",
      "MAE= 5.38322\n",
      "New max p-value:  0.9183477 \tColumn to be removed:  S46.day.dtype \n",
      "new R squared =  0.6676652 \n",
      "\n",
      "MAPE= 158.1941 \n",
      "MAE= 5.380952\n",
      "New max p-value:  0.912313 \tColumn to be removed:  S17.dtype \n",
      "new R squared =  0.6691807 \n",
      "\n",
      "MAPE= 158.652 \n",
      "MAE= 5.380952\n",
      "New max p-value:  0.9084561 \tColumn to be removed:  S32.day \n",
      "new R squared =  0.6706609 \n",
      "\n",
      "MAPE= 158.5887 \n",
      "MAE= 5.376417\n",
      "New max p-value:  0.9056299 \tColumn to be removed:  S41.day.dtype \n",
      "new R squared =  0.6721838 \n",
      "\n",
      "MAPE= 158.5735 \n",
      "MAE= 5.376417\n",
      "New max p-value:  0.9044933 \tColumn to be removed:  S33.dtype \n",
      "new R squared =  0.6736495 \n",
      "\n",
      "MAPE= 158.4383 \n",
      "MAE= 5.371882\n",
      "New max p-value:  0.8931991 \tColumn to be removed:  S12.dtype \n",
      "new R squared =  0.6751247 \n",
      "\n",
      "MAPE= 159.4178 \n",
      "MAE= 5.37415\n",
      "New max p-value:  0.8928815 \tColumn to be removed:  S39.day.dtype \n",
      "new R squared =  0.6765364 \n",
      "\n",
      "MAPE= 158.8261 \n",
      "MAE= 5.367347\n",
      "New max p-value:  0.8906551 \tColumn to be removed:  S35.dtype \n",
      "new R squared =  0.6779764 \n",
      "\n",
      "MAPE= 159.1927 \n",
      "MAE= 5.367347\n",
      "New max p-value:  0.8887146 \tColumn to be removed:  S25.dtype \n",
      "new R squared =  0.6794461 \n",
      "\n",
      "MAPE= 158.9805 \n",
      "MAE= 5.37415\n",
      "New max p-value:  0.8856688 \tColumn to be removed:  S60.day \n",
      "new R squared =  0.6808461 \n",
      "\n",
      "MAPE= 158.595 \n",
      "MAE= 5.369615\n",
      "New max p-value:  0.8816976 \tColumn to be removed:  S40.dtype \n",
      "new R squared =  0.6822789 \n",
      "\n",
      "MAPE= 158.8524 \n",
      "MAE= 5.371882\n",
      "New max p-value:  0.8773138 \tColumn to be removed:  S59.dtype \n",
      "new R squared =  0.6836369 \n",
      "\n",
      "MAPE= 159.3945 \n",
      "MAE= 5.371882\n",
      "New max p-value:  0.8709151 \tColumn to be removed:  S1.day \n",
      "new R squared =  0.6849939 \n",
      "\n",
      "MAPE= 159.5129 \n",
      "MAE= 5.376417\n",
      "New max p-value:  0.8726955 \tColumn to be removed:  S29.day \n",
      "new R squared =  0.6864044 \n",
      "\n",
      "MAPE= 158.9615 \n",
      "MAE= 5.380952\n",
      "New max p-value:  0.8757586 \tColumn to be removed:  S2.day \n",
      "new R squared =  0.6877579 \n",
      "\n",
      "MAPE= 159.306 \n",
      "MAE= 5.37415\n",
      "New max p-value:  0.883154 \tColumn to be removed:  S62.day.dtype \n",
      "new R squared =  0.6890856 \n",
      "\n",
      "MAPE= 158.885 \n",
      "MAE= 5.380952\n",
      "New max p-value:  0.8645678 \tColumn to be removed:  S61.dtype \n",
      "new R squared =  0.6904008 \n",
      "\n",
      "MAPE= 159.5014 \n",
      "MAE= 5.387755\n",
      "New max p-value:  0.8556766 \tColumn to be removed:  S28.dtype \n",
      "new R squared =  0.6917853 \n",
      "\n",
      "MAPE= 160.018 \n",
      "MAE= 5.38322\n",
      "New max p-value:  0.919722 \tColumn to be removed:  S28.day \n",
      "new R squared =  0.6931161 \n",
      "\n",
      "MAPE= 159.4558 \n",
      "MAE= 5.38322\n",
      "New max p-value:  0.8592068 \tColumn to be removed:  S15.dtype \n",
      "new R squared =  0.6944815 \n",
      "\n",
      "MAPE= 160.3644 \n",
      "MAE= 5.380952\n",
      "New max p-value:  0.8514473 \tColumn to be removed:  S4.day \n",
      "new R squared =  0.6957989 \n",
      "\n",
      "MAPE= 159.6253 \n",
      "MAE= 5.37415\n",
      "New max p-value:  0.8475952 \tColumn to be removed:  S8.day.dtype \n",
      "new R squared =  0.6970779 \n",
      "\n",
      "MAPE= 159.4916 \n",
      "MAE= 5.371882\n",
      "New max p-value:  0.8361343 \tColumn to be removed:  S30.dtype \n",
      "new R squared =  0.6983381 \n",
      "\n",
      "MAPE= 160.6108 \n",
      "MAE= 5.376417\n",
      "New max p-value:  0.8246821 \tColumn to be removed:  S4 \n",
      "new R squared =  0.6995724 \n",
      "\n",
      "MAPE= 158.6948 \n",
      "MAE= 5.378685\n",
      "New max p-value:  0.7894545 \tColumn to be removed:  S60.day.dtype \n",
      "new R squared =  0.7008057 \n",
      "\n",
      "MAPE= 159.1257 \n",
      "MAE= 5.376417\n",
      "New max p-value:  0.7899172 \tColumn to be removed:  S3.day \n",
      "new R squared =  0.7020109 \n",
      "\n",
      "MAPE= 159.4041 \n",
      "MAE= 5.378685\n",
      "New max p-value:  0.9445029 \tColumn to be removed:  S3.day.dtype \n",
      "new R squared =  0.7032348 \n",
      "\n",
      "MAPE= 159.1982 \n",
      "MAE= 5.380952\n",
      "New max p-value:  0.7879961 \tColumn to be removed:  S19.dtype \n",
      "new R squared =  0.7044734 \n",
      "\n",
      "MAPE= 158.591 \n",
      "MAE= 5.37415\n",
      "New max p-value:  0.7887137 \tColumn to be removed:  S33.day \n",
      "new R squared =  0.7057265 \n",
      "\n",
      "MAPE= 158.7315 \n",
      "MAE= 5.362812\n",
      "New max p-value:  0.7712941 \tColumn to be removed:  S42.dtype \n",
      "new R squared =  0.7068941 \n",
      "\n",
      "MAPE= 158.5632 \n",
      "MAE= 5.367347\n",
      "New max p-value:  0.7622933 \tColumn to be removed:  S23.dtype \n",
      "new R squared =  0.7081116 \n",
      "\n",
      "MAPE= 158.1995 \n",
      "MAE= 5.362812\n",
      "New max p-value:  0.7532765 \tColumn to be removed:  S21.dtype \n",
      "new R squared =  0.7093412 \n",
      "\n",
      "MAPE= 157.8928 \n",
      "MAE= 5.365079\n",
      "New max p-value:  0.7424644 \tColumn to be removed:  S32.dtype \n",
      "new R squared =  0.7105668 \n",
      "\n",
      "MAPE= 158.3323 \n",
      "MAE= 5.362812\n",
      "New max p-value:  0.7415916 \tColumn to be removed:  S7.day.dtype \n",
      "new R squared =  0.7116336 \n",
      "\n",
      "MAPE= 158.7853 \n",
      "MAE= 5.362812\n",
      "New max p-value:  0.7509117 \tColumn to be removed:  S22.day \n",
      "new R squared =  0.7127519 \n",
      "\n",
      "MAPE= 159.0613 \n",
      "MAE= 5.376417\n",
      "New max p-value:  0.7203742 \tColumn to be removed:  S43.dtype \n",
      "new R squared =  0.7139011 \n",
      "\n",
      "MAPE= 158.9458 \n",
      "MAE= 5.360544\n",
      "New max p-value:  0.7170259 \tColumn to be removed:  S13.day \n",
      "new R squared =  0.7148801 \n",
      "\n",
      "MAPE= 159.4588 \n",
      "MAE= 5.365079\n",
      "New max p-value:  0.7156932 \tColumn to be removed:  S57.day.dtype \n",
      "new R squared =  0.7159667 \n",
      "\n",
      "MAPE= 159.6667 \n",
      "MAE= 5.367347\n",
      "New max p-value:  0.6795808 \tColumn to be removed:  S44.day.dtype \n",
      "new R squared =  0.7170061 \n",
      "\n",
      "MAPE= 159.4072 \n",
      "MAE= 5.369615\n",
      "New max p-value:  0.6640737 \tColumn to be removed:  S58.day.dtype \n",
      "new R squared =  0.7179295 \n",
      "\n",
      "MAPE= 159.3573 \n",
      "MAE= 5.376417\n",
      "New max p-value:  0.6485577 \tColumn to be removed:  S27.dtype \n",
      "new R squared =  0.7190297 \n",
      "\n",
      "MAPE= 158.9587 \n",
      "MAE= 5.369615\n",
      "New max p-value:  0.6439292 \tColumn to be removed:  S18.dtype \n",
      "new R squared =  0.7202263 \n",
      "\n",
      "MAPE= 158.5502 \n",
      "MAE= 5.37415\n",
      "New max p-value:  0.6332586 \tColumn to be removed:  S36.dtype \n",
      "new R squared =  0.721382 \n",
      "\n",
      "MAPE= 159.0393 \n",
      "MAE= 5.37415\n",
      "New max p-value:  0.6203023 \tColumn to be removed:  S45.day.dtype \n",
      "new R squared =  0.722091 \n",
      "\n",
      "MAPE= 158.7156 \n",
      "MAE= 5.369615\n",
      "New max p-value:  0.8239524 \tColumn to be removed:  S45.day \n",
      "new R squared =  0.7227152 \n",
      "\n",
      "MAPE= 158.6229 \n",
      "MAE= 5.371882\n",
      "New max p-value:  0.6212743 \tColumn to be removed:  S41.day \n",
      "new R squared =  0.7237147 \n",
      "\n",
      "MAPE= 158.7209 \n",
      "MAE= 5.380952\n",
      "New max p-value:  0.6111229 \tColumn to be removed:  S11.day.dtype \n",
      "new R squared =  0.7246833 \n",
      "\n",
      "MAPE= 159.4768 \n",
      "MAE= 5.387755\n",
      "New max p-value:  0.6163112 \tColumn to be removed:  S38.dtype \n",
      "new R squared =  0.7255888 \n",
      "\n",
      "MAPE= 158.9003 \n",
      "MAE= 5.378685\n",
      "New max p-value:  0.6034834 \tColumn to be removed:  S35.day \n",
      "new R squared =  0.7267717 \n",
      "\n",
      "MAPE= 159.383 \n",
      "MAE= 5.396825\n",
      "New max p-value:  0.608673 \tColumn to be removed:  S20.dtype \n",
      "new R squared =  0.7277711 \n",
      "\n",
      "MAPE= 159.2529 \n",
      "MAE= 5.38322\n",
      "New max p-value:  0.6018207 \tColumn to be removed:  S54.day.dtype \n",
      "new R squared =  0.7288165 \n",
      "\n",
      "MAPE= 159.9337 \n",
      "MAE= 5.39229\n",
      "New max p-value:  0.5686839 \tColumn to be removed:  S16.day \n",
      "new R squared =  0.7297751 \n",
      "\n",
      "MAPE= 160.014 \n",
      "MAE= 5.396825\n",
      "New max p-value:  0.5400282 \tColumn to be removed:  S31.dtype \n",
      "new R squared =  0.7305461 \n",
      "\n",
      "MAPE= 160.3702 \n",
      "MAE= 5.405896\n",
      "New max p-value:  0.5227646 \tColumn to be removed:  S25.day \n",
      "new R squared =  0.7314769 \n",
      "\n",
      "MAPE= 160.6034 \n",
      "MAE= 5.403628\n",
      "New max p-value:  0.5329361 \tColumn to be removed:  S17.day \n",
      "new R squared =  0.7326026 \n",
      "\n",
      "MAPE= 159.9643 \n",
      "MAE= 5.414966\n",
      "New max p-value:  0.5242371 \tColumn to be removed:  S14.day \n",
      "new R squared =  0.7338556 \n",
      "\n",
      "MAPE= 160.0148 \n",
      "MAE= 5.412698\n",
      "New max p-value:  0.582168 \tColumn to be removed:  daynumber \n",
      "new R squared =  0.7350954 \n",
      "\n",
      "MAPE= 161.1208 \n",
      "MAE= 5.410431\n",
      "New max p-value:  0.4965665 \tColumn to be removed:  S26.dtype \n",
      "new R squared =  0.7360633 \n",
      "\n",
      "MAPE= 160.3536 \n",
      "MAE= 5.405896\n",
      "New max p-value:  0.4890846 \tColumn to be removed:  S3.dtype \n",
      "new R squared =  0.736844 \n",
      "\n",
      "MAPE= 160.0618 \n",
      "MAE= 5.412698\n",
      "New max p-value:  0.5925259 \tColumn to be removed:  S3 \n",
      "new R squared =  0.7376093 \n",
      "\n",
      "MAPE= 160.5789 \n",
      "MAE= 5.419501\n",
      "New max p-value:  0.4572524 \tColumn to be removed:  S1.dtype \n",
      "new R squared =  0.7383689 \n",
      "\n",
      "MAPE= 162.7656 \n",
      "MAE= 5.430839\n",
      "New max p-value:  0.4809732 \tColumn to be removed:  S2.dtype \n",
      "new R squared =  0.7392223 \n",
      "\n",
      "MAPE= 164.9672 \n",
      "MAE= 5.44898\n",
      "New max p-value:  0.4048903 \tColumn to be removed:  S40.day \n",
      "new R squared =  0.7397443 \n",
      "\n",
      "MAPE= 165.21 \n",
      "MAE= 5.455782\n",
      "New max p-value:  0.3791077 \tColumn to be removed:  S8.day \n",
      "new R squared =  0.7407163 \n",
      "\n",
      "MAPE= 165.5078 \n",
      "MAE= 5.455782\n",
      "New max p-value:  0.3658849 \tColumn to be removed:  S9.dtype \n",
      "new R squared =  0.741567 \n",
      "\n",
      "MAPE= 165.4117 \n",
      "MAE= 5.453515\n",
      "New max p-value:  0.3594428 \tColumn to be removed:  S10.day \n",
      "new R squared =  0.7424734 \n",
      "\n",
      "MAPE= 165.4706 \n",
      "MAE= 5.45805\n",
      "New max p-value:  0.3585459 \tColumn to be removed:  S48.day.dtype \n",
      "new R squared =  0.7440699 \n",
      "\n",
      "MAPE= 165.7255 \n",
      "MAE= 5.45805\n",
      "New max p-value:  0.3551226 \tColumn to be removed:  S1 \n",
      "new R squared =  0.7446647 \n",
      "\n",
      "MAPE= 164.761 \n",
      "MAE= 5.471655\n",
      "New max p-value:  0.4024834 \tColumn to be removed:  S2 \n",
      "new R squared =  0.7454559 \n",
      "\n",
      "MAPE= 164.1941 \n",
      "MAE= 5.46712\n",
      "New max p-value:  0.3540742 \tColumn to be removed:  S55.day.dtype \n",
      "new R squared =  0.7464796 \n",
      "\n",
      "MAPE= 165.5093 \n",
      "MAE= 5.473923\n",
      "New max p-value:  0.2842279 \tColumn to be removed:  S23.day \n",
      "new R squared =  0.7475099 \n",
      "\n",
      "MAPE= 165.2433 \n",
      "MAE= 5.471655\n",
      "New max p-value:  0.2793614 \tColumn to be removed:  S12.day \n",
      "new R squared =  0.7483839 \n",
      "\n",
      "MAPE= 165.4154 \n",
      "MAE= 5.462585\n",
      "New max p-value:  0.2787584 \tColumn to be removed:  S34.day \n",
      "new R squared =  0.7491967 \n",
      "\n",
      "MAPE= 165.699 \n",
      "MAE= 5.46712\n",
      "New max p-value:  0.2678391 \tColumn to be removed:  S5.day \n",
      "new R squared =  0.7499758 \n",
      "\n",
      "MAPE= 164.858 \n",
      "MAE= 5.46712\n",
      "New max p-value:  0.2665931 \tColumn to be removed:  S24.day \n",
      "new R squared =  0.7510141 \n",
      "\n",
      "MAPE= 164.9892 \n",
      "MAE= 5.451247\n",
      "New max p-value:  0.2511545 \tColumn to be removed:  S19.day \n",
      "new R squared =  0.7519979 \n",
      "\n",
      "MAPE= 165.473 \n",
      "MAE= 5.435374\n",
      "New max p-value:  0.2426866 \tColumn to be removed:  S21.day \n",
      "new R squared =  0.75341 \n",
      "\n",
      "MAPE= 164.2615 \n",
      "MAE= 5.430839\n",
      "New max p-value:  0.2071803 \tColumn to be removed:  S52.day.dtype \n",
      "new R squared =  0.7540052 \n",
      "\n",
      "MAPE= 164.5756 \n",
      "MAE= 5.439909\n",
      "New max p-value:  0.1960047 \tColumn to be removed:  S47.day.dtype \n",
      "new R squared =  0.7568239 \n",
      "\n",
      "MAPE= 163.2224 \n",
      "MAE= 5.435374\n",
      "New max p-value:  0.1667019 \tColumn to be removed:  S53.day.dtype \n",
      "new R squared =  0.7576878 \n",
      "\n",
      "MAPE= 163.1407 \n",
      "MAE= 5.433107\n",
      "New max p-value:  0.1550329 \tColumn to be removed:  S26.day \n",
      "new R squared =  0.7590765 \n",
      "\n",
      "MAPE= 162.4843 \n",
      "MAE= 5.430839\n",
      "New max p-value:  0.1500422 \tColumn to be removed:  S36.day \n",
      "new R squared =  0.7595062 \n",
      "\n",
      "MAPE= 167.3712 \n",
      "MAE= 5.473923\n",
      "New max p-value:  0.1391624 \tColumn to be removed:  S44.day \n",
      "new R squared =  0.7598202 \n",
      "\n",
      "MAPE= 166.9258 \n",
      "MAE= 5.469388\n",
      "New max p-value:  0.1375725 \tColumn to be removed:  S56.day.dtype \n",
      "new R squared =  0.7607272 \n",
      "\n",
      "MAPE= 168.2757 \n",
      "MAE= 5.47619\n",
      "New max p-value:  0.1129389 \tColumn to be removed:  S31.day \n",
      "new R squared =  0.7609351 \n",
      "\n",
      "MAPE= 168.1516 \n",
      "MAE= 5.47619\n",
      "New max p-value:  0.09599502 \tColumn to be removed:  S62.dtype \n",
      "new R squared =  0.7616162 \n",
      "\n",
      "MAPE= 169.8157 \n",
      "MAE= 5.480726\n",
      "New max p-value:  0.1015554 \tColumn to be removed:  S59.day \n",
      "new R squared =  0.7632457 \n",
      "\n",
      "MAPE= 169.6978 \n",
      "MAE= 5.464853\n",
      "New max p-value:  0.09469707 \tColumn to be removed:  S39.day \n",
      "new R squared =  0.7643909 \n",
      "\n",
      "MAPE= 170.3633 \n",
      "MAE= 5.462585\n",
      "New max p-value:  0.06995221 \tColumn to be removed:  S42.day \n",
      "new R squared =  0.764609 \n",
      "\n",
      "MAPE= 171.6963 \n",
      "MAE= 5.460317\n",
      "New max p-value:  0.06362821 \tColumn to be removed:  S51.day.dtype \n",
      "new R squared =  0.7651726 \n",
      "\n",
      "MAPE= 172.2604 \n",
      "MAE= 5.473923\n",
      "New max p-value:  0.05847819 \tColumn to be removed:  S50.day.dtype \n",
      "new R squared =  0.7654927 \n",
      "\n",
      "MAPE= 175.2057 \n",
      "MAE= 5.489796\n",
      "New max p-value:  0.05827275 \tColumn to be removed:  S29.dtype \n",
      "new R squared =  0.7659456 \n",
      "\n",
      "MAPE= 173.7209 \n",
      "MAE= 5.487528\n",
      "New max p-value:  0.05007691 \tColumn to be removed:  S5.day.dtype \n",
      "new R squared =  0.7657959 \n",
      "\n",
      "MAPE= 176.5991 \n",
      "MAE= 5.517007\n",
      "New max p-value:  0.08292733 \tColumn to be removed:  S5.dtype \n",
      "new R squared =  0.7659626 \n",
      "\n",
      "MAPE= 175.5467 \n",
      "MAE= 5.54195\n",
      "New max p-value:  0.04818987 \tTrying to remove variable with p-value 0.04818987"
     ]
    }
   ],
   "source": [
    "numloops<-200\n",
    "R2<-rep(1,numloops)\n",
    "\n",
    "for(i in seq(1:numloops)){\n",
    "    \n",
    "    \n",
    "    maxpvalue<-max(coef(summary(newmodel))[,'Pr(>|t|)'])\n",
    "    cat('\\nNew max p-value: ',maxpvalue,'\\t')\n",
    "    \n",
    "    if(maxpvalue < 0.05){\n",
    "        cat('Trying to remove variable with p-value',maxpvalue)\n",
    "        break\n",
    "    }\n",
    "    \n",
    "    maxindex<-which(coef(summary(newmodel))[,'Pr(>|t|)']==maxpvalue)\n",
    "    nameofmaxp<-names(maxindex)\n",
    "    cat('Column to be removed: ',nameofmaxp,'\\n')\n",
    "    \n",
    "    new.model.data<-new.model.data[,-which(names(new.model.data)==nameofmaxp)]\n",
    "\n",
    "    newtrainingdata<-new.model.data[1:882,]\n",
    "\n",
    "    newmodel<-lm(demand~.,newtrainingdata)\n",
    "\n",
    "    #summary(newmodel)\n",
    "    \n",
    "    \n",
    "    #We create a new dataframe to make the model calculation easier below\n",
    "    ones<-rep(1,1512)\n",
    "    #we remove the demand column since thats what we predict and we replace it with ones\n",
    "    #so they are multiplied by the intercept coefficient\n",
    "    new.final.model.data<-data.frame(ones,new.model.data[,-1])\n",
    "\n",
    "\n",
    "    #coefficients(model)\n",
    "    newcoef<-coefficients(newmodel)\n",
    "\n",
    "    newmymodel = rowSums(mapply(\"*\", as.data.frame(new.final.model.data),newcoef))\n",
    "\n",
    "\n",
    "    actual.demand<-validation.set$demand\n",
    "    predicted.demand<-newmymodel[883:1323]\n",
    "\n",
    "    residuals<-actual.demand-predicted.demand\n",
    "\n",
    "    #Adjusted R-Squared\n",
    "    n=length(actual.demand)\n",
    "    k=dim(new.final.model.data)[2]-1 #Subtract one to ignore intercept\n",
    "    SSE=sum(residuals**2)\n",
    "    SSyy=sum((actual.demand-mean(actual.demand))**2)\n",
    "    R2[i]<- 1-(SSE/SSyy)*(n-1)/(n-(k+1))\n",
    "    \n",
    "    cat('new R squared = ',R2[i],'\\n\\n')\n",
    "    \n",
    "    \n",
    "    comparisondata<-data.frame(newdata$date.and.time,newdata$demand,round(newmymodel),newdata$demand-round(newmymodel),newdata$daytype,newdata$myseason)\n",
    "    colnames(comparisondata)<-c('date.and.time','demand','predicted','residual','daytype','season')\n",
    "\n",
    "    comparison.validation<-data.frame(comparisondata[883:1323,],\n",
    "            abs((comparisondata$demand-comparisondata$predicted)/comparisondata$demand*100)[883:1323],\n",
    "            abs(comparisondata$demand-comparisondata$predicted)[883:1323])\n",
    "\n",
    "    colnames(comparison.validation)<-c(colnames(comparison.validation)[1:6],'APE','AE')\n",
    "\n",
    "    #fix for 0 demand values\n",
    "    comparison.validation$APE[comparison.validation$demand==0]<- abs(comparison.validation$predicted[comparison.validation$demand==0])/0.5*100\n",
    "   # head(comparison.validation)\n",
    "\n",
    "    MAPE<-mean(comparison.validation$APE)\n",
    "    cat('MAPE=',MAPE,'\\n')\n",
    "    MAE=mean(comparison.validation$AE)\n",
    "    cat('MAE=',MAE)\n",
    "    \n",
    "    \n",
    "}\n",
    "\n",
    "\n",
    "\n"
   ]
  },
  {
   "cell_type": "code",
   "execution_count": 21,
   "metadata": {
    "ExecuteTime": {
     "end_time": "2019-01-12T00:58:23.666613Z",
     "start_time": "2019-01-12T00:57:08.623Z"
    }
   },
   "outputs": [
    {
     "data": {
      "image/png": "[encoded data removed]",
      "text/plain": [
       "plot without title"
      ]
     },
     "metadata": {},
     "output_type": "display_data"
    }
   ],
   "source": [
    "plot(newdata$demand,type='l')\n",
    "lines(newmymodel,lwd = 1,col='red')"
   ]
  },
  {
   "cell_type": "code",
   "execution_count": 22,
   "metadata": {
    "ExecuteTime": {
     "end_time": "2019-01-12T00:58:31.309042Z",
     "start_time": "2019-01-12T00:57:09.232Z"
    },
    "scrolled": true
   },
   "outputs": [
    {
     "data": {
      "text/plain": [
       "\n",
       "Call:\n",
       "lm(formula = demand ~ ., data = newtrainingdata)\n",
       "\n",
       "Residuals:\n",
       "     Min       1Q   Median       3Q      Max \n",
       "-30.8429  -2.8322  -0.2343   2.4918  26.2476 \n",
       "\n",
       "Coefficients:\n",
       "              Estimate Std. Error t value Pr(>|t|)    \n",
       "(Intercept)     8.2276     1.1388   7.225 1.23e-12 ***\n",
       "daytype        -2.9933     0.5898  -5.075 4.88e-07 ***\n",
       "S6             12.1286     3.7800   3.209 0.001390 ** \n",
       "S7             18.9857     3.7800   5.023 6.37e-07 ***\n",
       "S8             13.7224     3.4460   3.982 7.49e-05 ***\n",
       "S9             12.8504     2.4622   5.219 2.33e-07 ***\n",
       "S10            15.0724     3.4460   4.374 1.39e-05 ***\n",
       "S11            16.9857     3.7800   4.494 8.10e-06 ***\n",
       "S12            18.0105     2.4622   7.315 6.61e-13 ***\n",
       "S13            17.9730     2.4622   7.300 7.35e-13 ***\n",
       "S14            16.4291     2.4622   6.672 4.87e-11 ***\n",
       "S15            17.3653     2.4622   7.053 3.98e-12 ***\n",
       "S16            20.5222     2.4622   8.335 3.67e-16 ***\n",
       "S17            22.4131     2.4622   9.103  < 2e-16 ***\n",
       "S18            26.2952     2.4622  10.680  < 2e-16 ***\n",
       "S19            28.0870     2.4622  11.407  < 2e-16 ***\n",
       "S20            30.5803     2.4622  12.420  < 2e-16 ***\n",
       "S21            29.4765     2.4622  11.972  < 2e-16 ***\n",
       "S22            32.9892     2.4622  13.398  < 2e-16 ***\n",
       "S23            40.1737     2.4622  16.316  < 2e-16 ***\n",
       "S24            41.1780     2.4622  16.724  < 2e-16 ***\n",
       "S25            41.9744     2.4622  17.047  < 2e-16 ***\n",
       "S26            47.3713     2.4622  19.239  < 2e-16 ***\n",
       "S27            46.8685     2.4622  19.035  < 2e-16 ***\n",
       "S28            48.1344     2.4622  19.549  < 2e-16 ***\n",
       "S29            50.1801     2.4622  20.380  < 2e-16 ***\n",
       "S30            41.7516     4.5298   9.217  < 2e-16 ***\n",
       "S31            46.2679     2.4622  18.791  < 2e-16 ***\n",
       "S32            50.9241     2.4622  20.682  < 2e-16 ***\n",
       "S33            39.1348     2.4622  15.894  < 2e-16 ***\n",
       "S34            35.5990     2.4622  14.458  < 2e-16 ***\n",
       "S35            32.7477     2.4622  13.300  < 2e-16 ***\n",
       "S36            35.0757     2.4622  14.246  < 2e-16 ***\n",
       "S37            32.2003     2.4622  13.078  < 2e-16 ***\n",
       "S38            31.7863     2.4622  12.910  < 2e-16 ***\n",
       "S39            36.5724     3.4460  10.613  < 2e-16 ***\n",
       "S40            29.3182     2.4622  11.907  < 2e-16 ***\n",
       "S41            41.0224     3.4460  11.904  < 2e-16 ***\n",
       "S42            31.3951     2.4622  12.751  < 2e-16 ***\n",
       "S43            25.6552     4.5298   5.664 2.11e-08 ***\n",
       "S44            57.5474     3.4460  16.700  < 2e-16 ***\n",
       "S45            59.5224     3.4460  17.273  < 2e-16 ***\n",
       "S46            72.9486     3.8226  19.083  < 2e-16 ***\n",
       "S47            77.5474     3.4460  22.504  < 2e-16 ***\n",
       "S48           119.2391     3.8226  31.193  < 2e-16 ***\n",
       "S49           166.6224    20.9226   7.964 6.16e-15 ***\n",
       "S50           137.5010     3.8226  35.970  < 2e-16 ***\n",
       "S51           121.2534     3.8226  31.720  < 2e-16 ***\n",
       "S52           110.9891     3.8226  29.035  < 2e-16 ***\n",
       "S53            89.0319     3.8226  23.291  < 2e-16 ***\n",
       "S54            86.9819     3.8226  22.754  < 2e-16 ***\n",
       "S55            76.4986     3.8226  20.012  < 2e-16 ***\n",
       "S56            68.0057     3.8226  17.790  < 2e-16 ***\n",
       "S57            57.6010     3.8226  15.068  < 2e-16 ***\n",
       "S58            40.4974     3.4460  11.752  < 2e-16 ***\n",
       "S59            24.9684     2.4622  10.141  < 2e-16 ***\n",
       "S60            30.9474     3.4460   8.981  < 2e-16 ***\n",
       "S61            14.8657     2.4622   6.038 2.46e-09 ***\n",
       "S62             4.4762     1.7510   2.556 0.010774 *  \n",
       "S8.dtype       -4.1567     1.8887  -2.201 0.028053 *  \n",
       "S10.dtype      -4.6067     1.8887  -2.439 0.014956 *  \n",
       "S39.dtype     -10.6067     1.8887  -5.616 2.75e-08 ***\n",
       "S41.dtype     -12.7567     1.8887  -6.754 2.87e-11 ***\n",
       "S44.dtype     -18.1817     1.8887  -9.626  < 2e-16 ***\n",
       "S45.dtype     -18.7567     1.8887  -9.931  < 2e-16 ***\n",
       "S46.dtype     -15.7400     2.9888  -5.266 1.82e-07 ***\n",
       "S47.dtype     -24.6817     1.8887 -13.068  < 2e-16 ***\n",
       "S48.dtype     -18.2734     2.9888  -6.114 1.56e-09 ***\n",
       "S49.dtype     -54.4567    19.9082  -2.735 0.006377 ** \n",
       "S50.dtype     -17.6067     2.9888  -5.891 5.79e-09 ***\n",
       "S51.dtype     -15.8734     2.9888  -5.311 1.44e-07 ***\n",
       "S52.dtype     -20.0234     2.9888  -6.699 4.10e-11 ***\n",
       "S53.dtype     -15.3234     2.9888  -5.127 3.75e-07 ***\n",
       "S54.dtype     -18.4734     2.9888  -6.181 1.04e-09 ***\n",
       "S55.dtype     -14.0900     2.9888  -4.714 2.89e-06 ***\n",
       "S56.dtype      -7.1400     2.9888  -2.389 0.017143 *  \n",
       "S57.dtype     -11.8067     2.9888  -3.950 8.54e-05 ***\n",
       "S58.dtype     -12.8317     1.8887  -6.794 2.22e-11 ***\n",
       "S60.dtype      -9.4817     1.8887  -5.020 6.45e-07 ***\n",
       "S6.day         -1.6810     0.8375  -2.007 0.045092 *  \n",
       "S7.day         -2.5381     0.8375  -3.031 0.002524 ** \n",
       "S11.day        -2.2167     0.8375  -2.647 0.008295 ** \n",
       "S30.day         4.2164     1.7395   2.424 0.015591 *  \n",
       "S43.day         5.1391     1.7395   2.954 0.003232 ** \n",
       "S46.day        -3.3810     1.3237  -2.554 0.010837 *  \n",
       "S48.day        -9.3333     1.3237  -7.051 4.02e-12 ***\n",
       "S49.day       -18.4500     3.6521  -5.052 5.49e-07 ***\n",
       "S50.day       -12.6429     1.3237  -9.551  < 2e-16 ***\n",
       "S51.day       -10.9048     1.3237  -8.238 7.72e-16 ***\n",
       "S52.day        -7.3333     1.3237  -5.540 4.18e-08 ***\n",
       "S53.day        -6.0476     1.3237  -4.569 5.73e-06 ***\n",
       "S54.day        -4.5476     1.3237  -3.436 0.000624 ***\n",
       "S55.day        -4.8810     1.3237  -3.687 0.000243 ***\n",
       "S56.day        -6.6667     1.3237  -5.037 5.94e-07 ***\n",
       "S57.day        -3.1429     1.3237  -2.374 0.017828 *  \n",
       "S9.day.dtype   -0.5300     0.2244  -2.362 0.018433 *  \n",
       "S12.day.dtype  -0.7637     0.2244  -3.403 0.000700 ***\n",
       "S13.day.dtype  -0.8051     0.2244  -3.588 0.000355 ***\n",
       "S14.day.dtype  -0.6791     0.2244  -3.026 0.002560 ** \n",
       "S15.day.dtype  -0.7541     0.2244  -3.361 0.000816 ***\n",
       "S16.day.dtype  -0.9041     0.2244  -4.029 6.16e-05 ***\n",
       "S17.day.dtype  -1.0103     0.2244  -4.503 7.78e-06 ***\n",
       "S18.day.dtype  -1.1617     0.2244  -5.177 2.89e-07 ***\n",
       "S19.day.dtype  -1.2736     0.2244  -5.676 1.97e-08 ***\n",
       "S20.day.dtype  -1.4579     0.2244  -6.497 1.49e-10 ***\n",
       "S21.day.dtype  -1.2871     0.2244  -5.736 1.40e-08 ***\n",
       "S22.day.dtype  -1.3721     0.2244  -6.115 1.55e-09 ***\n",
       "S23.day.dtype  -1.8312     0.2244  -8.161 1.40e-15 ***\n",
       "S24.day.dtype  -1.8595     0.2244  -8.287 5.31e-16 ***\n",
       "S25.day.dtype  -1.8979     0.2244  -8.458  < 2e-16 ***\n",
       "S26.day.dtype  -2.0234     0.2244  -9.018  < 2e-16 ***\n",
       "S27.day.dtype  -2.0879     0.2244  -9.305  < 2e-16 ***\n",
       "S28.day.dtype  -2.1316     0.2244  -9.500  < 2e-16 ***\n",
       "S29.day.dtype  -2.2487     0.2244 -10.021  < 2e-16 ***\n",
       "S30.day.dtype  -3.2035     0.4666  -6.866 1.38e-11 ***\n",
       "S31.day.dtype  -2.0008     0.2244  -8.917  < 2e-16 ***\n",
       "S32.day.dtype  -2.3544     0.2244 -10.492  < 2e-16 ***\n",
       "S33.day.dtype  -1.7798     0.2244  -7.932 7.81e-15 ***\n",
       "S34.day.dtype  -1.5622     0.2244  -6.962 7.31e-12 ***\n",
       "S35.day.dtype  -1.3037     0.2244  -5.810 9.21e-09 ***\n",
       "S36.day.dtype  -1.5314     0.2244  -6.825 1.81e-11 ***\n",
       "S37.day.dtype  -1.4457     0.2244  -6.443 2.09e-10 ***\n",
       "S38.day.dtype  -1.4569     0.2244  -6.493 1.53e-10 ***\n",
       "S40.day.dtype  -1.2943     0.2244  -5.768 1.17e-08 ***\n",
       "S42.day.dtype  -1.4524     0.2244  -6.473 1.73e-10 ***\n",
       "S43.day.dtype  -2.8453     0.4666  -6.098 1.71e-09 ***\n",
       "S49.day.dtype   6.1500     3.1078   1.979 0.048190 *  \n",
       "S59.day.dtype  -1.1286     0.2244  -5.030 6.15e-07 ***\n",
       "S61.day.dtype  -0.6523     0.2244  -2.907 0.003754 ** \n",
       "---\n",
       "Signif. codes:  0 '***' 0.001 '**' 0.01 '*' 0.05 '.' 0.1 ' ' 1\n",
       "\n",
       "Residual standard error: 6.066 on 753 degrees of freedom\n",
       "Multiple R-squared:  0.9419,\tAdjusted R-squared:  0.9321 \n",
       "F-statistic: 95.44 on 128 and 753 DF,  p-value: < 2.2e-16\n"
      ]
     },
     "metadata": {},
     "output_type": "display_data"
    }
   ],
   "source": [
    "summary(newmodel)"
   ]
  },
  {
   "cell_type": "code",
   "execution_count": 23,
   "metadata": {
    "ExecuteTime": {
     "end_time": "2019-01-12T00:58:38.878002Z",
     "start_time": "2019-01-12T00:57:09.621Z"
    }
   },
   "outputs": [],
   "source": [
    "#replace negative values with 0\n",
    "final.model<-newmymodel\n",
    "final.model[which(newmymodel<0)]<-0"
   ]
  },
  {
   "cell_type": "code",
   "execution_count": 24,
   "metadata": {
    "ExecuteTime": {
     "end_time": "2019-01-12T00:58:46.470769Z",
     "start_time": "2019-01-12T00:57:10.185Z"
    }
   },
   "outputs": [
    {
     "name": "stdout",
     "output_type": "stream",
     "text": [
      "final adjusted R squared on validation set =  0.7664591 \n",
      "\n"
     ]
    }
   ],
   "source": [
    "actual.demand<-validation.set$demand\n",
    "predicted.demand<-final.model[883:1323]\n",
    "\n",
    "residuals<-actual.demand-predicted.demand\n",
    "\n",
    "\n",
    "#Adjusted R-Squared\n",
    "n=length(actual.demand)\n",
    "k=dim(new.final.model.data)[2]-1 #Subtract one to ignore intercept\n",
    "SSE=sum(residuals**2)\n",
    "SSyy=sum((actual.demand-mean(actual.demand))**2)\n",
    "R2.final<- 1-(SSE/SSyy)*(n-1)/(n-(k+1))\n",
    "\n",
    "cat('final adjusted R squared on validation set = ',R2.final,'\\n\\n')"
   ]
  },
  {
   "cell_type": "markdown",
   "metadata": {},
   "source": [
    "Adjusted R squared increased from 0.617 to 0.766 with the removal of insignificant predictors."
   ]
  },
  {
   "cell_type": "markdown",
   "metadata": {},
   "source": [
    "What we can observe from the final coefficients is that for roughly the **first half of the seasons**, the interaction between **season and daytype** is insignificant.This means that the behavior of demand is roughly the same for the first half of the day regardless if its a weekday or weekend.Same goes for **day and season**.Meaning that we have the same behavior for the first half of the day regardless of what day it is.The difference happens mostly at the second half of the day which includes the high demand period(around 18:30). "
   ]
  },
  {
   "cell_type": "markdown",
   "metadata": {},
   "source": [
    "## First half of day"
   ]
  },
  {
   "cell_type": "code",
   "execution_count": 25,
   "metadata": {
    "ExecuteTime": {
     "end_time": "2019-01-12T00:58:54.027329Z",
     "start_time": "2019-01-12T00:57:12.403Z"
    }
   },
   "outputs": [
    {
     "data": {
      "text/html": [
       "<ol class=list-inline>\n",
       "\t<li>819</li>\n",
       "\t<li>67</li>\n",
       "</ol>\n"
      ],
      "text/latex": [
       "\\begin{enumerate*}\n",
       "\\item 819\n",
       "\\item 67\n",
       "\\end{enumerate*}\n"
      ],
      "text/markdown": [
       "1. 819\n",
       "2. 67\n",
       "\n",
       "\n"
      ],
      "text/plain": [
       "[1] 819  67"
      ]
     },
     "metadata": {},
     "output_type": "display_data"
    }
   ],
   "source": [
    "halfday<-with( seasonal_data , seasonal_data[ myseason <40 & !is.na(demand)  , ] )\n",
    "dim(halfday)"
   ]
  },
  {
   "cell_type": "code",
   "execution_count": 26,
   "metadata": {
    "ExecuteTime": {
     "end_time": "2019-01-12T00:59:01.712354Z",
     "start_time": "2019-01-12T00:57:12.991Z"
    }
   },
   "outputs": [
    {
     "data": {
      "text/html": [
       "<ol class=list-inline>\n",
       "\t<li>585</li>\n",
       "\t<li>67</li>\n",
       "</ol>\n"
      ],
      "text/latex": [
       "\\begin{enumerate*}\n",
       "\\item 585\n",
       "\\item 67\n",
       "\\end{enumerate*}\n"
      ],
      "text/markdown": [
       "1. 585\n",
       "2. 67\n",
       "\n",
       "\n"
      ],
      "text/plain": [
       "[1] 585  67"
      ]
     },
     "metadata": {},
     "output_type": "display_data"
    }
   ],
   "source": [
    "weekdays<-with( halfday , halfday[ dtype==1 , ] )\n",
    "dim(weekdays)"
   ]
  },
  {
   "cell_type": "code",
   "execution_count": 27,
   "metadata": {
    "ExecuteTime": {
     "end_time": "2019-01-12T00:59:09.514434Z",
     "start_time": "2019-01-12T00:57:13.557Z"
    }
   },
   "outputs": [
    {
     "data": {
      "text/html": [
       "<ol class=list-inline>\n",
       "\t<li>234</li>\n",
       "\t<li>67</li>\n",
       "</ol>\n"
      ],
      "text/latex": [
       "\\begin{enumerate*}\n",
       "\\item 234\n",
       "\\item 67\n",
       "\\end{enumerate*}\n"
      ],
      "text/markdown": [
       "1. 234\n",
       "2. 67\n",
       "\n",
       "\n"
      ],
      "text/plain": [
       "[1] 234  67"
      ]
     },
     "metadata": {},
     "output_type": "display_data"
    }
   ],
   "source": [
    "weekends<-with( halfday , halfday[ dtype==3 , ] )\n",
    "dim(weekends)"
   ]
  },
  {
   "cell_type": "code",
   "execution_count": 28,
   "metadata": {
    "ExecuteTime": {
     "end_time": "2019-01-12T00:59:17.319490Z",
     "start_time": "2019-01-12T00:57:14.127Z"
    }
   },
   "outputs": [],
   "source": [
    "saturdays<-seasonal_data[which(day_column==6),]\n",
    "saturdays<-with( saturdays, saturdays[ myseason <40 & !is.na(demand)  , ] )\n",
    "\n",
    "sundays<-seasonal_data[which(day_column==7),]\n",
    "sundays<-with( sundays , sundays[ myseason <40 & !is.na(demand)  , ] )"
   ]
  },
  {
   "cell_type": "code",
   "execution_count": 29,
   "metadata": {
    "ExecuteTime": {
     "end_time": "2019-01-12T00:59:25.310004Z",
     "start_time": "2019-01-12T00:57:14.782Z"
    }
   },
   "outputs": [
    {
     "data": {
      "image/png": "[encoded data removed]",
      "text/plain": [
       "plot without title"
      ]
     },
     "metadata": {},
     "output_type": "display_data"
    }
   ],
   "source": [
    "#every 39 rows it's a new day\n",
    "start<-1\n",
    "end<-start + 38\n",
    "day.demand<-weekdays[start:end,'demand']\n",
    "plot(day.demand,type='l',col='blue',ylim=c(0,76),axes=FALSE,xlab='Time',ylab='Demand')\n",
    "#for x axis labels\n",
    "axis(1,at=c(1,9,19,29,39),labels=c('6:30','8:30','11:00','13:30','16:00'))\n",
    "\n",
    "\n",
    "while(end < 600){\n",
    "    \n",
    "    start<-end+1\n",
    "    end<-start + 38\n",
    "    \n",
    "    day.demand<-weekdays[start:end,'demand']\n",
    "    lines(day.demand,col='blue')  \n",
    "}\n",
    "\n",
    "#every 39 rows it's a new day\n",
    "start<-1\n",
    "end<-start + 38\n",
    "day.demand<-weekends[start:end,'demand']\n",
    "lines(day.demand,type='l',col='red',ylim=c(0,76))\n",
    "\n",
    "while(end < 120){\n",
    "    \n",
    "    start<-end+1\n",
    "    end<-start + 38\n",
    "    \n",
    "    day.demand<-saturdays[start:end,'demand']\n",
    "    lines(day.demand,col='red') \n",
    "    day.demand<-sundays[start:end,'demand']\n",
    "    lines(day.demand,col='black') \n",
    "    \n",
    "}\n",
    "legend(1, 75, legend=c(\"Weekdays\", \"Saturday\",\"Sunday\"),col=c( \"blue\",\"red\",\"black\"), lty=1:1, cex=0.9,text.font=3)\n"
   ]
  },
  {
   "cell_type": "markdown",
   "metadata": {},
   "source": [
    "Blue lines tighter together which is why daynumber is insignificant here.Also pretty much same peaked behaviour on weekdays and weekends which is why daytype is insignificant here."
   ]
  },
  {
   "cell_type": "markdown",
   "metadata": {},
   "source": [
    "## End of day"
   ]
  },
  {
   "cell_type": "code",
   "execution_count": 38,
   "metadata": {
    "ExecuteTime": {
     "end_time": "2019-01-12T01:04:50.959115Z",
     "start_time": "2019-01-12T01:04:48.037Z"
    }
   },
   "outputs": [
    {
     "data": {
      "text/html": [
       "<ol class=list-inline>\n",
       "\t<li>462</li>\n",
       "\t<li>67</li>\n",
       "</ol>\n"
      ],
      "text/latex": [
       "\\begin{enumerate*}\n",
       "\\item 462\n",
       "\\item 67\n",
       "\\end{enumerate*}\n"
      ],
      "text/markdown": [
       "1. 462\n",
       "2. 67\n",
       "\n",
       "\n"
      ],
      "text/plain": [
       "[1] 462  67"
      ]
     },
     "metadata": {},
     "output_type": "display_data"
    }
   ],
   "source": [
    "endofday<-with( seasonal_data , seasonal_data[ myseason > 40 & myseason <63 & !is.na(demand) , ] )\n",
    "dim(endofday)"
   ]
  },
  {
   "cell_type": "code",
   "execution_count": 39,
   "metadata": {
    "ExecuteTime": {
     "end_time": "2019-01-12T01:04:58.830636Z",
     "start_time": "2019-01-12T01:04:51.803Z"
    }
   },
   "outputs": [
    {
     "data": {
      "text/html": [
       "<ol class=list-inline>\n",
       "\t<li>330</li>\n",
       "\t<li>67</li>\n",
       "</ol>\n"
      ],
      "text/latex": [
       "\\begin{enumerate*}\n",
       "\\item 330\n",
       "\\item 67\n",
       "\\end{enumerate*}\n"
      ],
      "text/markdown": [
       "1. 330\n",
       "2. 67\n",
       "\n",
       "\n"
      ],
      "text/plain": [
       "[1] 330  67"
      ]
     },
     "metadata": {},
     "output_type": "display_data"
    }
   ],
   "source": [
    "weekdays<-with( endofday , endofday[ dtype==1 , ] )\n",
    "dim(weekdays)"
   ]
  },
  {
   "cell_type": "code",
   "execution_count": 40,
   "metadata": {
    "ExecuteTime": {
     "end_time": "2019-01-12T01:05:06.686497Z",
     "start_time": "2019-01-12T01:04:59.769Z"
    }
   },
   "outputs": [
    {
     "data": {
      "text/html": [
       "<ol class=list-inline>\n",
       "\t<li>132</li>\n",
       "\t<li>67</li>\n",
       "</ol>\n"
      ],
      "text/latex": [
       "\\begin{enumerate*}\n",
       "\\item 132\n",
       "\\item 67\n",
       "\\end{enumerate*}\n"
      ],
      "text/markdown": [
       "1. 132\n",
       "2. 67\n",
       "\n",
       "\n"
      ],
      "text/plain": [
       "[1] 132  67"
      ]
     },
     "metadata": {},
     "output_type": "display_data"
    }
   ],
   "source": [
    "weekends<-with( endofday , endofday[ dtype==3 , ] )\n",
    "dim(weekends)"
   ]
  },
  {
   "cell_type": "code",
   "execution_count": 43,
   "metadata": {
    "ExecuteTime": {
     "end_time": "2019-01-12T01:06:12.802679Z",
     "start_time": "2019-01-12T01:06:12.782Z"
    }
   },
   "outputs": [],
   "source": [
    "saturdays<-seasonal_data[which(day_column==6),]\n",
    "saturdays<-with( saturdays, saturdays[ myseason > 40 & myseason <63 & !is.na(demand)  , ] )\n",
    "\n",
    "sundays<-seasonal_data[which(day_column==7),]\n",
    "sundays<-with( sundays , sundays[ myseason > 40 & myseason <63 & !is.na(demand)  , ] )"
   ]
  },
  {
   "cell_type": "code",
   "execution_count": 48,
   "metadata": {
    "ExecuteTime": {
     "end_time": "2019-01-12T01:09:08.100803Z",
     "start_time": "2019-01-12T01:09:08.025Z"
    }
   },
   "outputs": [
    {
     "data": {
      "image/png": "[encoded data removed]",
      "text/plain": [
       "plot without title"
      ]
     },
     "metadata": {},
     "output_type": "display_data"
    }
   ],
   "source": [
    "#every 21 rows it's a new day\n",
    "start<-1\n",
    "end<-start + 21\n",
    "day.demand<-weekdays[start:end,'demand']\n",
    "plot(day.demand,type='l',col='blue',ylim=c(0,140),axes=FALSE,xlab='Time',ylab='Demand')\n",
    "#for x axis labels\n",
    "axis(1,at=c(1,5,10,15,19,22),labels=c('16:15','17:15','18:30','19:45','21:00','22:00'))\n",
    "\n",
    "\n",
    "\n",
    "while(end < 340){\n",
    "    \n",
    "    start<-end+1\n",
    "    end<-start + 21\n",
    "    \n",
    "    day.demand<-weekdays[start:end,'demand']\n",
    "    lines(day.demand,col='blue')  \n",
    "}\n",
    "\n",
    "#every 39 rows it's a new day\n",
    "start<-1\n",
    "end<-start + 21\n",
    "day.demand<-weekends[start:end,'demand']\n",
    "lines(day.demand,type='l',col='red',ylim=c(0,76))\n",
    "\n",
    "while(end < 140){\n",
    "    \n",
    "    start<-end+1\n",
    "    end<-start + 21\n",
    "    \n",
    "    day.demand<-saturdays[start:end,'demand']\n",
    "    lines(day.demand,col='red') \n",
    "    day.demand<-sundays[start:end,'demand']\n",
    "    lines(day.demand,col='black') \n",
    "    \n",
    "}\n",
    "legend(1, 140, legend=c(\"Weekdays\", \"Saturday\",\"Sunday\"),col=c( \"blue\",\"red\",\"black\"), lty=1:1, cex=0.9,text.font=3)\n",
    "\n"
   ]
  },
  {
   "cell_type": "markdown",
   "metadata": {},
   "source": [
    "While on these seasons, lines are far less tight together which is why daynumber is significant.Also there is a different pattern on weekdays than on weekends which is why daytype is significant."
   ]
  },
  {
   "cell_type": "markdown",
   "metadata": {},
   "source": [
    "# Final model MAPE and MAE for training and validation periods"
   ]
  },
  {
   "cell_type": "code",
   "execution_count": 25,
   "metadata": {
    "ExecuteTime": {
     "end_time": "2019-01-08T16:47:21.289963Z",
     "start_time": "2019-01-08T16:45:40.046Z"
    }
   },
   "outputs": [
    {
     "data": {
      "text/html": [
       "<table>\n",
       "<thead><tr><th></th><th scope=col>date.and.time</th><th scope=col>demand</th><th scope=col>predicted</th><th scope=col>residual</th><th scope=col>daytype</th><th scope=col>season</th><th scope=col>APE</th><th scope=col>AE</th></tr></thead>\n",
       "<tbody>\n",
       "\t<tr><th scope=row>883</th><td>2005-03-15 06:30:00</td><td> 0                 </td><td> 5                 </td><td>-5                 </td><td>weekday            </td><td>1                  </td><td>1000.00000         </td><td>5                  </td></tr>\n",
       "\t<tr><th scope=row>884</th><td>2005-03-15 06:45:00</td><td> 2                 </td><td> 5                 </td><td>-3                 </td><td>weekday            </td><td>2                  </td><td> 150.00000         </td><td>3                  </td></tr>\n",
       "\t<tr><th scope=row>885</th><td>2005-03-15 07:00:00</td><td> 4                 </td><td> 5                 </td><td>-1                 </td><td>weekday            </td><td>3                  </td><td>  25.00000         </td><td>1                  </td></tr>\n",
       "\t<tr><th scope=row>886</th><td>2005-03-15 07:15:00</td><td> 7                 </td><td> 5                 </td><td> 2                 </td><td>weekday            </td><td>4                  </td><td>  28.57143         </td><td>2                  </td></tr>\n",
       "\t<tr><th scope=row>887</th><td>2005-03-15 07:30:00</td><td>13                 </td><td> 5                 </td><td> 8                 </td><td>weekday            </td><td>5                  </td><td>  61.53846         </td><td>8                  </td></tr>\n",
       "\t<tr><th scope=row>888</th><td>2005-03-15 07:45:00</td><td>11                 </td><td>14                 </td><td>-3                 </td><td>weekday            </td><td>6                  </td><td>  27.27273         </td><td>3                  </td></tr>\n",
       "</tbody>\n",
       "</table>\n"
      ],
      "text/latex": [
       "\\begin{tabular}{r|llllllll}\n",
       "  & date.and.time & demand & predicted & residual & daytype & season & APE & AE\\\\\n",
       "\\hline\n",
       "\t883 & 2005-03-15 06:30:00 &  0                  &  5                  & -5                  & weekday             & 1                   & 1000.00000          & 5                  \\\\\n",
       "\t884 & 2005-03-15 06:45:00 &  2                  &  5                  & -3                  & weekday             & 2                   &  150.00000          & 3                  \\\\\n",
       "\t885 & 2005-03-15 07:00:00 &  4                  &  5                  & -1                  & weekday             & 3                   &   25.00000          & 1                  \\\\\n",
       "\t886 & 2005-03-15 07:15:00 &  7                  &  5                  &  2                  & weekday             & 4                   &   28.57143          & 2                  \\\\\n",
       "\t887 & 2005-03-15 07:30:00 & 13                  &  5                  &  8                  & weekday             & 5                   &   61.53846          & 8                  \\\\\n",
       "\t888 & 2005-03-15 07:45:00 & 11                  & 14                  & -3                  & weekday             & 6                   &   27.27273          & 3                  \\\\\n",
       "\\end{tabular}\n"
      ],
      "text/markdown": [
       "\n",
       "| <!--/--> | date.and.time | demand | predicted | residual | daytype | season | APE | AE | \n",
       "|---|---|---|---|---|---|\n",
       "| 883 | 2005-03-15 06:30:00 |  0                  |  5                  | -5                  | weekday             | 1                   | 1000.00000          | 5                   | \n",
       "| 884 | 2005-03-15 06:45:00 |  2                  |  5                  | -3                  | weekday             | 2                   |  150.00000          | 3                   | \n",
       "| 885 | 2005-03-15 07:00:00 |  4                  |  5                  | -1                  | weekday             | 3                   |   25.00000          | 1                   | \n",
       "| 886 | 2005-03-15 07:15:00 |  7                  |  5                  |  2                  | weekday             | 4                   |   28.57143          | 2                   | \n",
       "| 887 | 2005-03-15 07:30:00 | 13                  |  5                  |  8                  | weekday             | 5                   |   61.53846          | 8                   | \n",
       "| 888 | 2005-03-15 07:45:00 | 11                  | 14                  | -3                  | weekday             | 6                   |   27.27273          | 3                   | \n",
       "\n",
       "\n"
      ],
      "text/plain": [
       "    date.and.time       demand predicted residual daytype season APE        AE\n",
       "883 2005-03-15 06:30:00  0      5        -5       weekday 1      1000.00000 5 \n",
       "884 2005-03-15 06:45:00  2      5        -3       weekday 2       150.00000 3 \n",
       "885 2005-03-15 07:00:00  4      5        -1       weekday 3        25.00000 1 \n",
       "886 2005-03-15 07:15:00  7      5         2       weekday 4        28.57143 2 \n",
       "887 2005-03-15 07:30:00 13      5         8       weekday 5        61.53846 8 \n",
       "888 2005-03-15 07:45:00 11     14        -3       weekday 6        27.27273 3 "
      ]
     },
     "metadata": {},
     "output_type": "display_data"
    },
    {
     "name": "stdout",
     "output_type": "stream",
     "text": [
      "MAPE= 166.4575 \n",
      "MAE= 5.478458"
     ]
    }
   ],
   "source": [
    "comparisondata<-data.frame(newdata$date.and.time,newdata$demand,round(final.model),newdata$demand-round(final.model),newdata$daytype,newdata$myseason)\n",
    "colnames(comparisondata)<-c('date.and.time','demand','predicted','residual','daytype','season')\n",
    "\n",
    "comparison.validation<-data.frame(comparisondata[883:1323,],\n",
    "        abs((comparisondata$demand-comparisondata$predicted)/comparisondata$demand*100)[883:1323],\n",
    "        abs(comparisondata$demand-comparisondata$predicted)[883:1323])\n",
    "\n",
    "colnames(comparison.validation)<-c(colnames(comparison.validation)[1:6],'APE','AE')\n",
    "\n",
    "#fix for 0 demand values\n",
    "comparison.validation$APE[comparison.validation$demand==0]<- abs(comparison.validation$predicted[comparison.validation$demand==0])/0.5*100\n",
    "head(comparison.validation)\n",
    "\n",
    "MAPE<-mean(comparison.validation$APE)\n",
    "cat('MAPE=',MAPE,'\\n')\n",
    "MAE=mean(comparison.validation$AE)\n",
    "cat('MAE=',MAE)"
   ]
  },
  {
   "cell_type": "code",
   "execution_count": 26,
   "metadata": {
    "ExecuteTime": {
     "end_time": "2019-01-08T16:47:28.955456Z",
     "start_time": "2019-01-08T16:45:40.708Z"
    }
   },
   "outputs": [
    {
     "data": {
      "image/png": "[encoded data removed]",
      "text/plain": [
       "plot without title"
      ]
     },
     "metadata": {},
     "output_type": "display_data"
    }
   ],
   "source": [
    "plot(residuals)"
   ]
  },
  {
   "cell_type": "code",
   "execution_count": 27,
   "metadata": {
    "ExecuteTime": {
     "end_time": "2019-01-08T16:47:36.681807Z",
     "start_time": "2019-01-08T16:45:41.269Z"
    }
   },
   "outputs": [
    {
     "name": "stdout",
     "output_type": "stream",
     "text": [
      "MAPE= 46.39436 \n",
      "MAE= 3.8322"
     ]
    }
   ],
   "source": [
    "comparison.train<-data.frame(comparisondata[1:882,],\n",
    "        abs((comparisondata$demand-comparisondata$predicted)/comparisondata$demand*100)[1:882],\n",
    "        abs(comparisondata$demand-comparisondata$predicted)[1:882])\n",
    "\n",
    "colnames(comparison.train)<-c(colnames(comparison.train)[1:6],'APE','AE')\n",
    "\n",
    "#fix for 0 demand values\n",
    "comparison.train$APE[comparison.train$demand==0]<- abs(comparison.train$predicted[comparison.train$demand==0])/0.5*100\n",
    "\n",
    "MAPE<-mean(comparison.train$APE)\n",
    "cat('MAPE=',MAPE,'\\n')\n",
    "MAE=mean(comparison.train$AE)\n",
    "cat('MAE=',MAE)"
   ]
  },
  {
   "cell_type": "code",
   "execution_count": 28,
   "metadata": {
    "ExecuteTime": {
     "end_time": "2019-01-08T16:47:44.366228Z",
     "start_time": "2019-01-08T16:45:41.740Z"
    }
   },
   "outputs": [
    {
     "data": {
      "image/png": "[encoded data removed]",
      "text/plain": [
       "plot without title"
      ]
     },
     "metadata": {},
     "output_type": "display_data"
    }
   ],
   "source": [
    "plot(newdata$demand,type='l')\n",
    "lines(final.model,lwd = 1,col='red')"
   ]
  },
  {
   "cell_type": "markdown",
   "metadata": {},
   "source": [
    "## Lets try arima errors"
   ]
  },
  {
   "cell_type": "code",
   "execution_count": 25,
   "metadata": {
    "ExecuteTime": {
     "end_time": "2019-01-09T20:02:55.497478Z",
     "start_time": "2019-01-09T20:02:55.403Z"
    }
   },
   "outputs": [
    {
     "data": {
      "image/png": "[encoded data removed]",
      "text/plain": [
       "Plot with title \"residuals on training set\""
      ]
     },
     "metadata": {},
     "output_type": "display_data"
    },
    {
     "data": {
      "image/png": "[encoded data removed]",
      "text/plain": [
       "Plot with title \"residuals on validation set\""
      ]
     },
     "metadata": {},
     "output_type": "display_data"
    }
   ],
   "source": [
    "resid<-final.model[1:882]-training.set$demand\n",
    "plot(resid,type='l',main='residuals on training set')\n",
    "residseries<-ts(resid,frequency=63*7)\n",
    "\n",
    "residvalid<-final.model[883:(882 +63*6)]-validation.set$demand[1:(63*6)]\n",
    "plot(residvalid,type='l',main='residuals on validation set')"
   ]
  },
  {
   "cell_type": "code",
   "execution_count": 25,
   "metadata": {
    "ExecuteTime": {
     "end_time": "2019-01-08T17:28:49.067934Z",
     "start_time": "2019-01-08T17:25:14.492Z"
    },
    "scrolled": true
   },
   "outputs": [
    {
     "data": {
      "image/png": "[encoded data removed]",
      "text/plain": [
       "Plot with title \"Series  residseries\""
      ]
     },
     "metadata": {},
     "output_type": "display_data"
    }
   ],
   "source": [
    "acf(residseries)"
   ]
  },
  {
   "cell_type": "markdown",
   "metadata": {},
   "source": [
    "### my own arima"
   ]
  },
  {
   "cell_type": "code",
   "execution_count": 73,
   "metadata": {
    "ExecuteTime": {
     "end_time": "2019-01-09T20:33:11.531750Z",
     "start_time": "2019-01-09T20:27:56.532Z"
    }
   },
   "outputs": [],
   "source": [
    "fit<-arima(residseries,c(2,0,3),seasonal = list(order = c(0,1,0), period = 441))"
   ]
  },
  {
   "cell_type": "code",
   "execution_count": 74,
   "metadata": {
    "ExecuteTime": {
     "end_time": "2019-01-09T20:42:59.891159Z",
     "start_time": "2019-01-09T20:41:47.429Z"
    }
   },
   "outputs": [],
   "source": [
    "pred<-predict(fit,n.ahead = 63*7) #14 day prediction\n",
    "pred1<-pred$pred"
   ]
  },
  {
   "cell_type": "code",
   "execution_count": 75,
   "metadata": {
    "ExecuteTime": {
     "end_time": "2019-01-09T20:43:07.528768Z",
     "start_time": "2019-01-09T20:41:53.975Z"
    }
   },
   "outputs": [
    {
     "data": {
      "image/png": "[encoded data removed]",
      "text/plain": [
       "plot without title"
      ]
     },
     "metadata": {},
     "output_type": "display_data"
    }
   ],
   "source": [
    "ts.plot(residseries,pred1,lty=c(1,3))"
   ]
  },
  {
   "cell_type": "markdown",
   "metadata": {},
   "source": [
    "### Alex arima"
   ]
  },
  {
   "cell_type": "code",
   "execution_count": 76,
   "metadata": {
    "ExecuteTime": {
     "end_time": "2019-01-09T20:48:45.776905Z",
     "start_time": "2019-01-09T20:48:45.747Z"
    }
   },
   "outputs": [],
   "source": [
    "tmp.fit.arima <- Arima(residseries, order=c(1,0,0))\n",
    "#tmp.pred.arima<- forecast(train.res.arima, h=441)"
   ]
  },
  {
   "cell_type": "code",
   "execution_count": 77,
   "metadata": {
    "ExecuteTime": {
     "end_time": "2019-01-09T20:49:18.073463Z",
     "start_time": "2019-01-09T20:49:18.056Z"
    }
   },
   "outputs": [],
   "source": [
    "pred<-predict(tmp.fit.arima,n.ahead = 63*7) #14 day prediction\n",
    "pred1<-pred$pred"
   ]
  },
  {
   "cell_type": "code",
   "execution_count": 78,
   "metadata": {
    "ExecuteTime": {
     "end_time": "2019-01-09T20:49:26.023283Z",
     "start_time": "2019-01-09T20:49:24.582Z"
    }
   },
   "outputs": [
    {
     "data": {
      "image/png": "[encoded data removed]",
      "text/plain": [
       "plot without title"
      ]
     },
     "metadata": {},
     "output_type": "display_data"
    }
   ],
   "source": [
    "ts.plot(residseries,pred1,lty=c(1,3))"
   ]
  },
  {
   "cell_type": "code",
   "execution_count": null,
   "metadata": {},
   "outputs": [],
   "source": []
  },
  {
   "cell_type": "code",
   "execution_count": null,
   "metadata": {},
   "outputs": [],
   "source": []
  },
  {
   "cell_type": "code",
   "execution_count": null,
   "metadata": {},
   "outputs": [],
   "source": []
  },
  {
   "cell_type": "code",
   "execution_count": 35,
   "metadata": {
    "ExecuteTime": {
     "end_time": "2019-01-09T04:54:01.090267Z",
     "start_time": "2019-01-09T04:38:24.236Z"
    }
   },
   "outputs": [],
   "source": [
    "model<-auto.arima(ts(resid,frequency=63*7),D=1)"
   ]
  },
  {
   "cell_type": "code",
   "execution_count": 36,
   "metadata": {
    "ExecuteTime": {
     "end_time": "2019-01-09T04:56:26.078337Z",
     "start_time": "2019-01-09T04:44:00.352Z"
    }
   },
   "outputs": [
    {
     "data": {
      "image/png": "[encoded data removed]",
      "text/plain": [
       "Plot with title \"Forecasts from ARIMA(2,0,3)(0,1,0)[441] with drift\""
      ]
     },
     "metadata": {},
     "output_type": "display_data"
    }
   ],
   "source": [
    "myforecast<-forecast(model)\n",
    "#myforecast<-forecast(auto.arima(ts(resid,frequency=63*7),D=1),h=63*7)\n",
    "plot(myforecast)"
   ]
  },
  {
   "cell_type": "code",
   "execution_count": 55,
   "metadata": {
    "ExecuteTime": {
     "end_time": "2019-01-09T05:16:04.607988Z",
     "start_time": "2019-01-09T05:16:04.552Z"
    }
   },
   "outputs": [
    {
     "data": {
      "image/png": "[encoded data removed]",
      "text/plain": [
       "Plot with title \"forecast of residuals on validation set\""
      ]
     },
     "metadata": {},
     "output_type": "display_data"
    }
   ],
   "source": [
    "plot(myforecast$mean[1:378],type='l',main='forecast of residuals on validation set',col='blue',lwd=2)\n",
    "lines(residvalid,col='green',lwd=1)"
   ]
  },
  {
   "cell_type": "code",
   "execution_count": null,
   "metadata": {},
   "outputs": [],
   "source": []
  },
  {
   "cell_type": "code",
   "execution_count": null,
   "metadata": {},
   "outputs": [],
   "source": []
  },
  {
   "cell_type": "code",
   "execution_count": null,
   "metadata": {},
   "outputs": [],
   "source": []
  },
  {
   "cell_type": "code",
   "execution_count": 41,
   "metadata": {
    "ExecuteTime": {
     "end_time": "2019-01-08T20:02:55.996570Z",
     "start_time": "2019-01-08T20:02:55.981Z"
    }
   },
   "outputs": [],
   "source": [
    "new.predicted.demand<-final.model[883:1323]-myforecast$mean"
   ]
  },
  {
   "cell_type": "code",
   "execution_count": 37,
   "metadata": {
    "ExecuteTime": {
     "end_time": "2019-01-08T19:58:47.305313Z",
     "start_time": "2019-01-08T19:58:17.677Z"
    }
   },
   "outputs": [
    {
     "data": {
      "image/png": "[encoded data removed]",
      "text/plain": [
       "plot without title"
      ]
     },
     "metadata": {},
     "output_type": "display_data"
    }
   ],
   "source": [
    "plot(new.predicted.demand)"
   ]
  },
  {
   "cell_type": "code",
   "execution_count": 42,
   "metadata": {
    "ExecuteTime": {
     "end_time": "2019-01-08T20:03:33.920121Z",
     "start_time": "2019-01-08T20:02:58.864Z"
    }
   },
   "outputs": [
    {
     "name": "stdout",
     "output_type": "stream",
     "text": [
      "final adjusted R squared on validation set =  0.7139175 \n",
      "\n"
     ]
    }
   ],
   "source": [
    "#NEW R SQUARED\n",
    "\n",
    "actual.demand<-validation.set$demand\n",
    "predicted.demand<-new.predicted.demand\n",
    "\n",
    "residuals<-actual.demand-predicted.demand\n",
    "\n",
    "\n",
    "#Adjusted R-Squared\n",
    "n=length(actual.demand)\n",
    "k=dim(new.final.model.data)[2]-1 #Subtract one to ignore intercept\n",
    "SSE=sum(residuals**2)\n",
    "SSyy=sum((actual.demand-mean(actual.demand))**2)\n",
    "R2.final<- 1-(SSE/SSyy)*(n-1)/(n-(k+1))\n",
    "\n",
    "cat('final adjusted R squared on validation set = ',R2.final,'\\n\\n')"
   ]
  },
  {
   "cell_type": "code",
   "execution_count": 43,
   "metadata": {
    "ExecuteTime": {
     "end_time": "2019-01-08T20:06:29.224582Z",
     "start_time": "2019-01-08T20:06:29.188Z"
    }
   },
   "outputs": [
    {
     "data": {
      "text/html": [
       "<table>\n",
       "<thead><tr><th></th><th scope=col>date.and.time</th><th scope=col>demand</th><th scope=col>predicted</th><th scope=col>residual</th><th scope=col>daytype</th><th scope=col>season</th><th scope=col>APE</th><th scope=col>AE</th></tr></thead>\n",
       "<tbody>\n",
       "\t<tr><th scope=row>883</th><td>2005-03-15 06:30:00</td><td> 0                 </td><td> 8                 </td><td>-8                 </td><td>weekday            </td><td>1                  </td><td>1600.00000         </td><td>8                  </td></tr>\n",
       "\t<tr><th scope=row>884</th><td>2005-03-15 06:45:00</td><td> 2                 </td><td> 1                 </td><td> 1                 </td><td>weekday            </td><td>2                  </td><td>  50.00000         </td><td>1                  </td></tr>\n",
       "\t<tr><th scope=row>885</th><td>2005-03-15 07:00:00</td><td> 4                 </td><td> 1                 </td><td> 3                 </td><td>weekday            </td><td>3                  </td><td>  75.00000         </td><td>3                  </td></tr>\n",
       "\t<tr><th scope=row>886</th><td>2005-03-15 07:15:00</td><td> 7                 </td><td>10                 </td><td>-3                 </td><td>weekday            </td><td>4                  </td><td>  42.85714         </td><td>3                  </td></tr>\n",
       "\t<tr><th scope=row>887</th><td>2005-03-15 07:30:00</td><td>13                 </td><td> 5                 </td><td> 8                 </td><td>weekday            </td><td>5                  </td><td>  61.53846         </td><td>8                  </td></tr>\n",
       "\t<tr><th scope=row>888</th><td>2005-03-15 07:45:00</td><td>11                 </td><td>11                 </td><td> 0                 </td><td>weekday            </td><td>6                  </td><td>   0.00000         </td><td>0                  </td></tr>\n",
       "</tbody>\n",
       "</table>\n"
      ],
      "text/latex": [
       "\\begin{tabular}{r|llllllll}\n",
       "  & date.and.time & demand & predicted & residual & daytype & season & APE & AE\\\\\n",
       "\\hline\n",
       "\t883 & 2005-03-15 06:30:00 &  0                  &  8                  & -8                  & weekday             & 1                   & 1600.00000          & 8                  \\\\\n",
       "\t884 & 2005-03-15 06:45:00 &  2                  &  1                  &  1                  & weekday             & 2                   &   50.00000          & 1                  \\\\\n",
       "\t885 & 2005-03-15 07:00:00 &  4                  &  1                  &  3                  & weekday             & 3                   &   75.00000          & 3                  \\\\\n",
       "\t886 & 2005-03-15 07:15:00 &  7                  & 10                  & -3                  & weekday             & 4                   &   42.85714          & 3                  \\\\\n",
       "\t887 & 2005-03-15 07:30:00 & 13                  &  5                  &  8                  & weekday             & 5                   &   61.53846          & 8                  \\\\\n",
       "\t888 & 2005-03-15 07:45:00 & 11                  & 11                  &  0                  & weekday             & 6                   &    0.00000          & 0                  \\\\\n",
       "\\end{tabular}\n"
      ],
      "text/markdown": [
       "\n",
       "| <!--/--> | date.and.time | demand | predicted | residual | daytype | season | APE | AE | \n",
       "|---|---|---|---|---|---|\n",
       "| 883 | 2005-03-15 06:30:00 |  0                  |  8                  | -8                  | weekday             | 1                   | 1600.00000          | 8                   | \n",
       "| 884 | 2005-03-15 06:45:00 |  2                  |  1                  |  1                  | weekday             | 2                   |   50.00000          | 1                   | \n",
       "| 885 | 2005-03-15 07:00:00 |  4                  |  1                  |  3                  | weekday             | 3                   |   75.00000          | 3                   | \n",
       "| 886 | 2005-03-15 07:15:00 |  7                  | 10                  | -3                  | weekday             | 4                   |   42.85714          | 3                   | \n",
       "| 887 | 2005-03-15 07:30:00 | 13                  |  5                  |  8                  | weekday             | 5                   |   61.53846          | 8                   | \n",
       "| 888 | 2005-03-15 07:45:00 | 11                  | 11                  |  0                  | weekday             | 6                   |    0.00000          | 0                   | \n",
       "\n",
       "\n"
      ],
      "text/plain": [
       "    date.and.time       demand predicted residual daytype season APE        AE\n",
       "883 2005-03-15 06:30:00  0      8        -8       weekday 1      1600.00000 8 \n",
       "884 2005-03-15 06:45:00  2      1         1       weekday 2        50.00000 1 \n",
       "885 2005-03-15 07:00:00  4      1         3       weekday 3        75.00000 3 \n",
       "886 2005-03-15 07:15:00  7     10        -3       weekday 4        42.85714 3 \n",
       "887 2005-03-15 07:30:00 13      5         8       weekday 5        61.53846 8 \n",
       "888 2005-03-15 07:45:00 11     11         0       weekday 6         0.00000 0 "
      ]
     },
     "metadata": {},
     "output_type": "display_data"
    },
    {
     "name": "stdout",
     "output_type": "stream",
     "text": [
      "MAPE= 178.2039 \n",
      "MAE= 5.99093"
     ]
    }
   ],
   "source": [
    "final.model[883:1323]<-new.predicted.demand\n",
    "\n",
    "\n",
    "#new MAE\n",
    "comparisondata<-data.frame(newdata$date.and.time,newdata$demand,round(final.model),newdata$demand-round(final.model),newdata$daytype,newdata$myseason)\n",
    "colnames(comparisondata)<-c('date.and.time','demand','predicted','residual','daytype','season')\n",
    "\n",
    "comparison.validation<-data.frame(comparisondata[883:1323,],\n",
    "        abs((comparisondata$demand-comparisondata$predicted)/comparisondata$demand*100)[883:1323],\n",
    "        abs(comparisondata$demand-comparisondata$predicted)[883:1323])\n",
    "\n",
    "colnames(comparison.validation)<-c(colnames(comparison.validation)[1:6],'APE','AE')\n",
    "\n",
    "#fix for 0 demand values\n",
    "comparison.validation$APE[comparison.validation$demand==0]<- abs(comparison.validation$predicted[comparison.validation$demand==0])/0.5*100\n",
    "head(comparison.validation)\n",
    "\n",
    "MAPE<-mean(comparison.validation$APE)\n",
    "cat('MAPE=',MAPE,'\\n')\n",
    "MAE=mean(comparison.validation$AE)\n",
    "cat('MAE=',MAE)"
   ]
  },
  {
   "cell_type": "markdown",
   "metadata": {},
   "source": [
    "## Maybe tbats residuals?\n"
   ]
  },
  {
   "cell_type": "code",
   "execution_count": 51,
   "metadata": {
    "ExecuteTime": {
     "end_time": "2019-01-08T17:10:21.947454Z",
     "start_time": "2019-01-08T17:10:21.930Z"
    }
   },
   "outputs": [
    {
     "data": {
      "text/html": [
       "441"
      ],
      "text/latex": [
       "441"
      ],
      "text/markdown": [
       "441"
      ],
      "text/plain": [
       "[1] 441"
      ]
     },
     "metadata": {},
     "output_type": "display_data"
    }
   ],
   "source": [
    "multiple<-msts(residseries, seasonal.periods=c(63,7*63))\n",
    "frequency(multiple)"
   ]
  },
  {
   "cell_type": "code",
   "execution_count": 54,
   "metadata": {
    "ExecuteTime": {
     "end_time": "2019-01-08T17:12:12.259027Z",
     "start_time": "2019-01-08T17:12:06.441Z"
    }
   },
   "outputs": [
    {
     "data": {
      "image/png": "[encoded data removed]",
      "text/plain": [
       "Plot with title \"Model evaluated on timeseries\""
      ]
     },
     "metadata": {},
     "output_type": "display_data"
    }
   ],
   "source": [
    "model<-tbats(multiple,seasonal.periods=c(63,7*63))\n",
    "\n",
    "#coefficients(model)\n",
    "coef<-coefficients(model)\n",
    "plot(multiple,main='Model evaluated on timeseries')\n",
    "lines(model$fitted, lwd = 2,col='blue')"
   ]
  },
  {
   "cell_type": "code",
   "execution_count": 56,
   "metadata": {
    "ExecuteTime": {
     "end_time": "2019-01-08T17:18:53.171368Z",
     "start_time": "2019-01-08T17:18:53.053Z"
    }
   },
   "outputs": [
    {
     "data": {
      "image/png": "[encoded data removed]",
      "text/plain": [
       "plot without title"
      ]
     },
     "metadata": {},
     "output_type": "display_data"
    },
    {
     "data": {
      "image/png": "[encoded data removed]",
      "text/plain": [
       "Plot with title \"Forecasts from BATS(1, {1,2}, -, -)\""
      ]
     },
     "metadata": {},
     "output_type": "display_data"
    }
   ],
   "source": [
    "components <- tbats.components(model)\n",
    "plot(components)\n",
    "\n",
    "myforecast<-forecast(model,h=63*7,level = c(95))\n",
    "plot(myforecast)"
   ]
  },
  {
   "cell_type": "markdown",
   "metadata": {},
   "source": [
    "All in all,it looks like integrating residual forecasts to our model makes it's predictions worse.We interpret this as such.Our model captures the underlying structure of the data very well so there is no useful information left in the model's residuals."
   ]
  },
  {
   "cell_type": "markdown",
   "metadata": {},
   "source": [
    "# Fitting the model to the entire period to produce forecasts"
   ]
  },
  {
   "cell_type": "code",
   "execution_count": 24,
   "metadata": {
    "ExecuteTime": {
     "end_time": "2019-01-07T02:39:12.814499Z",
     "start_time": "2019-01-07T02:37:41.867Z"
    },
    "scrolled": true
   },
   "outputs": [
    {
     "data": {
      "text/plain": [
       "\n",
       "Call:\n",
       "lm(formula = demand ~ ., data = totaltrainingdata)\n",
       "\n",
       "Residuals:\n",
       "    Min      1Q  Median      3Q     Max \n",
       "-78.302  -2.875  -0.167   2.855  37.400 \n",
       "\n",
       "Coefficients:\n",
       "              Estimate Std. Error t value Pr(>|t|)    \n",
       "(Intercept)     8.9355     1.1234   7.954 4.16e-15 ***\n",
       "daytype        -3.2065     0.5818  -5.511 4.36e-08 ***\n",
       "S6             11.5701     3.7287   3.103 0.001961 ** \n",
       "S7             17.9987     3.7287   4.827 1.57e-06 ***\n",
       "S8             14.9145     3.3993   4.388 1.25e-05 ***\n",
       "S9             12.4060     2.4288   5.108 3.79e-07 ***\n",
       "S10            13.1811     3.3993   3.878 0.000111 ***\n",
       "S11            13.6654     3.7287   3.665 0.000258 ***\n",
       "S12            17.8527     2.4288   7.350 3.66e-13 ***\n",
       "S13            17.7901     2.4288   7.325 4.40e-13 ***\n",
       "S14            17.9821     2.4288   7.404 2.50e-13 ***\n",
       "S15            16.5621     2.4288   6.819 1.45e-11 ***\n",
       "S16            21.0227     2.4288   8.655  < 2e-16 ***\n",
       "S17            22.7278     2.4288   9.358  < 2e-16 ***\n",
       "S18            27.0890     2.4288  11.153  < 2e-16 ***\n",
       "S19            28.2545     2.4288  11.633  < 2e-16 ***\n",
       "S20            31.8902     2.4288  13.130  < 2e-16 ***\n",
       "S21            30.3017     2.4288  12.476  < 2e-16 ***\n",
       "S22            31.9209     2.4288  13.143  < 2e-16 ***\n",
       "S23            37.7956     2.4288  15.561  < 2e-16 ***\n",
       "S24            40.2788     2.4288  16.584  < 2e-16 ***\n",
       "S25            39.5184     2.4288  16.271  < 2e-16 ***\n",
       "S26            43.4953     2.4288  17.908  < 2e-16 ***\n",
       "S27            48.5956     2.4288  20.008  < 2e-16 ***\n",
       "S28            50.4846     2.4288  20.786  < 2e-16 ***\n",
       "S29            48.9648     2.4288  20.160  < 2e-16 ***\n",
       "S30            50.7404     4.4684  11.355  < 2e-16 ***\n",
       "S31            43.3159     2.4288  17.834  < 2e-16 ***\n",
       "S32            47.4060     2.4288  19.518  < 2e-16 ***\n",
       "S33            41.5526     2.4288  17.108  < 2e-16 ***\n",
       "S34            36.1223     2.4288  14.872  < 2e-16 ***\n",
       "S35            31.0621     2.4288  12.789  < 2e-16 ***\n",
       "S36            35.4778     2.4288  14.607  < 2e-16 ***\n",
       "S37            28.6631     2.4288  11.801  < 2e-16 ***\n",
       "S38            32.3900     2.4288  13.336  < 2e-16 ***\n",
       "S39            37.9145     3.3993  11.154  < 2e-16 ***\n",
       "S40            28.0611     2.4288  11.553  < 2e-16 ***\n",
       "S41            41.1811     3.3993  12.115  < 2e-16 ***\n",
       "S42            31.6301     2.4288  13.023  < 2e-16 ***\n",
       "S43            26.8364     4.4684   6.006 2.52e-09 ***\n",
       "S44            56.2811     3.3993  16.557  < 2e-16 ***\n",
       "S45            54.8978     3.3993  16.150  < 2e-16 ***\n",
       "S46            62.2295     3.7708  16.503  < 2e-16 ***\n",
       "S47            72.6145     3.3993  21.362  < 2e-16 ***\n",
       "S48           102.6280     3.7708  27.216  < 2e-16 ***\n",
       "S49           154.9645    20.6390   7.508 1.17e-13 ***\n",
       "S50           137.2692     3.7708  36.403  < 2e-16 ***\n",
       "S51           123.0565     3.7708  32.634  < 2e-16 ***\n",
       "S52           112.9391     3.7708  29.951  < 2e-16 ***\n",
       "S53            92.8740     3.7708  24.630  < 2e-16 ***\n",
       "S54            80.5645     3.7708  21.365  < 2e-16 ***\n",
       "S55            73.7534     3.7708  19.559  < 2e-16 ***\n",
       "S56            66.0327     3.7708  17.511  < 2e-16 ***\n",
       "S57            55.9407     3.7708  14.835  < 2e-16 ***\n",
       "S58            40.2645     3.3993  11.845  < 2e-16 ***\n",
       "S59            25.1140     2.4288  10.340  < 2e-16 ***\n",
       "S60            28.3311     3.3993   8.334  < 2e-16 ***\n",
       "S61            13.4894     2.4288   5.554 3.44e-08 ***\n",
       "S62             4.1508     1.7273   2.403 0.016410 *  \n",
       "S8.dtype       -4.5769     1.8631  -2.457 0.014168 *  \n",
       "S10.dtype      -3.7769     1.8631  -2.027 0.042865 *  \n",
       "S39.dtype     -11.2435     1.8631  -6.035 2.12e-09 ***\n",
       "S41.dtype     -12.7769     1.8631  -6.858 1.12e-11 ***\n",
       "S44.dtype     -17.4769     1.8631  -9.380  < 2e-16 ***\n",
       "S45.dtype     -16.9602     1.8631  -9.103  < 2e-16 ***\n",
       "S46.dtype     -23.6158     2.9483  -8.010 2.71e-15 ***\n",
       "S47.dtype     -23.1435     1.8631 -12.422  < 2e-16 ***\n",
       "S48.dtype     -27.7380     2.9483  -9.408  < 2e-16 ***\n",
       "S49.dtype     -50.0935    19.6383  -2.551 0.010871 *  \n",
       "S50.dtype     -17.2269     2.9483  -5.843 6.60e-09 ***\n",
       "S51.dtype     -17.4047     2.9483  -5.903 4.64e-09 ***\n",
       "S52.dtype     -18.5824     2.9483  -6.303 4.10e-10 ***\n",
       "S53.dtype     -17.4602     2.9483  -5.922 4.15e-09 ***\n",
       "S54.dtype     -18.9602     2.9483  -6.431 1.83e-10 ***\n",
       "S55.dtype     -16.2824     2.9483  -5.523 4.09e-08 ***\n",
       "S56.dtype      -9.9047     2.9483  -3.359 0.000806 ***\n",
       "S57.dtype      -9.2602     2.9483  -3.141 0.001726 ** \n",
       "S58.dtype     -12.8602     1.8631  -6.903 8.27e-12 ***\n",
       "S60.dtype      -8.6602     1.8631  -4.648 3.72e-06 ***\n",
       "S6.day         -1.6286     0.8261  -1.971 0.048909 *  \n",
       "S7.day         -2.4025     0.8261  -2.908 0.003704 ** \n",
       "S11.day        -1.6525     0.8261  -2.000 0.045702 *  \n",
       "S30.day         2.0005     1.7160   1.166 0.243920    \n",
       "S43.day         4.3060     1.7160   2.509 0.012226 *  \n",
       "S46.day         1.8413     1.3057   1.410 0.158751    \n",
       "S48.day        -2.3175     1.3057  -1.775 0.076175 .  \n",
       "S49.day       -12.8333     3.6026  -3.562 0.000382 ***\n",
       "S50.day       -12.8571     1.3057  -9.847  < 2e-16 ***\n",
       "S51.day       -10.4603     1.3057  -8.011 2.68e-15 ***\n",
       "S52.day        -8.2063     1.3057  -6.285 4.59e-10 ***\n",
       "S53.day        -5.7143     1.3057  -4.376 1.31e-05 ***\n",
       "S54.day        -3.3333     1.3057  -2.553 0.010807 *  \n",
       "S55.day        -3.4444     1.3057  -2.638 0.008448 ** \n",
       "S56.day        -5.1746     1.3057  -3.963 7.84e-05 ***\n",
       "S57.day        -4.0476     1.3057  -3.100 0.001981 ** \n",
       "S9.day.dtype   -0.5393     0.2213  -2.436 0.014985 *  \n",
       "S12.day.dtype  -0.7947     0.2213  -3.590 0.000344 ***\n",
       "S13.day.dtype  -0.7804     0.2213  -3.526 0.000438 ***\n",
       "S14.day.dtype  -0.7682     0.2213  -3.471 0.000537 ***\n",
       "S15.day.dtype  -0.6768     0.2213  -3.058 0.002281 ** \n",
       "S16.day.dtype  -0.9278     0.2213  -4.192 2.97e-05 ***\n",
       "S17.day.dtype  -1.0316     0.2213  -4.660 3.51e-06 ***\n",
       "S18.day.dtype  -1.1895     0.2213  -5.374 9.25e-08 ***\n",
       "S19.day.dtype  -1.2789     0.2213  -5.778 9.65e-09 ***\n",
       "S20.day.dtype  -1.5033     0.2213  -6.791 1.75e-11 ***\n",
       "S21.day.dtype  -1.3714     0.2213  -6.196 7.97e-10 ***\n",
       "S22.day.dtype  -1.3467     0.2213  -6.084 1.57e-09 ***\n",
       "S23.day.dtype  -1.7194     0.2213  -7.768 1.71e-14 ***\n",
       "S24.day.dtype  -1.7882     0.2213  -8.079 1.59e-15 ***\n",
       "S25.day.dtype  -1.7328     0.2213  -7.829 1.08e-14 ***\n",
       "S26.day.dtype  -1.8842     0.2213  -8.512  < 2e-16 ***\n",
       "S27.day.dtype  -2.2058     0.2213  -9.965  < 2e-16 ***\n",
       "S28.day.dtype  -2.2717     0.2213 -10.263  < 2e-16 ***\n",
       "S29.day.dtype  -2.2228     0.2213 -10.042  < 2e-16 ***\n",
       "S30.day.dtype  -2.9285     0.4603  -6.363 2.81e-10 ***\n",
       "S31.day.dtype  -1.7992     0.2213  -8.128 1.08e-15 ***\n",
       "S32.day.dtype  -2.2059     0.2213  -9.966  < 2e-16 ***\n",
       "S33.day.dtype  -1.8916     0.2213  -8.546  < 2e-16 ***\n",
       "S34.day.dtype  -1.6198     0.2213  -7.318 4.62e-13 ***\n",
       "S35.day.dtype  -1.2601     0.2213  -5.693 1.57e-08 ***\n",
       "S36.day.dtype  -1.5733     0.2213  -7.108 2.03e-12 ***\n",
       "S37.day.dtype  -1.2948     0.2213  -5.850 6.35e-09 ***\n",
       "S38.day.dtype  -1.4878     0.2213  -6.722 2.78e-11 ***\n",
       "S40.day.dtype  -1.1983     0.2213  -5.413 7.47e-08 ***\n",
       "S42.day.dtype  -1.4634     0.2213  -6.611 5.74e-11 ***\n",
       "S43.day.dtype  -2.6117     0.4603  -5.675 1.74e-08 ***\n",
       "S49.day.dtype   4.1667     3.0656   1.359 0.174355    \n",
       "S59.day.dtype  -1.1619     0.2213  -5.249 1.81e-07 ***\n",
       "S61.day.dtype  -0.5809     0.2213  -2.625 0.008788 ** \n",
       "---\n",
       "Signif. codes:  0 '***' 0.001 '**' 0.01 '*' 0.05 '.' 0.1 ' ' 1\n",
       "\n",
       "Residual standard error: 7.328 on 1194 degrees of freedom\n",
       "Multiple R-squared:  0.9123,\tAdjusted R-squared:  0.9029 \n",
       "F-statistic: 97.09 on 128 and 1194 DF,  p-value: < 2.2e-16\n"
      ]
     },
     "metadata": {},
     "output_type": "display_data"
    }
   ],
   "source": [
    "totaltrainingdata<-new.model.data[1:1323,]\n",
    "newmodel<-lm(demand~.,totaltrainingdata)\n",
    "summary(newmodel)"
   ]
  },
  {
   "cell_type": "code",
   "execution_count": 25,
   "metadata": {
    "ExecuteTime": {
     "end_time": "2019-01-07T02:39:28.774858Z",
     "start_time": "2019-01-07T02:37:42.834Z"
    }
   },
   "outputs": [],
   "source": [
    "#We create a new dataframe to make the model calculation easier below\n",
    "ones<-rep(1,1512)\n",
    "#we remove the demand column since thats what we predict and we replace it with ones\n",
    "#so they are multiplied by the intercept coefficient\n",
    "new.final.model.data<-data.frame(ones,new.model.data[,-1])\n",
    "\n",
    "\n",
    "#coefficients(model)\n",
    "newcoef<-coefficients(newmodel)\n",
    "\n",
    "newmymodel = rowSums(mapply(\"*\", as.data.frame(new.final.model.data),newcoef))"
   ]
  },
  {
   "cell_type": "code",
   "execution_count": 26,
   "metadata": {
    "ExecuteTime": {
     "end_time": "2019-01-07T02:39:44.249460Z",
     "start_time": "2019-01-07T02:38:06.831Z"
    }
   },
   "outputs": [
    {
     "data": {
      "image/png": "[encoded data removed]",
      "text/plain": [
       "plot without title"
      ]
     },
     "metadata": {},
     "output_type": "display_data"
    }
   ],
   "source": [
    "#replace negative values with 0\n",
    "final.model<-newmymodel\n",
    "final.model[which(newmymodel<0)]<-0\n",
    "\n",
    "\n",
    "plot(newdata$demand,type='l')\n",
    "lines(final.model,lwd = 2,col='red')\n",
    "\n",
    "lines(c(882, 882), c(-20, 200),col='purple',lwd=2)\n",
    "lines(c(1323, 1323), c(-20, 200),col='purple',lwd=2)\n",
    "text(280, 130, \"Training\",col='blue')\n",
    "text(1100, 130, \"Validation\",col='blue')\n",
    "text(1430, 130, \"Future\",col='blue')\n",
    "arrows(0 , 125, 865, 125, code = 3, length = 0.1, lwd = 1,angle = 30,col='purple')\n",
    "arrows(895, 125, 1310, 125, code = 3, length = 0.1, lwd = 1,angle = 30,col='purple')\n",
    "arrows(1335, 125, 1505, 125, code = 3, length = 0.1, lwd = 1, angle = 30,col='purple')"
   ]
  },
  {
   "cell_type": "code",
   "execution_count": 103,
   "metadata": {
    "ExecuteTime": {
     "end_time": "2019-01-01T15:00:27.800435Z",
     "start_time": "2019-01-01T15:00:27.774Z"
    }
   },
   "outputs": [
    {
     "data": {
      "text/html": [
       "<table>\n",
       "<thead><tr><th></th><th scope=col>date.and.time</th><th scope=col>demand</th></tr></thead>\n",
       "<tbody>\n",
       "\t<tr><th scope=row>1324</th><td>2005-03-22 06:30:00</td><td> 6                 </td></tr>\n",
       "\t<tr><th scope=row>1325</th><td>2005-03-22 06:45:00</td><td> 6                 </td></tr>\n",
       "\t<tr><th scope=row>1326</th><td>2005-03-22 07:00:00</td><td> 6                 </td></tr>\n",
       "\t<tr><th scope=row>1327</th><td>2005-03-22 07:15:00</td><td> 6                 </td></tr>\n",
       "\t<tr><th scope=row>1328</th><td>2005-03-22 07:30:00</td><td> 6                 </td></tr>\n",
       "\t<tr><th scope=row>1329</th><td>2005-03-22 07:45:00</td><td>14                 </td></tr>\n",
       "\t<tr><th scope=row>1330</th><td>2005-03-22 08:00:00</td><td>19                 </td></tr>\n",
       "\t<tr><th scope=row>1331</th><td>2005-03-22 08:15:00</td><td>16                 </td></tr>\n",
       "\t<tr><th scope=row>1332</th><td>2005-03-22 08:30:00</td><td>17                 </td></tr>\n",
       "\t<tr><th scope=row>1333</th><td>2005-03-22 08:45:00</td><td>15                 </td></tr>\n",
       "\t<tr><th scope=row>1334</th><td>2005-03-22 09:00:00</td><td>16                 </td></tr>\n",
       "\t<tr><th scope=row>1335</th><td>2005-03-22 09:15:00</td><td>22                 </td></tr>\n",
       "\t<tr><th scope=row>1336</th><td>2005-03-22 09:30:00</td><td>22                 </td></tr>\n",
       "\t<tr><th scope=row>1337</th><td>2005-03-22 09:45:00</td><td>22                 </td></tr>\n",
       "\t<tr><th scope=row>1338</th><td>2005-03-22 10:00:00</td><td>21                 </td></tr>\n",
       "\t<tr><th scope=row>1339</th><td>2005-03-22 10:15:00</td><td>25                 </td></tr>\n",
       "\t<tr><th scope=row>1340</th><td>2005-03-22 10:30:00</td><td>26                 </td></tr>\n",
       "\t<tr><th scope=row>1341</th><td>2005-03-22 10:45:00</td><td>30                 </td></tr>\n",
       "\t<tr><th scope=row>1342</th><td>2005-03-22 11:00:00</td><td>31                 </td></tr>\n",
       "\t<tr><th scope=row>1343</th><td>2005-03-22 11:15:00</td><td>35                 </td></tr>\n",
       "</tbody>\n",
       "</table>\n"
      ],
      "text/latex": [
       "\\begin{tabular}{r|ll}\n",
       "  & date.and.time & demand\\\\\n",
       "\\hline\n",
       "\t1324 & 2005-03-22 06:30:00 &  6                 \\\\\n",
       "\t1325 & 2005-03-22 06:45:00 &  6                 \\\\\n",
       "\t1326 & 2005-03-22 07:00:00 &  6                 \\\\\n",
       "\t1327 & 2005-03-22 07:15:00 &  6                 \\\\\n",
       "\t1328 & 2005-03-22 07:30:00 &  6                 \\\\\n",
       "\t1329 & 2005-03-22 07:45:00 & 14                 \\\\\n",
       "\t1330 & 2005-03-22 08:00:00 & 19                 \\\\\n",
       "\t1331 & 2005-03-22 08:15:00 & 16                 \\\\\n",
       "\t1332 & 2005-03-22 08:30:00 & 17                 \\\\\n",
       "\t1333 & 2005-03-22 08:45:00 & 15                 \\\\\n",
       "\t1334 & 2005-03-22 09:00:00 & 16                 \\\\\n",
       "\t1335 & 2005-03-22 09:15:00 & 22                 \\\\\n",
       "\t1336 & 2005-03-22 09:30:00 & 22                 \\\\\n",
       "\t1337 & 2005-03-22 09:45:00 & 22                 \\\\\n",
       "\t1338 & 2005-03-22 10:00:00 & 21                 \\\\\n",
       "\t1339 & 2005-03-22 10:15:00 & 25                 \\\\\n",
       "\t1340 & 2005-03-22 10:30:00 & 26                 \\\\\n",
       "\t1341 & 2005-03-22 10:45:00 & 30                 \\\\\n",
       "\t1342 & 2005-03-22 11:00:00 & 31                 \\\\\n",
       "\t1343 & 2005-03-22 11:15:00 & 35                 \\\\\n",
       "\\end{tabular}\n"
      ],
      "text/markdown": [
       "\n",
       "| <!--/--> | date.and.time | demand | \n",
       "|---|---|---|---|---|---|---|---|---|---|---|---|---|---|---|---|---|---|---|---|\n",
       "| 1324 | 2005-03-22 06:30:00 |  6                  | \n",
       "| 1325 | 2005-03-22 06:45:00 |  6                  | \n",
       "| 1326 | 2005-03-22 07:00:00 |  6                  | \n",
       "| 1327 | 2005-03-22 07:15:00 |  6                  | \n",
       "| 1328 | 2005-03-22 07:30:00 |  6                  | \n",
       "| 1329 | 2005-03-22 07:45:00 | 14                  | \n",
       "| 1330 | 2005-03-22 08:00:00 | 19                  | \n",
       "| 1331 | 2005-03-22 08:15:00 | 16                  | \n",
       "| 1332 | 2005-03-22 08:30:00 | 17                  | \n",
       "| 1333 | 2005-03-22 08:45:00 | 15                  | \n",
       "| 1334 | 2005-03-22 09:00:00 | 16                  | \n",
       "| 1335 | 2005-03-22 09:15:00 | 22                  | \n",
       "| 1336 | 2005-03-22 09:30:00 | 22                  | \n",
       "| 1337 | 2005-03-22 09:45:00 | 22                  | \n",
       "| 1338 | 2005-03-22 10:00:00 | 21                  | \n",
       "| 1339 | 2005-03-22 10:15:00 | 25                  | \n",
       "| 1340 | 2005-03-22 10:30:00 | 26                  | \n",
       "| 1341 | 2005-03-22 10:45:00 | 30                  | \n",
       "| 1342 | 2005-03-22 11:00:00 | 31                  | \n",
       "| 1343 | 2005-03-22 11:15:00 | 35                  | \n",
       "\n",
       "\n"
      ],
      "text/plain": [
       "     date.and.time       demand\n",
       "1324 2005-03-22 06:30:00  6    \n",
       "1325 2005-03-22 06:45:00  6    \n",
       "1326 2005-03-22 07:00:00  6    \n",
       "1327 2005-03-22 07:15:00  6    \n",
       "1328 2005-03-22 07:30:00  6    \n",
       "1329 2005-03-22 07:45:00 14    \n",
       "1330 2005-03-22 08:00:00 19    \n",
       "1331 2005-03-22 08:15:00 16    \n",
       "1332 2005-03-22 08:30:00 17    \n",
       "1333 2005-03-22 08:45:00 15    \n",
       "1334 2005-03-22 09:00:00 16    \n",
       "1335 2005-03-22 09:15:00 22    \n",
       "1336 2005-03-22 09:30:00 22    \n",
       "1337 2005-03-22 09:45:00 22    \n",
       "1338 2005-03-22 10:00:00 21    \n",
       "1339 2005-03-22 10:15:00 25    \n",
       "1340 2005-03-22 10:30:00 26    \n",
       "1341 2005-03-22 10:45:00 30    \n",
       "1342 2005-03-22 11:00:00 31    \n",
       "1343 2005-03-22 11:15:00 35    "
      ]
     },
     "metadata": {},
     "output_type": "display_data"
    }
   ],
   "source": [
    "#write predictions to future set\n",
    "future.set$demand<-round(final.model[1324:1512])\n",
    "head(future.set[1:2],20)"
   ]
  },
  {
   "cell_type": "markdown",
   "metadata": {},
   "source": [
    "# Links\n",
    "\n",
    "http://www-ist.massey.ac.nz/dstirlin/CAST/CAST/Hmultiplicative/multiplicative3.html\n",
    "\n",
    "https://www.quora.com/Why-do-we-remove-the-predictor-with-P-value-greater-than-significance-level-P-significance-level-denotes-that-we-cannot-reject-the-null-hypothesis"
   ]
  }
 ],
 "metadata": {
  "kernelspec": {
   "display_name": "R",
   "language": "R",
   "name": "ir"
  },
  "language_info": {
   "codemirror_mode": "r",
   "file_extension": ".r",
   "mimetype": "text/x-r-source",
   "name": "R",
   "pygments_lexer": "r",
   "version": "3.5.1"
  },
  "latex_envs": {
   "LaTeX_envs_menu_present": true,
   "autoclose": false,
   "autocomplete": true,
   "bibliofile": "biblio.bib",
   "cite_by": "apalike",
   "current_citInitial": 1,
   "eqLabelWithNumbers": true,
   "eqNumInitial": 1,
   "hotkeys": {
    "equation": "Ctrl-E",
    "itemize": "Ctrl-I"
   },
   "labels_anchors": false,
   "latex_user_defs": false,
   "report_style_numbering": false,
   "user_envs_cfg": false
  },
  "toc": {
   "base_numbering": 1,
   "nav_menu": {},
   "number_sections": true,
   "sideBar": true,
   "skip_h1_title": false,
   "title_cell": "Table of Contents",
   "title_sidebar": "Contents",
   "toc_cell": false,
   "toc_position": {
    "height": "758px",
    "left": "45px",
    "top": "216px",
    "width": "384px"
   },
   "toc_section_display": true,
   "toc_window_display": true
  },
  "varInspector": {
   "cols": {
    "lenName": 16,
    "lenType": 16,
    "lenVar": 40
   },
   "kernels_config": {
    "python": {
     "delete_cmd_postfix": "",
     "delete_cmd_prefix": "del ",
     "library": "var_list.py",
     "varRefreshCmd": "print(var_dic_list())"
    },
    "r": {
     "delete_cmd_postfix": ") ",
     "delete_cmd_prefix": "rm(",
     "library": "var_list.r",
     "varRefreshCmd": "cat(var_dic_list()) "
    }
   },
   "types_to_exclude": [
    "module",
    "function",
    "builtin_function_or_method",
    "instance",
    "_Feature"
   ],
   "window_display": false
  }
 },
 "nbformat": 4,
 "nbformat_minor": 2
}
